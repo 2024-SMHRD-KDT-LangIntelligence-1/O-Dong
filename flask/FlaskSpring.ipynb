{
 "cells": [
  {
   "cell_type": "code",
   "execution_count": 24,
   "id": "973a1f9e",
   "metadata": {},
   "outputs": [],
   "source": [
    "import requests\n",
    "from flask import Flask, request, jsonify\n",
    "from flask_cors import CORS\n",
    "import pandas as pd\n",
    "import numpy as np\n",
    "import sklearn\n",
    "from sklearn.preprocessing import Normalizer\n",
    "import torch\n",
    "import mglearn\n",
    "from collections import Counter\n",
    "from kiwipiepy import Kiwi, TypoTransformer, TypoDefinition\n",
    "import re\n",
    "import pandas as pd\n",
    "import json\n",
    "import numpy as np\n",
    "from kiwipiepy.utils import Stopwords\n",
    "from sklearn.feature_extraction.text import TfidfVectorizer\n",
    "from sklearn.metrics.pairwise import cosine_similarity"
   ]
  },
  {
   "cell_type": "code",
   "execution_count": 25,
   "id": "692a81a2",
   "metadata": {},
   "outputs": [],
   "source": [
    "normalizer = Normalizer()\n",
    "clustered_dong = pd.read_json(\"./data/군집상권데이터.json\")\n",
    "menu_data = pd.read_json(\"./data/메뉴_추상설명_재료_토큰화.json\")\n",
    "cafe_menu_data = pd.read_json(\"./data/메뉴 데이터.json\")"
   ]
  },
  {
   "cell_type": "code",
   "execution_count": 26,
   "id": "3e742127",
   "metadata": {},
   "outputs": [],
   "source": [
    "# 유사 상권 탐색\n",
    "def yusa_dong(clustered_dong, dong_pk):\n",
    "    target_dong_index = clustered_dong[clustered_dong[\"법정동 번호(PK)\"]==dong_pk].index[0]\n",
    "    print(dong_pk)\n",
    "\n",
    "    same_cluster_dong = clustered_dong[clustered_dong[\"군집\"]==clustered_dong.iloc[target_dong_index,-1]]\n",
    "    same_cluster_dong.reset_index(drop=True, inplace=True)\n",
    "    target_dong_index = same_cluster_dong[same_cluster_dong[\"법정동 번호(PK)\"]==dong_pk].index[0]\n",
    "    \n",
    "    simil_data = same_cluster_dong.iloc[:,3:-1]\n",
    "    simil_data_scaled = normalizer.fit_transform(simil_data)\n",
    "\n",
    "    train_tensor = torch.tensor(simil_data_scaled, dtype=torch.float64)\n",
    "    euclidean_distances = torch.cdist(train_tensor[target_dong_index].unsqueeze(0), train_tensor).squeeze()\n",
    "    top_idx = np.argsort(euclidean_distances)[1:10]\n",
    "\n",
    "    return [int(same_cluster_dong[\"법정동 번호(PK)\"].iloc[int(idx)]) for idx in top_idx]"
   ]
  },
  {
   "cell_type": "code",
   "execution_count": 27,
   "id": "a397a071-16ad-4407-af0f-543596349d49",
   "metadata": {},
   "outputs": [],
   "source": [
    "def data_tokenizing(data):\n",
    "    data[\"ingred\"] = data[\"ingred\"].replace('\\'', '', regex=True)\n",
    "    kiwi = Kiwi()\n",
    "    for i in range(len(data[\"info\"])):\n",
    "        data.iloc[i, 1] = kiwi_tokenizer(data[\"info\"][i], tokenizer=kiwi)\n",
    "    return data"
   ]
  },
  {
   "cell_type": "code",
   "execution_count": 28,
   "id": "bb87bdcf-e94e-4a19-bd3f-3272149c6555",
   "metadata": {},
   "outputs": [],
   "source": [
    "def ingred_sim(data, menu_name, num=10):\n",
    "    # info_simil 함수로 유사한 메뉴 추출\n",
    "    info_sim = info_simil(data, menu_name, 50)\n",
    "    \n",
    "    # 유사한 메뉴가 없는 경우 처리\n",
    "    if info_sim.empty or len(info_sim[\"menu\"]) == 0:\n",
    "        return [\"유사한 메뉴가 존재하지 않습니다...\"]\n",
    "\n",
    "    # TF-IDF 변환\n",
    "    tfidfv = TfidfVectorizer().fit_transform(info_sim[\"tokenized_info\"])\n",
    "\n",
    "    # 코사인 유사도 계산\n",
    "    ingred_simil = cosine_similarity(tfidfv[0], tfidfv)[0]\n",
    "\n",
    "    # 자기 자신 제외하고 유사도 순으로 정렬\n",
    "    ingred_simil_index = np.argsort(ingred_simil)[::-1][1:num + 1]\n",
    "\n",
    "    # 유사도가 낮은 경우 처리\n",
    "    if len(ingred_simil_index) == 0 or ingred_simil[ingred_simil_index[0]] < 0.2:\n",
    "        return [\"유사한 메뉴가 존재하지 않습니다...\"]\n",
    "\n",
    "    # 결과 반환\n",
    "    return list(info_sim.iloc[ingred_simil_index][\"menu\"])"
   ]
  },
  {
   "cell_type": "code",
   "execution_count": 29,
   "id": "92e31b74-4ddf-4912-b112-3a99d685cb12",
   "metadata": {},
   "outputs": [],
   "source": [
    "def info_simil(data, menu_name, num=10):\n",
    "    # 메뉴 이름이 유효한지 확인\n",
    "    if menu_name not in data[\"menu\"].values:\n",
    "        print(\"메뉴 이름이 잘못되었습니다.\")\n",
    "        return pd.DataFrame()  # 빈 데이터프레임 반환\n",
    "\n",
    "    # 선택된 메뉴의 인덱스 가져오기\n",
    "    pick_idx = data[data[\"menu\"] == menu_name].index[0]\n",
    "\n",
    "    # TF-IDF 변환\n",
    "    tfidfv = TfidfVectorizer().fit_transform(data[\"tokenized_info\"])\n",
    "\n",
    "    # 코사인 유사도 계산\n",
    "    cosine_simil = cosine_similarity(tfidfv[pick_idx], tfidfv)[0]\n",
    "\n",
    "    # 유사도를 기준으로 정렬 (내림차순)\n",
    "    simil_index = np.argsort(cosine_simil)[::-1]\n",
    "\n",
    "    # 자기 자신 제외하고 상위 num개 선택\n",
    "    simil_index = simil_index[1:num + 1]\n",
    "\n",
    "    # 유사도가 일정 수준 이하인 경우 처리\n",
    "    if len(simil_index) == 0 or cosine_simil[simil_index[0]] < 0.2:\n",
    "        print(\"유사한 메뉴가 존재하지 않습니다.\")\n",
    "        return pd.DataFrame()  # 빈 데이터프레임 반환\n",
    "\n",
    "    # 결과 반환\n",
    "    return data.iloc[simil_index]"
   ]
  },
  {
   "cell_type": "code",
   "execution_count": 30,
   "id": "d7bbadc8-fba3-403c-ba96-4414dc6bb752",
   "metadata": {},
   "outputs": [],
   "source": [
    "def input_simil(data, input_data, num=10):\n",
    "    input_token = kiwi_tokenizer(input_data)\n",
    "    text_vector = np.array(data[\"menu\"] + \" \" + data[\"tokenized_info\"])\n",
    "    t_vector = np.insert(text_vector, 0, input_token)\n",
    "\n",
    "    tfidfv = TfidfVectorizer().fit_transform(t_vector)\n",
    "    cosine_simil = cosine_similarity(tfidfv[0], tfidfv)[0]\n",
    "\n",
    "    simil_index = np.flip(np.argsort(cosine_simil[1:])) \n",
    "\n",
    "    # 가장 높은 유사도도 일정 기준을 못넘으면 유사한 메뉴를 못찾은 것으로 판단\n",
    "    threshold = 0.15\n",
    "    if cosine_simil[simil_index[0] + 1] < threshold:\n",
    "        return [\"유사한 메뉴가 존재하지 않습니다...\"]\n",
    "    else:\n",
    "        top_matches = data.iloc[simil_index[:num], 0]\n",
    "        return list(top_matches)"
   ]
  },
  {
   "cell_type": "code",
   "execution_count": 31,
   "id": "2eec58c0-a17a-45db-a417-3773363782be",
   "metadata": {},
   "outputs": [],
   "source": [
    "def kiwi_tokenizer(sentence, tokenizer=Kiwi(typos=\"basic\")):\n",
    "    sentence = sentence.replace(\" \", \"\")\n",
    "    stopwords = Stopwords()\n",
    "    get_tags = [\"XR\", \"NNG\", \"VA\"]\n",
    "    sentence = tokenizer.space(sentence)\n",
    "\n",
    "    kiwi_result = tokenizer.tokenize(\n",
    "        sentence, normalize_coda=True, stopwords=stopwords)\n",
    "    token_list = []\n",
    "    for token in range(len(kiwi_result)):\n",
    "        if (kiwi_result[token].tag in get_tags):\n",
    "            token_list.append(kiwi_result[token].form)\n",
    "    token_str = \" \".join(token_list)\n",
    "    return token_str"
   ]
  },
  {
   "cell_type": "code",
   "execution_count": 32,
   "id": "b3737049-5e64-448c-a1e7-649c00569b14",
   "metadata": {},
   "outputs": [],
   "source": [
    "def keyword_menu_send_to_spring(menu_data, keyword, recommanded):\n",
    "    spring_url = \"http://localhost:8087/api/receive-keyword-menu\"\n",
    "    try:\n",
    "        menu_info = [f'[{menu_data[menu_data[\"menu\"]==menu][\"info\"].values[0]}]' for menu in recommanded]\n",
    "        menu_ingred = [f'[{menu_data[menu_data[\"menu\"]==menu][\"ingred\"].values[0]}]' for menu in recommanded]\n",
    "    except:\n",
    "        menu_info = []\n",
    "        menu_ingred = []\n",
    "    \n",
    "    # 전송할 payload 준비\n",
    "    payload = {\n",
    "        \"status\": \"success\",\n",
    "        \"keyword\": keyword,\n",
    "        \"recommanded\": recommanded,\n",
    "        \"menuInfo\": menu_info,\n",
    "        \"menuIngred\": menu_ingred\n",
    "    }\n",
    "    \n",
    "    headers = {\"Content-Type\": \"application/json\"}\n",
    "    print(\"Payload to be sent:\", payload)  # payload 출력\n",
    "    try:\n",
    "        response = requests.post(spring_url, json=payload, headers=headers)\n",
    "        response.raise_for_status()  # 예외가 발생하면 여기서 처리\n",
    "        print(response.status_code)  # 응답 코드 출력\n",
    "        print(response.json())  # 응답 내용 출력\n",
    "        return response.json()  # 응답 JSON을 반환\n",
    "    except Exception as e:\n",
    "        # 예외 처리\n",
    "        print(f\"스프링 부트 전송 실패: {str(e)}\")\n",
    "        return {\"status\": \"error\", \"error\": str(e)}  # 실패한 경우 error 메시지 반환"
   ]
  },
  {
   "cell_type": "code",
   "execution_count": 33,
   "id": "5fac4053",
   "metadata": {},
   "outputs": [],
   "source": [
    "# 분석한 유사 상권 정보 전달\n",
    "def similar_dong_send_to_spring(similar_dongs):\n",
    "    spring_url = \"http://localhost:8087/api/receive-similar-dongs\"\n",
    "    # 스프링에 dong이라는 이름으로 dong_name 데이터 전송\n",
    "    payload = {\"similarDongs\": similar_dongs,\n",
    "               \"status\": \"success\"\n",
    "              }\n",
    "    # json 형식으로 전송\n",
    "    headers = {\"Content-Type\": \"application/json\"}\n",
    "    \n",
    "    try:\n",
    "        response = requests.post(spring_url, json=payload, headers=headers)\n",
    "        response.raise_for_status()  # HTTP 오류 있는지 확인 => 예외 발생\n",
    "        return payload\n",
    "    except Exception as e:\n",
    "        # 예외처리\n",
    "        print(f\"스프링 전송 실패: {str(e)}\")\n",
    "        return {\"status\": \"error\", \"error\": str(e)}"
   ]
  },
  {
   "cell_type": "code",
   "execution_count": 34,
   "id": "757024c2-6d06-427d-87b3-65dc9c38c8b4",
   "metadata": {},
   "outputs": [],
   "source": [
    "# 유사 메뉴 분석 결과 스프링으로 전송\n",
    "def similar_menu_recommanded(menu_data, similar_menus, menu_name):\n",
    "    spring_url=\"http://localhost:8087/api/receive-similar-menus\"\n",
    "    \n",
    "    try:\n",
    "        menu_info = [f'[{menu_data[menu_data[\"menu\"]==menu][\"info\"].values[0]}]' for menu in similar_menus]\n",
    "        menu_ingred = [f'[{menu_data[menu_data[\"menu\"]==menu][\"ingred\"].values[0]}]' for menu in similar_menus]\n",
    "    except:\n",
    "        menu_info = []\n",
    "        menu_ingred = []\n",
    "    \n",
    "    payload={\"status\":\"success\",\n",
    "            \"similarMenus\":similar_menus,\n",
    "            \"menu\": menu_name,\n",
    "             \"menuInfo\": menu_info,\n",
    "             \"menuIngred\":menu_ingred\n",
    "            }\n",
    "        \n",
    "    headers={\"Content-Type\" : \"application/json\"}\n",
    "    print(payload)\n",
    "    \n",
    "    try:\n",
    "        response = requests.post(spring_url, json=payload, headers=headers)\n",
    "        response.raise_for_status()\n",
    "        return payload\n",
    "    except Exception as e:\n",
    "        print(f\"스프링 전송 실패: {str(e)}\")\n",
    "        return {\"status\" : \"error\", \"error\":str(e)}"
   ]
  },
  {
   "cell_type": "code",
   "execution_count": 35,
   "id": "90f70a14",
   "metadata": {},
   "outputs": [],
   "source": [
    "# 상권 공통 메뉴 분석 결과 스프링으로 전송\n",
    "def search_sanggueon_gongtong(menu_data, gongtong_menus, sang1, sang2, sang1_ratio, sang2_ratio):\n",
    "    spring_url=\"http://localhost:8087/api/receive-sanggueon-gongtong\"\n",
    "    \n",
    "    try:\n",
    "        menu_info = [f'[{menu_data[menu_data[\"menu\"]==menu][\"info\"].values[0]}]' for menu in gongtong_menus if menu in list(menu_data[\"menu\"])]\n",
    "        menu_ingred = [f'[{menu_data[menu_data[\"menu\"]==menu][\"ingred\"].values[0]}]' for menu in gongtong_menus if menu in list(menu_data[\"menu\"])]\n",
    "    except:\n",
    "        menu_info = []\n",
    "        menu_ingred = []\n",
    "    \n",
    "    payload={\"status\":\"success\",\n",
    "            \"gongtongMenus\" : gongtong_menus,\n",
    "             \"sang1\" : sang1,\n",
    "             \"sang2\":sang2,\n",
    "             \"sang1MenuCnt\":sang1_ratio,\n",
    "             \"sang2MenuCnt\":sang2_ratio,\n",
    "             \"menuInfo\":menu_info,\n",
    "             \"menuIngred\":menu_ingred\n",
    "            }\n",
    "        \n",
    "    headers={\"Content-Type\" : \"application/json\"}\n",
    "    print(payload)\n",
    "    \n",
    "    try:\n",
    "        response = requests.post(spring_url, json=payload, headers=headers)\n",
    "        response.raise_for_status()\n",
    "        return response.json()\n",
    "    except Exception as e:\n",
    "        print(f\"스프링 전송 실패: {str(e)}\")\n",
    "        return {\"status\" : \"error\", \"error\":str(e)}"
   ]
  },
  {
   "cell_type": "code",
   "execution_count": 36,
   "id": "1bbb025b",
   "metadata": {},
   "outputs": [],
   "source": [
    "# 상권2만 언급이 많은 메뉴 전송\n",
    "def search_sanggueon_only(menu_data, only_menus, sang1, sang2, sang1_ratio, sang2_ratio):\n",
    "    spring_url=\"http://localhost:8087/api/recieve-sanggueon-only\"\n",
    "    \n",
    "    try:\n",
    "        menu_info = [f'[{menu_data[menu_data[\"menu\"]==menu][\"info\"].values[0]}]' for menu in only_menus if menu in list(menu_data[\"menu\"])]\n",
    "        menu_ingred = [f'[{menu_data[menu_data[\"menu\"]==menu][\"ingred\"].values[0]}]' for menu in only_menus if menu in list(menu_data[\"menu\"])]\n",
    "    except:\n",
    "        menu_info = []\n",
    "        menu_ingred = []\n",
    "    \n",
    "    payload={\"status\":\"success\",\n",
    "             \"onlyMenus\":only_menus,\n",
    "             \"sang1\":sang1,\n",
    "             \"sang2\":sang2,\n",
    "             \"sang1MenuCnt\":sang1_ratio,\n",
    "             \"sang2MenuCnt\":sang2_ratio,\n",
    "             \"menuInfo\":menu_info,\n",
    "             \"menuIngred\":menu_ingred\n",
    "            }\n",
    "    headers={\"Content-Type\":\"application/json\"}\n",
    "    print(payload)\n",
    "    \n",
    "    try:\n",
    "        response=requests.post(spring_url,json=payload,headers=headers)\n",
    "        response.raise_for_status()\n",
    "        return response.json()\n",
    "    except Exception as e:\n",
    "        print(f\"스프링 전송 실패: {str(e)}\")\n",
    "        return {\"status\":\"error\", \"error\":str(e)}"
   ]
  },
  {
   "cell_type": "code",
   "execution_count": 37,
   "id": "1b29fb04-3741-4a47-9cc3-a2ecc64cc38e",
   "metadata": {},
   "outputs": [],
   "source": [
    "# 좌표를 통해 법정동 번호 조회\n",
    "def get_dong_number(latitude, longitude, dong_data=clustered_dong):\n",
    "    url = f\"https://dapi.kakao.com/v2/local/geo/coord2address.json?x={longitude}&y={latitude}\"\n",
    "    headers = {\"Authorization\": f\"KakaoAK {KAKAO_API_KEY}\"}\n",
    "\n",
    "    response = requests.get(url, headers=headers)\n",
    "\n",
    "    # 200번 : 통신 성공\n",
    "    if response.status_code == 200:\n",
    "        address_info = response.json()\n",
    "        # 카카오 api에 해당 좌표 정보가 있는지 확인\n",
    "        if address_info['documents']:\n",
    "            addr = address_info['documents'][0]['address']['address_name']\n",
    "            region = addr.split(\" \")[0]\n",
    "            gu = addr.split(\" \")[1]\n",
    "            dong = addr.split(\" \")[2]\n",
    "\n",
    "            region_dong = dong_data[dong_data[\"지역\"].str.contains(region)]\n",
    "            dong_number = list(\n",
    "                region_dong[region_dong[\"동 이름\"] == dong].head(1)[\"법정동 번호(PK)\"])[0]\n",
    "            return dong_number\n",
    "    return None"
   ]
  },
  {
   "cell_type": "code",
   "execution_count": 38,
   "id": "143c6a2a",
   "metadata": {},
   "outputs": [],
   "source": [
    "# 두 상권 중 다른 상권에만 유독 더 많이 파는 메뉴\n",
    "def yusasang_only(data, sang1, sang2):\n",
    "    sang1 = [dong for dong in data[\"dong\"] if dong in sang1][0]\n",
    "    sang2 = [dong for dong in data[\"dong\"] if dong in sang2][0]\n",
    "    \n",
    "    sang1data = data[data[\"dong\"]==sang1]\n",
    "    sang2data = data[data[\"dong\"]==sang2]\n",
    "    \n",
    "    sang1_count = Counter(sang1data['menu_keyword'])\n",
    "    sang2_count = Counter(sang2data['menu_keyword'])\n",
    "\n",
    "    sang1_menu = list(sang1_count.keys())\n",
    "    sang1_cnt = sang1_count.values()\n",
    "    sang1_cnt_list = list(sang1_cnt)\n",
    "    sang1_rat = []\n",
    "    sang1_sum = 0\n",
    "\n",
    "    sang2_menu = list(sang2_count.keys())\n",
    "    sang2_cnt = sang2_count.values()\n",
    "    sang2_cnt_list = list(sang2_cnt)\n",
    "    sang2_rat = []\n",
    "    sang2_sum = 0\n",
    "\n",
    "    for i in range(len(sang1_cnt)):\n",
    "        sang1_sum+=sang1_cnt_list[i]\n",
    "    for i in range(len(sang2_cnt)):\n",
    "        sang2_sum+=sang2_cnt_list[i]\n",
    "\n",
    "    sang1_rat = np.array([r/sang1_sum for r in sang1_cnt_list])\n",
    "    sang2_rat = np.array([r/sang2_sum for r in sang2_cnt_list])\n",
    "\n",
    "    sang1_most_rat = np.flip(np.argsort(sang1_rat)[:])\n",
    "    sang2_most_rat = np.flip(np.argsort(sang2_rat)[:])\n",
    "\n",
    "    sang1_most = [sang1_menu[menu_i] for menu_i in sang1_most_rat]\n",
    "    sang2_most = [sang2_menu[menu_i] for menu_i in sang2_most_rat]\n",
    "\n",
    "    only_sang2 = []\n",
    "    sang1_ratio = []\n",
    "    sang2_ratio = []\n",
    "    popularity = len(sang1_most)//5\n",
    "    \n",
    "    for i in range(len(sang2_most)):\n",
    "        if(sang2_most[i] not in sang1_most[:popularity]):\n",
    "            only_sang2.append(sang2_most[i])\n",
    "            try:\n",
    "                sang1_ratio.append(sang1_cnt_list[sang1_menu.index(sang2_most[i])])\n",
    "            except:\n",
    "                sang1_ratio.append(0)\n",
    "            sang2_ratio.append(sang2_cnt_list[sang2_most_rat[i]])\n",
    "        if(len(only_sang2) == 5):\n",
    "            break\n",
    "    if(len(only_sang2) < 3):\n",
    "        only_sang2.append(\"두 상권의 거의 모든 메뉴가 유사합니다.\")\n",
    "        sang1_ratio.append(0)\n",
    "        sang2_ratio.append(0)\n",
    "\n",
    "    return [only_sang2, sang1_ratio, sang2_ratio]"
   ]
  },
  {
   "cell_type": "code",
   "execution_count": 39,
   "id": "b3fc050f",
   "metadata": {},
   "outputs": [],
   "source": [
    "#두 상권 모두 많이 파는 메뉴\n",
    "def yusasang_gongtong(data, sang1, sang2):\n",
    "    sang1 = [dong for dong in data[\"dong\"] if dong in sang1][0]\n",
    "    sang2 = [dong for dong in data[\"dong\"] if dong in sang2][0]\n",
    "    \n",
    "    sang1data = data[data[\"dong\"]==sang1]\n",
    "    sang2data = data[data[\"dong\"]==sang2]\n",
    "    \n",
    "    sang1_count = Counter(sang1data['menu_keyword'])\n",
    "    sang2_count = Counter(sang2data['menu_keyword'])\n",
    "\n",
    "    sang1_menu = list(sang1_count.keys())\n",
    "    sang1_cnt = sang1_count.values()\n",
    "    sang1_cnt_list = list(sang1_cnt)\n",
    "    sang1_rat = []\n",
    "    sang1_sum = 0\n",
    "\n",
    "    sang2_menu = list(sang2_count.keys())\n",
    "    sang2_cnt = sang2_count.values()\n",
    "    sang2_cnt_list = list(sang2_cnt)\n",
    "    sang2_rat = []\n",
    "    sang2_sum = 0\n",
    "\n",
    "    for i in range(len(sang1_cnt)):\n",
    "        sang1_sum+=sang1_cnt_list[i]\n",
    "    for i in range(len(sang2_cnt)):\n",
    "        sang2_sum+=sang2_cnt_list[i]\n",
    "\n",
    "    sang1_rat = np.array([r/sang1_sum for r in sang1_cnt_list])\n",
    "    sang2_rat = np.array([r/sang2_sum for r in sang2_cnt_list])\n",
    "\n",
    "    sang1_most_rat = np.flip(np.argsort(sang1_rat)[:])\n",
    "    sang2_most_rat = np.flip(np.argsort(sang2_rat)[:])\n",
    "\n",
    "    sang1_most = [sang1_menu[menu_i] for menu_i in sang1_most_rat]\n",
    "    sang2_most = [sang2_menu[menu_i] for menu_i in sang2_most_rat]\n",
    "    \n",
    "    sang1_ratio = []\n",
    "    sang2_ratio = []\n",
    "    popularity = len(sang2_most) // 10\n",
    "    \n",
    "    gongtong_sang = []\n",
    "    for i in range(popularity, len(sang1_most)):\n",
    "        if(sang1_most[i] in sang2_most[:popularity*2]):\n",
    "            gongtong_sang.append(sang1_most[i])\n",
    "            sang1_ratio.append(sang1_cnt_list[sang1_most_rat[i]])\n",
    "            sang2_ratio.append(sang2_cnt_list[sang2_menu.index(sang1_most[i])])\n",
    "        if(len(gongtong_sang)==5):\n",
    "            break\n",
    "    if(len(gongtong_sang) < 3):\n",
    "        gongtong_sang.append(\"두 상권의 메뉴는 거의 유사하지 않습니다.\")\n",
    "    print(sang1_ratio)\n",
    "    print(sang2_ratio)\n",
    "    return [gongtong_sang, sang1_ratio, sang2_ratio]"
   ]
  },
  {
   "cell_type": "code",
   "execution_count": 40,
   "id": "3e00f4ec",
   "metadata": {},
   "outputs": [],
   "source": [
    "# 현재 상권에서 주로 파는 메뉴\n",
    "def sang_menu(data, sang, no_menus=[]):\n",
    "    sangdata = data[data[\"dong\"]==sang]\n",
    "    \n",
    "    sang_count = Counter(sangdata['menu_keyword'])\n",
    "    sang_most = sang_count.most_common(len(sang_count))\n",
    "    \n",
    "    sang_best_menu = []\n",
    "    for i in range(5, len(sang_most)):\n",
    "        if(sang_most[i][0] in no_menus):\n",
    "            continue\n",
    "        sang_best_menu.append(sang_most[i][0])\n",
    "        if(len(sang_best_menu)==5):\n",
    "            break\n",
    "    if(len(sang_best_menu)<3):\n",
    "        sang_best_menu.append(\"해당 상권은 분석할 수 없습니다. 사유 : 상권 내 카페 수 부족\")\n",
    "    return sang_best_menu"
   ]
  },
  {
   "cell_type": "code",
   "execution_count": null,
   "id": "c2367f2c",
   "metadata": {},
   "outputs": [
    {
     "name": "stdout",
     "output_type": "stream",
     "text": [
      " * Serving Flask app '__main__'\n",
      " * Debug mode: off\n"
     ]
    },
    {
     "name": "stderr",
     "output_type": "stream",
     "text": [
      "WARNING: This is a development server. Do not use it in a production deployment. Use a production WSGI server instead.\n",
      " * Running on all addresses (0.0.0.0)\n",
      " * Running on http://127.0.0.1:5001\n",
      " * Running on http://192.168.219.78:5001\n",
      "Press CTRL+C to quit\n",
      "127.0.0.1 - - [08/Jan/2025 08:50:55] \"POST /analyze-menu HTTP/1.1\" 200 -\n"
     ]
    },
    {
     "name": "stdout",
     "output_type": "stream",
     "text": [
      "플랫화이트\n",
      "{'status': 'success', 'similarMenus': ['헤이즐넛 콜드브루', '헤이즐넛 에스프레소', '오트 콜드브루', '디카페인 아인슈페너', '흑임자 크림 에스프레소', '에스프레소 라떼', '모카 라떼', '디카페인커피', '황치즈 마들렌', '콜드브루 카푸치노'], 'menu': '플랫화이트', 'menuInfo': ['[고소함, 진한 커피맛, 깔끔함, 부드러움, 고급스러움, 고소한 견과류 풍미, 진한 커피 맛, 시원한 질감, 균형감, 고급스러운 끝맛]', '[고소함, 깊은 맛, 진한 커피향, 따뜻함, 고급스러움, 고소한 견과류 향, 진한 커피 맛, 부드러운 끝맛, 풍부한 텍스처, 깊은 여운]', '[고소함, 건강함, 깔끔함, 부드러움, 고급스러움, 고소한 귀리 향, 깔끔한 커피, 부드러운 끝맛, 현대적 감성]', '[진한 맛, 부드러움, 건강함, 고급스러움, 깔끔함, 부드러운 크림, 진한 커피 풍미, 부담 없는 선택, 세련된 맛, 균형감]', '[고소함, 크리미함, 진한 맛, 고급스러움, 독특함, 고소한 흑임자 향, 부드러운 크림, 진한 커피 맛, 세련된 조화, 특별한 풍미]', '[진한 커피맛, 부드러움, 고급스러움, 풍미, 클래식, 진한 커피 맛, 부드러운 우유, 균형감, 풍부한 여운]', '[달콤함, 초콜릿, 진한 커피향, 부드러움, 만족감, 진한 초콜릿, 풍부한 크림감, 고급스러움, 달콤한 끝맛, 따뜻한 풍미]', '[가벼움, 부드러움, 건강함, 편안함, 깔끔함, 부드러운 커피 향, 가벼운 여운, 균형감, 온화한 풍미]', '[고소함, 담백함, 부드러운 질감, 진한 황치즈 풍미, 고급 디저트, 클래식 감성, 만족감, 풍미 깊음, 깔끔함, 독특함]', '[진한 맛, 크리미함, 깔끔함, 부드러움, 고급스러움, 풍부한 크림감, 진한 커피 풍미, 부드러운 끝맛, 청량감, 고급스러운 질감]'], 'menuIngred': [\"[ '콜드브루 커피, 헤이즐넛 시럽, 우유, 얼음']\", \"[ '에스프레소, 헤이즐넛 시럽, 우유']\", \"[ '콜드브루 커피', '오트밀크', '얼음', '오트 시럽 (옵션)']\", \"[ '디카페인 커피, 설탕, 생크림, 바닐라 추출물, 얼음']\", \"[ '에스프레소', '흑임자 가루', '휘핑크림', '연유', '우유']\", \"[ '에스프레소', '우유', '설탕 (옵션)', '바닐라 시럽 (옵션)']\", \"[ '우유', '에스프레소', '초콜릿 시럽', '휘핑크림 (옵션)', '초콜릿 가루 (옵션)']\", \"[ '디카페인 원두', '우유', '설탕', '시럽']\", \"[ '밀가루', '설탕', '버터', '달걀', '베이킹파우더', '소금', '체다 치즈', '크림치즈', '우유', '올리브유', '레몬즙']\", \"[ '콜드브루', '에스프레소', '우유', '스팀밀크', '얼음']\"]}\n"
     ]
    },
    {
     "name": "stderr",
     "output_type": "stream",
     "text": [
      "127.0.0.1 - - [08/Jan/2025 08:50:59] \"POST /analyze-menu HTTP/1.1\" 200 -\n",
      "127.0.0.1 - - [08/Jan/2025 08:50:59] \"POST /analyze-menu HTTP/1.1\" 200 -\n"
     ]
    },
    {
     "name": "stdout",
     "output_type": "stream",
     "text": [
      "닭가슴살 샌드위치\n",
      "{'status': 'success', 'similarMenus': ['햄 치즈 치아바타', '치킨 샌드위치', '샐러드 샌드위치', '반미 샌드위치', '미트볼 샌드위치', '치즈 치아바타', '햄치즈 바게트', '함박 샌드위치', '갈릭 베이글', '치즈 샌드위치'], 'menu': '닭가슴살 샌드위치', 'menuInfo': ['[고소함, 짭짤함, 부드러운 치즈, 쫄깃한 치아바타, 든든한 한 끼, 클래식 감성, 만족감, 건강한 선택, 촉촉함, 풍미 깊음]', '[고소함, 짭짤함, 풍부함, 신선한 채소, 부드러운 치킨, 든든한 식사, 클래식 감성, 건강한 선택, 만족감, 자연주의]', '[신선함, 담백함, 고소한 맛, 바삭한 채소, 촉촉한 빵, 건강한 선택, 자연주의, 만족감, 클래식 감성, 깔끔함]', '[짭짤함, 고소함, 신선한 채소, 쫄깃한 바게트, 건강한 선택, 이국적 감성, 만족감, 풍미 깊음, 자연주의, 독특함]', '[고소함, 짭짤함, 풍부한 풍미, 부드러운 미트볼, 쫄깃한 빵, 든든한 식사, 클래식 감성, 만족감, 따뜻함, 건강한 선택]', '[고소함, 짭짤함, 풍부한 치즈 풍미, 쫄깃한 치아바타, 건강한 조화, 든든한 한 끼, 클래식 감성, 만족감, 촉촉함, 자연주의]', '[고소함, 짭짤함, 부드러운 치즈, 쫄깃한 바게트, 든든한 한 끼, 클래식 감성, 만족감, 건강한 조화, 촉촉함, 풍미 깊음]', '[고소함, 풍부한 맛, 촉촉한 패티, 부드러운 빵, 든든한 한 끼, 클래식 감성, 만족감, 건강한 선택, 풍미 깊음, 따뜻함]', '[고소함, 짭짤함, 쫄깃한 식감, 풍부한 마늘 풍미, 건강한 선택, 든든함, 자연주의, 만족감, 촉촉함, 클래식 감성]', '[고소함, 짭짤함, 부드러운 치즈, 쫄깃한 빵, 심플한 조합, 든든한 감성, 만족감, 촉촉함, 건강한 선택, 클래식 감성]'], 'menuIngred': [\"[ '치아바타 빵, 슬라이스 햄, 슬라이스 치즈, 버터, 양상추, 토마토']\", \"[ '치킨', '식빵', '상추', '토마토', '치즈', '마요네즈', '머스터드', '소금', '후추']\", \"[ '식빵, 양상추, 토마토, 오이, 삶은 계란, 마요네즈, 소금, 후추']\", \"[ '반미 빵', '돼지고기', '오이', '당근', '고수', '마요네즈', '칠리소스', '간장', '소금', '후추']\", \"[ '미트볼', '식빵', '토마토', '양상추', '모짜렐라 치즈', '마리나라 소스', '소금', '후추']\", \"[ '치아바타 빵', '체다 치즈', '모짜렐라 치즈', '토마토', '상추', '올리브 오일', '소금', '후추']\", \"[ '바게트, 햄, 치즈, 양상추, 마요네즈, 머스타드']\", \"[ '햄버거 빵', '소고기 패티', '양파', '상추', '토마토', '피클', '치즈', '마요네즈', '머스터드', '버터']\", \"[ '베이글', '버터', '마늘', '파슬리', '소금', '후추']\", \"[ '식빵, 슬라이스 치즈, 버터, 마요네즈, 양상추, 토마토']\"]}\n",
      "닭가슴살 샌드위치\n",
      "{'status': 'success', 'similarMenus': ['햄 치즈 치아바타', '치킨 샌드위치', '샐러드 샌드위치', '반미 샌드위치', '미트볼 샌드위치', '치즈 치아바타', '햄치즈 바게트', '함박 샌드위치', '갈릭 베이글', '치즈 샌드위치'], 'menu': '닭가슴살 샌드위치', 'menuInfo': ['[고소함, 짭짤함, 부드러운 치즈, 쫄깃한 치아바타, 든든한 한 끼, 클래식 감성, 만족감, 건강한 선택, 촉촉함, 풍미 깊음]', '[고소함, 짭짤함, 풍부함, 신선한 채소, 부드러운 치킨, 든든한 식사, 클래식 감성, 건강한 선택, 만족감, 자연주의]', '[신선함, 담백함, 고소한 맛, 바삭한 채소, 촉촉한 빵, 건강한 선택, 자연주의, 만족감, 클래식 감성, 깔끔함]', '[짭짤함, 고소함, 신선한 채소, 쫄깃한 바게트, 건강한 선택, 이국적 감성, 만족감, 풍미 깊음, 자연주의, 독특함]', '[고소함, 짭짤함, 풍부한 풍미, 부드러운 미트볼, 쫄깃한 빵, 든든한 식사, 클래식 감성, 만족감, 따뜻함, 건강한 선택]', '[고소함, 짭짤함, 풍부한 치즈 풍미, 쫄깃한 치아바타, 건강한 조화, 든든한 한 끼, 클래식 감성, 만족감, 촉촉함, 자연주의]', '[고소함, 짭짤함, 부드러운 치즈, 쫄깃한 바게트, 든든한 한 끼, 클래식 감성, 만족감, 건강한 조화, 촉촉함, 풍미 깊음]', '[고소함, 풍부한 맛, 촉촉한 패티, 부드러운 빵, 든든한 한 끼, 클래식 감성, 만족감, 건강한 선택, 풍미 깊음, 따뜻함]', '[고소함, 짭짤함, 쫄깃한 식감, 풍부한 마늘 풍미, 건강한 선택, 든든함, 자연주의, 만족감, 촉촉함, 클래식 감성]', '[고소함, 짭짤함, 부드러운 치즈, 쫄깃한 빵, 심플한 조합, 든든한 감성, 만족감, 촉촉함, 건강한 선택, 클래식 감성]'], 'menuIngred': [\"[ '치아바타 빵, 슬라이스 햄, 슬라이스 치즈, 버터, 양상추, 토마토']\", \"[ '치킨', '식빵', '상추', '토마토', '치즈', '마요네즈', '머스터드', '소금', '후추']\", \"[ '식빵, 양상추, 토마토, 오이, 삶은 계란, 마요네즈, 소금, 후추']\", \"[ '반미 빵', '돼지고기', '오이', '당근', '고수', '마요네즈', '칠리소스', '간장', '소금', '후추']\", \"[ '미트볼', '식빵', '토마토', '양상추', '모짜렐라 치즈', '마리나라 소스', '소금', '후추']\", \"[ '치아바타 빵', '체다 치즈', '모짜렐라 치즈', '토마토', '상추', '올리브 오일', '소금', '후추']\", \"[ '바게트, 햄, 치즈, 양상추, 마요네즈, 머스타드']\", \"[ '햄버거 빵', '소고기 패티', '양파', '상추', '토마토', '피클', '치즈', '마요네즈', '머스터드', '버터']\", \"[ '베이글', '버터', '마늘', '파슬리', '소금', '후추']\", \"[ '식빵, 슬라이스 치즈, 버터, 마요네즈, 양상추, 토마토']\"]}\n"
     ]
    },
    {
     "name": "stderr",
     "output_type": "stream",
     "text": [
      "127.0.0.1 - - [08/Jan/2025 08:56:11] \"POST /analyze-menu HTTP/1.1\" 200 -\n"
     ]
    },
    {
     "name": "stdout",
     "output_type": "stream",
     "text": [
      "닭가슴살 샌드위치\n",
      "{'status': 'success', 'similarMenus': ['햄 치즈 치아바타', '치킨 샌드위치', '샐러드 샌드위치', '반미 샌드위치', '미트볼 샌드위치', '치즈 치아바타', '햄치즈 바게트', '함박 샌드위치', '갈릭 베이글', '치즈 샌드위치'], 'menu': '닭가슴살 샌드위치', 'menuInfo': ['[고소함, 짭짤함, 부드러운 치즈, 쫄깃한 치아바타, 든든한 한 끼, 클래식 감성, 만족감, 건강한 선택, 촉촉함, 풍미 깊음]', '[고소함, 짭짤함, 풍부함, 신선한 채소, 부드러운 치킨, 든든한 식사, 클래식 감성, 건강한 선택, 만족감, 자연주의]', '[신선함, 담백함, 고소한 맛, 바삭한 채소, 촉촉한 빵, 건강한 선택, 자연주의, 만족감, 클래식 감성, 깔끔함]', '[짭짤함, 고소함, 신선한 채소, 쫄깃한 바게트, 건강한 선택, 이국적 감성, 만족감, 풍미 깊음, 자연주의, 독특함]', '[고소함, 짭짤함, 풍부한 풍미, 부드러운 미트볼, 쫄깃한 빵, 든든한 식사, 클래식 감성, 만족감, 따뜻함, 건강한 선택]', '[고소함, 짭짤함, 풍부한 치즈 풍미, 쫄깃한 치아바타, 건강한 조화, 든든한 한 끼, 클래식 감성, 만족감, 촉촉함, 자연주의]', '[고소함, 짭짤함, 부드러운 치즈, 쫄깃한 바게트, 든든한 한 끼, 클래식 감성, 만족감, 건강한 조화, 촉촉함, 풍미 깊음]', '[고소함, 풍부한 맛, 촉촉한 패티, 부드러운 빵, 든든한 한 끼, 클래식 감성, 만족감, 건강한 선택, 풍미 깊음, 따뜻함]', '[고소함, 짭짤함, 쫄깃한 식감, 풍부한 마늘 풍미, 건강한 선택, 든든함, 자연주의, 만족감, 촉촉함, 클래식 감성]', '[고소함, 짭짤함, 부드러운 치즈, 쫄깃한 빵, 심플한 조합, 든든한 감성, 만족감, 촉촉함, 건강한 선택, 클래식 감성]'], 'menuIngred': [\"[ '치아바타 빵, 슬라이스 햄, 슬라이스 치즈, 버터, 양상추, 토마토']\", \"[ '치킨', '식빵', '상추', '토마토', '치즈', '마요네즈', '머스터드', '소금', '후추']\", \"[ '식빵, 양상추, 토마토, 오이, 삶은 계란, 마요네즈, 소금, 후추']\", \"[ '반미 빵', '돼지고기', '오이', '당근', '고수', '마요네즈', '칠리소스', '간장', '소금', '후추']\", \"[ '미트볼', '식빵', '토마토', '양상추', '모짜렐라 치즈', '마리나라 소스', '소금', '후추']\", \"[ '치아바타 빵', '체다 치즈', '모짜렐라 치즈', '토마토', '상추', '올리브 오일', '소금', '후추']\", \"[ '바게트, 햄, 치즈, 양상추, 마요네즈, 머스타드']\", \"[ '햄버거 빵', '소고기 패티', '양파', '상추', '토마토', '피클', '치즈', '마요네즈', '머스터드', '버터']\", \"[ '베이글', '버터', '마늘', '파슬리', '소금', '후추']\", \"[ '식빵, 슬라이스 치즈, 버터, 마요네즈, 양상추, 토마토']\"]}\n"
     ]
    },
    {
     "name": "stderr",
     "output_type": "stream",
     "text": [
      "127.0.0.1 - - [08/Jan/2025 08:57:42] \"POST /analyze-menu HTTP/1.1\" 200 -\n"
     ]
    },
    {
     "name": "stdout",
     "output_type": "stream",
     "text": [
      "닭가슴살 샌드위치\n",
      "{'status': 'success', 'similarMenus': ['햄 치즈 치아바타', '치킨 샌드위치', '샐러드 샌드위치', '반미 샌드위치', '미트볼 샌드위치', '치즈 치아바타', '햄치즈 바게트', '함박 샌드위치', '갈릭 베이글', '치즈 샌드위치'], 'menu': '닭가슴살 샌드위치', 'menuInfo': ['[고소함, 짭짤함, 부드러운 치즈, 쫄깃한 치아바타, 든든한 한 끼, 클래식 감성, 만족감, 건강한 선택, 촉촉함, 풍미 깊음]', '[고소함, 짭짤함, 풍부함, 신선한 채소, 부드러운 치킨, 든든한 식사, 클래식 감성, 건강한 선택, 만족감, 자연주의]', '[신선함, 담백함, 고소한 맛, 바삭한 채소, 촉촉한 빵, 건강한 선택, 자연주의, 만족감, 클래식 감성, 깔끔함]', '[짭짤함, 고소함, 신선한 채소, 쫄깃한 바게트, 건강한 선택, 이국적 감성, 만족감, 풍미 깊음, 자연주의, 독특함]', '[고소함, 짭짤함, 풍부한 풍미, 부드러운 미트볼, 쫄깃한 빵, 든든한 식사, 클래식 감성, 만족감, 따뜻함, 건강한 선택]', '[고소함, 짭짤함, 풍부한 치즈 풍미, 쫄깃한 치아바타, 건강한 조화, 든든한 한 끼, 클래식 감성, 만족감, 촉촉함, 자연주의]', '[고소함, 짭짤함, 부드러운 치즈, 쫄깃한 바게트, 든든한 한 끼, 클래식 감성, 만족감, 건강한 조화, 촉촉함, 풍미 깊음]', '[고소함, 풍부한 맛, 촉촉한 패티, 부드러운 빵, 든든한 한 끼, 클래식 감성, 만족감, 건강한 선택, 풍미 깊음, 따뜻함]', '[고소함, 짭짤함, 쫄깃한 식감, 풍부한 마늘 풍미, 건강한 선택, 든든함, 자연주의, 만족감, 촉촉함, 클래식 감성]', '[고소함, 짭짤함, 부드러운 치즈, 쫄깃한 빵, 심플한 조합, 든든한 감성, 만족감, 촉촉함, 건강한 선택, 클래식 감성]'], 'menuIngred': [\"[ '치아바타 빵, 슬라이스 햄, 슬라이스 치즈, 버터, 양상추, 토마토']\", \"[ '치킨', '식빵', '상추', '토마토', '치즈', '마요네즈', '머스터드', '소금', '후추']\", \"[ '식빵, 양상추, 토마토, 오이, 삶은 계란, 마요네즈, 소금, 후추']\", \"[ '반미 빵', '돼지고기', '오이', '당근', '고수', '마요네즈', '칠리소스', '간장', '소금', '후추']\", \"[ '미트볼', '식빵', '토마토', '양상추', '모짜렐라 치즈', '마리나라 소스', '소금', '후추']\", \"[ '치아바타 빵', '체다 치즈', '모짜렐라 치즈', '토마토', '상추', '올리브 오일', '소금', '후추']\", \"[ '바게트, 햄, 치즈, 양상추, 마요네즈, 머스타드']\", \"[ '햄버거 빵', '소고기 패티', '양파', '상추', '토마토', '피클', '치즈', '마요네즈', '머스터드', '버터']\", \"[ '베이글', '버터', '마늘', '파슬리', '소금', '후추']\", \"[ '식빵, 슬라이스 치즈, 버터, 마요네즈, 양상추, 토마토']\"]}\n"
     ]
    },
    {
     "name": "stderr",
     "output_type": "stream",
     "text": [
      "127.0.0.1 - - [08/Jan/2025 09:00:05] \"POST /analyze-menu HTTP/1.1\" 200 -\n"
     ]
    },
    {
     "name": "stdout",
     "output_type": "stream",
     "text": [
      "얼그레이 티\n",
      "{'status': 'success', 'similarMenus': ['얼그레이 스무디', '홍차 스무디', '얼그레이 버블티', '디카페인 카라멜 마끼야또', '얼그레이 아메리카노', '샤인머스켓 스무디', '라벤더 밀크티', '홍차 크림 아인슈페너', '얼그레이 밀크티', '자스민 티'], 'menu': '얼그레이 티', 'menuInfo': ['[허브향, 부드러움, 우아함, 상쾌함, 깔끔함, 우아한 베르가못 향, 부드러운 텍스처, 고급스러운 감미, 청량감, 자연스러운 조화]', '[우아함, 부드러움, 진한 맛, 크리미함, 고급스러움, 깊고 은은한 풍미, 부드러운 텍스처, 고급스러운 맛, 깔끔한 단맛, 세련된 조화]', '[우아함, 쫄깃함, 허브향, 크리미함, 고급스러움, 우아한 베르가못 향, 쫄깃한 펄, 부드러운 조화, 고급스러운 맛, 균형 잡힌 풍미]', '[달콤함, 크리미함, 건강함, 부드러움, 만족감, 부드러운 캐러멜, 크리미한 텍스처, 가벼운 풍미, 달콤한 여운, 편안함]', '[허브향, 진한 맛, 깔끔함, 우아함, 고급스러움, 우아한 베르가못 향, 깊은 커피 맛, 부드러운 산미, 깔끔한 마무리, 세련된 풍미]', '[이국적, 청량감, 과일향, 고급스러움, 달콤함, 고급스러운 과일향, 달콤한 여운, 부드러운 텍스처, 신선한 질감]', '[우아함, 허브향, 부드러움, 달콤함, 편안함, 은은한 꽃향, 부드러운 크림, 세련된 풍미, 편안한 끝맛, 우아한 조화]', '[진한 맛, 크리미함, 우아함, 따뜻함, 만족감, 깊은 홍차 향, 부드러운 크림, 고급스러움, 달콤한 끝맛, 풍부한 조화]', '[우아함, 부드러움, 깊은 맛, 클래식, 고급스러움, 베르가못 향, 부드러운 크림, 우아한 맛, 조화로움, 깔끔한 끝맛]', '[우아함, 허브향, 편안함, 자연스러움, 깔끔함, 은은한 꽃향, 부드러운 허브감, 우아한 풍미, 고요한 여운, 자연스러운 감미]'], 'menuIngred': [\"[ '얼그레이 티', '우유', '설탕', '얼음', '바닐라 시럽']\", \"[ '홍차 추출액', '우유', '얼음', '설탕', '바닐라 시럽']\", \"[ '얼그레이 차, 우유, 설탕, 타피오카 펄, 얼음, 바닐라 시럽']\", \"[ '디카페인 커피 원두', '우유', '카라멜 시럽', '얼음']\", \"[ '얼그레이 티백', '물', '에스프레소', '얼음']\", \"[ '샤인머스켓', '우유', '바닐라 아이스크림', '설탕', '얼음']\", \"[ '얼그레이 티, 라벤더 시럽, 우유, 설탕']\", \"[ '홍차, 설탕, 우유, 생크림, 바닐라 추출물, 얼음']\", \"[ '얼그레이 티백, 우유, 설탕, 얼음']\", \"[ '자스민 티 잎', '뜨거운 물', '설탕', '레몬']\"]}\n"
     ]
    },
    {
     "name": "stderr",
     "output_type": "stream",
     "text": [
      "127.0.0.1 - - [08/Jan/2025 09:00:09] \"POST /analyze-menu HTTP/1.1\" 200 -\n"
     ]
    },
    {
     "name": "stdout",
     "output_type": "stream",
     "text": [
      "버블티\n",
      "메뉴 이름이 잘못되었습니다.\n",
      "{'status': 'success', 'similarMenus': ['유사한 메뉴가 존재하지 않습니다...'], 'menu': '버블티', 'menuInfo': [], 'menuIngred': []}\n"
     ]
    },
    {
     "name": "stderr",
     "output_type": "stream",
     "text": [
      "127.0.0.1 - - [08/Jan/2025 09:00:09] \"POST /analyze-menu HTTP/1.1\" 200 -\n"
     ]
    },
    {
     "name": "stdout",
     "output_type": "stream",
     "text": [
      "버블티\n",
      "메뉴 이름이 잘못되었습니다.\n",
      "{'status': 'success', 'similarMenus': ['유사한 메뉴가 존재하지 않습니다...'], 'menu': '버블티', 'menuInfo': [], 'menuIngred': []}\n"
     ]
    },
    {
     "name": "stderr",
     "output_type": "stream",
     "text": [
      "127.0.0.1 - - [08/Jan/2025 09:00:46] \"POST /analyze-menu HTTP/1.1\" 200 -\n"
     ]
    },
    {
     "name": "stdout",
     "output_type": "stream",
     "text": [
      "캐모마일 티\n",
      "{'status': 'success', 'similarMenus': ['자스민 티', '아카시아 티', '카모마일 티', '매실차', '오미자차', '민트 티', '히비스커스 아이스티', '청귤차', '라즈베리 티', '얼그레이 스무디'], 'menu': '캐모마일 티', 'menuInfo': ['[우아함, 허브향, 편안함, 자연스러움, 깔끔함, 은은한 꽃향, 부드러운 허브감, 우아한 풍미, 고요한 여운, 자연스러운 감미]', '[허브향, 우아함, 깔끔함, 편안함, 자연스러움, 은은한 꽃향, 자연스러운 단맛, 부드러운 허브 감미, 고요한 풍미]', '[허브향, 평온함, 자연스러움, 건강함, 편안함, 은은한 꽃향, 따뜻함, 부드러운 허브 감미, 차분함, 편안한 마무리]', '[새콤함, 건강함, 전통적, 상쾌함, 자연스러움, 새콤달콤, 전통적 풍미, 편안함, 은은한 여운]', '[새콤달콤, 전통적, 건강함, 자연스러움, 깔끔함, 전통적 깊이, 새콤달콤한 감미, 건강감, 은은한 허브향, 따뜻한 여운]', '[청량감, 허브향, 상쾌함, 신선함, 리프레시, 상쾌한 허브 향, 편안한 끝맛, 자연스러운 허브 조화, 기분 좋은 리프레시]', '[새콤달콤, 우아함, 허브향, 상쾌함, 건강함, 붉은 꽃의 상큼함, 청량감, 우아한 풍미, 자연스러운 단맛, 깔끔한 마무리]', '[상큼함, 건강함, 전통적, 개운함, 자연스러움, 산뜻한 감귤 향, 따뜻함, 자연스러운 달콤함, 전통적 편안함, 건강감]', '[새콤달콤, 과일향, 깔끔함, 우아함, 건강함, 새콤달콤한 베리 향, 자연스러운 감미, 부드러운 허브 풍미, 청량감, 우아한 조화]', '[허브향, 부드러움, 우아함, 상쾌함, 깔끔함, 우아한 베르가못 향, 부드러운 텍스처, 고급스러운 감미, 청량감, 자연스러운 조화]'], 'menuIngred': [\"[ '자스민 티 잎', '뜨거운 물', '설탕', '레몬']\", \"[ '아카시아 차 잎', '물', '꿀', '레몬']\", \"[ '카모마일 티백', '뜨거운 물']\", \"[ '매실청', '물', '얼음 (옵션)']\", \"[ '오미자', '물', '설탕']\", \"[ '민트 티백', '물', '설탕 (옵션)']\", \"[ '히비스커스', '홍차', '설탕', '레몬', '얼음']\", \"[ '청귤청', '물', '얼음 (옵션)']\", \"[ '라즈베리 잎', '홍차', '레몬', '꿀', '얼음']\", \"[ '얼그레이 티', '우유', '설탕', '얼음', '바닐라 시럽']\"]}\n"
     ]
    },
    {
     "name": "stderr",
     "output_type": "stream",
     "text": [
      "127.0.0.1 - - [08/Jan/2025 09:01:13] \"POST /analyze-menu HTTP/1.1\" 200 -\n"
     ]
    },
    {
     "name": "stdout",
     "output_type": "stream",
     "text": [
      "캐모마일 티\n",
      "{'status': 'success', 'similarMenus': ['자스민 티', '아카시아 티', '카모마일 티', '매실차', '오미자차', '민트 티', '히비스커스 아이스티', '청귤차', '라즈베리 티', '얼그레이 스무디'], 'menu': '캐모마일 티', 'menuInfo': ['[우아함, 허브향, 편안함, 자연스러움, 깔끔함, 은은한 꽃향, 부드러운 허브감, 우아한 풍미, 고요한 여운, 자연스러운 감미]', '[허브향, 우아함, 깔끔함, 편안함, 자연스러움, 은은한 꽃향, 자연스러운 단맛, 부드러운 허브 감미, 고요한 풍미]', '[허브향, 평온함, 자연스러움, 건강함, 편안함, 은은한 꽃향, 따뜻함, 부드러운 허브 감미, 차분함, 편안한 마무리]', '[새콤함, 건강함, 전통적, 상쾌함, 자연스러움, 새콤달콤, 전통적 풍미, 편안함, 은은한 여운]', '[새콤달콤, 전통적, 건강함, 자연스러움, 깔끔함, 전통적 깊이, 새콤달콤한 감미, 건강감, 은은한 허브향, 따뜻한 여운]', '[청량감, 허브향, 상쾌함, 신선함, 리프레시, 상쾌한 허브 향, 편안한 끝맛, 자연스러운 허브 조화, 기분 좋은 리프레시]', '[새콤달콤, 우아함, 허브향, 상쾌함, 건강함, 붉은 꽃의 상큼함, 청량감, 우아한 풍미, 자연스러운 단맛, 깔끔한 마무리]', '[상큼함, 건강함, 전통적, 개운함, 자연스러움, 산뜻한 감귤 향, 따뜻함, 자연스러운 달콤함, 전통적 편안함, 건강감]', '[새콤달콤, 과일향, 깔끔함, 우아함, 건강함, 새콤달콤한 베리 향, 자연스러운 감미, 부드러운 허브 풍미, 청량감, 우아한 조화]', '[허브향, 부드러움, 우아함, 상쾌함, 깔끔함, 우아한 베르가못 향, 부드러운 텍스처, 고급스러운 감미, 청량감, 자연스러운 조화]'], 'menuIngred': [\"[ '자스민 티 잎', '뜨거운 물', '설탕', '레몬']\", \"[ '아카시아 차 잎', '물', '꿀', '레몬']\", \"[ '카모마일 티백', '뜨거운 물']\", \"[ '매실청', '물', '얼음 (옵션)']\", \"[ '오미자', '물', '설탕']\", \"[ '민트 티백', '물', '설탕 (옵션)']\", \"[ '히비스커스', '홍차', '설탕', '레몬', '얼음']\", \"[ '청귤청', '물', '얼음 (옵션)']\", \"[ '라즈베리 잎', '홍차', '레몬', '꿀', '얼음']\", \"[ '얼그레이 티', '우유', '설탕', '얼음', '바닐라 시럽']\"]}\n"
     ]
    },
    {
     "name": "stderr",
     "output_type": "stream",
     "text": [
      "127.0.0.1 - - [08/Jan/2025 09:01:18] \"POST /analyze-menu HTTP/1.1\" 200 -\n",
      "127.0.0.1 - - [08/Jan/2025 09:01:18] \"POST /analyze-menu HTTP/1.1\" 200 -\n"
     ]
    },
    {
     "name": "stdout",
     "output_type": "stream",
     "text": [
      "오렌지 주스\n",
      "{'status': 'success', 'similarMenus': ['애플망고 주스', '베리 주스', '망고 주스', '망고 블렌디드', '블루베리 주스', '애플 스무디', '바나나 주스', '애플 주스', '베리 요거', '망고 스무디'], 'menu': '오렌지 주스', 'menuInfo': ['[이국적, 달콤함, 과일향, 풍부함, 상쾌함, 달콤한 과즙, 열대 과일의 신선함, 부드러운 질감, 자연스러운 여운]', '[새콤달콤, 과일향, 상쾌함, 활기참, 건강함, 과일의 풍부함, 자연스러운 맛, 발랄함]', '[이국적, 달콤함, 과일향, 풍부함, 상쾌함, 열대 과일의 달콤함, 부드러운 질감, 신선함, 자연스러운 여운]', '[달콤함, 과일향, 크리미함, 이국적, 상쾌함, 열대 과일의 풍부함, 부드러운 텍스처, 자연스러운 달콤함, 활기참]', '[새콤달콤, 과일향, 건강함, 상쾌함, 활기참, 새콤달콤한 과일 향, 신선함, 청량감, 자연스러운 감미, 활기찬 텍스처]', '[상큼함, 부드러움, 과일향, 건강함, 달콤함, 달콤한 사과 향, 부드러운 텍스처, 상쾌함, 자연스러운 감미, 신선한 끝맛]', '[달콤함, 부드러움, 자연스러움, 건강함, 포근함, 자연스러운 달콤함, 부드러운 질감, 신선한 과즙, 만족스러운 감촉]', '[상큼함, 과일향, 건강함, 자연스러움, 활기참, 달콤한 과일향, 자연스러운 상큼함, 신선함, 부드러운 끝맛]', '[새콤달콤, 과일향, 건강함, 부드러움, 활기참, 새콤달콤한 과일 향, 부드러운 요거트, 건강감, 신선한 텍스처, 자연스러운 맛]', '[이국적, 달콤함, 과일향, 시원함, 상쾌함, 열대과일의 상큼함, 부드러움, 자연스러운 달콤함, 활기참, 신선한 질감]'], 'menuIngred': [\"[ '애플망고', '물', '설탕', '얼음']\", \"[ '베리 믹스', '물', '꿀', '얼음']\", \"[ '망고', '설탕 (옵션)', '물', '얼음 (옵션)']\", \"[ '망고', '우유', '얼음', '설탕']\", \"[ '블루베리, 설탕, 물, 레몬즙, 얼음']\", \"[ '사과', '요거트', '우유', '얼음', '꿀']\", \"[ '바나나', '우유', '꿀', '얼음']\", \"[ '사과', '설탕 (옵션)', '물', '얼음']\", \"[ '플레인 요거트, 딸기, 블루베리, 꿀, 그래놀라, 민트 잎']\", \"[ '망고', '우유', '바닐라 아이스크림', '설탕', '얼음']\"]}\n",
      "오렌지 주스\n",
      "{'status': 'success', 'similarMenus': ['애플망고 주스', '베리 주스', '망고 주스', '망고 블렌디드', '블루베리 주스', '애플 스무디', '바나나 주스', '애플 주스', '베리 요거', '망고 스무디'], 'menu': '오렌지 주스', 'menuInfo': ['[이국적, 달콤함, 과일향, 풍부함, 상쾌함, 달콤한 과즙, 열대 과일의 신선함, 부드러운 질감, 자연스러운 여운]', '[새콤달콤, 과일향, 상쾌함, 활기참, 건강함, 과일의 풍부함, 자연스러운 맛, 발랄함]', '[이국적, 달콤함, 과일향, 풍부함, 상쾌함, 열대 과일의 달콤함, 부드러운 질감, 신선함, 자연스러운 여운]', '[달콤함, 과일향, 크리미함, 이국적, 상쾌함, 열대 과일의 풍부함, 부드러운 텍스처, 자연스러운 달콤함, 활기참]', '[새콤달콤, 과일향, 건강함, 상쾌함, 활기참, 새콤달콤한 과일 향, 신선함, 청량감, 자연스러운 감미, 활기찬 텍스처]', '[상큼함, 부드러움, 과일향, 건강함, 달콤함, 달콤한 사과 향, 부드러운 텍스처, 상쾌함, 자연스러운 감미, 신선한 끝맛]', '[달콤함, 부드러움, 자연스러움, 건강함, 포근함, 자연스러운 달콤함, 부드러운 질감, 신선한 과즙, 만족스러운 감촉]', '[상큼함, 과일향, 건강함, 자연스러움, 활기참, 달콤한 과일향, 자연스러운 상큼함, 신선함, 부드러운 끝맛]', '[새콤달콤, 과일향, 건강함, 부드러움, 활기참, 새콤달콤한 과일 향, 부드러운 요거트, 건강감, 신선한 텍스처, 자연스러운 맛]', '[이국적, 달콤함, 과일향, 시원함, 상쾌함, 열대과일의 상큼함, 부드러움, 자연스러운 달콤함, 활기참, 신선한 질감]'], 'menuIngred': [\"[ '애플망고', '물', '설탕', '얼음']\", \"[ '베리 믹스', '물', '꿀', '얼음']\", \"[ '망고', '설탕 (옵션)', '물', '얼음 (옵션)']\", \"[ '망고', '우유', '얼음', '설탕']\", \"[ '블루베리, 설탕, 물, 레몬즙, 얼음']\", \"[ '사과', '요거트', '우유', '얼음', '꿀']\", \"[ '바나나', '우유', '꿀', '얼음']\", \"[ '사과', '설탕 (옵션)', '물', '얼음']\", \"[ '플레인 요거트, 딸기, 블루베리, 꿀, 그래놀라, 민트 잎']\", \"[ '망고', '우유', '바닐라 아이스크림', '설탕', '얼음']\"]}\n"
     ]
    },
    {
     "name": "stderr",
     "output_type": "stream",
     "text": [
      "127.0.0.1 - - [08/Jan/2025 09:01:21] \"POST /analyze-menu HTTP/1.1\" 200 -\n",
      "127.0.0.1 - - [08/Jan/2025 09:01:21] \"POST /analyze-menu HTTP/1.1\" 200 -\n"
     ]
    },
    {
     "name": "stdout",
     "output_type": "stream",
     "text": [
      "망고 스무디\n",
      "{'status': 'success', 'similarMenus': ['망고 주스', '트로피칼 스무디', '깔라만시 스무디', '망고 플랫치노', '딸기 주스', '망고 쉐이크', '망고 아이스티', '감귤 주스', '망고 프라페', '애플망고 아이스티'], 'menu': '망고 스무디', 'menuInfo': ['[이국적, 달콤함, 과일향, 풍부함, 상쾌함, 열대 과일의 달콤함, 부드러운 질감, 신선함, 자연스러운 여운]', '[이국적, 상큼함, 과일향, 시원함, 활기참, 이국적인 과일 향, 부드러운 텍스처, 상쾌한 감미, 자연스러운 산미, 활기찬 풍미]', '[새콤함, 상큼함, 청량감, 건강함, 독특함, 상큼한 열대 과일 향, 자연스러운 산미, 새콤달콤한 조화, 활기찬 풍미]', '[이국적, 달콤함, 과일향, 청량감, 크리미함, 열대 과일의 달콤함, 상쾌함, 크리미한 질감, 신선한 맛, 활기찬 조화]', '[달콤함, 상큼함, 과일향, 여름, 사랑스러움, 새콤달콤, 과일의 신선함, 활기참, 자연스러운 단맛]', '[달콤함, 크리미함, 과일향, 이국적, 상쾌함, 열대 과일의 달콤함, 부드러운 텍스처, 상쾌한 여운, 크리미한 질감, 신선한 만족감]', '[달콤함, 청량감, 과일향, 상쾌함, 여름, 열대 과일향, 상큼한 균형, 시원한 여운]', '[상큼함, 달콤함, 과일향, 제주감성, 청량감, 상큼한 감귤향, 자연스러운 단맛, 활기찬 맛, 신선한 여운]', '[달콤함, 과일향, 이국적, 크리미함, 활기참, 열대 과일의 달콤함, 부드러운 텍스처, 상쾌한 풍미, 크리미한 만족감, 신선한 조화]', '[이국적, 달콤함, 과일향, 청량감, 활기참, 열대 과일의 신선함, 상쾌한 산미, 부드러운 과일향, 자연스러운 끝맛]'], 'menuIngred': [\"[ '망고', '설탕 (옵션)', '물', '얼음 (옵션)']\", \"[ '망고', '파인애플', '바나나', '코코넛 밀크', '오렌지 주스', '얼음', '꿀']\", \"[ '깔라만시', '얼음', '설탕', '요거트', '레몬즙', '물']\", \"[ '망고 시럽', '우유', '얼음', '휘핑크림']\", \"[ '딸기', '설탕', '물', '레몬즙']\", \"[ '망고, 우유, 설탕, 얼음, 바닐라 아이스크림']\", \"[ '망고', '홍차', '설탕', '레몬', '얼음']\", \"[ '감귤', '물', '설탕', '얼음']\", \"[ '망고', '우유', '얼음', '휘핑크림', '망고 시럽']\", \"[ '홍차, 애플망고 퓌레, 설탕, 레몬즙, 얼음, 애플망고 슬라이스']\"]}\n",
      "망고 스무디\n",
      "{'status': 'success', 'similarMenus': ['망고 주스', '트로피칼 스무디', '깔라만시 스무디', '망고 플랫치노', '딸기 주스', '망고 쉐이크', '망고 아이스티', '감귤 주스', '망고 프라페', '애플망고 아이스티'], 'menu': '망고 스무디', 'menuInfo': ['[이국적, 달콤함, 과일향, 풍부함, 상쾌함, 열대 과일의 달콤함, 부드러운 질감, 신선함, 자연스러운 여운]', '[이국적, 상큼함, 과일향, 시원함, 활기참, 이국적인 과일 향, 부드러운 텍스처, 상쾌한 감미, 자연스러운 산미, 활기찬 풍미]', '[새콤함, 상큼함, 청량감, 건강함, 독특함, 상큼한 열대 과일 향, 자연스러운 산미, 새콤달콤한 조화, 활기찬 풍미]', '[이국적, 달콤함, 과일향, 청량감, 크리미함, 열대 과일의 달콤함, 상쾌함, 크리미한 질감, 신선한 맛, 활기찬 조화]', '[달콤함, 상큼함, 과일향, 여름, 사랑스러움, 새콤달콤, 과일의 신선함, 활기참, 자연스러운 단맛]', '[달콤함, 크리미함, 과일향, 이국적, 상쾌함, 열대 과일의 달콤함, 부드러운 텍스처, 상쾌한 여운, 크리미한 질감, 신선한 만족감]', '[달콤함, 청량감, 과일향, 상쾌함, 여름, 열대 과일향, 상큼한 균형, 시원한 여운]', '[상큼함, 달콤함, 과일향, 제주감성, 청량감, 상큼한 감귤향, 자연스러운 단맛, 활기찬 맛, 신선한 여운]', '[달콤함, 과일향, 이국적, 크리미함, 활기참, 열대 과일의 달콤함, 부드러운 텍스처, 상쾌한 풍미, 크리미한 만족감, 신선한 조화]', '[이국적, 달콤함, 과일향, 청량감, 활기참, 열대 과일의 신선함, 상쾌한 산미, 부드러운 과일향, 자연스러운 끝맛]'], 'menuIngred': [\"[ '망고', '설탕 (옵션)', '물', '얼음 (옵션)']\", \"[ '망고', '파인애플', '바나나', '코코넛 밀크', '오렌지 주스', '얼음', '꿀']\", \"[ '깔라만시', '얼음', '설탕', '요거트', '레몬즙', '물']\", \"[ '망고 시럽', '우유', '얼음', '휘핑크림']\", \"[ '딸기', '설탕', '물', '레몬즙']\", \"[ '망고, 우유, 설탕, 얼음, 바닐라 아이스크림']\", \"[ '망고', '홍차', '설탕', '레몬', '얼음']\", \"[ '감귤', '물', '설탕', '얼음']\", \"[ '망고', '우유', '얼음', '휘핑크림', '망고 시럽']\", \"[ '홍차, 애플망고 퓌레, 설탕, 레몬즙, 얼음, 애플망고 슬라이스']\"]}\n"
     ]
    },
    {
     "name": "stderr",
     "output_type": "stream",
     "text": [
      "127.0.0.1 - - [08/Jan/2025 09:02:13] \"POST /analyze-menu HTTP/1.1\" 200 -\n",
      "127.0.0.1 - - [08/Jan/2025 09:02:13] \"POST /analyze-menu HTTP/1.1\" 200 -\n"
     ]
    },
    {
     "name": "stdout",
     "output_type": "stream",
     "text": [
      "딸기 스무디\n",
      "{'status': 'success', 'similarMenus': ['딸기 프라페', '딸기 주스', '딸기 크림 프라푸치노', '딸기 요거', '복숭아 밀크티', '딸기 아이스티', '베리 우유', '복숭아 스무디', '망고 블렌디드', '딸기 버블티'], 'menu': '딸기 스무디', 'menuInfo': ['[달콤함, 사랑스러움, 크리미함, 과일향, 봄, 달콤한 과일향, 부드러운 텍스처, 새콤달콤, 경쾌한 마무리]', '[달콤함, 상큼함, 과일향, 여름, 사랑스러움, 새콤달콤, 과일의 신선함, 활기참, 자연스러운 단맛]', '[달콤함, 부드러움, 크리미함, 과일향, 사랑스러움, 사랑스러운 과일 향, 부드러운 크림, 새콤달콤한 조화, 경쾌한 텍스처, 달콤한 만족감]', '[달콤함, 상큼함, 과일향, 건강함, 부드러움, 사랑스러운 과일향, 새콤달콤, 부드러운 질감, 건강한 단맛, 활기참]', '[달콤함, 과일향, 부드러움, 크리미함, 사랑스러움, 달콤한 과일향, 부드러운 크리미함, 사랑스러운 조화, 따뜻함, 은은한 끝맛]', '[달콤함, 상큼함, 과일향, 청량감, 사랑스러움, 새콤달콤한 과일 향, 부드러운 끝맛, 상쾌함, 여름의 생기]', '[새콤달콤, 과일향, 부드러움, 건강함, 사랑스러움, 새콤달콤한 과일 향, 부드러운 크림, 자연스러운 감미, 발랄한 텍스처, 사랑스러운 맛]', '[달콤함, 과일향, 부드러움, 상쾌함, 새콤달콤, 달콤한 과일 향, 부드러운 크리미함, 사랑스러운 질감, 자연스러운 달콤함]', '[달콤함, 과일향, 크리미함, 이국적, 상쾌함, 열대 과일의 풍부함, 부드러운 텍스처, 자연스러운 달콤함, 활기참]', '[달콤함, 과일향, 쫄깃함, 부드러움, 사랑스러움, 새콤달콤한 과일 향, 쫄깃한 펄, 사랑스러운 맛, 부드러운 조화, 경쾌한 텍스처]'], 'menuIngred': [\"[ '딸기', '우유', '바닐라 아이스크림', '설탕', '얼음', '휘핑크림 (옵션)']\", \"[ '딸기', '설탕', '물', '레몬즙']\", \"[ '딸기', '우유', '휘핑 크림', '설탕', '얼음', '바닐라 시럽']\", \"[ '딸기', '플레인 요거트', '우유', '꿀', '얼음 (옵션)', '민트 잎 (옵션)']\", \"[ '복숭아 시럽', '블랙티', '우유', '설탕', '얼음']\", \"[ '홍차, 딸기 시럽, 설탕, 레몬즙, 얼음, 생딸기']\", \"[ '베리 믹스', '우유', '설탕', '바닐라 시럽']\", \"[ '복숭아', '요거트', '얼음', '설탕', '레몬']\", \"[ '망고', '우유', '얼음', '설탕']\", \"[ '딸기 시럽', '타피오카 펄', '홍차', '얼음', '우유']\"]}\n",
      "딸기 스무디\n",
      "{'status': 'success', 'similarMenus': ['딸기 프라페', '딸기 주스', '딸기 크림 프라푸치노', '딸기 요거', '복숭아 밀크티', '딸기 아이스티', '베리 우유', '복숭아 스무디', '망고 블렌디드', '딸기 버블티'], 'menu': '딸기 스무디', 'menuInfo': ['[달콤함, 사랑스러움, 크리미함, 과일향, 봄, 달콤한 과일향, 부드러운 텍스처, 새콤달콤, 경쾌한 마무리]', '[달콤함, 상큼함, 과일향, 여름, 사랑스러움, 새콤달콤, 과일의 신선함, 활기참, 자연스러운 단맛]', '[달콤함, 부드러움, 크리미함, 과일향, 사랑스러움, 사랑스러운 과일 향, 부드러운 크림, 새콤달콤한 조화, 경쾌한 텍스처, 달콤한 만족감]', '[달콤함, 상큼함, 과일향, 건강함, 부드러움, 사랑스러운 과일향, 새콤달콤, 부드러운 질감, 건강한 단맛, 활기참]', '[달콤함, 과일향, 부드러움, 크리미함, 사랑스러움, 달콤한 과일향, 부드러운 크리미함, 사랑스러운 조화, 따뜻함, 은은한 끝맛]', '[달콤함, 상큼함, 과일향, 청량감, 사랑스러움, 새콤달콤한 과일 향, 부드러운 끝맛, 상쾌함, 여름의 생기]', '[새콤달콤, 과일향, 부드러움, 건강함, 사랑스러움, 새콤달콤한 과일 향, 부드러운 크림, 자연스러운 감미, 발랄한 텍스처, 사랑스러운 맛]', '[달콤함, 과일향, 부드러움, 상쾌함, 새콤달콤, 달콤한 과일 향, 부드러운 크리미함, 사랑스러운 질감, 자연스러운 달콤함]', '[달콤함, 과일향, 크리미함, 이국적, 상쾌함, 열대 과일의 풍부함, 부드러운 텍스처, 자연스러운 달콤함, 활기참]', '[달콤함, 과일향, 쫄깃함, 부드러움, 사랑스러움, 새콤달콤한 과일 향, 쫄깃한 펄, 사랑스러운 맛, 부드러운 조화, 경쾌한 텍스처]'], 'menuIngred': [\"[ '딸기', '우유', '바닐라 아이스크림', '설탕', '얼음', '휘핑크림 (옵션)']\", \"[ '딸기', '설탕', '물', '레몬즙']\", \"[ '딸기', '우유', '휘핑 크림', '설탕', '얼음', '바닐라 시럽']\", \"[ '딸기', '플레인 요거트', '우유', '꿀', '얼음 (옵션)', '민트 잎 (옵션)']\", \"[ '복숭아 시럽', '블랙티', '우유', '설탕', '얼음']\", \"[ '홍차, 딸기 시럽, 설탕, 레몬즙, 얼음, 생딸기']\", \"[ '베리 믹스', '우유', '설탕', '바닐라 시럽']\", \"[ '복숭아', '요거트', '얼음', '설탕', '레몬']\", \"[ '망고', '우유', '얼음', '설탕']\", \"[ '딸기 시럽', '타피오카 펄', '홍차', '얼음', '우유']\"]}\n"
     ]
    },
    {
     "name": "stderr",
     "output_type": "stream",
     "text": [
      "127.0.0.1 - - [08/Jan/2025 09:02:16] \"POST /analyze-menu HTTP/1.1\" 200 -\n",
      "127.0.0.1 - - [08/Jan/2025 09:02:16] \"POST /analyze-menu HTTP/1.1\" 200 -\n"
     ]
    },
    {
     "name": "stdout",
     "output_type": "stream",
     "text": [
      "레몬에이드\n",
      "메뉴 이름이 잘못되었습니다.\n",
      "{'status': 'success', 'similarMenus': ['유사한 메뉴가 존재하지 않습니다...'], 'menu': '레몬에이드', 'menuInfo': [], 'menuIngred': []}\n",
      "레몬에이드\n",
      "메뉴 이름이 잘못되었습니다.\n",
      "{'status': 'success', 'similarMenus': ['유사한 메뉴가 존재하지 않습니다...'], 'menu': '레몬에이드', 'menuInfo': [], 'menuIngred': []}\n"
     ]
    },
    {
     "name": "stderr",
     "output_type": "stream",
     "text": [
      "127.0.0.1 - - [08/Jan/2025 09:02:27] \"POST /analyze-menu HTTP/1.1\" 200 -\n"
     ]
    },
    {
     "name": "stdout",
     "output_type": "stream",
     "text": [
      "크루아상\n",
      "메뉴 이름이 잘못되었습니다.\n",
      "{'status': 'success', 'similarMenus': ['유사한 메뉴가 존재하지 않습니다...'], 'menu': '크루아상', 'menuInfo': [], 'menuIngred': []}\n"
     ]
    },
    {
     "name": "stderr",
     "output_type": "stream",
     "text": [
      "127.0.0.1 - - [08/Jan/2025 09:02:49] \"POST /analyze-menu HTTP/1.1\" 200 -\n"
     ]
    },
    {
     "name": "stdout",
     "output_type": "stream",
     "text": [
      "소금 빵\n",
      "메뉴 이름이 잘못되었습니다.\n",
      "{'status': 'success', 'similarMenus': ['유사한 메뉴가 존재하지 않습니다...'], 'menu': '소금 빵', 'menuInfo': [], 'menuIngred': []}\n"
     ]
    },
    {
     "name": "stderr",
     "output_type": "stream",
     "text": [
      "127.0.0.1 - - [08/Jan/2025 09:02:56] \"POST /analyze-menu HTTP/1.1\" 200 -\n"
     ]
    },
    {
     "name": "stdout",
     "output_type": "stream",
     "text": [
      "소금빵\n",
      "메뉴 이름이 잘못되었습니다.\n",
      "{'status': 'success', 'similarMenus': ['유사한 메뉴가 존재하지 않습니다...'], 'menu': '소금빵', 'menuInfo': [], 'menuIngred': []}\n"
     ]
    },
    {
     "name": "stderr",
     "output_type": "stream",
     "text": [
      "127.0.0.1 - - [08/Jan/2025 09:03:03] \"POST /analyze-menu HTTP/1.1\" 200 -\n",
      "127.0.0.1 - - [08/Jan/2025 09:03:03] \"POST /analyze-menu HTTP/1.1\" 200 -\n"
     ]
    },
    {
     "name": "stdout",
     "output_type": "stream",
     "text": [
      "초코 크루아상\n",
      "{'status': 'success', 'similarMenus': ['초코 휘낭시에', '모카 휘낭시에', '초코 까눌레', '초코 몽블랑', '초콜렛 마카롱', '가나슈 쿠키', '마카롱 크런치', '초코 머핀', '브라우니 쿠키', '초코 크레페'], 'menu': '초코 크루아상', 'menuInfo': ['[진한 초콜릿, 달콤함, 바삭한 겉면, 촉촉한 중심, 클래식 디저트, 고급스러움, 만족감, 풍미 깊음, 농후함, 부드러움]', '[진한 커피 풍미, 달콤함, 바삭한 겉면, 촉촉한 중심, 클래식 디저트, 고급스러움, 만족감, 풍미 깊음, 깔끔함, 화려함]', '[진한 초콜릿, 달콤함, 바삭한 겉면, 촉촉한 중심, 클래식 디저트, 고급스러움, 만족감, 농후함, 화려함, 사랑스러움]', '[진한 초콜릿, 달콤함, 부드러운 크림, 촉촉한 질감, 화려한 디저트, 고급스러움, 만족감, 화사함, 농후함, 사랑스러움]', '[진한 초콜릿, 달콤함, 바삭한 겉면, 부드러운 중심, 고급스러운 필링, 클래식 디저트, 만족감, 풍미 깊음, 농후함, 사랑스러움]', '[달콤함, 진한 초콜릿 풍미, 바삭한 겉면, 촉촉한 중심, 크리미한 필링, 고급 디저트, 만족감, 풍미 깊음, 농후함, 클래식함]', '[바삭함, 달콤함, 크리미한 마카롱 필링, 촉촉한 중심, 화려한 디저트, 고급스러움, 만족감, 화사함, 독특함, 사랑스러움]', '[진한 초콜릿, 달콤함, 부드러운 속, 촉촉한 식감, 클래식 디저트, 고급스러움, 만족감, 풍미 깊음, 농후함, 사랑스러움]', '[진한 초콜릿, 달콤함, 바삭함, 촉촉한 중심, 풍미 깊음, 클래식 디저트, 만족감, 고급스러움, 농후함, 담백함]', '[부드러움, 진한 초콜릿, 얇고 부드러운 크레페, 달콤함, 화려한 디저트, 고급스러움, 만족감, 사랑스러움, 화사함, 농후함]'], 'menuIngred': [\"[ '밀가루', '코코아 가루', '아몬드 가루', '설탕', '버터', '계란 흰자', '소금', '베이킹 파우더', '초콜릿 칩 (옵션)']\", \"[ '버터', '설탕', '아몬드 가루', '밀가루', '베이킹 파우더', '계란', '인스턴트 커피', '다크초콜릿', '생크림', '소금']\", \"[ '밀가루', '코코아 파우더', '설탕', '계란', '버터', '우유', '바닐라', '베이킹 파우더', '소금']\", \"[ '초콜릿', '생크림', '슈가파우더', '계란', '밀가루', '버터', '코코아 파우더', '베이킹 파우더', '바닐라 추출물', '소금', '초콜릿 칩']\", \"[ '아몬드 가루', '슈가파우더', '달걀흰자', '설탕', '코코아 파우더', '버터', '생크림', '바닐라 추출물', '초콜렛']\", \"[ '버터', '슈가파우더', '밀가루', '코코아파우더', '베이킹파우더', '계란', '초콜릿', '생크림', '소금']\", \"[ '아몬드 가루', '설탕', '계란 흰자', '버터', '바닐라 익스트랙', '생크림', '화이트 초콜릿', '크런치 초콜릿', '색소']\", \"[ '밀가루', '베이킹 파우더', '소금', '설탕', '계란', '우유', '버터', '초콜릿 칩', '코코아 가루', '바닐라 엑스트랙트']\", \"[ '다크 초콜릿, 버터, 설탕, 밀가루, 달걀, 베이킹 파우더, 코코아 파우더, 소금, 바닐라 추출물']\", \"[ '밀가루', '코코아 파우더', '설탕', '달걀', '우유', '버터', '소금', '다크초콜릿', '생크림', '슈가파우더']\"]}\n",
      "초코 크루아상\n",
      "{'status': 'success', 'similarMenus': ['초코 휘낭시에', '모카 휘낭시에', '초코 까눌레', '초코 몽블랑', '초콜렛 마카롱', '가나슈 쿠키', '마카롱 크런치', '초코 머핀', '브라우니 쿠키', '초코 크레페'], 'menu': '초코 크루아상', 'menuInfo': ['[진한 초콜릿, 달콤함, 바삭한 겉면, 촉촉한 중심, 클래식 디저트, 고급스러움, 만족감, 풍미 깊음, 농후함, 부드러움]', '[진한 커피 풍미, 달콤함, 바삭한 겉면, 촉촉한 중심, 클래식 디저트, 고급스러움, 만족감, 풍미 깊음, 깔끔함, 화려함]', '[진한 초콜릿, 달콤함, 바삭한 겉면, 촉촉한 중심, 클래식 디저트, 고급스러움, 만족감, 농후함, 화려함, 사랑스러움]', '[진한 초콜릿, 달콤함, 부드러운 크림, 촉촉한 질감, 화려한 디저트, 고급스러움, 만족감, 화사함, 농후함, 사랑스러움]', '[진한 초콜릿, 달콤함, 바삭한 겉면, 부드러운 중심, 고급스러운 필링, 클래식 디저트, 만족감, 풍미 깊음, 농후함, 사랑스러움]', '[달콤함, 진한 초콜릿 풍미, 바삭한 겉면, 촉촉한 중심, 크리미한 필링, 고급 디저트, 만족감, 풍미 깊음, 농후함, 클래식함]', '[바삭함, 달콤함, 크리미한 마카롱 필링, 촉촉한 중심, 화려한 디저트, 고급스러움, 만족감, 화사함, 독특함, 사랑스러움]', '[진한 초콜릿, 달콤함, 부드러운 속, 촉촉한 식감, 클래식 디저트, 고급스러움, 만족감, 풍미 깊음, 농후함, 사랑스러움]', '[진한 초콜릿, 달콤함, 바삭함, 촉촉한 중심, 풍미 깊음, 클래식 디저트, 만족감, 고급스러움, 농후함, 담백함]', '[부드러움, 진한 초콜릿, 얇고 부드러운 크레페, 달콤함, 화려한 디저트, 고급스러움, 만족감, 사랑스러움, 화사함, 농후함]'], 'menuIngred': [\"[ '밀가루', '코코아 가루', '아몬드 가루', '설탕', '버터', '계란 흰자', '소금', '베이킹 파우더', '초콜릿 칩 (옵션)']\", \"[ '버터', '설탕', '아몬드 가루', '밀가루', '베이킹 파우더', '계란', '인스턴트 커피', '다크초콜릿', '생크림', '소금']\", \"[ '밀가루', '코코아 파우더', '설탕', '계란', '버터', '우유', '바닐라', '베이킹 파우더', '소금']\", \"[ '초콜릿', '생크림', '슈가파우더', '계란', '밀가루', '버터', '코코아 파우더', '베이킹 파우더', '바닐라 추출물', '소금', '초콜릿 칩']\", \"[ '아몬드 가루', '슈가파우더', '달걀흰자', '설탕', '코코아 파우더', '버터', '생크림', '바닐라 추출물', '초콜렛']\", \"[ '버터', '슈가파우더', '밀가루', '코코아파우더', '베이킹파우더', '계란', '초콜릿', '생크림', '소금']\", \"[ '아몬드 가루', '설탕', '계란 흰자', '버터', '바닐라 익스트랙', '생크림', '화이트 초콜릿', '크런치 초콜릿', '색소']\", \"[ '밀가루', '베이킹 파우더', '소금', '설탕', '계란', '우유', '버터', '초콜릿 칩', '코코아 가루', '바닐라 엑스트랙트']\", \"[ '다크 초콜릿, 버터, 설탕, 밀가루, 달걀, 베이킹 파우더, 코코아 파우더, 소금, 바닐라 추출물']\", \"[ '밀가루', '코코아 파우더', '설탕', '달걀', '우유', '버터', '소금', '다크초콜릿', '생크림', '슈가파우더']\"]}\n"
     ]
    },
    {
     "name": "stderr",
     "output_type": "stream",
     "text": [
      "127.0.0.1 - - [08/Jan/2025 09:04:35] \"POST /analyze-menu HTTP/1.1\" 200 -\n",
      "127.0.0.1 - - [08/Jan/2025 09:04:35] \"POST /analyze-menu HTTP/1.1\" 200 -\n"
     ]
    },
    {
     "name": "stdout",
     "output_type": "stream",
     "text": [
      "플레인 베이글\n",
      "{'status': 'success', 'similarMenus': ['에그 마요 치아바타', '쌀 케이크', '쌀 머핀', '플레인 크로플', '크랜베리 베이글', '쑥 케이크', '쌀 카스테라', '밤 바게트', '비건 베이글', '쑥 쿠키'], 'menu': '플레인 베이글', 'menuInfo': ['[담백함, 고소함, 쫄깃한 식감, 크리미한 에그 마요, 건강한 감성, 클래식 감성, 만족감, 촉촉함, 풍미 깊음, 심플함]', '[담백함, 고소함, 부드러움, 촉촉한 질감, 건강한 디저트, 클래식함, 자연주의, 만족감, 전통적, 심플함]', '[담백함, 고소함, 부드러운 질감, 건강한 쌀 풍미, 전통적 감성, 자연주의, 만족감, 심플함, 정겨움, 깔끔함]', '[바삭함, 고소함, 담백한 맛, 부드러운 속, 클래식 감성, 심플함, 만족감, 촉촉함, 깔끔함, 고급스러움]', '[새콤달콤, 고소함, 쫄깃한 식감, 크랜베리의 풍미, 건강한 선택, 클래식 감성, 만족감, 촉촉함, 자연주의, 심플함]', '[담백함, 고소함, 부드러운 질감, 촉촉한 쑥 풍미, 전통적 감성, 자연주의, 만족감, 깔끔함, 건강한 디저트, 정겨움]', '[부드러움, 담백함, 촉촉한 질감, 고소한 쌀 풍미, 건강한 디저트, 전통적, 만족감, 자연주의, 심플함, 깔끔함]', '[고소함, 달콤함, 쫄깃한 식감, 부드러운 밤 크림, 전통적 감성, 자연주의, 만족감, 촉촉함, 정겨움, 심플함]', '[담백함, 고소함, 쫄깃한 식감, 건강한 재료, 자연주의, 비건 감성, 만족감, 촉촉함, 심플함, 독창적]', '[고소함, 담백함, 바삭한 식감, 건강한 쑥 풍미, 전통적 감성, 자연주의, 만족감, 독특함, 깔끔함, 정겨움]'], 'menuIngred': [\"[ '치아바타 빵', '계란', '마요네즈', '상추', '소금', '후추']\", \"[ '쌀가루', '설탕', '버터', '계란', '우유', '베이킹 파우더', '소금', '바닐라 익스트랙']\", \"[ '쌀가루', '베이킹파우더', '소금', '설탕', '버터', '계란', '우유', '바닐라 익스트랙']\", \"[ '크로와상 반죽, 설탕, 버터, 메이플 시럽, 슈가파우더']\", \"[ '밀가루', '이스트', '설탕', '소금', '물', '버터', '크랜베리', '계란', '우유']\", \"[ '쑥가루', '밀가루', '설탕', '버터', '계란', '우유', '베이킹파우더', '소금', '바닐라 익스트랙', '크림치즈']\", \"[ '쌀가루, 설탕, 계란, 우유, 베이킹파우더, 소금, 바닐라 추출물']\", \"[ '바게트', '밤', '버터', '올리브유', '소금', '설탕', '마늘', '로즈마리']\", \"[ '비건 베이글', '비건 크림치즈', '시금치', '토마토', '아보카도', '올리브유']\", \"[ '밀가루', '쑥가루', '버터', '설탕', '소금', '계란', '베이킹 파우더', '바닐라 엑스트랙', '우유']\"]}\n",
      "플레인 베이글\n",
      "{'status': 'success', 'similarMenus': ['에그 마요 치아바타', '쌀 케이크', '쌀 머핀', '플레인 크로플', '크랜베리 베이글', '쑥 케이크', '쌀 카스테라', '밤 바게트', '비건 베이글', '쑥 쿠키'], 'menu': '플레인 베이글', 'menuInfo': ['[담백함, 고소함, 쫄깃한 식감, 크리미한 에그 마요, 건강한 감성, 클래식 감성, 만족감, 촉촉함, 풍미 깊음, 심플함]', '[담백함, 고소함, 부드러움, 촉촉한 질감, 건강한 디저트, 클래식함, 자연주의, 만족감, 전통적, 심플함]', '[담백함, 고소함, 부드러운 질감, 건강한 쌀 풍미, 전통적 감성, 자연주의, 만족감, 심플함, 정겨움, 깔끔함]', '[바삭함, 고소함, 담백한 맛, 부드러운 속, 클래식 감성, 심플함, 만족감, 촉촉함, 깔끔함, 고급스러움]', '[새콤달콤, 고소함, 쫄깃한 식감, 크랜베리의 풍미, 건강한 선택, 클래식 감성, 만족감, 촉촉함, 자연주의, 심플함]', '[담백함, 고소함, 부드러운 질감, 촉촉한 쑥 풍미, 전통적 감성, 자연주의, 만족감, 깔끔함, 건강한 디저트, 정겨움]', '[부드러움, 담백함, 촉촉한 질감, 고소한 쌀 풍미, 건강한 디저트, 전통적, 만족감, 자연주의, 심플함, 깔끔함]', '[고소함, 달콤함, 쫄깃한 식감, 부드러운 밤 크림, 전통적 감성, 자연주의, 만족감, 촉촉함, 정겨움, 심플함]', '[담백함, 고소함, 쫄깃한 식감, 건강한 재료, 자연주의, 비건 감성, 만족감, 촉촉함, 심플함, 독창적]', '[고소함, 담백함, 바삭한 식감, 건강한 쑥 풍미, 전통적 감성, 자연주의, 만족감, 독특함, 깔끔함, 정겨움]'], 'menuIngred': [\"[ '치아바타 빵', '계란', '마요네즈', '상추', '소금', '후추']\", \"[ '쌀가루', '설탕', '버터', '계란', '우유', '베이킹 파우더', '소금', '바닐라 익스트랙']\", \"[ '쌀가루', '베이킹파우더', '소금', '설탕', '버터', '계란', '우유', '바닐라 익스트랙']\", \"[ '크로와상 반죽, 설탕, 버터, 메이플 시럽, 슈가파우더']\", \"[ '밀가루', '이스트', '설탕', '소금', '물', '버터', '크랜베리', '계란', '우유']\", \"[ '쑥가루', '밀가루', '설탕', '버터', '계란', '우유', '베이킹파우더', '소금', '바닐라 익스트랙', '크림치즈']\", \"[ '쌀가루, 설탕, 계란, 우유, 베이킹파우더, 소금, 바닐라 추출물']\", \"[ '바게트', '밤', '버터', '올리브유', '소금', '설탕', '마늘', '로즈마리']\", \"[ '비건 베이글', '비건 크림치즈', '시금치', '토마토', '아보카도', '올리브유']\", \"[ '밀가루', '쑥가루', '버터', '설탕', '소금', '계란', '베이킹 파우더', '바닐라 엑스트랙', '우유']\"]}\n"
     ]
    },
    {
     "name": "stderr",
     "output_type": "stream",
     "text": [
      "127.0.0.1 - - [08/Jan/2025 09:05:57] \"POST /analyze-menu HTTP/1.1\" 200 -\n"
     ]
    },
    {
     "name": "stdout",
     "output_type": "stream",
     "text": [
      "초코칩 쿠키\n",
      "메뉴 이름이 잘못되었습니다.\n",
      "{'status': 'success', 'similarMenus': ['유사한 메뉴가 존재하지 않습니다...'], 'menu': '초코칩 쿠키', 'menuInfo': [], 'menuIngred': []}\n"
     ]
    },
    {
     "name": "stderr",
     "output_type": "stream",
     "text": [
      "127.0.0.1 - - [08/Jan/2025 09:06:00] \"POST /analyze-menu HTTP/1.1\" 200 -\n"
     ]
    },
    {
     "name": "stdout",
     "output_type": "stream",
     "text": [
      "초코칩 쿠키\n",
      "메뉴 이름이 잘못되었습니다.\n",
      "{'status': 'success', 'similarMenus': ['유사한 메뉴가 존재하지 않습니다...'], 'menu': '초코칩 쿠키', 'menuInfo': [], 'menuIngred': []}\n"
     ]
    },
    {
     "name": "stderr",
     "output_type": "stream",
     "text": [
      "127.0.0.1 - - [08/Jan/2025 09:06:04] \"POST /analyze-menu HTTP/1.1\" 200 -\n"
     ]
    },
    {
     "name": "stdout",
     "output_type": "stream",
     "text": [
      "마카롱\n",
      "메뉴 이름이 잘못되었습니다.\n",
      "{'status': 'success', 'similarMenus': ['유사한 메뉴가 존재하지 않습니다...'], 'menu': '마카롱', 'menuInfo': [], 'menuIngred': []}\n"
     ]
    },
    {
     "name": "stderr",
     "output_type": "stream",
     "text": [
      "127.0.0.1 - - [08/Jan/2025 09:06:04] \"POST /analyze-menu HTTP/1.1\" 200 -\n"
     ]
    },
    {
     "name": "stdout",
     "output_type": "stream",
     "text": [
      "마카롱\n",
      "메뉴 이름이 잘못되었습니다.\n",
      "{'status': 'success', 'similarMenus': ['유사한 메뉴가 존재하지 않습니다...'], 'menu': '마카롱', 'menuInfo': [], 'menuIngred': []}\n"
     ]
    },
    {
     "name": "stderr",
     "output_type": "stream",
     "text": [
      "127.0.0.1 - - [08/Jan/2025 09:06:06] \"POST /analyze-menu HTTP/1.1\" 200 -\n"
     ]
    },
    {
     "name": "stdout",
     "output_type": "stream",
     "text": [
      "애플파이\n",
      "메뉴 이름이 잘못되었습니다.\n",
      "{'status': 'success', 'similarMenus': ['유사한 메뉴가 존재하지 않습니다...'], 'menu': '애플파이', 'menuInfo': [], 'menuIngred': []}\n"
     ]
    },
    {
     "name": "stderr",
     "output_type": "stream",
     "text": [
      "127.0.0.1 - - [08/Jan/2025 09:06:06] \"POST /analyze-menu HTTP/1.1\" 200 -\n"
     ]
    },
    {
     "name": "stdout",
     "output_type": "stream",
     "text": [
      "애플파이\n",
      "메뉴 이름이 잘못되었습니다.\n",
      "{'status': 'success', 'similarMenus': ['유사한 메뉴가 존재하지 않습니다...'], 'menu': '애플파이', 'menuInfo': [], 'menuIngred': []}\n"
     ]
    },
    {
     "name": "stderr",
     "output_type": "stream",
     "text": [
      "127.0.0.1 - - [08/Jan/2025 09:07:15] \"POST /analyze-menu HTTP/1.1\" 200 -\n"
     ]
    },
    {
     "name": "stdout",
     "output_type": "stream",
     "text": [
      "플레인 베이글\n",
      "{'status': 'success', 'similarMenus': ['에그 마요 치아바타', '쌀 케이크', '쌀 머핀', '플레인 크로플', '크랜베리 베이글', '쑥 케이크', '쌀 카스테라', '밤 바게트', '비건 베이글', '쑥 쿠키'], 'menu': '플레인 베이글', 'menuInfo': ['[담백함, 고소함, 쫄깃한 식감, 크리미한 에그 마요, 건강한 감성, 클래식 감성, 만족감, 촉촉함, 풍미 깊음, 심플함]', '[담백함, 고소함, 부드러움, 촉촉한 질감, 건강한 디저트, 클래식함, 자연주의, 만족감, 전통적, 심플함]', '[담백함, 고소함, 부드러운 질감, 건강한 쌀 풍미, 전통적 감성, 자연주의, 만족감, 심플함, 정겨움, 깔끔함]', '[바삭함, 고소함, 담백한 맛, 부드러운 속, 클래식 감성, 심플함, 만족감, 촉촉함, 깔끔함, 고급스러움]', '[새콤달콤, 고소함, 쫄깃한 식감, 크랜베리의 풍미, 건강한 선택, 클래식 감성, 만족감, 촉촉함, 자연주의, 심플함]', '[담백함, 고소함, 부드러운 질감, 촉촉한 쑥 풍미, 전통적 감성, 자연주의, 만족감, 깔끔함, 건강한 디저트, 정겨움]', '[부드러움, 담백함, 촉촉한 질감, 고소한 쌀 풍미, 건강한 디저트, 전통적, 만족감, 자연주의, 심플함, 깔끔함]', '[고소함, 달콤함, 쫄깃한 식감, 부드러운 밤 크림, 전통적 감성, 자연주의, 만족감, 촉촉함, 정겨움, 심플함]', '[담백함, 고소함, 쫄깃한 식감, 건강한 재료, 자연주의, 비건 감성, 만족감, 촉촉함, 심플함, 독창적]', '[고소함, 담백함, 바삭한 식감, 건강한 쑥 풍미, 전통적 감성, 자연주의, 만족감, 독특함, 깔끔함, 정겨움]'], 'menuIngred': [\"[ '치아바타 빵', '계란', '마요네즈', '상추', '소금', '후추']\", \"[ '쌀가루', '설탕', '버터', '계란', '우유', '베이킹 파우더', '소금', '바닐라 익스트랙']\", \"[ '쌀가루', '베이킹파우더', '소금', '설탕', '버터', '계란', '우유', '바닐라 익스트랙']\", \"[ '크로와상 반죽, 설탕, 버터, 메이플 시럽, 슈가파우더']\", \"[ '밀가루', '이스트', '설탕', '소금', '물', '버터', '크랜베리', '계란', '우유']\", \"[ '쑥가루', '밀가루', '설탕', '버터', '계란', '우유', '베이킹파우더', '소금', '바닐라 익스트랙', '크림치즈']\", \"[ '쌀가루, 설탕, 계란, 우유, 베이킹파우더, 소금, 바닐라 추출물']\", \"[ '바게트', '밤', '버터', '올리브유', '소금', '설탕', '마늘', '로즈마리']\", \"[ '비건 베이글', '비건 크림치즈', '시금치', '토마토', '아보카도', '올리브유']\", \"[ '밀가루', '쑥가루', '버터', '설탕', '소금', '계란', '베이킹 파우더', '바닐라 엑스트랙', '우유']\"]}\n"
     ]
    },
    {
     "name": "stderr",
     "output_type": "stream",
     "text": [
      "127.0.0.1 - - [08/Jan/2025 09:07:19] \"POST /analyze-menu HTTP/1.1\" 200 -\n"
     ]
    },
    {
     "name": "stdout",
     "output_type": "stream",
     "text": [
      "햄 샌드위치\n",
      "메뉴 이름이 잘못되었습니다.\n",
      "{'status': 'success', 'similarMenus': ['유사한 메뉴가 존재하지 않습니다...'], 'menu': '햄 샌드위치', 'menuInfo': [], 'menuIngred': []}\n"
     ]
    },
    {
     "name": "stderr",
     "output_type": "stream",
     "text": [
      "127.0.0.1 - - [08/Jan/2025 09:07:20] \"POST /analyze-menu HTTP/1.1\" 200 -\n"
     ]
    },
    {
     "name": "stdout",
     "output_type": "stream",
     "text": [
      "햄 샌드위치\n",
      "메뉴 이름이 잘못되었습니다.\n",
      "{'status': 'success', 'similarMenus': ['유사한 메뉴가 존재하지 않습니다...'], 'menu': '햄 샌드위치', 'menuInfo': [], 'menuIngred': []}\n"
     ]
    },
    {
     "name": "stderr",
     "output_type": "stream",
     "text": [
      "127.0.0.1 - - [08/Jan/2025 09:07:22] \"POST /analyze-menu HTTP/1.1\" 200 -\n"
     ]
    },
    {
     "name": "stdout",
     "output_type": "stream",
     "text": [
      "치킨 샌드위치\n",
      "{'status': 'success', 'similarMenus': ['닭가슴살 샌드위치', '샐러드 샌드위치', '햄 치즈 치아바타', '함박 샌드위치', '통밀 샌드위치', '리코타 치즈 샌드위치', '반미 샌드위치', '미트볼 샌드위치', '콘치즈 파이', '머쉬룸 샌드위치'], 'menu': '치킨 샌드위치', 'menuInfo': ['[고소함, 담백함, 신선한 채소, 쫄깃한 빵, 건강한 선택, 든든한 한 끼, 자연주의, 만족감, 깔끔함, 클래식 감성]', '[신선함, 담백함, 고소한 맛, 바삭한 채소, 촉촉한 빵, 건강한 선택, 자연주의, 만족감, 클래식 감성, 깔끔함]', '[고소함, 짭짤함, 부드러운 치즈, 쫄깃한 치아바타, 든든한 한 끼, 클래식 감성, 만족감, 건강한 선택, 촉촉함, 풍미 깊음]', '[고소함, 풍부한 맛, 촉촉한 패티, 부드러운 빵, 든든한 한 끼, 클래식 감성, 만족감, 건강한 선택, 풍미 깊음, 따뜻함]', '[담백함, 고소함, 쫄깃한 식감, 건강한 통밀 빵, 신선한 채소 조합, 자연주의, 만족감, 깔끔함, 심플함, 건강한 감성]', '[담백함, 고소함, 부드러운 리코타 치즈, 신선한 채소, 쫄깃한 빵, 건강한 조화, 자연주의, 만족감, 깔끔함, 클래식 감성]', '[짭짤함, 고소함, 신선한 채소, 쫄깃한 바게트, 건강한 선택, 이국적 감성, 만족감, 풍미 깊음, 자연주의, 독특함]', '[고소함, 짭짤함, 풍부한 풍미, 부드러운 미트볼, 쫄깃한 빵, 든든한 식사, 클래식 감성, 만족감, 따뜻함, 건강한 선택]', '[고소함, 짭짤함, 바삭한 크러스트, 크리미한 콘치즈 속, 든든한 간식, 클래식 감성, 만족감, 풍미 깊음, 촉촉함, 정겨움]', '[고소함, 풍미 깊음, 신선한 버섯, 쫄깃한 빵, 건강한 감성, 든든한 식사, 클래식 감성, 만족감, 자연주의, 독특함]'], 'menuIngred': [\"[ '닭가슴살', '치아바타 빵', '상추', '토마토', '치즈', '마요네즈', '머스터드', '소금', '후추']\", \"[ '식빵, 양상추, 토마토, 오이, 삶은 계란, 마요네즈, 소금, 후추']\", \"[ '치아바타 빵, 슬라이스 햄, 슬라이스 치즈, 버터, 양상추, 토마토']\", \"[ '햄버거 빵', '소고기 패티', '양파', '상추', '토마토', '피클', '치즈', '마요네즈', '머스터드', '버터']\", \"[ '통밀 빵', '햄', '치즈', '상추', '토마토', '오이', '머스타드', '마요네즈']\", \"[ '리코타 치즈', '식빵', '상추', '토마토', '올리브유', '소금', '후추']\", \"[ '반미 빵', '돼지고기', '오이', '당근', '고수', '마요네즈', '칠리소스', '간장', '소금', '후추']\", \"[ '미트볼', '식빵', '토마토', '양상추', '모짜렐라 치즈', '마리나라 소스', '소금', '후추']\", \"[ '파이 반죽', '옥수수', '체다 치즈', '크림치즈', '버터', '소금', '후추']\", \"[ '식빵', '버섯', '양파', '마늘', '상추', '체다 치즈', '마요네즈', '올리브 오일', '소금', '후추']\"]}\n",
      "치킨 샌드위치\n"
     ]
    },
    {
     "name": "stderr",
     "output_type": "stream",
     "text": [
      "127.0.0.1 - - [08/Jan/2025 09:07:22] \"POST /analyze-menu HTTP/1.1\" 200 -\n"
     ]
    },
    {
     "name": "stdout",
     "output_type": "stream",
     "text": [
      "{'status': 'success', 'similarMenus': ['닭가슴살 샌드위치', '샐러드 샌드위치', '햄 치즈 치아바타', '함박 샌드위치', '통밀 샌드위치', '리코타 치즈 샌드위치', '반미 샌드위치', '미트볼 샌드위치', '콘치즈 파이', '머쉬룸 샌드위치'], 'menu': '치킨 샌드위치', 'menuInfo': ['[고소함, 담백함, 신선한 채소, 쫄깃한 빵, 건강한 선택, 든든한 한 끼, 자연주의, 만족감, 깔끔함, 클래식 감성]', '[신선함, 담백함, 고소한 맛, 바삭한 채소, 촉촉한 빵, 건강한 선택, 자연주의, 만족감, 클래식 감성, 깔끔함]', '[고소함, 짭짤함, 부드러운 치즈, 쫄깃한 치아바타, 든든한 한 끼, 클래식 감성, 만족감, 건강한 선택, 촉촉함, 풍미 깊음]', '[고소함, 풍부한 맛, 촉촉한 패티, 부드러운 빵, 든든한 한 끼, 클래식 감성, 만족감, 건강한 선택, 풍미 깊음, 따뜻함]', '[담백함, 고소함, 쫄깃한 식감, 건강한 통밀 빵, 신선한 채소 조합, 자연주의, 만족감, 깔끔함, 심플함, 건강한 감성]', '[담백함, 고소함, 부드러운 리코타 치즈, 신선한 채소, 쫄깃한 빵, 건강한 조화, 자연주의, 만족감, 깔끔함, 클래식 감성]', '[짭짤함, 고소함, 신선한 채소, 쫄깃한 바게트, 건강한 선택, 이국적 감성, 만족감, 풍미 깊음, 자연주의, 독특함]', '[고소함, 짭짤함, 풍부한 풍미, 부드러운 미트볼, 쫄깃한 빵, 든든한 식사, 클래식 감성, 만족감, 따뜻함, 건강한 선택]', '[고소함, 짭짤함, 바삭한 크러스트, 크리미한 콘치즈 속, 든든한 간식, 클래식 감성, 만족감, 풍미 깊음, 촉촉함, 정겨움]', '[고소함, 풍미 깊음, 신선한 버섯, 쫄깃한 빵, 건강한 감성, 든든한 식사, 클래식 감성, 만족감, 자연주의, 독특함]'], 'menuIngred': [\"[ '닭가슴살', '치아바타 빵', '상추', '토마토', '치즈', '마요네즈', '머스터드', '소금', '후추']\", \"[ '식빵, 양상추, 토마토, 오이, 삶은 계란, 마요네즈, 소금, 후추']\", \"[ '치아바타 빵, 슬라이스 햄, 슬라이스 치즈, 버터, 양상추, 토마토']\", \"[ '햄버거 빵', '소고기 패티', '양파', '상추', '토마토', '피클', '치즈', '마요네즈', '머스터드', '버터']\", \"[ '통밀 빵', '햄', '치즈', '상추', '토마토', '오이', '머스타드', '마요네즈']\", \"[ '리코타 치즈', '식빵', '상추', '토마토', '올리브유', '소금', '후추']\", \"[ '반미 빵', '돼지고기', '오이', '당근', '고수', '마요네즈', '칠리소스', '간장', '소금', '후추']\", \"[ '미트볼', '식빵', '토마토', '양상추', '모짜렐라 치즈', '마리나라 소스', '소금', '후추']\", \"[ '파이 반죽', '옥수수', '체다 치즈', '크림치즈', '버터', '소금', '후추']\", \"[ '식빵', '버섯', '양파', '마늘', '상추', '체다 치즈', '마요네즈', '올리브 오일', '소금', '후추']\"]}\n"
     ]
    },
    {
     "name": "stderr",
     "output_type": "stream",
     "text": [
      "127.0.0.1 - - [08/Jan/2025 09:08:32] \"POST /analyze-menu HTTP/1.1\" 200 -\n"
     ]
    },
    {
     "name": "stdout",
     "output_type": "stream",
     "text": [
      "닭가슴살 샌드위치\n",
      "{'status': 'success', 'similarMenus': ['햄 치즈 치아바타', '치킨 샌드위치', '샐러드 샌드위치', '반미 샌드위치', '미트볼 샌드위치', '치즈 치아바타', '햄치즈 바게트', '함박 샌드위치', '갈릭 베이글', '치즈 샌드위치'], 'menu': '닭가슴살 샌드위치', 'menuInfo': ['[고소함, 짭짤함, 부드러운 치즈, 쫄깃한 치아바타, 든든한 한 끼, 클래식 감성, 만족감, 건강한 선택, 촉촉함, 풍미 깊음]', '[고소함, 짭짤함, 풍부함, 신선한 채소, 부드러운 치킨, 든든한 식사, 클래식 감성, 건강한 선택, 만족감, 자연주의]', '[신선함, 담백함, 고소한 맛, 바삭한 채소, 촉촉한 빵, 건강한 선택, 자연주의, 만족감, 클래식 감성, 깔끔함]', '[짭짤함, 고소함, 신선한 채소, 쫄깃한 바게트, 건강한 선택, 이국적 감성, 만족감, 풍미 깊음, 자연주의, 독특함]', '[고소함, 짭짤함, 풍부한 풍미, 부드러운 미트볼, 쫄깃한 빵, 든든한 식사, 클래식 감성, 만족감, 따뜻함, 건강한 선택]', '[고소함, 짭짤함, 풍부한 치즈 풍미, 쫄깃한 치아바타, 건강한 조화, 든든한 한 끼, 클래식 감성, 만족감, 촉촉함, 자연주의]', '[고소함, 짭짤함, 부드러운 치즈, 쫄깃한 바게트, 든든한 한 끼, 클래식 감성, 만족감, 건강한 조화, 촉촉함, 풍미 깊음]', '[고소함, 풍부한 맛, 촉촉한 패티, 부드러운 빵, 든든한 한 끼, 클래식 감성, 만족감, 건강한 선택, 풍미 깊음, 따뜻함]', '[고소함, 짭짤함, 쫄깃한 식감, 풍부한 마늘 풍미, 건강한 선택, 든든함, 자연주의, 만족감, 촉촉함, 클래식 감성]', '[고소함, 짭짤함, 부드러운 치즈, 쫄깃한 빵, 심플한 조합, 든든한 감성, 만족감, 촉촉함, 건강한 선택, 클래식 감성]'], 'menuIngred': [\"[ '치아바타 빵, 슬라이스 햄, 슬라이스 치즈, 버터, 양상추, 토마토']\", \"[ '치킨', '식빵', '상추', '토마토', '치즈', '마요네즈', '머스터드', '소금', '후추']\", \"[ '식빵, 양상추, 토마토, 오이, 삶은 계란, 마요네즈, 소금, 후추']\", \"[ '반미 빵', '돼지고기', '오이', '당근', '고수', '마요네즈', '칠리소스', '간장', '소금', '후추']\", \"[ '미트볼', '식빵', '토마토', '양상추', '모짜렐라 치즈', '마리나라 소스', '소금', '후추']\", \"[ '치아바타 빵', '체다 치즈', '모짜렐라 치즈', '토마토', '상추', '올리브 오일', '소금', '후추']\", \"[ '바게트, 햄, 치즈, 양상추, 마요네즈, 머스타드']\", \"[ '햄버거 빵', '소고기 패티', '양파', '상추', '토마토', '피클', '치즈', '마요네즈', '머스터드', '버터']\", \"[ '베이글', '버터', '마늘', '파슬리', '소금', '후추']\", \"[ '식빵, 슬라이스 치즈, 버터, 마요네즈, 양상추, 토마토']\"]}\n"
     ]
    },
    {
     "name": "stderr",
     "output_type": "stream",
     "text": [
      "127.0.0.1 - - [08/Jan/2025 09:08:32] \"POST /analyze-menu HTTP/1.1\" 200 -\n"
     ]
    },
    {
     "name": "stdout",
     "output_type": "stream",
     "text": [
      "닭가슴살 샌드위치\n",
      "{'status': 'success', 'similarMenus': ['햄 치즈 치아바타', '치킨 샌드위치', '샐러드 샌드위치', '반미 샌드위치', '미트볼 샌드위치', '치즈 치아바타', '햄치즈 바게트', '함박 샌드위치', '갈릭 베이글', '치즈 샌드위치'], 'menu': '닭가슴살 샌드위치', 'menuInfo': ['[고소함, 짭짤함, 부드러운 치즈, 쫄깃한 치아바타, 든든한 한 끼, 클래식 감성, 만족감, 건강한 선택, 촉촉함, 풍미 깊음]', '[고소함, 짭짤함, 풍부함, 신선한 채소, 부드러운 치킨, 든든한 식사, 클래식 감성, 건강한 선택, 만족감, 자연주의]', '[신선함, 담백함, 고소한 맛, 바삭한 채소, 촉촉한 빵, 건강한 선택, 자연주의, 만족감, 클래식 감성, 깔끔함]', '[짭짤함, 고소함, 신선한 채소, 쫄깃한 바게트, 건강한 선택, 이국적 감성, 만족감, 풍미 깊음, 자연주의, 독특함]', '[고소함, 짭짤함, 풍부한 풍미, 부드러운 미트볼, 쫄깃한 빵, 든든한 식사, 클래식 감성, 만족감, 따뜻함, 건강한 선택]', '[고소함, 짭짤함, 풍부한 치즈 풍미, 쫄깃한 치아바타, 건강한 조화, 든든한 한 끼, 클래식 감성, 만족감, 촉촉함, 자연주의]', '[고소함, 짭짤함, 부드러운 치즈, 쫄깃한 바게트, 든든한 한 끼, 클래식 감성, 만족감, 건강한 조화, 촉촉함, 풍미 깊음]', '[고소함, 풍부한 맛, 촉촉한 패티, 부드러운 빵, 든든한 한 끼, 클래식 감성, 만족감, 건강한 선택, 풍미 깊음, 따뜻함]', '[고소함, 짭짤함, 쫄깃한 식감, 풍부한 마늘 풍미, 건강한 선택, 든든함, 자연주의, 만족감, 촉촉함, 클래식 감성]', '[고소함, 짭짤함, 부드러운 치즈, 쫄깃한 빵, 심플한 조합, 든든한 감성, 만족감, 촉촉함, 건강한 선택, 클래식 감성]'], 'menuIngred': [\"[ '치아바타 빵, 슬라이스 햄, 슬라이스 치즈, 버터, 양상추, 토마토']\", \"[ '치킨', '식빵', '상추', '토마토', '치즈', '마요네즈', '머스터드', '소금', '후추']\", \"[ '식빵, 양상추, 토마토, 오이, 삶은 계란, 마요네즈, 소금, 후추']\", \"[ '반미 빵', '돼지고기', '오이', '당근', '고수', '마요네즈', '칠리소스', '간장', '소금', '후추']\", \"[ '미트볼', '식빵', '토마토', '양상추', '모짜렐라 치즈', '마리나라 소스', '소금', '후추']\", \"[ '치아바타 빵', '체다 치즈', '모짜렐라 치즈', '토마토', '상추', '올리브 오일', '소금', '후추']\", \"[ '바게트, 햄, 치즈, 양상추, 마요네즈, 머스타드']\", \"[ '햄버거 빵', '소고기 패티', '양파', '상추', '토마토', '피클', '치즈', '마요네즈', '머스터드', '버터']\", \"[ '베이글', '버터', '마늘', '파슬리', '소금', '후추']\", \"[ '식빵, 슬라이스 치즈, 버터, 마요네즈, 양상추, 토마토']\"]}\n"
     ]
    },
    {
     "name": "stderr",
     "output_type": "stream",
     "text": [
      "127.0.0.1 - - [08/Jan/2025 09:08:34] \"POST /analyze-menu HTTP/1.1\" 200 -\n",
      "127.0.0.1 - - [08/Jan/2025 09:08:35] \"POST /analyze-menu HTTP/1.1\" 200 -\n"
     ]
    },
    {
     "name": "stdout",
     "output_type": "stream",
     "text": [
      "크림 파스타\n",
      "메뉴 이름이 잘못되었습니다.\n",
      "{'status': 'success', 'similarMenus': ['유사한 메뉴가 존재하지 않습니다...'], 'menu': '크림 파스타', 'menuInfo': [], 'menuIngred': []}\n",
      "크림 파스타\n",
      "메뉴 이름이 잘못되었습니다.\n",
      "{'status': 'success', 'similarMenus': ['유사한 메뉴가 존재하지 않습니다...'], 'menu': '크림 파스타', 'menuInfo': [], 'menuIngred': []}\n"
     ]
    },
    {
     "name": "stderr",
     "output_type": "stream",
     "text": [
      "127.0.0.1 - - [08/Jan/2025 09:08:45] \"POST /analyze-menu HTTP/1.1\" 200 -\n"
     ]
    },
    {
     "name": "stdout",
     "output_type": "stream",
     "text": [
      "아메리카노\n",
      "메뉴 이름이 잘못되었습니다.\n",
      "{'status': 'success', 'similarMenus': ['유사한 메뉴가 존재하지 않습니다...'], 'menu': '아메리카노', 'menuInfo': [], 'menuIngred': []}\n"
     ]
    },
    {
     "name": "stderr",
     "output_type": "stream",
     "text": [
      "127.0.0.1 - - [08/Jan/2025 09:08:56] \"POST /analyze-menu HTTP/1.1\" 200 -\n"
     ]
    },
    {
     "name": "stdout",
     "output_type": "stream",
     "text": [
      "카페라떼\n",
      "{'status': 'success', 'similarMenus': ['허니 아포가토', '딜라이트 라떼', '모카 쿠키', '달고나커피', '플랫화이트', '바닐라 에스프레소', '커피 쉐이크', '헤이즐넛 아메리카노', '돌체 에스프레소', '꿀 아메리카노'], 'menu': '카페라떼', 'menuInfo': ['[달콤함, 크리미함, 진한 커피 풍미, 은은한 꿀 조화, 고급 음료, 클래식 감성, 만족감, 깔끔함, 화사함, 사랑스러움]', '[크리미함, 달콤함, 부드러운 텍스처, 풍부한 우유와 커피 조화, 고급 음료, 클래식 감성, 만족감, 깔끔함, 사랑스러움, 화사함]', '[달콤함, 고소함, 바삭함, 진한 커피와 초콜릿 풍미, 촉촉한 중심, 고급 디저트, 클래식 감성, 만족감, 독특함, 농후함]', '[달콤함, 크리미함, 진한 커피맛, 고소함, 만족감, 고소한 달고나 향, 부드러운 크림, 달콤한 조화, 레트로 감성, 포근한 만족감]', '[고소함, 깔끔함, 클래식, 부드러움, 진한 커피맛, 부드러운 거품, 진한 커피 풍미, 깔끔한 마무리, 고급스러움, 균형감]', '[부드러움, 진한 맛, 깔끔함, 고급스러움, 달콤함, 진한 커피 향, 은은한 단맛, 부드러운 여운]', '[진한 맛, 크리미함, 달콤함, 만족감, 고소함, 진한 커피 향, 부드러운 크리미함, 시원한 텍스처, 만족스러운 풍미]', '[고소함, 진한 커피향, 깔끔함, 따뜻함, 풍미, 고소한 견과류 향, 깊고 진한 커피 맛, 균형감, 깔끔한 끝맛, 부드러운 고급감]', '[달콤함, 진한 맛, 크리미함, 부드러움, 고급스러움, 진한 커피 풍미, 크리미한 단맛, 고급스러운 질감, 균형 잡힌 조화, 세련된 마무리]', '[진한 맛, 달콤함, 고급스러움, 깔끔함, 자연스러움, 자연스러운 단맛, 진한 커피 풍미, 은은한 꿀 향, 깔끔한 마무리]'], 'menuIngred': [\"[ '아이스크림', '에스프레소', '꿀']\", \"[ '에스프레소', '라벤더 시럽', '우유', '설탕']\", \"[ '밀가루', '설탕', '버터', '초콜릿', '에스프레소', '계란', '베이킹파우더', '소금']\", \"[ '인스턴트 커피', '설탕', '뜨거운 물', '우유', '얼음']\", \"[ '에스프레소', '스팀 밀크', '우유']\", \"[ '에스프레소', '바닐라 시럽', '우유', '휘핑크림 (옵션)']\", \"[ '커피', '우유', '얼음', '설탕', '바닐라 아이스크림']\", \"[ '에스프레소, 물, 헤이즐넛 시럽, 얼음']\", \"[ '에스프레소', '돌체 시럽', '우유', '카라멜 시럽']\", \"[ '에스프레소, 물, 꿀, 얼음']\"]}\n"
     ]
    },
    {
     "name": "stderr",
     "output_type": "stream",
     "text": [
      "127.0.0.1 - - [08/Jan/2025 09:08:59] \"POST /analyze-menu HTTP/1.1\" 200 -\n",
      "127.0.0.1 - - [08/Jan/2025 09:08:59] \"POST /analyze-menu HTTP/1.1\" 200 -\n"
     ]
    },
    {
     "name": "stdout",
     "output_type": "stream",
     "text": [
      "플랫화이트\n",
      "{'status': 'success', 'similarMenus': ['헤이즐넛 콜드브루', '헤이즐넛 에스프레소', '오트 콜드브루', '디카페인 아인슈페너', '흑임자 크림 에스프레소', '에스프레소 라떼', '모카 라떼', '디카페인커피', '황치즈 마들렌', '콜드브루 카푸치노'], 'menu': '플랫화이트', 'menuInfo': ['[고소함, 진한 커피맛, 깔끔함, 부드러움, 고급스러움, 고소한 견과류 풍미, 진한 커피 맛, 시원한 질감, 균형감, 고급스러운 끝맛]', '[고소함, 깊은 맛, 진한 커피향, 따뜻함, 고급스러움, 고소한 견과류 향, 진한 커피 맛, 부드러운 끝맛, 풍부한 텍스처, 깊은 여운]', '[고소함, 건강함, 깔끔함, 부드러움, 고급스러움, 고소한 귀리 향, 깔끔한 커피, 부드러운 끝맛, 현대적 감성]', '[진한 맛, 부드러움, 건강함, 고급스러움, 깔끔함, 부드러운 크림, 진한 커피 풍미, 부담 없는 선택, 세련된 맛, 균형감]', '[고소함, 크리미함, 진한 맛, 고급스러움, 독특함, 고소한 흑임자 향, 부드러운 크림, 진한 커피 맛, 세련된 조화, 특별한 풍미]', '[진한 커피맛, 부드러움, 고급스러움, 풍미, 클래식, 진한 커피 맛, 부드러운 우유, 균형감, 풍부한 여운]', '[달콤함, 초콜릿, 진한 커피향, 부드러움, 만족감, 진한 초콜릿, 풍부한 크림감, 고급스러움, 달콤한 끝맛, 따뜻한 풍미]', '[가벼움, 부드러움, 건강함, 편안함, 깔끔함, 부드러운 커피 향, 가벼운 여운, 균형감, 온화한 풍미]', '[고소함, 담백함, 부드러운 질감, 진한 황치즈 풍미, 고급 디저트, 클래식 감성, 만족감, 풍미 깊음, 깔끔함, 독특함]', '[진한 맛, 크리미함, 깔끔함, 부드러움, 고급스러움, 풍부한 크림감, 진한 커피 풍미, 부드러운 끝맛, 청량감, 고급스러운 질감]'], 'menuIngred': [\"[ '콜드브루 커피, 헤이즐넛 시럽, 우유, 얼음']\", \"[ '에스프레소, 헤이즐넛 시럽, 우유']\", \"[ '콜드브루 커피', '오트밀크', '얼음', '오트 시럽 (옵션)']\", \"[ '디카페인 커피, 설탕, 생크림, 바닐라 추출물, 얼음']\", \"[ '에스프레소', '흑임자 가루', '휘핑크림', '연유', '우유']\", \"[ '에스프레소', '우유', '설탕 (옵션)', '바닐라 시럽 (옵션)']\", \"[ '우유', '에스프레소', '초콜릿 시럽', '휘핑크림 (옵션)', '초콜릿 가루 (옵션)']\", \"[ '디카페인 원두', '우유', '설탕', '시럽']\", \"[ '밀가루', '설탕', '버터', '달걀', '베이킹파우더', '소금', '체다 치즈', '크림치즈', '우유', '올리브유', '레몬즙']\", \"[ '콜드브루', '에스프레소', '우유', '스팀밀크', '얼음']\"]}\n",
      "플랫화이트\n",
      "{'status': 'success', 'similarMenus': ['헤이즐넛 콜드브루', '헤이즐넛 에스프레소', '오트 콜드브루', '디카페인 아인슈페너', '흑임자 크림 에스프레소', '에스프레소 라떼', '모카 라떼', '디카페인커피', '황치즈 마들렌', '콜드브루 카푸치노'], 'menu': '플랫화이트', 'menuInfo': ['[고소함, 진한 커피맛, 깔끔함, 부드러움, 고급스러움, 고소한 견과류 풍미, 진한 커피 맛, 시원한 질감, 균형감, 고급스러운 끝맛]', '[고소함, 깊은 맛, 진한 커피향, 따뜻함, 고급스러움, 고소한 견과류 향, 진한 커피 맛, 부드러운 끝맛, 풍부한 텍스처, 깊은 여운]', '[고소함, 건강함, 깔끔함, 부드러움, 고급스러움, 고소한 귀리 향, 깔끔한 커피, 부드러운 끝맛, 현대적 감성]', '[진한 맛, 부드러움, 건강함, 고급스러움, 깔끔함, 부드러운 크림, 진한 커피 풍미, 부담 없는 선택, 세련된 맛, 균형감]', '[고소함, 크리미함, 진한 맛, 고급스러움, 독특함, 고소한 흑임자 향, 부드러운 크림, 진한 커피 맛, 세련된 조화, 특별한 풍미]', '[진한 커피맛, 부드러움, 고급스러움, 풍미, 클래식, 진한 커피 맛, 부드러운 우유, 균형감, 풍부한 여운]', '[달콤함, 초콜릿, 진한 커피향, 부드러움, 만족감, 진한 초콜릿, 풍부한 크림감, 고급스러움, 달콤한 끝맛, 따뜻한 풍미]', '[가벼움, 부드러움, 건강함, 편안함, 깔끔함, 부드러운 커피 향, 가벼운 여운, 균형감, 온화한 풍미]', '[고소함, 담백함, 부드러운 질감, 진한 황치즈 풍미, 고급 디저트, 클래식 감성, 만족감, 풍미 깊음, 깔끔함, 독특함]', '[진한 맛, 크리미함, 깔끔함, 부드러움, 고급스러움, 풍부한 크림감, 진한 커피 풍미, 부드러운 끝맛, 청량감, 고급스러운 질감]'], 'menuIngred': [\"[ '콜드브루 커피, 헤이즐넛 시럽, 우유, 얼음']\", \"[ '에스프레소, 헤이즐넛 시럽, 우유']\", \"[ '콜드브루 커피', '오트밀크', '얼음', '오트 시럽 (옵션)']\", \"[ '디카페인 커피, 설탕, 생크림, 바닐라 추출물, 얼음']\", \"[ '에스프레소', '흑임자 가루', '휘핑크림', '연유', '우유']\", \"[ '에스프레소', '우유', '설탕 (옵션)', '바닐라 시럽 (옵션)']\", \"[ '우유', '에스프레소', '초콜릿 시럽', '휘핑크림 (옵션)', '초콜릿 가루 (옵션)']\", \"[ '디카페인 원두', '우유', '설탕', '시럽']\", \"[ '밀가루', '설탕', '버터', '달걀', '베이킹파우더', '소금', '체다 치즈', '크림치즈', '우유', '올리브유', '레몬즙']\", \"[ '콜드브루', '에스프레소', '우유', '스팀밀크', '얼음']\"]}\n"
     ]
    },
    {
     "name": "stderr",
     "output_type": "stream",
     "text": [
      "127.0.0.1 - - [08/Jan/2025 09:09:04] \"POST /analyze-menu HTTP/1.1\" 200 -\n",
      "127.0.0.1 - - [08/Jan/2025 09:09:04] \"POST /analyze-menu HTTP/1.1\" 200 -\n"
     ]
    },
    {
     "name": "stdout",
     "output_type": "stream",
     "text": [
      "바닐라 라떼\n",
      "{'status': 'success', 'similarMenus': ['아몬드 라떼', '헤이즐넛 아메리카노', '헤이즐넛 콜드브루', '고구마 라떼', '진저 라떼', '고구마 밀크티', '카라멜 카푸치노', '달고나 밀크티', '오트밀 라떼', '카페라떼'], 'menu': '바닐라 라떼', 'menuInfo': ['[고소함, 건강함, 부드러움, 풍미, 따뜻함, 고소한 견과 향, 부드러운 텍스처, 은은한 단맛, 크리미함]', '[고소함, 진한 커피향, 깔끔함, 따뜻함, 풍미, 고소한 견과류 향, 깊고 진한 커피 맛, 균형감, 깔끔한 끝맛, 부드러운 고급감]', '[고소함, 진한 커피맛, 깔끔함, 부드러움, 고급스러움, 고소한 견과류 풍미, 진한 커피 맛, 시원한 질감, 균형감, 고급스러운 끝맛]', '[고소함, 달콤함, 따뜻함, 포근함, 건강함, 부드러운 텍스처, 자연스러운 단맛, 전통적인 풍미]', '[따뜻함, 스파이시, 건강함, 고급스러움, 풍미, 따뜻한 생강 향, 고소함, 건강한 풍미, 부드러운 크리미함, 은은한 단맛]', '[달콤함, 부드러움, 고소함, 포근함, 전통적, 고소한 고구마 향, 부드러운 질감, 자연스러운 달콤함, 전통적인 풍미, 따뜻한 만족감]', '[달콤함, 고소함, 크리미함, 풍미, 따뜻함, 달콤한 캐러멜 향, 부드러운 크림, 진한 커피 풍미, 고급스러운 조화, 따뜻한 만족감]', '[달콤함, 고소함, 부드러움, 포근함, 중독성, 고소한 달고나 향, 부드러운 크리미함, 전통적인 매력, 포근한 풍미]', '[고소함, 건강함, 부드러움, 크리미함, 포근함, 고소한 귀리 향, 부드러운 우유, 자연스러운 단맛, 편안한 텍스처]', '[진한 커피향, 부드러움, 고소함, 클래식, 안정감, 고소한 우유, 밸런스, 편안함, 은은한 단맛]'], 'menuIngred': [\"[ '에스프레소, 스팀 밀크, 아몬드 시럽, 휘핑크림']\", \"[ '에스프레소, 물, 헤이즐넛 시럽, 얼음']\", \"[ '콜드브루 커피, 헤이즐넛 시럽, 우유, 얼음']\", \"[ '고구마', '우유', '에스프레소', '설탕', '바닐라 시럽']\", \"[ '우유, 에스프레소, 생강 시럽, 설탕, 얼음']\", \"[ '홍차', '우유', '고구마', '시럽', '얼음']\", \"[ '에스프레소', '우유', '카라멜 시럽', '우유 거품', '카라멜 소스']\", \"[ '홍차, 우유, 설탕, 달고나 크럼블, 얼음']\", \"[ '오트밀 음료', '에스프레소', '우유']\", \"[ '에스프레소, 우유']\"]}\n",
      "바닐라 라떼\n",
      "{'status': 'success', 'similarMenus': ['아몬드 라떼', '헤이즐넛 아메리카노', '헤이즐넛 콜드브루', '고구마 라떼', '진저 라떼', '고구마 밀크티', '카라멜 카푸치노', '달고나 밀크티', '오트밀 라떼', '카페라떼'], 'menu': '바닐라 라떼', 'menuInfo': ['[고소함, 건강함, 부드러움, 풍미, 따뜻함, 고소한 견과 향, 부드러운 텍스처, 은은한 단맛, 크리미함]', '[고소함, 진한 커피향, 깔끔함, 따뜻함, 풍미, 고소한 견과류 향, 깊고 진한 커피 맛, 균형감, 깔끔한 끝맛, 부드러운 고급감]', '[고소함, 진한 커피맛, 깔끔함, 부드러움, 고급스러움, 고소한 견과류 풍미, 진한 커피 맛, 시원한 질감, 균형감, 고급스러운 끝맛]', '[고소함, 달콤함, 따뜻함, 포근함, 건강함, 부드러운 텍스처, 자연스러운 단맛, 전통적인 풍미]', '[따뜻함, 스파이시, 건강함, 고급스러움, 풍미, 따뜻한 생강 향, 고소함, 건강한 풍미, 부드러운 크리미함, 은은한 단맛]', '[달콤함, 부드러움, 고소함, 포근함, 전통적, 고소한 고구마 향, 부드러운 질감, 자연스러운 달콤함, 전통적인 풍미, 따뜻한 만족감]', '[달콤함, 고소함, 크리미함, 풍미, 따뜻함, 달콤한 캐러멜 향, 부드러운 크림, 진한 커피 풍미, 고급스러운 조화, 따뜻한 만족감]', '[달콤함, 고소함, 부드러움, 포근함, 중독성, 고소한 달고나 향, 부드러운 크리미함, 전통적인 매력, 포근한 풍미]', '[고소함, 건강함, 부드러움, 크리미함, 포근함, 고소한 귀리 향, 부드러운 우유, 자연스러운 단맛, 편안한 텍스처]', '[진한 커피향, 부드러움, 고소함, 클래식, 안정감, 고소한 우유, 밸런스, 편안함, 은은한 단맛]'], 'menuIngred': [\"[ '에스프레소, 스팀 밀크, 아몬드 시럽, 휘핑크림']\", \"[ '에스프레소, 물, 헤이즐넛 시럽, 얼음']\", \"[ '콜드브루 커피, 헤이즐넛 시럽, 우유, 얼음']\", \"[ '고구마', '우유', '에스프레소', '설탕', '바닐라 시럽']\", \"[ '우유, 에스프레소, 생강 시럽, 설탕, 얼음']\", \"[ '홍차', '우유', '고구마', '시럽', '얼음']\", \"[ '에스프레소', '우유', '카라멜 시럽', '우유 거품', '카라멜 소스']\", \"[ '홍차, 우유, 설탕, 달고나 크럼블, 얼음']\", \"[ '오트밀 음료', '에스프레소', '우유']\", \"[ '에스프레소, 우유']\"]}\n"
     ]
    },
    {
     "name": "stderr",
     "output_type": "stream",
     "text": [
      "127.0.0.1 - - [08/Jan/2025 09:09:07] \"POST /analyze-menu HTTP/1.1\" 200 -\n"
     ]
    },
    {
     "name": "stdout",
     "output_type": "stream",
     "text": [
      "카페모카\n",
      "{'status': 'success', 'similarMenus': ['초콜렛 모카', '크림 카페모카', '초코 프라페', '모카 스무디', '모카 라떼', '밀크 코코아', '초코 스무디', '피칸 케이크', '모카 프라페', '밀크 쇼콜라'], 'menu': '카페모카', 'menuInfo': ['[진한 초콜릿, 풍부함, 달콤함, 따뜻함, 만족감, 달콤한 초콜릿, 진한 크림, 고급스러운 풍미, 풍부한 텍스처, 따뜻한 마무리]', '[초콜릿, 크리미함, 달콤함, 진한 맛, 고급스러움, 진한 초콜릿 풍미, 부드러운 크림, 달콤한 조화, 깊고 풍부한 맛, 세련된 만족감]', '[진한 맛, 달콤함, 크리미함, 만족감, 풍미, 진한 초콜릿 맛, 풍부한 크림감, 달콤한 여운, 고급스러움, 만족스러움]', '[진한 초콜릿, 달콤함, 크리미함, 풍미, 만족감, 진한 초콜릿 풍미, 부드러운 텍스처, 크리미한 조화, 달콤한 여운, 고급스러운 맛]', '[달콤함, 초콜릿, 진한 커피향, 부드러움, 만족감, 진한 초콜릿, 풍부한 크림감, 고급스러움, 달콤한 끝맛, 따뜻한 풍미]', '[초콜릿, 달콤함, 부드러움, 따뜻함, 포근함, 진한 초콜릿 풍미, 부드러운 크림, 포근한 달콤함, 고급스러운 여운]', '[진한 초콜릿, 달콤함, 크리미함, 만족감, 풍부함, 진한 초콜릿 풍미, 부드러운 텍스처, 크리미한 만족감, 세련된 조화]', '[고소함, 달콤함, 촉촉한 질감, 풍부한 피칸 풍미, 부드러운 크림, 클래식 디저트, 고급스러움, 만족감, 따뜻함, 풍미 깊음]', '[진한 초콜릿, 달콤함, 크리미함, 풍미, 만족감, 진한 초콜릿 풍미, 크리미한 텍스처, 달콤한 만족감, 고급스러움, 깊은 여운]', '[초콜릿, 달콤함, 부드러움, 풍미, 따뜻함, 진한 초콜릿 향, 부드러운 텍스처, 달콤한 감미, 크리미한 만족감, 고급스러운 맛]'], 'menuIngred': [\"[ '우유', '에스프레소', '초콜릿 시럽', '휘핑크림 (옵션)', '초콜릿 가루 (옵션)']\", \"[ '에스프레소, 우유, 초콜릿 시럽, 설탕, 휘핑크림']\", \"[ '우유', '초콜릿 시럽', '초콜릿 칩', '바닐라 아이스크림', '얼음', '휘핑크림 (옵션)']\", \"[ '초콜릿 시럽', '커피', '우유', '얼음', '휘핑 크림', '초콜릿 조각']\", \"[ '우유', '에스프레소', '초콜릿 시럽', '휘핑크림 (옵션)', '초콜릿 가루 (옵션)']\", \"[ '우유', '코코아 파우더', '설탕', '휘핑크림', '초콜릿 시럽']\", \"[ '초콜릿 시럽, 우유, 설탕, 얼음, 휘핑크림, 초콜릿칩']\", \"[ '버터', '설탕', '밀가루', '베이킹파우더', '소금', '계란', '바닐라 익스트랙', '우유', '피칸', '크림치즈', '휘핑크림', '아이싱 설탕']\", \"[ '에스프레소, 우유, 초콜릿 시럽, 설탕, 얼음, 휘핑크림, 초콜릿칩']\", \"[ '초콜릿', '우유', '설탕', '휘핑 크림', '바닐라']\"]}\n"
     ]
    },
    {
     "name": "stderr",
     "output_type": "stream",
     "text": [
      "127.0.0.1 - - [08/Jan/2025 09:09:07] \"POST /analyze-menu HTTP/1.1\" 200 -\n"
     ]
    },
    {
     "name": "stdout",
     "output_type": "stream",
     "text": [
      "카페모카\n",
      "{'status': 'success', 'similarMenus': ['초콜렛 모카', '크림 카페모카', '초코 프라페', '모카 스무디', '모카 라떼', '밀크 코코아', '초코 스무디', '피칸 케이크', '모카 프라페', '밀크 쇼콜라'], 'menu': '카페모카', 'menuInfo': ['[진한 초콜릿, 풍부함, 달콤함, 따뜻함, 만족감, 달콤한 초콜릿, 진한 크림, 고급스러운 풍미, 풍부한 텍스처, 따뜻한 마무리]', '[초콜릿, 크리미함, 달콤함, 진한 맛, 고급스러움, 진한 초콜릿 풍미, 부드러운 크림, 달콤한 조화, 깊고 풍부한 맛, 세련된 만족감]', '[진한 맛, 달콤함, 크리미함, 만족감, 풍미, 진한 초콜릿 맛, 풍부한 크림감, 달콤한 여운, 고급스러움, 만족스러움]', '[진한 초콜릿, 달콤함, 크리미함, 풍미, 만족감, 진한 초콜릿 풍미, 부드러운 텍스처, 크리미한 조화, 달콤한 여운, 고급스러운 맛]', '[달콤함, 초콜릿, 진한 커피향, 부드러움, 만족감, 진한 초콜릿, 풍부한 크림감, 고급스러움, 달콤한 끝맛, 따뜻한 풍미]', '[초콜릿, 달콤함, 부드러움, 따뜻함, 포근함, 진한 초콜릿 풍미, 부드러운 크림, 포근한 달콤함, 고급스러운 여운]', '[진한 초콜릿, 달콤함, 크리미함, 만족감, 풍부함, 진한 초콜릿 풍미, 부드러운 텍스처, 크리미한 만족감, 세련된 조화]', '[고소함, 달콤함, 촉촉한 질감, 풍부한 피칸 풍미, 부드러운 크림, 클래식 디저트, 고급스러움, 만족감, 따뜻함, 풍미 깊음]', '[진한 초콜릿, 달콤함, 크리미함, 풍미, 만족감, 진한 초콜릿 풍미, 크리미한 텍스처, 달콤한 만족감, 고급스러움, 깊은 여운]', '[초콜릿, 달콤함, 부드러움, 풍미, 따뜻함, 진한 초콜릿 향, 부드러운 텍스처, 달콤한 감미, 크리미한 만족감, 고급스러운 맛]'], 'menuIngred': [\"[ '우유', '에스프레소', '초콜릿 시럽', '휘핑크림 (옵션)', '초콜릿 가루 (옵션)']\", \"[ '에스프레소, 우유, 초콜릿 시럽, 설탕, 휘핑크림']\", \"[ '우유', '초콜릿 시럽', '초콜릿 칩', '바닐라 아이스크림', '얼음', '휘핑크림 (옵션)']\", \"[ '초콜릿 시럽', '커피', '우유', '얼음', '휘핑 크림', '초콜릿 조각']\", \"[ '우유', '에스프레소', '초콜릿 시럽', '휘핑크림 (옵션)', '초콜릿 가루 (옵션)']\", \"[ '우유', '코코아 파우더', '설탕', '휘핑크림', '초콜릿 시럽']\", \"[ '초콜릿 시럽, 우유, 설탕, 얼음, 휘핑크림, 초콜릿칩']\", \"[ '버터', '설탕', '밀가루', '베이킹파우더', '소금', '계란', '바닐라 익스트랙', '우유', '피칸', '크림치즈', '휘핑크림', '아이싱 설탕']\", \"[ '에스프레소, 우유, 초콜릿 시럽, 설탕, 얼음, 휘핑크림, 초콜릿칩']\", \"[ '초콜릿', '우유', '설탕', '휘핑 크림', '바닐라']\"]}\n"
     ]
    },
    {
     "name": "stderr",
     "output_type": "stream",
     "text": [
      "127.0.0.1 - - [08/Jan/2025 09:09:11] \"POST /analyze-menu HTTP/1.1\" 200 -\n"
     ]
    },
    {
     "name": "stdout",
     "output_type": "stream",
     "text": [
      "녹차\n",
      "{'status': 'success', 'similarMenus': ['녹차 라떼', '말차 밀크티', '녹차 쉐이크', '녹차 블렌디드', '말차 블렌디드', '말차 스무디', '녹차 프라페', '말차 프라페', '오미자차', '말차 라떼'], 'menu': '녹차', 'menuInfo': ['[쌉쌀함, 고소함, 부드러움, 전통적, 자연스러움, 쌉쌀한 녹차, 부드러운 우유, 전통적인 깊이, 깔끔한 여운]', '[쌉쌀함, 부드러움, 고소함, 전통적, 크리미함, 쌉쌀한 녹차 풍미, 부드러운 크리미함, 전통적인 깊이, 세련된 조화, 자연스러운 단맛]', '[쌉쌀함, 크리미함, 고소함, 전통적, 부드러움, 쌉쌀한 녹차 풍미, 크리미한 질감, 전통적 깊이, 자연스러운 단맛, 부드러운 마무리]', '[쌉쌀함, 크리미함, 고소함, 전통적, 부드러움, 쌉쌀한 녹차 풍미, 부드러운 질감, 전통적인 깊이, 자연스러운 단맛, 세련된 만족감]', '[쌉쌀함, 고소함, 부드러움, 크리미함, 전통적, 쌉쌀한 말차 풍미, 부드러운 텍스처, 고급스러운 감미, 전통적인 깊이, 자연스러운 만족감]', '[쌉쌀함, 부드러움, 고소함, 시원함, 전통적, 쌉쌀한 녹차 풍미, 크리미한 질감, 전통적 깊이, 자연스러운 단맛, 건강한 만족감]', '[쌉쌀함, 크리미함, 고소함, 전통적, 시원함, 쌉쌀한 풍미, 시원한 텍스처, 전통적 깊이, 부드러운 조화, 크리미한 여운]', '[쌉쌀함, 고소함, 시원함, 전통적, 자연스러움, 쌉쌀한 풍미, 부드러운 텍스처, 고급스러움, 자연스러운 맛, 전통적 매력]', '[새콤달콤, 전통적, 건강함, 자연스러움, 깔끔함, 전통적 깊이, 새콤달콤한 감미, 건강감, 은은한 허브향, 따뜻한 여운]', '[전통적, 쌉쌀함, 고요함, 깊은 맛, 자연, 부드러운 녹차, 자연스러움, 쌉쌀한 균형, 전통미, 신선한 여운]'], 'menuIngred': [\"[ '우유', '녹차 가루', '설탕', '에스프레소']\", \"[ '말차 가루, 우유, 설탕, 물, 얼음']\", \"[ '말차 가루, 우유, 바닐라 아이스크림, 설탕, 휘핑크림']\", \"[ '녹차 파우더', '우유', '생크림', '설탕', '얼음', '바닐라 시럽']\", \"[ '말차 파우더', '우유', '바닐라 시럽', '얼음', '휘핑크림', '설탕']\", \"[ '말차 가루, 우유, 설탕, 얼음, 바닐라 아이스크림']\", \"[ '우유', '녹차 가루', '바닐라 아이스크림', '설탕', '얼음']\", \"[ '우유', '녹차 가루', '바닐라 아이스크림', '얼음', '휘핑크림 (옵션)', '설탕 (옵션)']\", \"[ '오미자', '물', '설탕']\", \"[ '말차 가루, 우유, 에스프레소, 시럽']\"]}\n"
     ]
    },
    {
     "name": "stderr",
     "output_type": "stream",
     "text": [
      "127.0.0.1 - - [08/Jan/2025 09:09:11] \"POST /analyze-menu HTTP/1.1\" 200 -\n"
     ]
    },
    {
     "name": "stdout",
     "output_type": "stream",
     "text": [
      "녹차\n",
      "{'status': 'success', 'similarMenus': ['녹차 라떼', '말차 밀크티', '녹차 쉐이크', '녹차 블렌디드', '말차 블렌디드', '말차 스무디', '녹차 프라페', '말차 프라페', '오미자차', '말차 라떼'], 'menu': '녹차', 'menuInfo': ['[쌉쌀함, 고소함, 부드러움, 전통적, 자연스러움, 쌉쌀한 녹차, 부드러운 우유, 전통적인 깊이, 깔끔한 여운]', '[쌉쌀함, 부드러움, 고소함, 전통적, 크리미함, 쌉쌀한 녹차 풍미, 부드러운 크리미함, 전통적인 깊이, 세련된 조화, 자연스러운 단맛]', '[쌉쌀함, 크리미함, 고소함, 전통적, 부드러움, 쌉쌀한 녹차 풍미, 크리미한 질감, 전통적 깊이, 자연스러운 단맛, 부드러운 마무리]', '[쌉쌀함, 크리미함, 고소함, 전통적, 부드러움, 쌉쌀한 녹차 풍미, 부드러운 질감, 전통적인 깊이, 자연스러운 단맛, 세련된 만족감]', '[쌉쌀함, 고소함, 부드러움, 크리미함, 전통적, 쌉쌀한 말차 풍미, 부드러운 텍스처, 고급스러운 감미, 전통적인 깊이, 자연스러운 만족감]', '[쌉쌀함, 부드러움, 고소함, 시원함, 전통적, 쌉쌀한 녹차 풍미, 크리미한 질감, 전통적 깊이, 자연스러운 단맛, 건강한 만족감]', '[쌉쌀함, 크리미함, 고소함, 전통적, 시원함, 쌉쌀한 풍미, 시원한 텍스처, 전통적 깊이, 부드러운 조화, 크리미한 여운]', '[쌉쌀함, 고소함, 시원함, 전통적, 자연스러움, 쌉쌀한 풍미, 부드러운 텍스처, 고급스러움, 자연스러운 맛, 전통적 매력]', '[새콤달콤, 전통적, 건강함, 자연스러움, 깔끔함, 전통적 깊이, 새콤달콤한 감미, 건강감, 은은한 허브향, 따뜻한 여운]', '[전통적, 쌉쌀함, 고요함, 깊은 맛, 자연, 부드러운 녹차, 자연스러움, 쌉쌀한 균형, 전통미, 신선한 여운]'], 'menuIngred': [\"[ '우유', '녹차 가루', '설탕', '에스프레소']\", \"[ '말차 가루, 우유, 설탕, 물, 얼음']\", \"[ '말차 가루, 우유, 바닐라 아이스크림, 설탕, 휘핑크림']\", \"[ '녹차 파우더', '우유', '생크림', '설탕', '얼음', '바닐라 시럽']\", \"[ '말차 파우더', '우유', '바닐라 시럽', '얼음', '휘핑크림', '설탕']\", \"[ '말차 가루, 우유, 설탕, 얼음, 바닐라 아이스크림']\", \"[ '우유', '녹차 가루', '바닐라 아이스크림', '설탕', '얼음']\", \"[ '우유', '녹차 가루', '바닐라 아이스크림', '얼음', '휘핑크림 (옵션)', '설탕 (옵션)']\", \"[ '오미자', '물', '설탕']\", \"[ '말차 가루, 우유, 에스프레소, 시럽']\"]}\n"
     ]
    },
    {
     "name": "stderr",
     "output_type": "stream",
     "text": [
      "127.0.0.1 - - [08/Jan/2025 09:09:38] \"POST /analyze-menu HTTP/1.1\" 200 -\n"
     ]
    },
    {
     "name": "stdout",
     "output_type": "stream",
     "text": [
      "말차 라떼\n",
      "{'status': 'success', 'similarMenus': ['말차', '말차 밀크티', '녹차', '녹차 쉐이크', '녹차 블렌디드', '녹차 밀크티', '말차 스무디', '말차 카푸치노', '녹차 프라푸치노', '말차 쉐이크'], 'menu': '말차 라떼', 'menuInfo': ['[쌉쌀함, 고소함, 전통적, 자연스러움, 깊은 맛, 전통적 풍미, 자연스러운 깊이, 깔끔한 여운]', '[쌉쌀함, 부드러움, 고소함, 전통적, 크리미함, 쌉쌀한 녹차 풍미, 부드러운 크리미함, 전통적인 깊이, 세련된 조화, 자연스러운 단맛]', '[쌉쌀함, 전통적, 고요함, 건강함, 자연스러움, 고소함, 전통미, 깔끔함, 자연스러운 깊이]', '[쌉쌀함, 크리미함, 고소함, 전통적, 부드러움, 쌉쌀한 녹차 풍미, 크리미한 질감, 전통적 깊이, 자연스러운 단맛, 부드러운 마무리]', '[쌉쌀함, 크리미함, 고소함, 전통적, 부드러움, 쌉쌀한 녹차 풍미, 부드러운 질감, 전통적인 깊이, 자연스러운 단맛, 세련된 만족감]', '[쌉쌀함, 부드러움, 고소함, 전통적, 크리미함, 쌉쌀한 녹차 풍미, 크리미한 질감, 전통적인 깊이, 세련된 단맛, 부드러운 조화]', '[쌉쌀함, 부드러움, 고소함, 시원함, 전통적, 쌉쌀한 녹차 풍미, 크리미한 질감, 전통적 깊이, 자연스러운 단맛, 건강한 만족감]', '[쌉쌀함, 부드러움, 고소함, 전통적, 고급스러움, 쌉쌀한 녹차 풍미, 부드러운 크림, 고급스러운 텍스처, 자연스러운 단맛, 전통적인 깊이]', '[쌉쌀함, 크리미함, 부드러움, 전통적, 만족감, 쌉쌀한 녹차 향, 부드러운 크리미함, 전통적인 깊이, 상쾌한 질감, 자연스러운 조화]', '[쌉쌀함, 크리미함, 고소함, 독특함, 전통적, 쌉쌀한 녹차, 크리미한 질감, 전통적 풍미, 고소한 여운, 만족스러운 조화]'], 'menuIngred': [\"[ '말차 가루', '우유', '설탕', '물', '바닐라 시럽 (옵션)']\", \"[ '말차 가루, 우유, 설탕, 물, 얼음']\", \"[ '녹차 가루, 물, 설탕, 우유']\", \"[ '말차 가루, 우유, 바닐라 아이스크림, 설탕, 휘핑크림']\", \"[ '녹차 파우더', '우유', '생크림', '설탕', '얼음', '바닐라 시럽']\", \"[ '녹차 가루', '우유', '설탕', '물', '얼음']\", \"[ '말차 가루, 우유, 설탕, 얼음, 바닐라 아이스크림']\", \"[ '에스프레소', '말차 파우더', '우유', '설탕', '휘핑 크림']\", \"[ '녹차 파우더', '얼음', '우유', '휘핑크림', '그린 티 시럽', '시럽']\", \"[ '우유', '녹차 가루', '바닐라 아이스크림', '설탕', '얼음']\"]}\n"
     ]
    },
    {
     "name": "stderr",
     "output_type": "stream",
     "text": [
      "127.0.0.1 - - [08/Jan/2025 09:09:39] \"POST /analyze-menu HTTP/1.1\" 200 -\n"
     ]
    },
    {
     "name": "stdout",
     "output_type": "stream",
     "text": [
      "말차 라떼\n",
      "{'status': 'success', 'similarMenus': ['말차', '말차 밀크티', '녹차', '녹차 쉐이크', '녹차 블렌디드', '녹차 밀크티', '말차 스무디', '말차 카푸치노', '녹차 프라푸치노', '말차 쉐이크'], 'menu': '말차 라떼', 'menuInfo': ['[쌉쌀함, 고소함, 전통적, 자연스러움, 깊은 맛, 전통적 풍미, 자연스러운 깊이, 깔끔한 여운]', '[쌉쌀함, 부드러움, 고소함, 전통적, 크리미함, 쌉쌀한 녹차 풍미, 부드러운 크리미함, 전통적인 깊이, 세련된 조화, 자연스러운 단맛]', '[쌉쌀함, 전통적, 고요함, 건강함, 자연스러움, 고소함, 전통미, 깔끔함, 자연스러운 깊이]', '[쌉쌀함, 크리미함, 고소함, 전통적, 부드러움, 쌉쌀한 녹차 풍미, 크리미한 질감, 전통적 깊이, 자연스러운 단맛, 부드러운 마무리]', '[쌉쌀함, 크리미함, 고소함, 전통적, 부드러움, 쌉쌀한 녹차 풍미, 부드러운 질감, 전통적인 깊이, 자연스러운 단맛, 세련된 만족감]', '[쌉쌀함, 부드러움, 고소함, 전통적, 크리미함, 쌉쌀한 녹차 풍미, 크리미한 질감, 전통적인 깊이, 세련된 단맛, 부드러운 조화]', '[쌉쌀함, 부드러움, 고소함, 시원함, 전통적, 쌉쌀한 녹차 풍미, 크리미한 질감, 전통적 깊이, 자연스러운 단맛, 건강한 만족감]', '[쌉쌀함, 부드러움, 고소함, 전통적, 고급스러움, 쌉쌀한 녹차 풍미, 부드러운 크림, 고급스러운 텍스처, 자연스러운 단맛, 전통적인 깊이]', '[쌉쌀함, 크리미함, 부드러움, 전통적, 만족감, 쌉쌀한 녹차 향, 부드러운 크리미함, 전통적인 깊이, 상쾌한 질감, 자연스러운 조화]', '[쌉쌀함, 크리미함, 고소함, 독특함, 전통적, 쌉쌀한 녹차, 크리미한 질감, 전통적 풍미, 고소한 여운, 만족스러운 조화]'], 'menuIngred': [\"[ '말차 가루', '우유', '설탕', '물', '바닐라 시럽 (옵션)']\", \"[ '말차 가루, 우유, 설탕, 물, 얼음']\", \"[ '녹차 가루, 물, 설탕, 우유']\", \"[ '말차 가루, 우유, 바닐라 아이스크림, 설탕, 휘핑크림']\", \"[ '녹차 파우더', '우유', '생크림', '설탕', '얼음', '바닐라 시럽']\", \"[ '녹차 가루', '우유', '설탕', '물', '얼음']\", \"[ '말차 가루, 우유, 설탕, 얼음, 바닐라 아이스크림']\", \"[ '에스프레소', '말차 파우더', '우유', '설탕', '휘핑 크림']\", \"[ '녹차 파우더', '얼음', '우유', '휘핑크림', '그린 티 시럽', '시럽']\", \"[ '우유', '녹차 가루', '바닐라 아이스크림', '설탕', '얼음']\"]}\n"
     ]
    },
    {
     "name": "stderr",
     "output_type": "stream",
     "text": [
      "127.0.0.1 - - [08/Jan/2025 09:09:54] \"POST /analyze-menu HTTP/1.1\" 200 -\n",
      "127.0.0.1 - - [08/Jan/2025 09:09:54] \"POST /analyze-menu HTTP/1.1\" 200 -\n"
     ]
    },
    {
     "name": "stdout",
     "output_type": "stream",
     "text": [
      "얼그레이 티\n",
      "{'status': 'success', 'similarMenus': ['얼그레이 스무디', '홍차 스무디', '얼그레이 버블티', '디카페인 카라멜 마끼야또', '얼그레이 아메리카노', '샤인머스켓 스무디', '라벤더 밀크티', '홍차 크림 아인슈페너', '얼그레이 밀크티', '자스민 티'], 'menu': '얼그레이 티', 'menuInfo': ['[허브향, 부드러움, 우아함, 상쾌함, 깔끔함, 우아한 베르가못 향, 부드러운 텍스처, 고급스러운 감미, 청량감, 자연스러운 조화]', '[우아함, 부드러움, 진한 맛, 크리미함, 고급스러움, 깊고 은은한 풍미, 부드러운 텍스처, 고급스러운 맛, 깔끔한 단맛, 세련된 조화]', '[우아함, 쫄깃함, 허브향, 크리미함, 고급스러움, 우아한 베르가못 향, 쫄깃한 펄, 부드러운 조화, 고급스러운 맛, 균형 잡힌 풍미]', '[달콤함, 크리미함, 건강함, 부드러움, 만족감, 부드러운 캐러멜, 크리미한 텍스처, 가벼운 풍미, 달콤한 여운, 편안함]', '[허브향, 진한 맛, 깔끔함, 우아함, 고급스러움, 우아한 베르가못 향, 깊은 커피 맛, 부드러운 산미, 깔끔한 마무리, 세련된 풍미]', '[이국적, 청량감, 과일향, 고급스러움, 달콤함, 고급스러운 과일향, 달콤한 여운, 부드러운 텍스처, 신선한 질감]', '[우아함, 허브향, 부드러움, 달콤함, 편안함, 은은한 꽃향, 부드러운 크림, 세련된 풍미, 편안한 끝맛, 우아한 조화]', '[진한 맛, 크리미함, 우아함, 따뜻함, 만족감, 깊은 홍차 향, 부드러운 크림, 고급스러움, 달콤한 끝맛, 풍부한 조화]', '[우아함, 부드러움, 깊은 맛, 클래식, 고급스러움, 베르가못 향, 부드러운 크림, 우아한 맛, 조화로움, 깔끔한 끝맛]', '[우아함, 허브향, 편안함, 자연스러움, 깔끔함, 은은한 꽃향, 부드러운 허브감, 우아한 풍미, 고요한 여운, 자연스러운 감미]'], 'menuIngred': [\"[ '얼그레이 티', '우유', '설탕', '얼음', '바닐라 시럽']\", \"[ '홍차 추출액', '우유', '얼음', '설탕', '바닐라 시럽']\", \"[ '얼그레이 차, 우유, 설탕, 타피오카 펄, 얼음, 바닐라 시럽']\", \"[ '디카페인 커피 원두', '우유', '카라멜 시럽', '얼음']\", \"[ '얼그레이 티백', '물', '에스프레소', '얼음']\", \"[ '샤인머스켓', '우유', '바닐라 아이스크림', '설탕', '얼음']\", \"[ '얼그레이 티, 라벤더 시럽, 우유, 설탕']\", \"[ '홍차, 설탕, 우유, 생크림, 바닐라 추출물, 얼음']\", \"[ '얼그레이 티백, 우유, 설탕, 얼음']\", \"[ '자스민 티 잎', '뜨거운 물', '설탕', '레몬']\"]}\n",
      "얼그레이 티\n",
      "{'status': 'success', 'similarMenus': ['얼그레이 스무디', '홍차 스무디', '얼그레이 버블티', '디카페인 카라멜 마끼야또', '얼그레이 아메리카노', '샤인머스켓 스무디', '라벤더 밀크티', '홍차 크림 아인슈페너', '얼그레이 밀크티', '자스민 티'], 'menu': '얼그레이 티', 'menuInfo': ['[허브향, 부드러움, 우아함, 상쾌함, 깔끔함, 우아한 베르가못 향, 부드러운 텍스처, 고급스러운 감미, 청량감, 자연스러운 조화]', '[우아함, 부드러움, 진한 맛, 크리미함, 고급스러움, 깊고 은은한 풍미, 부드러운 텍스처, 고급스러운 맛, 깔끔한 단맛, 세련된 조화]', '[우아함, 쫄깃함, 허브향, 크리미함, 고급스러움, 우아한 베르가못 향, 쫄깃한 펄, 부드러운 조화, 고급스러운 맛, 균형 잡힌 풍미]', '[달콤함, 크리미함, 건강함, 부드러움, 만족감, 부드러운 캐러멜, 크리미한 텍스처, 가벼운 풍미, 달콤한 여운, 편안함]', '[허브향, 진한 맛, 깔끔함, 우아함, 고급스러움, 우아한 베르가못 향, 깊은 커피 맛, 부드러운 산미, 깔끔한 마무리, 세련된 풍미]', '[이국적, 청량감, 과일향, 고급스러움, 달콤함, 고급스러운 과일향, 달콤한 여운, 부드러운 텍스처, 신선한 질감]', '[우아함, 허브향, 부드러움, 달콤함, 편안함, 은은한 꽃향, 부드러운 크림, 세련된 풍미, 편안한 끝맛, 우아한 조화]', '[진한 맛, 크리미함, 우아함, 따뜻함, 만족감, 깊은 홍차 향, 부드러운 크림, 고급스러움, 달콤한 끝맛, 풍부한 조화]', '[우아함, 부드러움, 깊은 맛, 클래식, 고급스러움, 베르가못 향, 부드러운 크림, 우아한 맛, 조화로움, 깔끔한 끝맛]', '[우아함, 허브향, 편안함, 자연스러움, 깔끔함, 은은한 꽃향, 부드러운 허브감, 우아한 풍미, 고요한 여운, 자연스러운 감미]'], 'menuIngred': [\"[ '얼그레이 티', '우유', '설탕', '얼음', '바닐라 시럽']\", \"[ '홍차 추출액', '우유', '얼음', '설탕', '바닐라 시럽']\", \"[ '얼그레이 차, 우유, 설탕, 타피오카 펄, 얼음, 바닐라 시럽']\", \"[ '디카페인 커피 원두', '우유', '카라멜 시럽', '얼음']\", \"[ '얼그레이 티백', '물', '에스프레소', '얼음']\", \"[ '샤인머스켓', '우유', '바닐라 아이스크림', '설탕', '얼음']\", \"[ '얼그레이 티, 라벤더 시럽, 우유, 설탕']\", \"[ '홍차, 설탕, 우유, 생크림, 바닐라 추출물, 얼음']\", \"[ '얼그레이 티백, 우유, 설탕, 얼음']\", \"[ '자스민 티 잎', '뜨거운 물', '설탕', '레몬']\"]}\n"
     ]
    },
    {
     "name": "stderr",
     "output_type": "stream",
     "text": [
      "127.0.0.1 - - [08/Jan/2025 09:09:58] \"POST /analyze-menu HTTP/1.1\" 200 -\n",
      "127.0.0.1 - - [08/Jan/2025 09:09:58] \"POST /analyze-menu HTTP/1.1\" 200 -\n"
     ]
    },
    {
     "name": "stdout",
     "output_type": "stream",
     "text": [
      "캐모마일 티\n",
      "{'status': 'success', 'similarMenus': ['자스민 티', '아카시아 티', '카모마일 티', '매실차', '오미자차', '민트 티', '히비스커스 아이스티', '청귤차', '라즈베리 티', '얼그레이 스무디'], 'menu': '캐모마일 티', 'menuInfo': ['[우아함, 허브향, 편안함, 자연스러움, 깔끔함, 은은한 꽃향, 부드러운 허브감, 우아한 풍미, 고요한 여운, 자연스러운 감미]', '[허브향, 우아함, 깔끔함, 편안함, 자연스러움, 은은한 꽃향, 자연스러운 단맛, 부드러운 허브 감미, 고요한 풍미]', '[허브향, 평온함, 자연스러움, 건강함, 편안함, 은은한 꽃향, 따뜻함, 부드러운 허브 감미, 차분함, 편안한 마무리]', '[새콤함, 건강함, 전통적, 상쾌함, 자연스러움, 새콤달콤, 전통적 풍미, 편안함, 은은한 여운]', '[새콤달콤, 전통적, 건강함, 자연스러움, 깔끔함, 전통적 깊이, 새콤달콤한 감미, 건강감, 은은한 허브향, 따뜻한 여운]', '[청량감, 허브향, 상쾌함, 신선함, 리프레시, 상쾌한 허브 향, 편안한 끝맛, 자연스러운 허브 조화, 기분 좋은 리프레시]', '[새콤달콤, 우아함, 허브향, 상쾌함, 건강함, 붉은 꽃의 상큼함, 청량감, 우아한 풍미, 자연스러운 단맛, 깔끔한 마무리]', '[상큼함, 건강함, 전통적, 개운함, 자연스러움, 산뜻한 감귤 향, 따뜻함, 자연스러운 달콤함, 전통적 편안함, 건강감]', '[새콤달콤, 과일향, 깔끔함, 우아함, 건강함, 새콤달콤한 베리 향, 자연스러운 감미, 부드러운 허브 풍미, 청량감, 우아한 조화]', '[허브향, 부드러움, 우아함, 상쾌함, 깔끔함, 우아한 베르가못 향, 부드러운 텍스처, 고급스러운 감미, 청량감, 자연스러운 조화]'], 'menuIngred': [\"[ '자스민 티 잎', '뜨거운 물', '설탕', '레몬']\", \"[ '아카시아 차 잎', '물', '꿀', '레몬']\", \"[ '카모마일 티백', '뜨거운 물']\", \"[ '매실청', '물', '얼음 (옵션)']\", \"[ '오미자', '물', '설탕']\", \"[ '민트 티백', '물', '설탕 (옵션)']\", \"[ '히비스커스', '홍차', '설탕', '레몬', '얼음']\", \"[ '청귤청', '물', '얼음 (옵션)']\", \"[ '라즈베리 잎', '홍차', '레몬', '꿀', '얼음']\", \"[ '얼그레이 티', '우유', '설탕', '얼음', '바닐라 시럽']\"]}\n",
      "캐모마일 티\n",
      "{'status': 'success', 'similarMenus': ['자스민 티', '아카시아 티', '카모마일 티', '매실차', '오미자차', '민트 티', '히비스커스 아이스티', '청귤차', '라즈베리 티', '얼그레이 스무디'], 'menu': '캐모마일 티', 'menuInfo': ['[우아함, 허브향, 편안함, 자연스러움, 깔끔함, 은은한 꽃향, 부드러운 허브감, 우아한 풍미, 고요한 여운, 자연스러운 감미]', '[허브향, 우아함, 깔끔함, 편안함, 자연스러움, 은은한 꽃향, 자연스러운 단맛, 부드러운 허브 감미, 고요한 풍미]', '[허브향, 평온함, 자연스러움, 건강함, 편안함, 은은한 꽃향, 따뜻함, 부드러운 허브 감미, 차분함, 편안한 마무리]', '[새콤함, 건강함, 전통적, 상쾌함, 자연스러움, 새콤달콤, 전통적 풍미, 편안함, 은은한 여운]', '[새콤달콤, 전통적, 건강함, 자연스러움, 깔끔함, 전통적 깊이, 새콤달콤한 감미, 건강감, 은은한 허브향, 따뜻한 여운]', '[청량감, 허브향, 상쾌함, 신선함, 리프레시, 상쾌한 허브 향, 편안한 끝맛, 자연스러운 허브 조화, 기분 좋은 리프레시]', '[새콤달콤, 우아함, 허브향, 상쾌함, 건강함, 붉은 꽃의 상큼함, 청량감, 우아한 풍미, 자연스러운 단맛, 깔끔한 마무리]', '[상큼함, 건강함, 전통적, 개운함, 자연스러움, 산뜻한 감귤 향, 따뜻함, 자연스러운 달콤함, 전통적 편안함, 건강감]', '[새콤달콤, 과일향, 깔끔함, 우아함, 건강함, 새콤달콤한 베리 향, 자연스러운 감미, 부드러운 허브 풍미, 청량감, 우아한 조화]', '[허브향, 부드러움, 우아함, 상쾌함, 깔끔함, 우아한 베르가못 향, 부드러운 텍스처, 고급스러운 감미, 청량감, 자연스러운 조화]'], 'menuIngred': [\"[ '자스민 티 잎', '뜨거운 물', '설탕', '레몬']\", \"[ '아카시아 차 잎', '물', '꿀', '레몬']\", \"[ '카모마일 티백', '뜨거운 물']\", \"[ '매실청', '물', '얼음 (옵션)']\", \"[ '오미자', '물', '설탕']\", \"[ '민트 티백', '물', '설탕 (옵션)']\", \"[ '히비스커스', '홍차', '설탕', '레몬', '얼음']\", \"[ '청귤청', '물', '얼음 (옵션)']\", \"[ '라즈베리 잎', '홍차', '레몬', '꿀', '얼음']\", \"[ '얼그레이 티', '우유', '설탕', '얼음', '바닐라 시럽']\"]}\n"
     ]
    },
    {
     "name": "stderr",
     "output_type": "stream",
     "text": [
      "127.0.0.1 - - [08/Jan/2025 09:10:00] \"POST /analyze-menu HTTP/1.1\" 200 -\n",
      "127.0.0.1 - - [08/Jan/2025 09:10:00] \"POST /analyze-menu HTTP/1.1\" 200 -\n"
     ]
    },
    {
     "name": "stdout",
     "output_type": "stream",
     "text": [
      "오렌지 주스\n",
      "{'status': 'success', 'similarMenus': ['애플망고 주스', '베리 주스', '망고 주스', '망고 블렌디드', '블루베리 주스', '애플 스무디', '바나나 주스', '애플 주스', '베리 요거', '망고 스무디'], 'menu': '오렌지 주스', 'menuInfo': ['[이국적, 달콤함, 과일향, 풍부함, 상쾌함, 달콤한 과즙, 열대 과일의 신선함, 부드러운 질감, 자연스러운 여운]', '[새콤달콤, 과일향, 상쾌함, 활기참, 건강함, 과일의 풍부함, 자연스러운 맛, 발랄함]', '[이국적, 달콤함, 과일향, 풍부함, 상쾌함, 열대 과일의 달콤함, 부드러운 질감, 신선함, 자연스러운 여운]', '[달콤함, 과일향, 크리미함, 이국적, 상쾌함, 열대 과일의 풍부함, 부드러운 텍스처, 자연스러운 달콤함, 활기참]', '[새콤달콤, 과일향, 건강함, 상쾌함, 활기참, 새콤달콤한 과일 향, 신선함, 청량감, 자연스러운 감미, 활기찬 텍스처]', '[상큼함, 부드러움, 과일향, 건강함, 달콤함, 달콤한 사과 향, 부드러운 텍스처, 상쾌함, 자연스러운 감미, 신선한 끝맛]', '[달콤함, 부드러움, 자연스러움, 건강함, 포근함, 자연스러운 달콤함, 부드러운 질감, 신선한 과즙, 만족스러운 감촉]', '[상큼함, 과일향, 건강함, 자연스러움, 활기참, 달콤한 과일향, 자연스러운 상큼함, 신선함, 부드러운 끝맛]', '[새콤달콤, 과일향, 건강함, 부드러움, 활기참, 새콤달콤한 과일 향, 부드러운 요거트, 건강감, 신선한 텍스처, 자연스러운 맛]', '[이국적, 달콤함, 과일향, 시원함, 상쾌함, 열대과일의 상큼함, 부드러움, 자연스러운 달콤함, 활기참, 신선한 질감]'], 'menuIngred': [\"[ '애플망고', '물', '설탕', '얼음']\", \"[ '베리 믹스', '물', '꿀', '얼음']\", \"[ '망고', '설탕 (옵션)', '물', '얼음 (옵션)']\", \"[ '망고', '우유', '얼음', '설탕']\", \"[ '블루베리, 설탕, 물, 레몬즙, 얼음']\", \"[ '사과', '요거트', '우유', '얼음', '꿀']\", \"[ '바나나', '우유', '꿀', '얼음']\", \"[ '사과', '설탕 (옵션)', '물', '얼음']\", \"[ '플레인 요거트, 딸기, 블루베리, 꿀, 그래놀라, 민트 잎']\", \"[ '망고', '우유', '바닐라 아이스크림', '설탕', '얼음']\"]}\n",
      "오렌지 주스\n",
      "{'status': 'success', 'similarMenus': ['애플망고 주스', '베리 주스', '망고 주스', '망고 블렌디드', '블루베리 주스', '애플 스무디', '바나나 주스', '애플 주스', '베리 요거', '망고 스무디'], 'menu': '오렌지 주스', 'menuInfo': ['[이국적, 달콤함, 과일향, 풍부함, 상쾌함, 달콤한 과즙, 열대 과일의 신선함, 부드러운 질감, 자연스러운 여운]', '[새콤달콤, 과일향, 상쾌함, 활기참, 건강함, 과일의 풍부함, 자연스러운 맛, 발랄함]', '[이국적, 달콤함, 과일향, 풍부함, 상쾌함, 열대 과일의 달콤함, 부드러운 질감, 신선함, 자연스러운 여운]', '[달콤함, 과일향, 크리미함, 이국적, 상쾌함, 열대 과일의 풍부함, 부드러운 텍스처, 자연스러운 달콤함, 활기참]', '[새콤달콤, 과일향, 건강함, 상쾌함, 활기참, 새콤달콤한 과일 향, 신선함, 청량감, 자연스러운 감미, 활기찬 텍스처]', '[상큼함, 부드러움, 과일향, 건강함, 달콤함, 달콤한 사과 향, 부드러운 텍스처, 상쾌함, 자연스러운 감미, 신선한 끝맛]', '[달콤함, 부드러움, 자연스러움, 건강함, 포근함, 자연스러운 달콤함, 부드러운 질감, 신선한 과즙, 만족스러운 감촉]', '[상큼함, 과일향, 건강함, 자연스러움, 활기참, 달콤한 과일향, 자연스러운 상큼함, 신선함, 부드러운 끝맛]', '[새콤달콤, 과일향, 건강함, 부드러움, 활기참, 새콤달콤한 과일 향, 부드러운 요거트, 건강감, 신선한 텍스처, 자연스러운 맛]', '[이국적, 달콤함, 과일향, 시원함, 상쾌함, 열대과일의 상큼함, 부드러움, 자연스러운 달콤함, 활기참, 신선한 질감]'], 'menuIngred': [\"[ '애플망고', '물', '설탕', '얼음']\", \"[ '베리 믹스', '물', '꿀', '얼음']\", \"[ '망고', '설탕 (옵션)', '물', '얼음 (옵션)']\", \"[ '망고', '우유', '얼음', '설탕']\", \"[ '블루베리, 설탕, 물, 레몬즙, 얼음']\", \"[ '사과', '요거트', '우유', '얼음', '꿀']\", \"[ '바나나', '우유', '꿀', '얼음']\", \"[ '사과', '설탕 (옵션)', '물', '얼음']\", \"[ '플레인 요거트, 딸기, 블루베리, 꿀, 그래놀라, 민트 잎']\", \"[ '망고', '우유', '바닐라 아이스크림', '설탕', '얼음']\"]}\n"
     ]
    },
    {
     "name": "stderr",
     "output_type": "stream",
     "text": [
      "127.0.0.1 - - [08/Jan/2025 09:10:02] \"POST /analyze-menu HTTP/1.1\" 200 -\n",
      "127.0.0.1 - - [08/Jan/2025 09:10:03] \"POST /analyze-menu HTTP/1.1\" 200 -\n"
     ]
    },
    {
     "name": "stdout",
     "output_type": "stream",
     "text": [
      "망고 스무디\n",
      "{'status': 'success', 'similarMenus': ['망고 주스', '트로피칼 스무디', '깔라만시 스무디', '망고 플랫치노', '딸기 주스', '망고 쉐이크', '망고 아이스티', '감귤 주스', '망고 프라페', '애플망고 아이스티'], 'menu': '망고 스무디', 'menuInfo': ['[이국적, 달콤함, 과일향, 풍부함, 상쾌함, 열대 과일의 달콤함, 부드러운 질감, 신선함, 자연스러운 여운]', '[이국적, 상큼함, 과일향, 시원함, 활기참, 이국적인 과일 향, 부드러운 텍스처, 상쾌한 감미, 자연스러운 산미, 활기찬 풍미]', '[새콤함, 상큼함, 청량감, 건강함, 독특함, 상큼한 열대 과일 향, 자연스러운 산미, 새콤달콤한 조화, 활기찬 풍미]', '[이국적, 달콤함, 과일향, 청량감, 크리미함, 열대 과일의 달콤함, 상쾌함, 크리미한 질감, 신선한 맛, 활기찬 조화]', '[달콤함, 상큼함, 과일향, 여름, 사랑스러움, 새콤달콤, 과일의 신선함, 활기참, 자연스러운 단맛]', '[달콤함, 크리미함, 과일향, 이국적, 상쾌함, 열대 과일의 달콤함, 부드러운 텍스처, 상쾌한 여운, 크리미한 질감, 신선한 만족감]', '[달콤함, 청량감, 과일향, 상쾌함, 여름, 열대 과일향, 상큼한 균형, 시원한 여운]', '[상큼함, 달콤함, 과일향, 제주감성, 청량감, 상큼한 감귤향, 자연스러운 단맛, 활기찬 맛, 신선한 여운]', '[달콤함, 과일향, 이국적, 크리미함, 활기참, 열대 과일의 달콤함, 부드러운 텍스처, 상쾌한 풍미, 크리미한 만족감, 신선한 조화]', '[이국적, 달콤함, 과일향, 청량감, 활기참, 열대 과일의 신선함, 상쾌한 산미, 부드러운 과일향, 자연스러운 끝맛]'], 'menuIngred': [\"[ '망고', '설탕 (옵션)', '물', '얼음 (옵션)']\", \"[ '망고', '파인애플', '바나나', '코코넛 밀크', '오렌지 주스', '얼음', '꿀']\", \"[ '깔라만시', '얼음', '설탕', '요거트', '레몬즙', '물']\", \"[ '망고 시럽', '우유', '얼음', '휘핑크림']\", \"[ '딸기', '설탕', '물', '레몬즙']\", \"[ '망고, 우유, 설탕, 얼음, 바닐라 아이스크림']\", \"[ '망고', '홍차', '설탕', '레몬', '얼음']\", \"[ '감귤', '물', '설탕', '얼음']\", \"[ '망고', '우유', '얼음', '휘핑크림', '망고 시럽']\", \"[ '홍차, 애플망고 퓌레, 설탕, 레몬즙, 얼음, 애플망고 슬라이스']\"]}\n",
      "망고 스무디\n",
      "{'status': 'success', 'similarMenus': ['망고 주스', '트로피칼 스무디', '깔라만시 스무디', '망고 플랫치노', '딸기 주스', '망고 쉐이크', '망고 아이스티', '감귤 주스', '망고 프라페', '애플망고 아이스티'], 'menu': '망고 스무디', 'menuInfo': ['[이국적, 달콤함, 과일향, 풍부함, 상쾌함, 열대 과일의 달콤함, 부드러운 질감, 신선함, 자연스러운 여운]', '[이국적, 상큼함, 과일향, 시원함, 활기참, 이국적인 과일 향, 부드러운 텍스처, 상쾌한 감미, 자연스러운 산미, 활기찬 풍미]', '[새콤함, 상큼함, 청량감, 건강함, 독특함, 상큼한 열대 과일 향, 자연스러운 산미, 새콤달콤한 조화, 활기찬 풍미]', '[이국적, 달콤함, 과일향, 청량감, 크리미함, 열대 과일의 달콤함, 상쾌함, 크리미한 질감, 신선한 맛, 활기찬 조화]', '[달콤함, 상큼함, 과일향, 여름, 사랑스러움, 새콤달콤, 과일의 신선함, 활기참, 자연스러운 단맛]', '[달콤함, 크리미함, 과일향, 이국적, 상쾌함, 열대 과일의 달콤함, 부드러운 텍스처, 상쾌한 여운, 크리미한 질감, 신선한 만족감]', '[달콤함, 청량감, 과일향, 상쾌함, 여름, 열대 과일향, 상큼한 균형, 시원한 여운]', '[상큼함, 달콤함, 과일향, 제주감성, 청량감, 상큼한 감귤향, 자연스러운 단맛, 활기찬 맛, 신선한 여운]', '[달콤함, 과일향, 이국적, 크리미함, 활기참, 열대 과일의 달콤함, 부드러운 텍스처, 상쾌한 풍미, 크리미한 만족감, 신선한 조화]', '[이국적, 달콤함, 과일향, 청량감, 활기참, 열대 과일의 신선함, 상쾌한 산미, 부드러운 과일향, 자연스러운 끝맛]'], 'menuIngred': [\"[ '망고', '설탕 (옵션)', '물', '얼음 (옵션)']\", \"[ '망고', '파인애플', '바나나', '코코넛 밀크', '오렌지 주스', '얼음', '꿀']\", \"[ '깔라만시', '얼음', '설탕', '요거트', '레몬즙', '물']\", \"[ '망고 시럽', '우유', '얼음', '휘핑크림']\", \"[ '딸기', '설탕', '물', '레몬즙']\", \"[ '망고, 우유, 설탕, 얼음, 바닐라 아이스크림']\", \"[ '망고', '홍차', '설탕', '레몬', '얼음']\", \"[ '감귤', '물', '설탕', '얼음']\", \"[ '망고', '우유', '얼음', '휘핑크림', '망고 시럽']\", \"[ '홍차, 애플망고 퓌레, 설탕, 레몬즙, 얼음, 애플망고 슬라이스']\"]}\n"
     ]
    },
    {
     "name": "stderr",
     "output_type": "stream",
     "text": [
      "127.0.0.1 - - [08/Jan/2025 09:10:15] \"POST /analyze-menu HTTP/1.1\" 200 -\n",
      "127.0.0.1 - - [08/Jan/2025 09:10:15] \"POST /analyze-menu HTTP/1.1\" 200 -\n"
     ]
    },
    {
     "name": "stdout",
     "output_type": "stream",
     "text": [
      "딸기 스무디\n",
      "{'status': 'success', 'similarMenus': ['딸기 프라페', '딸기 주스', '딸기 크림 프라푸치노', '딸기 요거', '복숭아 밀크티', '딸기 아이스티', '베리 우유', '복숭아 스무디', '망고 블렌디드', '딸기 버블티'], 'menu': '딸기 스무디', 'menuInfo': ['[달콤함, 사랑스러움, 크리미함, 과일향, 봄, 달콤한 과일향, 부드러운 텍스처, 새콤달콤, 경쾌한 마무리]', '[달콤함, 상큼함, 과일향, 여름, 사랑스러움, 새콤달콤, 과일의 신선함, 활기참, 자연스러운 단맛]', '[달콤함, 부드러움, 크리미함, 과일향, 사랑스러움, 사랑스러운 과일 향, 부드러운 크림, 새콤달콤한 조화, 경쾌한 텍스처, 달콤한 만족감]', '[달콤함, 상큼함, 과일향, 건강함, 부드러움, 사랑스러운 과일향, 새콤달콤, 부드러운 질감, 건강한 단맛, 활기참]', '[달콤함, 과일향, 부드러움, 크리미함, 사랑스러움, 달콤한 과일향, 부드러운 크리미함, 사랑스러운 조화, 따뜻함, 은은한 끝맛]', '[달콤함, 상큼함, 과일향, 청량감, 사랑스러움, 새콤달콤한 과일 향, 부드러운 끝맛, 상쾌함, 여름의 생기]', '[새콤달콤, 과일향, 부드러움, 건강함, 사랑스러움, 새콤달콤한 과일 향, 부드러운 크림, 자연스러운 감미, 발랄한 텍스처, 사랑스러운 맛]', '[달콤함, 과일향, 부드러움, 상쾌함, 새콤달콤, 달콤한 과일 향, 부드러운 크리미함, 사랑스러운 질감, 자연스러운 달콤함]', '[달콤함, 과일향, 크리미함, 이국적, 상쾌함, 열대 과일의 풍부함, 부드러운 텍스처, 자연스러운 달콤함, 활기참]', '[달콤함, 과일향, 쫄깃함, 부드러움, 사랑스러움, 새콤달콤한 과일 향, 쫄깃한 펄, 사랑스러운 맛, 부드러운 조화, 경쾌한 텍스처]'], 'menuIngred': [\"[ '딸기', '우유', '바닐라 아이스크림', '설탕', '얼음', '휘핑크림 (옵션)']\", \"[ '딸기', '설탕', '물', '레몬즙']\", \"[ '딸기', '우유', '휘핑 크림', '설탕', '얼음', '바닐라 시럽']\", \"[ '딸기', '플레인 요거트', '우유', '꿀', '얼음 (옵션)', '민트 잎 (옵션)']\", \"[ '복숭아 시럽', '블랙티', '우유', '설탕', '얼음']\", \"[ '홍차, 딸기 시럽, 설탕, 레몬즙, 얼음, 생딸기']\", \"[ '베리 믹스', '우유', '설탕', '바닐라 시럽']\", \"[ '복숭아', '요거트', '얼음', '설탕', '레몬']\", \"[ '망고', '우유', '얼음', '설탕']\", \"[ '딸기 시럽', '타피오카 펄', '홍차', '얼음', '우유']\"]}\n",
      "딸기 스무디\n",
      "{'status': 'success', 'similarMenus': ['딸기 프라페', '딸기 주스', '딸기 크림 프라푸치노', '딸기 요거', '복숭아 밀크티', '딸기 아이스티', '베리 우유', '복숭아 스무디', '망고 블렌디드', '딸기 버블티'], 'menu': '딸기 스무디', 'menuInfo': ['[달콤함, 사랑스러움, 크리미함, 과일향, 봄, 달콤한 과일향, 부드러운 텍스처, 새콤달콤, 경쾌한 마무리]', '[달콤함, 상큼함, 과일향, 여름, 사랑스러움, 새콤달콤, 과일의 신선함, 활기참, 자연스러운 단맛]', '[달콤함, 부드러움, 크리미함, 과일향, 사랑스러움, 사랑스러운 과일 향, 부드러운 크림, 새콤달콤한 조화, 경쾌한 텍스처, 달콤한 만족감]', '[달콤함, 상큼함, 과일향, 건강함, 부드러움, 사랑스러운 과일향, 새콤달콤, 부드러운 질감, 건강한 단맛, 활기참]', '[달콤함, 과일향, 부드러움, 크리미함, 사랑스러움, 달콤한 과일향, 부드러운 크리미함, 사랑스러운 조화, 따뜻함, 은은한 끝맛]', '[달콤함, 상큼함, 과일향, 청량감, 사랑스러움, 새콤달콤한 과일 향, 부드러운 끝맛, 상쾌함, 여름의 생기]', '[새콤달콤, 과일향, 부드러움, 건강함, 사랑스러움, 새콤달콤한 과일 향, 부드러운 크림, 자연스러운 감미, 발랄한 텍스처, 사랑스러운 맛]', '[달콤함, 과일향, 부드러움, 상쾌함, 새콤달콤, 달콤한 과일 향, 부드러운 크리미함, 사랑스러운 질감, 자연스러운 달콤함]', '[달콤함, 과일향, 크리미함, 이국적, 상쾌함, 열대 과일의 풍부함, 부드러운 텍스처, 자연스러운 달콤함, 활기참]', '[달콤함, 과일향, 쫄깃함, 부드러움, 사랑스러움, 새콤달콤한 과일 향, 쫄깃한 펄, 사랑스러운 맛, 부드러운 조화, 경쾌한 텍스처]'], 'menuIngred': [\"[ '딸기', '우유', '바닐라 아이스크림', '설탕', '얼음', '휘핑크림 (옵션)']\", \"[ '딸기', '설탕', '물', '레몬즙']\", \"[ '딸기', '우유', '휘핑 크림', '설탕', '얼음', '바닐라 시럽']\", \"[ '딸기', '플레인 요거트', '우유', '꿀', '얼음 (옵션)', '민트 잎 (옵션)']\", \"[ '복숭아 시럽', '블랙티', '우유', '설탕', '얼음']\", \"[ '홍차, 딸기 시럽, 설탕, 레몬즙, 얼음, 생딸기']\", \"[ '베리 믹스', '우유', '설탕', '바닐라 시럽']\", \"[ '복숭아', '요거트', '얼음', '설탕', '레몬']\", \"[ '망고', '우유', '얼음', '설탕']\", \"[ '딸기 시럽', '타피오카 펄', '홍차', '얼음', '우유']\"]}\n"
     ]
    },
    {
     "name": "stderr",
     "output_type": "stream",
     "text": [
      "127.0.0.1 - - [08/Jan/2025 09:10:18] \"POST /analyze-menu HTTP/1.1\" 200 -\n",
      "127.0.0.1 - - [08/Jan/2025 09:10:18] \"POST /analyze-menu HTTP/1.1\" 200 -\n"
     ]
    },
    {
     "name": "stdout",
     "output_type": "stream",
     "text": [
      "초코 크루아상\n",
      "{'status': 'success', 'similarMenus': ['초코 휘낭시에', '모카 휘낭시에', '초코 까눌레', '초코 몽블랑', '초콜렛 마카롱', '가나슈 쿠키', '마카롱 크런치', '초코 머핀', '브라우니 쿠키', '초코 크레페'], 'menu': '초코 크루아상', 'menuInfo': ['[진한 초콜릿, 달콤함, 바삭한 겉면, 촉촉한 중심, 클래식 디저트, 고급스러움, 만족감, 풍미 깊음, 농후함, 부드러움]', '[진한 커피 풍미, 달콤함, 바삭한 겉면, 촉촉한 중심, 클래식 디저트, 고급스러움, 만족감, 풍미 깊음, 깔끔함, 화려함]', '[진한 초콜릿, 달콤함, 바삭한 겉면, 촉촉한 중심, 클래식 디저트, 고급스러움, 만족감, 농후함, 화려함, 사랑스러움]', '[진한 초콜릿, 달콤함, 부드러운 크림, 촉촉한 질감, 화려한 디저트, 고급스러움, 만족감, 화사함, 농후함, 사랑스러움]', '[진한 초콜릿, 달콤함, 바삭한 겉면, 부드러운 중심, 고급스러운 필링, 클래식 디저트, 만족감, 풍미 깊음, 농후함, 사랑스러움]', '[달콤함, 진한 초콜릿 풍미, 바삭한 겉면, 촉촉한 중심, 크리미한 필링, 고급 디저트, 만족감, 풍미 깊음, 농후함, 클래식함]', '[바삭함, 달콤함, 크리미한 마카롱 필링, 촉촉한 중심, 화려한 디저트, 고급스러움, 만족감, 화사함, 독특함, 사랑스러움]', '[진한 초콜릿, 달콤함, 부드러운 속, 촉촉한 식감, 클래식 디저트, 고급스러움, 만족감, 풍미 깊음, 농후함, 사랑스러움]', '[진한 초콜릿, 달콤함, 바삭함, 촉촉한 중심, 풍미 깊음, 클래식 디저트, 만족감, 고급스러움, 농후함, 담백함]', '[부드러움, 진한 초콜릿, 얇고 부드러운 크레페, 달콤함, 화려한 디저트, 고급스러움, 만족감, 사랑스러움, 화사함, 농후함]'], 'menuIngred': [\"[ '밀가루', '코코아 가루', '아몬드 가루', '설탕', '버터', '계란 흰자', '소금', '베이킹 파우더', '초콜릿 칩 (옵션)']\", \"[ '버터', '설탕', '아몬드 가루', '밀가루', '베이킹 파우더', '계란', '인스턴트 커피', '다크초콜릿', '생크림', '소금']\", \"[ '밀가루', '코코아 파우더', '설탕', '계란', '버터', '우유', '바닐라', '베이킹 파우더', '소금']\", \"[ '초콜릿', '생크림', '슈가파우더', '계란', '밀가루', '버터', '코코아 파우더', '베이킹 파우더', '바닐라 추출물', '소금', '초콜릿 칩']\", \"[ '아몬드 가루', '슈가파우더', '달걀흰자', '설탕', '코코아 파우더', '버터', '생크림', '바닐라 추출물', '초콜렛']\", \"[ '버터', '슈가파우더', '밀가루', '코코아파우더', '베이킹파우더', '계란', '초콜릿', '생크림', '소금']\", \"[ '아몬드 가루', '설탕', '계란 흰자', '버터', '바닐라 익스트랙', '생크림', '화이트 초콜릿', '크런치 초콜릿', '색소']\", \"[ '밀가루', '베이킹 파우더', '소금', '설탕', '계란', '우유', '버터', '초콜릿 칩', '코코아 가루', '바닐라 엑스트랙트']\", \"[ '다크 초콜릿, 버터, 설탕, 밀가루, 달걀, 베이킹 파우더, 코코아 파우더, 소금, 바닐라 추출물']\", \"[ '밀가루', '코코아 파우더', '설탕', '달걀', '우유', '버터', '소금', '다크초콜릿', '생크림', '슈가파우더']\"]}\n",
      "초코 크루아상\n",
      "{'status': 'success', 'similarMenus': ['초코 휘낭시에', '모카 휘낭시에', '초코 까눌레', '초코 몽블랑', '초콜렛 마카롱', '가나슈 쿠키', '마카롱 크런치', '초코 머핀', '브라우니 쿠키', '초코 크레페'], 'menu': '초코 크루아상', 'menuInfo': ['[진한 초콜릿, 달콤함, 바삭한 겉면, 촉촉한 중심, 클래식 디저트, 고급스러움, 만족감, 풍미 깊음, 농후함, 부드러움]', '[진한 커피 풍미, 달콤함, 바삭한 겉면, 촉촉한 중심, 클래식 디저트, 고급스러움, 만족감, 풍미 깊음, 깔끔함, 화려함]', '[진한 초콜릿, 달콤함, 바삭한 겉면, 촉촉한 중심, 클래식 디저트, 고급스러움, 만족감, 농후함, 화려함, 사랑스러움]', '[진한 초콜릿, 달콤함, 부드러운 크림, 촉촉한 질감, 화려한 디저트, 고급스러움, 만족감, 화사함, 농후함, 사랑스러움]', '[진한 초콜릿, 달콤함, 바삭한 겉면, 부드러운 중심, 고급스러운 필링, 클래식 디저트, 만족감, 풍미 깊음, 농후함, 사랑스러움]', '[달콤함, 진한 초콜릿 풍미, 바삭한 겉면, 촉촉한 중심, 크리미한 필링, 고급 디저트, 만족감, 풍미 깊음, 농후함, 클래식함]', '[바삭함, 달콤함, 크리미한 마카롱 필링, 촉촉한 중심, 화려한 디저트, 고급스러움, 만족감, 화사함, 독특함, 사랑스러움]', '[진한 초콜릿, 달콤함, 부드러운 속, 촉촉한 식감, 클래식 디저트, 고급스러움, 만족감, 풍미 깊음, 농후함, 사랑스러움]', '[진한 초콜릿, 달콤함, 바삭함, 촉촉한 중심, 풍미 깊음, 클래식 디저트, 만족감, 고급스러움, 농후함, 담백함]', '[부드러움, 진한 초콜릿, 얇고 부드러운 크레페, 달콤함, 화려한 디저트, 고급스러움, 만족감, 사랑스러움, 화사함, 농후함]'], 'menuIngred': [\"[ '밀가루', '코코아 가루', '아몬드 가루', '설탕', '버터', '계란 흰자', '소금', '베이킹 파우더', '초콜릿 칩 (옵션)']\", \"[ '버터', '설탕', '아몬드 가루', '밀가루', '베이킹 파우더', '계란', '인스턴트 커피', '다크초콜릿', '생크림', '소금']\", \"[ '밀가루', '코코아 파우더', '설탕', '계란', '버터', '우유', '바닐라', '베이킹 파우더', '소금']\", \"[ '초콜릿', '생크림', '슈가파우더', '계란', '밀가루', '버터', '코코아 파우더', '베이킹 파우더', '바닐라 추출물', '소금', '초콜릿 칩']\", \"[ '아몬드 가루', '슈가파우더', '달걀흰자', '설탕', '코코아 파우더', '버터', '생크림', '바닐라 추출물', '초콜렛']\", \"[ '버터', '슈가파우더', '밀가루', '코코아파우더', '베이킹파우더', '계란', '초콜릿', '생크림', '소금']\", \"[ '아몬드 가루', '설탕', '계란 흰자', '버터', '바닐라 익스트랙', '생크림', '화이트 초콜릿', '크런치 초콜릿', '색소']\", \"[ '밀가루', '베이킹 파우더', '소금', '설탕', '계란', '우유', '버터', '초콜릿 칩', '코코아 가루', '바닐라 엑스트랙트']\", \"[ '다크 초콜릿, 버터, 설탕, 밀가루, 달걀, 베이킹 파우더, 코코아 파우더, 소금, 바닐라 추출물']\", \"[ '밀가루', '코코아 파우더', '설탕', '달걀', '우유', '버터', '소금', '다크초콜릿', '생크림', '슈가파우더']\"]}\n"
     ]
    },
    {
     "name": "stderr",
     "output_type": "stream",
     "text": [
      "127.0.0.1 - - [08/Jan/2025 09:10:21] \"POST /analyze-menu HTTP/1.1\" 200 -\n",
      "127.0.0.1 - - [08/Jan/2025 09:10:21] \"POST /analyze-menu HTTP/1.1\" 200 -\n"
     ]
    },
    {
     "name": "stdout",
     "output_type": "stream",
     "text": [
      "바게트\n",
      "메뉴 이름이 잘못되었습니다.\n",
      "{'status': 'success', 'similarMenus': ['유사한 메뉴가 존재하지 않습니다...'], 'menu': '바게트', 'menuInfo': [], 'menuIngred': []}\n",
      "바게트\n",
      "메뉴 이름이 잘못되었습니다.\n",
      "{'status': 'success', 'similarMenus': ['유사한 메뉴가 존재하지 않습니다...'], 'menu': '바게트', 'menuInfo': [], 'menuIngred': []}\n"
     ]
    },
    {
     "name": "stderr",
     "output_type": "stream",
     "text": [
      "127.0.0.1 - - [08/Jan/2025 09:12:38] \"POST /analyze-menu HTTP/1.1\" 200 -\n"
     ]
    },
    {
     "name": "stdout",
     "output_type": "stream",
     "text": [
      "크로플\n",
      "{'status': 'success', 'similarMenus': ['생크림 크로플', '크루키', '크림 몽블랑', '카스테라 몽블랑', '크림치즈 파운드 케이크', '오레오 크럼블', '카스테라 크루아상', '크림 카스테라', '몽블랑 케이크', '허니 마들렌'], 'menu': '크로플', 'menuInfo': ['[바삭함, 달콤함, 부드러운 생크림, 촉촉한 속, 클래식 디저트, 화려함, 만족감, 고급스러움, 풍미 깊음, 사랑스러움]', '[고소함, 바삭함, 부드러운 크림 필링, 촉촉한 질감, 독특한 조합, 클래식 디저트, 만족감, 고급스러움, 화려함, 풍부함]', '[부드러움, 달콤함, 크리미한 밤 크림, 촉촉한 질감, 클래식 디저트, 고급스러움, 만족감, 화려함, 정겨움, 풍미 깊음]', '[부드러움, 달콤함, 촉촉한 카스테라, 진한 밤 크림, 클래식 디저트, 고급스러움, 만족감, 화려함, 독특함, 사랑스러움]', '[고소함, 크리미함, 달콤함, 촉촉한 질감, 풍부한 크림치즈 풍미, 클래식 디저트, 고급스러움, 만족감, 풍미 깊음, 사랑스러움]', '[달콤함, 바삭한 오레오 조각, 촉촉한 중심, 풍부한 크림 필링, 독특한 디저트, 고급스러움, 만족감, 화려함, 창의적, 사랑스러움]', '[바삭함, 달콤함, 부드러운 카스테라, 촉촉한 크루아상, 클래식 디저트, 고급스러움, 만족감, 화려함, 독특함, 정겨움]', '[부드러움, 달콤함, 촉촉한 질감, 크리미한 크림, 클래식 디저트, 고급스러움, 만족감, 화사함, 심플함, 사랑스러움]', '[달콤함, 고소함, 부드러운 질감, 촉촉한 밤 크림, 클래식 디저트, 고급스러움, 만족감, 화려함, 전통적, 풍미 깊음]', '[달콤함, 부드러운 질감, 은은한 꿀 향, 촉촉함, 클래식 디저트, 고급스러움, 만족감, 화려함, 사랑스러움, 정겨움]'], 'menuIngred': [\"[ '크로와상 반죽, 설탕, 버터, 생크림, 메이플 시럽, 슈가파우더']\", \"[ '밀가루', '설탕', '버터', '달걀', '소금', '베이킹파우더', '초콜릿', '바닐라 추출물']\", \"[ '버터', '설탕', '계란', '밀가루', '슈가파우더', '크림', '마롱', '바닐라', '생크림', '휘핑크림']\", \"[ '밀가루, 설탕, 계란, 우유, 버터, 이스트, 밤, 크림, 바닐라 추출물']\", \"[ '크림치즈', '버터', '설탕', '밀가루', '베이킹파우더', '소금', '계란', '우유', '바닐라 익스트랙', '레몬 제스트']\", \"[ '오레오 쿠키', '초콜릿 시럽', '휘핑크림', '바닐라 아이스크림', '초콜릿 가루']\", \"[ '크루아상 반죽', '계란', '밀가루', '설탕', '버터', '바닐라 익스트랙', '소금']\", \"[ '박력분, 설탕, 계란, 우유, 버터, 베이킹파우더, 소금, 바닐라 추출물, 생크림']\", \"[ '버터, 설탕, 달걀, 밀가루, 아몬드 가루, 베이킹 파우더, 크림, 슈가 파우더, 밤, 바닐라 엑스트랙트']\", \"[ '밀가루', '베이킹 파우더', '소금', '설탕', '계란', '버터', '허니', '우유', '레몬 제스트']\"]}\n"
     ]
    },
    {
     "name": "stderr",
     "output_type": "stream",
     "text": [
      "127.0.0.1 - - [08/Jan/2025 09:29:27] \"POST /analyze-menu HTTP/1.1\" 200 -\n"
     ]
    },
    {
     "name": "stdout",
     "output_type": "stream",
     "text": [
      "크로플\n",
      "{'status': 'success', 'similarMenus': ['생크림 크로플', '크루키', '크림 몽블랑', '카스테라 몽블랑', '크림치즈 파운드 케이크', '오레오 크럼블', '카스테라 크루아상', '크림 카스테라', '몽블랑 케이크', '허니 마들렌'], 'menu': '크로플', 'menuInfo': ['[바삭함, 달콤함, 부드러운 생크림, 촉촉한 속, 클래식 디저트, 화려함, 만족감, 고급스러움, 풍미 깊음, 사랑스러움]', '[고소함, 바삭함, 부드러운 크림 필링, 촉촉한 질감, 독특한 조합, 클래식 디저트, 만족감, 고급스러움, 화려함, 풍부함]', '[부드러움, 달콤함, 크리미한 밤 크림, 촉촉한 질감, 클래식 디저트, 고급스러움, 만족감, 화려함, 정겨움, 풍미 깊음]', '[부드러움, 달콤함, 촉촉한 카스테라, 진한 밤 크림, 클래식 디저트, 고급스러움, 만족감, 화려함, 독특함, 사랑스러움]', '[고소함, 크리미함, 달콤함, 촉촉한 질감, 풍부한 크림치즈 풍미, 클래식 디저트, 고급스러움, 만족감, 풍미 깊음, 사랑스러움]', '[달콤함, 바삭한 오레오 조각, 촉촉한 중심, 풍부한 크림 필링, 독특한 디저트, 고급스러움, 만족감, 화려함, 창의적, 사랑스러움]', '[바삭함, 달콤함, 부드러운 카스테라, 촉촉한 크루아상, 클래식 디저트, 고급스러움, 만족감, 화려함, 독특함, 정겨움]', '[부드러움, 달콤함, 촉촉한 질감, 크리미한 크림, 클래식 디저트, 고급스러움, 만족감, 화사함, 심플함, 사랑스러움]', '[달콤함, 고소함, 부드러운 질감, 촉촉한 밤 크림, 클래식 디저트, 고급스러움, 만족감, 화려함, 전통적, 풍미 깊음]', '[달콤함, 부드러운 질감, 은은한 꿀 향, 촉촉함, 클래식 디저트, 고급스러움, 만족감, 화려함, 사랑스러움, 정겨움]'], 'menuIngred': [\"[ '크로와상 반죽, 설탕, 버터, 생크림, 메이플 시럽, 슈가파우더']\", \"[ '밀가루', '설탕', '버터', '달걀', '소금', '베이킹파우더', '초콜릿', '바닐라 추출물']\", \"[ '버터', '설탕', '계란', '밀가루', '슈가파우더', '크림', '마롱', '바닐라', '생크림', '휘핑크림']\", \"[ '밀가루, 설탕, 계란, 우유, 버터, 이스트, 밤, 크림, 바닐라 추출물']\", \"[ '크림치즈', '버터', '설탕', '밀가루', '베이킹파우더', '소금', '계란', '우유', '바닐라 익스트랙', '레몬 제스트']\", \"[ '오레오 쿠키', '초콜릿 시럽', '휘핑크림', '바닐라 아이스크림', '초콜릿 가루']\", \"[ '크루아상 반죽', '계란', '밀가루', '설탕', '버터', '바닐라 익스트랙', '소금']\", \"[ '박력분, 설탕, 계란, 우유, 버터, 베이킹파우더, 소금, 바닐라 추출물, 생크림']\", \"[ '버터, 설탕, 달걀, 밀가루, 아몬드 가루, 베이킹 파우더, 크림, 슈가 파우더, 밤, 바닐라 엑스트랙트']\", \"[ '밀가루', '베이킹 파우더', '소금', '설탕', '계란', '버터', '허니', '우유', '레몬 제스트']\"]}\n"
     ]
    },
    {
     "name": "stderr",
     "output_type": "stream",
     "text": [
      "127.0.0.1 - - [08/Jan/2025 09:30:56] \"POST /analyze-menu HTTP/1.1\" 200 -\n",
      "127.0.0.1 - - [08/Jan/2025 09:30:56] \"POST /analyze-menu HTTP/1.1\" 200 -\n"
     ]
    },
    {
     "name": "stdout",
     "output_type": "stream",
     "text": [
      "초코 크루아상\n",
      "{'status': 'success', 'similarMenus': ['초코 휘낭시에', '모카 휘낭시에', '초코 까눌레', '초코 몽블랑', '초콜렛 마카롱', '가나슈 쿠키', '마카롱 크런치', '초코 머핀', '브라우니 쿠키', '초코 크레페'], 'menu': '초코 크루아상', 'menuInfo': ['[진한 초콜릿, 달콤함, 바삭한 겉면, 촉촉한 중심, 클래식 디저트, 고급스러움, 만족감, 풍미 깊음, 농후함, 부드러움]', '[진한 커피 풍미, 달콤함, 바삭한 겉면, 촉촉한 중심, 클래식 디저트, 고급스러움, 만족감, 풍미 깊음, 깔끔함, 화려함]', '[진한 초콜릿, 달콤함, 바삭한 겉면, 촉촉한 중심, 클래식 디저트, 고급스러움, 만족감, 농후함, 화려함, 사랑스러움]', '[진한 초콜릿, 달콤함, 부드러운 크림, 촉촉한 질감, 화려한 디저트, 고급스러움, 만족감, 화사함, 농후함, 사랑스러움]', '[진한 초콜릿, 달콤함, 바삭한 겉면, 부드러운 중심, 고급스러운 필링, 클래식 디저트, 만족감, 풍미 깊음, 농후함, 사랑스러움]', '[달콤함, 진한 초콜릿 풍미, 바삭한 겉면, 촉촉한 중심, 크리미한 필링, 고급 디저트, 만족감, 풍미 깊음, 농후함, 클래식함]', '[바삭함, 달콤함, 크리미한 마카롱 필링, 촉촉한 중심, 화려한 디저트, 고급스러움, 만족감, 화사함, 독특함, 사랑스러움]', '[진한 초콜릿, 달콤함, 부드러운 속, 촉촉한 식감, 클래식 디저트, 고급스러움, 만족감, 풍미 깊음, 농후함, 사랑스러움]', '[진한 초콜릿, 달콤함, 바삭함, 촉촉한 중심, 풍미 깊음, 클래식 디저트, 만족감, 고급스러움, 농후함, 담백함]', '[부드러움, 진한 초콜릿, 얇고 부드러운 크레페, 달콤함, 화려한 디저트, 고급스러움, 만족감, 사랑스러움, 화사함, 농후함]'], 'menuIngred': [\"[ '밀가루', '코코아 가루', '아몬드 가루', '설탕', '버터', '계란 흰자', '소금', '베이킹 파우더', '초콜릿 칩 (옵션)']\", \"[ '버터', '설탕', '아몬드 가루', '밀가루', '베이킹 파우더', '계란', '인스턴트 커피', '다크초콜릿', '생크림', '소금']\", \"[ '밀가루', '코코아 파우더', '설탕', '계란', '버터', '우유', '바닐라', '베이킹 파우더', '소금']\", \"[ '초콜릿', '생크림', '슈가파우더', '계란', '밀가루', '버터', '코코아 파우더', '베이킹 파우더', '바닐라 추출물', '소금', '초콜릿 칩']\", \"[ '아몬드 가루', '슈가파우더', '달걀흰자', '설탕', '코코아 파우더', '버터', '생크림', '바닐라 추출물', '초콜렛']\", \"[ '버터', '슈가파우더', '밀가루', '코코아파우더', '베이킹파우더', '계란', '초콜릿', '생크림', '소금']\", \"[ '아몬드 가루', '설탕', '계란 흰자', '버터', '바닐라 익스트랙', '생크림', '화이트 초콜릿', '크런치 초콜릿', '색소']\", \"[ '밀가루', '베이킹 파우더', '소금', '설탕', '계란', '우유', '버터', '초콜릿 칩', '코코아 가루', '바닐라 엑스트랙트']\", \"[ '다크 초콜릿, 버터, 설탕, 밀가루, 달걀, 베이킹 파우더, 코코아 파우더, 소금, 바닐라 추출물']\", \"[ '밀가루', '코코아 파우더', '설탕', '달걀', '우유', '버터', '소금', '다크초콜릿', '생크림', '슈가파우더']\"]}\n",
      "초코 크루아상\n",
      "{'status': 'success', 'similarMenus': ['초코 휘낭시에', '모카 휘낭시에', '초코 까눌레', '초코 몽블랑', '초콜렛 마카롱', '가나슈 쿠키', '마카롱 크런치', '초코 머핀', '브라우니 쿠키', '초코 크레페'], 'menu': '초코 크루아상', 'menuInfo': ['[진한 초콜릿, 달콤함, 바삭한 겉면, 촉촉한 중심, 클래식 디저트, 고급스러움, 만족감, 풍미 깊음, 농후함, 부드러움]', '[진한 커피 풍미, 달콤함, 바삭한 겉면, 촉촉한 중심, 클래식 디저트, 고급스러움, 만족감, 풍미 깊음, 깔끔함, 화려함]', '[진한 초콜릿, 달콤함, 바삭한 겉면, 촉촉한 중심, 클래식 디저트, 고급스러움, 만족감, 농후함, 화려함, 사랑스러움]', '[진한 초콜릿, 달콤함, 부드러운 크림, 촉촉한 질감, 화려한 디저트, 고급스러움, 만족감, 화사함, 농후함, 사랑스러움]', '[진한 초콜릿, 달콤함, 바삭한 겉면, 부드러운 중심, 고급스러운 필링, 클래식 디저트, 만족감, 풍미 깊음, 농후함, 사랑스러움]', '[달콤함, 진한 초콜릿 풍미, 바삭한 겉면, 촉촉한 중심, 크리미한 필링, 고급 디저트, 만족감, 풍미 깊음, 농후함, 클래식함]', '[바삭함, 달콤함, 크리미한 마카롱 필링, 촉촉한 중심, 화려한 디저트, 고급스러움, 만족감, 화사함, 독특함, 사랑스러움]', '[진한 초콜릿, 달콤함, 부드러운 속, 촉촉한 식감, 클래식 디저트, 고급스러움, 만족감, 풍미 깊음, 농후함, 사랑스러움]', '[진한 초콜릿, 달콤함, 바삭함, 촉촉한 중심, 풍미 깊음, 클래식 디저트, 만족감, 고급스러움, 농후함, 담백함]', '[부드러움, 진한 초콜릿, 얇고 부드러운 크레페, 달콤함, 화려한 디저트, 고급스러움, 만족감, 사랑스러움, 화사함, 농후함]'], 'menuIngred': [\"[ '밀가루', '코코아 가루', '아몬드 가루', '설탕', '버터', '계란 흰자', '소금', '베이킹 파우더', '초콜릿 칩 (옵션)']\", \"[ '버터', '설탕', '아몬드 가루', '밀가루', '베이킹 파우더', '계란', '인스턴트 커피', '다크초콜릿', '생크림', '소금']\", \"[ '밀가루', '코코아 파우더', '설탕', '계란', '버터', '우유', '바닐라', '베이킹 파우더', '소금']\", \"[ '초콜릿', '생크림', '슈가파우더', '계란', '밀가루', '버터', '코코아 파우더', '베이킹 파우더', '바닐라 추출물', '소금', '초콜릿 칩']\", \"[ '아몬드 가루', '슈가파우더', '달걀흰자', '설탕', '코코아 파우더', '버터', '생크림', '바닐라 추출물', '초콜렛']\", \"[ '버터', '슈가파우더', '밀가루', '코코아파우더', '베이킹파우더', '계란', '초콜릿', '생크림', '소금']\", \"[ '아몬드 가루', '설탕', '계란 흰자', '버터', '바닐라 익스트랙', '생크림', '화이트 초콜릿', '크런치 초콜릿', '색소']\", \"[ '밀가루', '베이킹 파우더', '소금', '설탕', '계란', '우유', '버터', '초콜릿 칩', '코코아 가루', '바닐라 엑스트랙트']\", \"[ '다크 초콜릿, 버터, 설탕, 밀가루, 달걀, 베이킹 파우더, 코코아 파우더, 소금, 바닐라 추출물']\", \"[ '밀가루', '코코아 파우더', '설탕', '달걀', '우유', '버터', '소금', '다크초콜릿', '생크림', '슈가파우더']\"]}\n"
     ]
    },
    {
     "name": "stderr",
     "output_type": "stream",
     "text": [
      "127.0.0.1 - - [08/Jan/2025 09:31:27] \"POST /analyze-menu HTTP/1.1\" 200 -\n"
     ]
    },
    {
     "name": "stdout",
     "output_type": "stream",
     "text": [
      "초코 크루아상\n",
      "{'status': 'success', 'similarMenus': ['초코 휘낭시에', '모카 휘낭시에', '초코 까눌레', '초코 몽블랑', '초콜렛 마카롱', '가나슈 쿠키', '마카롱 크런치', '초코 머핀', '브라우니 쿠키', '초코 크레페'], 'menu': '초코 크루아상', 'menuInfo': ['[진한 초콜릿, 달콤함, 바삭한 겉면, 촉촉한 중심, 클래식 디저트, 고급스러움, 만족감, 풍미 깊음, 농후함, 부드러움]', '[진한 커피 풍미, 달콤함, 바삭한 겉면, 촉촉한 중심, 클래식 디저트, 고급스러움, 만족감, 풍미 깊음, 깔끔함, 화려함]', '[진한 초콜릿, 달콤함, 바삭한 겉면, 촉촉한 중심, 클래식 디저트, 고급스러움, 만족감, 농후함, 화려함, 사랑스러움]', '[진한 초콜릿, 달콤함, 부드러운 크림, 촉촉한 질감, 화려한 디저트, 고급스러움, 만족감, 화사함, 농후함, 사랑스러움]', '[진한 초콜릿, 달콤함, 바삭한 겉면, 부드러운 중심, 고급스러운 필링, 클래식 디저트, 만족감, 풍미 깊음, 농후함, 사랑스러움]', '[달콤함, 진한 초콜릿 풍미, 바삭한 겉면, 촉촉한 중심, 크리미한 필링, 고급 디저트, 만족감, 풍미 깊음, 농후함, 클래식함]', '[바삭함, 달콤함, 크리미한 마카롱 필링, 촉촉한 중심, 화려한 디저트, 고급스러움, 만족감, 화사함, 독특함, 사랑스러움]', '[진한 초콜릿, 달콤함, 부드러운 속, 촉촉한 식감, 클래식 디저트, 고급스러움, 만족감, 풍미 깊음, 농후함, 사랑스러움]', '[진한 초콜릿, 달콤함, 바삭함, 촉촉한 중심, 풍미 깊음, 클래식 디저트, 만족감, 고급스러움, 농후함, 담백함]', '[부드러움, 진한 초콜릿, 얇고 부드러운 크레페, 달콤함, 화려한 디저트, 고급스러움, 만족감, 사랑스러움, 화사함, 농후함]'], 'menuIngred': [\"[ '밀가루', '코코아 가루', '아몬드 가루', '설탕', '버터', '계란 흰자', '소금', '베이킹 파우더', '초콜릿 칩 (옵션)']\", \"[ '버터', '설탕', '아몬드 가루', '밀가루', '베이킹 파우더', '계란', '인스턴트 커피', '다크초콜릿', '생크림', '소금']\", \"[ '밀가루', '코코아 파우더', '설탕', '계란', '버터', '우유', '바닐라', '베이킹 파우더', '소금']\", \"[ '초콜릿', '생크림', '슈가파우더', '계란', '밀가루', '버터', '코코아 파우더', '베이킹 파우더', '바닐라 추출물', '소금', '초콜릿 칩']\", \"[ '아몬드 가루', '슈가파우더', '달걀흰자', '설탕', '코코아 파우더', '버터', '생크림', '바닐라 추출물', '초콜렛']\", \"[ '버터', '슈가파우더', '밀가루', '코코아파우더', '베이킹파우더', '계란', '초콜릿', '생크림', '소금']\", \"[ '아몬드 가루', '설탕', '계란 흰자', '버터', '바닐라 익스트랙', '생크림', '화이트 초콜릿', '크런치 초콜릿', '색소']\", \"[ '밀가루', '베이킹 파우더', '소금', '설탕', '계란', '우유', '버터', '초콜릿 칩', '코코아 가루', '바닐라 엑스트랙트']\", \"[ '다크 초콜릿, 버터, 설탕, 밀가루, 달걀, 베이킹 파우더, 코코아 파우더, 소금, 바닐라 추출물']\", \"[ '밀가루', '코코아 파우더', '설탕', '달걀', '우유', '버터', '소금', '다크초콜릿', '생크림', '슈가파우더']\"]}\n"
     ]
    },
    {
     "name": "stderr",
     "output_type": "stream",
     "text": [
      "127.0.0.1 - - [08/Jan/2025 09:31:28] \"POST /analyze-menu HTTP/1.1\" 200 -\n",
      "127.0.0.1 - - [08/Jan/2025 09:31:28] \"POST /analyze-menu HTTP/1.1\" 200 -\n"
     ]
    },
    {
     "name": "stdout",
     "output_type": "stream",
     "text": [
      "초코 크루아상\n",
      "{'status': 'success', 'similarMenus': ['초코 휘낭시에', '모카 휘낭시에', '초코 까눌레', '초코 몽블랑', '초콜렛 마카롱', '가나슈 쿠키', '마카롱 크런치', '초코 머핀', '브라우니 쿠키', '초코 크레페'], 'menu': '초코 크루아상', 'menuInfo': ['[진한 초콜릿, 달콤함, 바삭한 겉면, 촉촉한 중심, 클래식 디저트, 고급스러움, 만족감, 풍미 깊음, 농후함, 부드러움]', '[진한 커피 풍미, 달콤함, 바삭한 겉면, 촉촉한 중심, 클래식 디저트, 고급스러움, 만족감, 풍미 깊음, 깔끔함, 화려함]', '[진한 초콜릿, 달콤함, 바삭한 겉면, 촉촉한 중심, 클래식 디저트, 고급스러움, 만족감, 농후함, 화려함, 사랑스러움]', '[진한 초콜릿, 달콤함, 부드러운 크림, 촉촉한 질감, 화려한 디저트, 고급스러움, 만족감, 화사함, 농후함, 사랑스러움]', '[진한 초콜릿, 달콤함, 바삭한 겉면, 부드러운 중심, 고급스러운 필링, 클래식 디저트, 만족감, 풍미 깊음, 농후함, 사랑스러움]', '[달콤함, 진한 초콜릿 풍미, 바삭한 겉면, 촉촉한 중심, 크리미한 필링, 고급 디저트, 만족감, 풍미 깊음, 농후함, 클래식함]', '[바삭함, 달콤함, 크리미한 마카롱 필링, 촉촉한 중심, 화려한 디저트, 고급스러움, 만족감, 화사함, 독특함, 사랑스러움]', '[진한 초콜릿, 달콤함, 부드러운 속, 촉촉한 식감, 클래식 디저트, 고급스러움, 만족감, 풍미 깊음, 농후함, 사랑스러움]', '[진한 초콜릿, 달콤함, 바삭함, 촉촉한 중심, 풍미 깊음, 클래식 디저트, 만족감, 고급스러움, 농후함, 담백함]', '[부드러움, 진한 초콜릿, 얇고 부드러운 크레페, 달콤함, 화려한 디저트, 고급스러움, 만족감, 사랑스러움, 화사함, 농후함]'], 'menuIngred': [\"[ '밀가루', '코코아 가루', '아몬드 가루', '설탕', '버터', '계란 흰자', '소금', '베이킹 파우더', '초콜릿 칩 (옵션)']\", \"[ '버터', '설탕', '아몬드 가루', '밀가루', '베이킹 파우더', '계란', '인스턴트 커피', '다크초콜릿', '생크림', '소금']\", \"[ '밀가루', '코코아 파우더', '설탕', '계란', '버터', '우유', '바닐라', '베이킹 파우더', '소금']\", \"[ '초콜릿', '생크림', '슈가파우더', '계란', '밀가루', '버터', '코코아 파우더', '베이킹 파우더', '바닐라 추출물', '소금', '초콜릿 칩']\", \"[ '아몬드 가루', '슈가파우더', '달걀흰자', '설탕', '코코아 파우더', '버터', '생크림', '바닐라 추출물', '초콜렛']\", \"[ '버터', '슈가파우더', '밀가루', '코코아파우더', '베이킹파우더', '계란', '초콜릿', '생크림', '소금']\", \"[ '아몬드 가루', '설탕', '계란 흰자', '버터', '바닐라 익스트랙', '생크림', '화이트 초콜릿', '크런치 초콜릿', '색소']\", \"[ '밀가루', '베이킹 파우더', '소금', '설탕', '계란', '우유', '버터', '초콜릿 칩', '코코아 가루', '바닐라 엑스트랙트']\", \"[ '다크 초콜릿, 버터, 설탕, 밀가루, 달걀, 베이킹 파우더, 코코아 파우더, 소금, 바닐라 추출물']\", \"[ '밀가루', '코코아 파우더', '설탕', '달걀', '우유', '버터', '소금', '다크초콜릿', '생크림', '슈가파우더']\"]}\n",
      "카스테라\n",
      "메뉴 이름이 잘못되었습니다.\n",
      "{'status': 'success', 'similarMenus': ['유사한 메뉴가 존재하지 않습니다...'], 'menu': '카스테라', 'menuInfo': [], 'menuIngred': []}\n"
     ]
    },
    {
     "name": "stderr",
     "output_type": "stream",
     "text": [
      "127.0.0.1 - - [08/Jan/2025 09:31:30] \"POST /analyze-menu HTTP/1.1\" 200 -\n",
      "127.0.0.1 - - [08/Jan/2025 09:31:30] \"POST /analyze-menu HTTP/1.1\" 200 -\n",
      "127.0.0.1 - - [08/Jan/2025 09:31:30] \"POST /analyze-menu HTTP/1.1\" 200 -\n"
     ]
    },
    {
     "name": "stdout",
     "output_type": "stream",
     "text": [
      "초코 크루아상\n",
      "{'status': 'success', 'similarMenus': ['초코 휘낭시에', '모카 휘낭시에', '초코 까눌레', '초코 몽블랑', '초콜렛 마카롱', '가나슈 쿠키', '마카롱 크런치', '초코 머핀', '브라우니 쿠키', '초코 크레페'], 'menu': '초코 크루아상', 'menuInfo': ['[진한 초콜릿, 달콤함, 바삭한 겉면, 촉촉한 중심, 클래식 디저트, 고급스러움, 만족감, 풍미 깊음, 농후함, 부드러움]', '[진한 커피 풍미, 달콤함, 바삭한 겉면, 촉촉한 중심, 클래식 디저트, 고급스러움, 만족감, 풍미 깊음, 깔끔함, 화려함]', '[진한 초콜릿, 달콤함, 바삭한 겉면, 촉촉한 중심, 클래식 디저트, 고급스러움, 만족감, 농후함, 화려함, 사랑스러움]', '[진한 초콜릿, 달콤함, 부드러운 크림, 촉촉한 질감, 화려한 디저트, 고급스러움, 만족감, 화사함, 농후함, 사랑스러움]', '[진한 초콜릿, 달콤함, 바삭한 겉면, 부드러운 중심, 고급스러운 필링, 클래식 디저트, 만족감, 풍미 깊음, 농후함, 사랑스러움]', '[달콤함, 진한 초콜릿 풍미, 바삭한 겉면, 촉촉한 중심, 크리미한 필링, 고급 디저트, 만족감, 풍미 깊음, 농후함, 클래식함]', '[바삭함, 달콤함, 크리미한 마카롱 필링, 촉촉한 중심, 화려한 디저트, 고급스러움, 만족감, 화사함, 독특함, 사랑스러움]', '[진한 초콜릿, 달콤함, 부드러운 속, 촉촉한 식감, 클래식 디저트, 고급스러움, 만족감, 풍미 깊음, 농후함, 사랑스러움]', '[진한 초콜릿, 달콤함, 바삭함, 촉촉한 중심, 풍미 깊음, 클래식 디저트, 만족감, 고급스러움, 농후함, 담백함]', '[부드러움, 진한 초콜릿, 얇고 부드러운 크레페, 달콤함, 화려한 디저트, 고급스러움, 만족감, 사랑스러움, 화사함, 농후함]'], 'menuIngred': [\"[ '밀가루', '코코아 가루', '아몬드 가루', '설탕', '버터', '계란 흰자', '소금', '베이킹 파우더', '초콜릿 칩 (옵션)']\", \"[ '버터', '설탕', '아몬드 가루', '밀가루', '베이킹 파우더', '계란', '인스턴트 커피', '다크초콜릿', '생크림', '소금']\", \"[ '밀가루', '코코아 파우더', '설탕', '계란', '버터', '우유', '바닐라', '베이킹 파우더', '소금']\", \"[ '초콜릿', '생크림', '슈가파우더', '계란', '밀가루', '버터', '코코아 파우더', '베이킹 파우더', '바닐라 추출물', '소금', '초콜릿 칩']\", \"[ '아몬드 가루', '슈가파우더', '달걀흰자', '설탕', '코코아 파우더', '버터', '생크림', '바닐라 추출물', '초콜렛']\", \"[ '버터', '슈가파우더', '밀가루', '코코아파우더', '베이킹파우더', '계란', '초콜릿', '생크림', '소금']\", \"[ '아몬드 가루', '설탕', '계란 흰자', '버터', '바닐라 익스트랙', '생크림', '화이트 초콜릿', '크런치 초콜릿', '색소']\", \"[ '밀가루', '베이킹 파우더', '소금', '설탕', '계란', '우유', '버터', '초콜릿 칩', '코코아 가루', '바닐라 엑스트랙트']\", \"[ '다크 초콜릿, 버터, 설탕, 밀가루, 달걀, 베이킹 파우더, 코코아 파우더, 소금, 바닐라 추출물']\", \"[ '밀가루', '코코아 파우더', '설탕', '달걀', '우유', '버터', '소금', '다크초콜릿', '생크림', '슈가파우더']\"]}\n",
      "카스테라\n",
      "메뉴 이름이 잘못되었습니다.\n",
      "{'status': 'success', 'similarMenus': ['유사한 메뉴가 존재하지 않습니다...'], 'menu': '카스테라', 'menuInfo': [], 'menuIngred': []}\n",
      "초코 크루아상\n",
      "{'status': 'success', 'similarMenus': ['초코 휘낭시에', '모카 휘낭시에', '초코 까눌레', '초코 몽블랑', '초콜렛 마카롱', '가나슈 쿠키', '마카롱 크런치', '초코 머핀', '브라우니 쿠키', '초코 크레페'], 'menu': '초코 크루아상', 'menuInfo': ['[진한 초콜릿, 달콤함, 바삭한 겉면, 촉촉한 중심, 클래식 디저트, 고급스러움, 만족감, 풍미 깊음, 농후함, 부드러움]', '[진한 커피 풍미, 달콤함, 바삭한 겉면, 촉촉한 중심, 클래식 디저트, 고급스러움, 만족감, 풍미 깊음, 깔끔함, 화려함]', '[진한 초콜릿, 달콤함, 바삭한 겉면, 촉촉한 중심, 클래식 디저트, 고급스러움, 만족감, 농후함, 화려함, 사랑스러움]', '[진한 초콜릿, 달콤함, 부드러운 크림, 촉촉한 질감, 화려한 디저트, 고급스러움, 만족감, 화사함, 농후함, 사랑스러움]', '[진한 초콜릿, 달콤함, 바삭한 겉면, 부드러운 중심, 고급스러운 필링, 클래식 디저트, 만족감, 풍미 깊음, 농후함, 사랑스러움]', '[달콤함, 진한 초콜릿 풍미, 바삭한 겉면, 촉촉한 중심, 크리미한 필링, 고급 디저트, 만족감, 풍미 깊음, 농후함, 클래식함]', '[바삭함, 달콤함, 크리미한 마카롱 필링, 촉촉한 중심, 화려한 디저트, 고급스러움, 만족감, 화사함, 독특함, 사랑스러움]', '[진한 초콜릿, 달콤함, 부드러운 속, 촉촉한 식감, 클래식 디저트, 고급스러움, 만족감, 풍미 깊음, 농후함, 사랑스러움]', '[진한 초콜릿, 달콤함, 바삭함, 촉촉한 중심, 풍미 깊음, 클래식 디저트, 만족감, 고급스러움, 농후함, 담백함]', '[부드러움, 진한 초콜릿, 얇고 부드러운 크레페, 달콤함, 화려한 디저트, 고급스러움, 만족감, 사랑스러움, 화사함, 농후함]'], 'menuIngred': [\"[ '밀가루', '코코아 가루', '아몬드 가루', '설탕', '버터', '계란 흰자', '소금', '베이킹 파우더', '초콜릿 칩 (옵션)']\", \"[ '버터', '설탕', '아몬드 가루', '밀가루', '베이킹 파우더', '계란', '인스턴트 커피', '다크초콜릿', '생크림', '소금']\", \"[ '밀가루', '코코아 파우더', '설탕', '계란', '버터', '우유', '바닐라', '베이킹 파우더', '소금']\", \"[ '초콜릿', '생크림', '슈가파우더', '계란', '밀가루', '버터', '코코아 파우더', '베이킹 파우더', '바닐라 추출물', '소금', '초콜릿 칩']\", \"[ '아몬드 가루', '슈가파우더', '달걀흰자', '설탕', '코코아 파우더', '버터', '생크림', '바닐라 추출물', '초콜렛']\", \"[ '버터', '슈가파우더', '밀가루', '코코아파우더', '베이킹파우더', '계란', '초콜릿', '생크림', '소금']\", \"[ '아몬드 가루', '설탕', '계란 흰자', '버터', '바닐라 익스트랙', '생크림', '화이트 초콜릿', '크런치 초콜릿', '색소']\", \"[ '밀가루', '베이킹 파우더', '소금', '설탕', '계란', '우유', '버터', '초콜릿 칩', '코코아 가루', '바닐라 엑스트랙트']\", \"[ '다크 초콜릿, 버터, 설탕, 밀가루, 달걀, 베이킹 파우더, 코코아 파우더, 소금, 바닐라 추출물']\", \"[ '밀가루', '코코아 파우더', '설탕', '달걀', '우유', '버터', '소금', '다크초콜릿', '생크림', '슈가파우더']\"]}\n"
     ]
    },
    {
     "name": "stderr",
     "output_type": "stream",
     "text": [
      "127.0.0.1 - - [08/Jan/2025 09:31:30] \"POST /analyze-menu HTTP/1.1\" 200 -\n"
     ]
    },
    {
     "name": "stdout",
     "output_type": "stream",
     "text": [
      "카스테라\n",
      "메뉴 이름이 잘못되었습니다.\n",
      "{'status': 'success', 'similarMenus': ['유사한 메뉴가 존재하지 않습니다...'], 'menu': '카스테라', 'menuInfo': [], 'menuIngred': []}\n"
     ]
    },
    {
     "name": "stderr",
     "output_type": "stream",
     "text": [
      "127.0.0.1 - - [08/Jan/2025 09:31:31] \"POST /analyze-menu HTTP/1.1\" 200 -\n",
      "127.0.0.1 - - [08/Jan/2025 09:31:31] \"POST /analyze-menu HTTP/1.1\" 200 -\n"
     ]
    },
    {
     "name": "stdout",
     "output_type": "stream",
     "text": [
      "초코 크루아상\n",
      "{'status': 'success', 'similarMenus': ['초코 휘낭시에', '모카 휘낭시에', '초코 까눌레', '초코 몽블랑', '초콜렛 마카롱', '가나슈 쿠키', '마카롱 크런치', '초코 머핀', '브라우니 쿠키', '초코 크레페'], 'menu': '초코 크루아상', 'menuInfo': ['[진한 초콜릿, 달콤함, 바삭한 겉면, 촉촉한 중심, 클래식 디저트, 고급스러움, 만족감, 풍미 깊음, 농후함, 부드러움]', '[진한 커피 풍미, 달콤함, 바삭한 겉면, 촉촉한 중심, 클래식 디저트, 고급스러움, 만족감, 풍미 깊음, 깔끔함, 화려함]', '[진한 초콜릿, 달콤함, 바삭한 겉면, 촉촉한 중심, 클래식 디저트, 고급스러움, 만족감, 농후함, 화려함, 사랑스러움]', '[진한 초콜릿, 달콤함, 부드러운 크림, 촉촉한 질감, 화려한 디저트, 고급스러움, 만족감, 화사함, 농후함, 사랑스러움]', '[진한 초콜릿, 달콤함, 바삭한 겉면, 부드러운 중심, 고급스러운 필링, 클래식 디저트, 만족감, 풍미 깊음, 농후함, 사랑스러움]', '[달콤함, 진한 초콜릿 풍미, 바삭한 겉면, 촉촉한 중심, 크리미한 필링, 고급 디저트, 만족감, 풍미 깊음, 농후함, 클래식함]', '[바삭함, 달콤함, 크리미한 마카롱 필링, 촉촉한 중심, 화려한 디저트, 고급스러움, 만족감, 화사함, 독특함, 사랑스러움]', '[진한 초콜릿, 달콤함, 부드러운 속, 촉촉한 식감, 클래식 디저트, 고급스러움, 만족감, 풍미 깊음, 농후함, 사랑스러움]', '[진한 초콜릿, 달콤함, 바삭함, 촉촉한 중심, 풍미 깊음, 클래식 디저트, 만족감, 고급스러움, 농후함, 담백함]', '[부드러움, 진한 초콜릿, 얇고 부드러운 크레페, 달콤함, 화려한 디저트, 고급스러움, 만족감, 사랑스러움, 화사함, 농후함]'], 'menuIngred': [\"[ '밀가루', '코코아 가루', '아몬드 가루', '설탕', '버터', '계란 흰자', '소금', '베이킹 파우더', '초콜릿 칩 (옵션)']\", \"[ '버터', '설탕', '아몬드 가루', '밀가루', '베이킹 파우더', '계란', '인스턴트 커피', '다크초콜릿', '생크림', '소금']\", \"[ '밀가루', '코코아 파우더', '설탕', '계란', '버터', '우유', '바닐라', '베이킹 파우더', '소금']\", \"[ '초콜릿', '생크림', '슈가파우더', '계란', '밀가루', '버터', '코코아 파우더', '베이킹 파우더', '바닐라 추출물', '소금', '초콜릿 칩']\", \"[ '아몬드 가루', '슈가파우더', '달걀흰자', '설탕', '코코아 파우더', '버터', '생크림', '바닐라 추출물', '초콜렛']\", \"[ '버터', '슈가파우더', '밀가루', '코코아파우더', '베이킹파우더', '계란', '초콜릿', '생크림', '소금']\", \"[ '아몬드 가루', '설탕', '계란 흰자', '버터', '바닐라 익스트랙', '생크림', '화이트 초콜릿', '크런치 초콜릿', '색소']\", \"[ '밀가루', '베이킹 파우더', '소금', '설탕', '계란', '우유', '버터', '초콜릿 칩', '코코아 가루', '바닐라 엑스트랙트']\", \"[ '다크 초콜릿, 버터, 설탕, 밀가루, 달걀, 베이킹 파우더, 코코아 파우더, 소금, 바닐라 추출물']\", \"[ '밀가루', '코코아 파우더', '설탕', '달걀', '우유', '버터', '소금', '다크초콜릿', '생크림', '슈가파우더']\"]}\n",
      "카스테라\n",
      "메뉴 이름이 잘못되었습니다.\n",
      "{'status': 'success', 'similarMenus': ['유사한 메뉴가 존재하지 않습니다...'], 'menu': '카스테라', 'menuInfo': [], 'menuIngred': []}\n"
     ]
    },
    {
     "name": "stderr",
     "output_type": "stream",
     "text": [
      "127.0.0.1 - - [08/Jan/2025 09:31:49] \"POST /analyze-menu HTTP/1.1\" 200 -\n",
      "127.0.0.1 - - [08/Jan/2025 09:31:49] \"POST /analyze-menu HTTP/1.1\" 200 -\n"
     ]
    },
    {
     "name": "stdout",
     "output_type": "stream",
     "text": [
      "치킨 샌드위치\n",
      "{'status': 'success', 'similarMenus': ['닭가슴살 샌드위치', '샐러드 샌드위치', '햄 치즈 치아바타', '함박 샌드위치', '통밀 샌드위치', '리코타 치즈 샌드위치', '반미 샌드위치', '미트볼 샌드위치', '콘치즈 파이', '머쉬룸 샌드위치'], 'menu': '치킨 샌드위치', 'menuInfo': ['[고소함, 담백함, 신선한 채소, 쫄깃한 빵, 건강한 선택, 든든한 한 끼, 자연주의, 만족감, 깔끔함, 클래식 감성]', '[신선함, 담백함, 고소한 맛, 바삭한 채소, 촉촉한 빵, 건강한 선택, 자연주의, 만족감, 클래식 감성, 깔끔함]', '[고소함, 짭짤함, 부드러운 치즈, 쫄깃한 치아바타, 든든한 한 끼, 클래식 감성, 만족감, 건강한 선택, 촉촉함, 풍미 깊음]', '[고소함, 풍부한 맛, 촉촉한 패티, 부드러운 빵, 든든한 한 끼, 클래식 감성, 만족감, 건강한 선택, 풍미 깊음, 따뜻함]', '[담백함, 고소함, 쫄깃한 식감, 건강한 통밀 빵, 신선한 채소 조합, 자연주의, 만족감, 깔끔함, 심플함, 건강한 감성]', '[담백함, 고소함, 부드러운 리코타 치즈, 신선한 채소, 쫄깃한 빵, 건강한 조화, 자연주의, 만족감, 깔끔함, 클래식 감성]', '[짭짤함, 고소함, 신선한 채소, 쫄깃한 바게트, 건강한 선택, 이국적 감성, 만족감, 풍미 깊음, 자연주의, 독특함]', '[고소함, 짭짤함, 풍부한 풍미, 부드러운 미트볼, 쫄깃한 빵, 든든한 식사, 클래식 감성, 만족감, 따뜻함, 건강한 선택]', '[고소함, 짭짤함, 바삭한 크러스트, 크리미한 콘치즈 속, 든든한 간식, 클래식 감성, 만족감, 풍미 깊음, 촉촉함, 정겨움]', '[고소함, 풍미 깊음, 신선한 버섯, 쫄깃한 빵, 건강한 감성, 든든한 식사, 클래식 감성, 만족감, 자연주의, 독특함]'], 'menuIngred': [\"[ '닭가슴살', '치아바타 빵', '상추', '토마토', '치즈', '마요네즈', '머스터드', '소금', '후추']\", \"[ '식빵, 양상추, 토마토, 오이, 삶은 계란, 마요네즈, 소금, 후추']\", \"[ '치아바타 빵, 슬라이스 햄, 슬라이스 치즈, 버터, 양상추, 토마토']\", \"[ '햄버거 빵', '소고기 패티', '양파', '상추', '토마토', '피클', '치즈', '마요네즈', '머스터드', '버터']\", \"[ '통밀 빵', '햄', '치즈', '상추', '토마토', '오이', '머스타드', '마요네즈']\", \"[ '리코타 치즈', '식빵', '상추', '토마토', '올리브유', '소금', '후추']\", \"[ '반미 빵', '돼지고기', '오이', '당근', '고수', '마요네즈', '칠리소스', '간장', '소금', '후추']\", \"[ '미트볼', '식빵', '토마토', '양상추', '모짜렐라 치즈', '마리나라 소스', '소금', '후추']\", \"[ '파이 반죽', '옥수수', '체다 치즈', '크림치즈', '버터', '소금', '후추']\", \"[ '식빵', '버섯', '양파', '마늘', '상추', '체다 치즈', '마요네즈', '올리브 오일', '소금', '후추']\"]}\n",
      "카스테라\n",
      "메뉴 이름이 잘못되었습니다.\n",
      "{'status': 'success', 'similarMenus': ['유사한 메뉴가 존재하지 않습니다...'], 'menu': '카스테라', 'menuInfo': [], 'menuIngred': []}\n"
     ]
    },
    {
     "name": "stderr",
     "output_type": "stream",
     "text": [
      "127.0.0.1 - - [08/Jan/2025 09:31:50] \"POST /analyze-menu HTTP/1.1\" 200 -\n",
      "127.0.0.1 - - [08/Jan/2025 09:31:50] \"POST /analyze-menu HTTP/1.1\" 200 -\n"
     ]
    },
    {
     "name": "stdout",
     "output_type": "stream",
     "text": [
      "치킨 샌드위치\n",
      "{'status': 'success', 'similarMenus': ['닭가슴살 샌드위치', '샐러드 샌드위치', '햄 치즈 치아바타', '함박 샌드위치', '통밀 샌드위치', '리코타 치즈 샌드위치', '반미 샌드위치', '미트볼 샌드위치', '콘치즈 파이', '머쉬룸 샌드위치'], 'menu': '치킨 샌드위치', 'menuInfo': ['[고소함, 담백함, 신선한 채소, 쫄깃한 빵, 건강한 선택, 든든한 한 끼, 자연주의, 만족감, 깔끔함, 클래식 감성]', '[신선함, 담백함, 고소한 맛, 바삭한 채소, 촉촉한 빵, 건강한 선택, 자연주의, 만족감, 클래식 감성, 깔끔함]', '[고소함, 짭짤함, 부드러운 치즈, 쫄깃한 치아바타, 든든한 한 끼, 클래식 감성, 만족감, 건강한 선택, 촉촉함, 풍미 깊음]', '[고소함, 풍부한 맛, 촉촉한 패티, 부드러운 빵, 든든한 한 끼, 클래식 감성, 만족감, 건강한 선택, 풍미 깊음, 따뜻함]', '[담백함, 고소함, 쫄깃한 식감, 건강한 통밀 빵, 신선한 채소 조합, 자연주의, 만족감, 깔끔함, 심플함, 건강한 감성]', '[담백함, 고소함, 부드러운 리코타 치즈, 신선한 채소, 쫄깃한 빵, 건강한 조화, 자연주의, 만족감, 깔끔함, 클래식 감성]', '[짭짤함, 고소함, 신선한 채소, 쫄깃한 바게트, 건강한 선택, 이국적 감성, 만족감, 풍미 깊음, 자연주의, 독특함]', '[고소함, 짭짤함, 풍부한 풍미, 부드러운 미트볼, 쫄깃한 빵, 든든한 식사, 클래식 감성, 만족감, 따뜻함, 건강한 선택]', '[고소함, 짭짤함, 바삭한 크러스트, 크리미한 콘치즈 속, 든든한 간식, 클래식 감성, 만족감, 풍미 깊음, 촉촉함, 정겨움]', '[고소함, 풍미 깊음, 신선한 버섯, 쫄깃한 빵, 건강한 감성, 든든한 식사, 클래식 감성, 만족감, 자연주의, 독특함]'], 'menuIngred': [\"[ '닭가슴살', '치아바타 빵', '상추', '토마토', '치즈', '마요네즈', '머스터드', '소금', '후추']\", \"[ '식빵, 양상추, 토마토, 오이, 삶은 계란, 마요네즈, 소금, 후추']\", \"[ '치아바타 빵, 슬라이스 햄, 슬라이스 치즈, 버터, 양상추, 토마토']\", \"[ '햄버거 빵', '소고기 패티', '양파', '상추', '토마토', '피클', '치즈', '마요네즈', '머스터드', '버터']\", \"[ '통밀 빵', '햄', '치즈', '상추', '토마토', '오이', '머스타드', '마요네즈']\", \"[ '리코타 치즈', '식빵', '상추', '토마토', '올리브유', '소금', '후추']\", \"[ '반미 빵', '돼지고기', '오이', '당근', '고수', '마요네즈', '칠리소스', '간장', '소금', '후추']\", \"[ '미트볼', '식빵', '토마토', '양상추', '모짜렐라 치즈', '마리나라 소스', '소금', '후추']\", \"[ '파이 반죽', '옥수수', '체다 치즈', '크림치즈', '버터', '소금', '후추']\", \"[ '식빵', '버섯', '양파', '마늘', '상추', '체다 치즈', '마요네즈', '올리브 오일', '소금', '후추']\"]}\n",
      "카스테라\n",
      "메뉴 이름이 잘못되었습니다.\n",
      "{'status': 'success', 'similarMenus': ['유사한 메뉴가 존재하지 않습니다...'], 'menu': '카스테라', 'menuInfo': [], 'menuIngred': []}\n"
     ]
    },
    {
     "name": "stderr",
     "output_type": "stream",
     "text": [
      "127.0.0.1 - - [08/Jan/2025 09:31:51] \"POST /analyze-menu HTTP/1.1\" 200 -\n",
      "127.0.0.1 - - [08/Jan/2025 09:31:51] \"POST /analyze-menu HTTP/1.1\" 200 -\n"
     ]
    },
    {
     "name": "stdout",
     "output_type": "stream",
     "text": [
      "치킨 샌드위치\n",
      "{'status': 'success', 'similarMenus': ['닭가슴살 샌드위치', '샐러드 샌드위치', '햄 치즈 치아바타', '함박 샌드위치', '통밀 샌드위치', '리코타 치즈 샌드위치', '반미 샌드위치', '미트볼 샌드위치', '콘치즈 파이', '머쉬룸 샌드위치'], 'menu': '치킨 샌드위치', 'menuInfo': ['[고소함, 담백함, 신선한 채소, 쫄깃한 빵, 건강한 선택, 든든한 한 끼, 자연주의, 만족감, 깔끔함, 클래식 감성]', '[신선함, 담백함, 고소한 맛, 바삭한 채소, 촉촉한 빵, 건강한 선택, 자연주의, 만족감, 클래식 감성, 깔끔함]', '[고소함, 짭짤함, 부드러운 치즈, 쫄깃한 치아바타, 든든한 한 끼, 클래식 감성, 만족감, 건강한 선택, 촉촉함, 풍미 깊음]', '[고소함, 풍부한 맛, 촉촉한 패티, 부드러운 빵, 든든한 한 끼, 클래식 감성, 만족감, 건강한 선택, 풍미 깊음, 따뜻함]', '[담백함, 고소함, 쫄깃한 식감, 건강한 통밀 빵, 신선한 채소 조합, 자연주의, 만족감, 깔끔함, 심플함, 건강한 감성]', '[담백함, 고소함, 부드러운 리코타 치즈, 신선한 채소, 쫄깃한 빵, 건강한 조화, 자연주의, 만족감, 깔끔함, 클래식 감성]', '[짭짤함, 고소함, 신선한 채소, 쫄깃한 바게트, 건강한 선택, 이국적 감성, 만족감, 풍미 깊음, 자연주의, 독특함]', '[고소함, 짭짤함, 풍부한 풍미, 부드러운 미트볼, 쫄깃한 빵, 든든한 식사, 클래식 감성, 만족감, 따뜻함, 건강한 선택]', '[고소함, 짭짤함, 바삭한 크러스트, 크리미한 콘치즈 속, 든든한 간식, 클래식 감성, 만족감, 풍미 깊음, 촉촉함, 정겨움]', '[고소함, 풍미 깊음, 신선한 버섯, 쫄깃한 빵, 건강한 감성, 든든한 식사, 클래식 감성, 만족감, 자연주의, 독특함]'], 'menuIngred': [\"[ '닭가슴살', '치아바타 빵', '상추', '토마토', '치즈', '마요네즈', '머스터드', '소금', '후추']\", \"[ '식빵, 양상추, 토마토, 오이, 삶은 계란, 마요네즈, 소금, 후추']\", \"[ '치아바타 빵, 슬라이스 햄, 슬라이스 치즈, 버터, 양상추, 토마토']\", \"[ '햄버거 빵', '소고기 패티', '양파', '상추', '토마토', '피클', '치즈', '마요네즈', '머스터드', '버터']\", \"[ '통밀 빵', '햄', '치즈', '상추', '토마토', '오이', '머스타드', '마요네즈']\", \"[ '리코타 치즈', '식빵', '상추', '토마토', '올리브유', '소금', '후추']\", \"[ '반미 빵', '돼지고기', '오이', '당근', '고수', '마요네즈', '칠리소스', '간장', '소금', '후추']\", \"[ '미트볼', '식빵', '토마토', '양상추', '모짜렐라 치즈', '마리나라 소스', '소금', '후추']\", \"[ '파이 반죽', '옥수수', '체다 치즈', '크림치즈', '버터', '소금', '후추']\", \"[ '식빵', '버섯', '양파', '마늘', '상추', '체다 치즈', '마요네즈', '올리브 오일', '소금', '후추']\"]}\n",
      "카스테라\n",
      "메뉴 이름이 잘못되었습니다.\n",
      "{'status': 'success', 'similarMenus': ['유사한 메뉴가 존재하지 않습니다...'], 'menu': '카스테라', 'menuInfo': [], 'menuIngred': []}\n"
     ]
    },
    {
     "name": "stderr",
     "output_type": "stream",
     "text": [
      "127.0.0.1 - - [08/Jan/2025 09:31:51] \"POST /analyze-menu HTTP/1.1\" 200 -\n",
      "127.0.0.1 - - [08/Jan/2025 09:31:51] \"POST /analyze-menu HTTP/1.1\" 200 -\n"
     ]
    },
    {
     "name": "stdout",
     "output_type": "stream",
     "text": [
      "치킨 샌드위치\n",
      "{'status': 'success', 'similarMenus': ['닭가슴살 샌드위치', '샐러드 샌드위치', '햄 치즈 치아바타', '함박 샌드위치', '통밀 샌드위치', '리코타 치즈 샌드위치', '반미 샌드위치', '미트볼 샌드위치', '콘치즈 파이', '머쉬룸 샌드위치'], 'menu': '치킨 샌드위치', 'menuInfo': ['[고소함, 담백함, 신선한 채소, 쫄깃한 빵, 건강한 선택, 든든한 한 끼, 자연주의, 만족감, 깔끔함, 클래식 감성]', '[신선함, 담백함, 고소한 맛, 바삭한 채소, 촉촉한 빵, 건강한 선택, 자연주의, 만족감, 클래식 감성, 깔끔함]', '[고소함, 짭짤함, 부드러운 치즈, 쫄깃한 치아바타, 든든한 한 끼, 클래식 감성, 만족감, 건강한 선택, 촉촉함, 풍미 깊음]', '[고소함, 풍부한 맛, 촉촉한 패티, 부드러운 빵, 든든한 한 끼, 클래식 감성, 만족감, 건강한 선택, 풍미 깊음, 따뜻함]', '[담백함, 고소함, 쫄깃한 식감, 건강한 통밀 빵, 신선한 채소 조합, 자연주의, 만족감, 깔끔함, 심플함, 건강한 감성]', '[담백함, 고소함, 부드러운 리코타 치즈, 신선한 채소, 쫄깃한 빵, 건강한 조화, 자연주의, 만족감, 깔끔함, 클래식 감성]', '[짭짤함, 고소함, 신선한 채소, 쫄깃한 바게트, 건강한 선택, 이국적 감성, 만족감, 풍미 깊음, 자연주의, 독특함]', '[고소함, 짭짤함, 풍부한 풍미, 부드러운 미트볼, 쫄깃한 빵, 든든한 식사, 클래식 감성, 만족감, 따뜻함, 건강한 선택]', '[고소함, 짭짤함, 바삭한 크러스트, 크리미한 콘치즈 속, 든든한 간식, 클래식 감성, 만족감, 풍미 깊음, 촉촉함, 정겨움]', '[고소함, 풍미 깊음, 신선한 버섯, 쫄깃한 빵, 건강한 감성, 든든한 식사, 클래식 감성, 만족감, 자연주의, 독특함]'], 'menuIngred': [\"[ '닭가슴살', '치아바타 빵', '상추', '토마토', '치즈', '마요네즈', '머스터드', '소금', '후추']\", \"[ '식빵, 양상추, 토마토, 오이, 삶은 계란, 마요네즈, 소금, 후추']\", \"[ '치아바타 빵, 슬라이스 햄, 슬라이스 치즈, 버터, 양상추, 토마토']\", \"[ '햄버거 빵', '소고기 패티', '양파', '상추', '토마토', '피클', '치즈', '마요네즈', '머스터드', '버터']\", \"[ '통밀 빵', '햄', '치즈', '상추', '토마토', '오이', '머스타드', '마요네즈']\", \"[ '리코타 치즈', '식빵', '상추', '토마토', '올리브유', '소금', '후추']\", \"[ '반미 빵', '돼지고기', '오이', '당근', '고수', '마요네즈', '칠리소스', '간장', '소금', '후추']\", \"[ '미트볼', '식빵', '토마토', '양상추', '모짜렐라 치즈', '마리나라 소스', '소금', '후추']\", \"[ '파이 반죽', '옥수수', '체다 치즈', '크림치즈', '버터', '소금', '후추']\", \"[ '식빵', '버섯', '양파', '마늘', '상추', '체다 치즈', '마요네즈', '올리브 오일', '소금', '후추']\"]}\n",
      "카스테라\n",
      "메뉴 이름이 잘못되었습니다.\n",
      "{'status': 'success', 'similarMenus': ['유사한 메뉴가 존재하지 않습니다...'], 'menu': '카스테라', 'menuInfo': [], 'menuIngred': []}\n"
     ]
    },
    {
     "name": "stderr",
     "output_type": "stream",
     "text": [
      "127.0.0.1 - - [08/Jan/2025 09:31:56] \"POST /analyze-menu HTTP/1.1\" 200 -\n"
     ]
    },
    {
     "name": "stdout",
     "output_type": "stream",
     "text": [
      "치킨 샌드위치\n",
      "{'status': 'success', 'similarMenus': ['닭가슴살 샌드위치', '샐러드 샌드위치', '햄 치즈 치아바타', '함박 샌드위치', '통밀 샌드위치', '리코타 치즈 샌드위치', '반미 샌드위치', '미트볼 샌드위치', '콘치즈 파이', '머쉬룸 샌드위치'], 'menu': '치킨 샌드위치', 'menuInfo': ['[고소함, 담백함, 신선한 채소, 쫄깃한 빵, 건강한 선택, 든든한 한 끼, 자연주의, 만족감, 깔끔함, 클래식 감성]', '[신선함, 담백함, 고소한 맛, 바삭한 채소, 촉촉한 빵, 건강한 선택, 자연주의, 만족감, 클래식 감성, 깔끔함]', '[고소함, 짭짤함, 부드러운 치즈, 쫄깃한 치아바타, 든든한 한 끼, 클래식 감성, 만족감, 건강한 선택, 촉촉함, 풍미 깊음]', '[고소함, 풍부한 맛, 촉촉한 패티, 부드러운 빵, 든든한 한 끼, 클래식 감성, 만족감, 건강한 선택, 풍미 깊음, 따뜻함]', '[담백함, 고소함, 쫄깃한 식감, 건강한 통밀 빵, 신선한 채소 조합, 자연주의, 만족감, 깔끔함, 심플함, 건강한 감성]', '[담백함, 고소함, 부드러운 리코타 치즈, 신선한 채소, 쫄깃한 빵, 건강한 조화, 자연주의, 만족감, 깔끔함, 클래식 감성]', '[짭짤함, 고소함, 신선한 채소, 쫄깃한 바게트, 건강한 선택, 이국적 감성, 만족감, 풍미 깊음, 자연주의, 독특함]', '[고소함, 짭짤함, 풍부한 풍미, 부드러운 미트볼, 쫄깃한 빵, 든든한 식사, 클래식 감성, 만족감, 따뜻함, 건강한 선택]', '[고소함, 짭짤함, 바삭한 크러스트, 크리미한 콘치즈 속, 든든한 간식, 클래식 감성, 만족감, 풍미 깊음, 촉촉함, 정겨움]', '[고소함, 풍미 깊음, 신선한 버섯, 쫄깃한 빵, 건강한 감성, 든든한 식사, 클래식 감성, 만족감, 자연주의, 독특함]'], 'menuIngred': [\"[ '닭가슴살', '치아바타 빵', '상추', '토마토', '치즈', '마요네즈', '머스터드', '소금', '후추']\", \"[ '식빵, 양상추, 토마토, 오이, 삶은 계란, 마요네즈, 소금, 후추']\", \"[ '치아바타 빵, 슬라이스 햄, 슬라이스 치즈, 버터, 양상추, 토마토']\", \"[ '햄버거 빵', '소고기 패티', '양파', '상추', '토마토', '피클', '치즈', '마요네즈', '머스터드', '버터']\", \"[ '통밀 빵', '햄', '치즈', '상추', '토마토', '오이', '머스타드', '마요네즈']\", \"[ '리코타 치즈', '식빵', '상추', '토마토', '올리브유', '소금', '후추']\", \"[ '반미 빵', '돼지고기', '오이', '당근', '고수', '마요네즈', '칠리소스', '간장', '소금', '후추']\", \"[ '미트볼', '식빵', '토마토', '양상추', '모짜렐라 치즈', '마리나라 소스', '소금', '후추']\", \"[ '파이 반죽', '옥수수', '체다 치즈', '크림치즈', '버터', '소금', '후추']\", \"[ '식빵', '버섯', '양파', '마늘', '상추', '체다 치즈', '마요네즈', '올리브 오일', '소금', '후추']\"]}\n"
     ]
    },
    {
     "name": "stderr",
     "output_type": "stream",
     "text": [
      "127.0.0.1 - - [08/Jan/2025 09:32:00] \"POST /analyze-menu HTTP/1.1\" 200 -\n",
      "127.0.0.1 - - [08/Jan/2025 09:32:00] \"POST /analyze-menu HTTP/1.1\" 200 -\n"
     ]
    },
    {
     "name": "stdout",
     "output_type": "stream",
     "text": [
      "크로플\n",
      "{'status': 'success', 'similarMenus': ['생크림 크로플', '크루키', '크림 몽블랑', '카스테라 몽블랑', '크림치즈 파운드 케이크', '오레오 크럼블', '카스테라 크루아상', '크림 카스테라', '몽블랑 케이크', '허니 마들렌'], 'menu': '크로플', 'menuInfo': ['[바삭함, 달콤함, 부드러운 생크림, 촉촉한 속, 클래식 디저트, 화려함, 만족감, 고급스러움, 풍미 깊음, 사랑스러움]', '[고소함, 바삭함, 부드러운 크림 필링, 촉촉한 질감, 독특한 조합, 클래식 디저트, 만족감, 고급스러움, 화려함, 풍부함]', '[부드러움, 달콤함, 크리미한 밤 크림, 촉촉한 질감, 클래식 디저트, 고급스러움, 만족감, 화려함, 정겨움, 풍미 깊음]', '[부드러움, 달콤함, 촉촉한 카스테라, 진한 밤 크림, 클래식 디저트, 고급스러움, 만족감, 화려함, 독특함, 사랑스러움]', '[고소함, 크리미함, 달콤함, 촉촉한 질감, 풍부한 크림치즈 풍미, 클래식 디저트, 고급스러움, 만족감, 풍미 깊음, 사랑스러움]', '[달콤함, 바삭한 오레오 조각, 촉촉한 중심, 풍부한 크림 필링, 독특한 디저트, 고급스러움, 만족감, 화려함, 창의적, 사랑스러움]', '[바삭함, 달콤함, 부드러운 카스테라, 촉촉한 크루아상, 클래식 디저트, 고급스러움, 만족감, 화려함, 독특함, 정겨움]', '[부드러움, 달콤함, 촉촉한 질감, 크리미한 크림, 클래식 디저트, 고급스러움, 만족감, 화사함, 심플함, 사랑스러움]', '[달콤함, 고소함, 부드러운 질감, 촉촉한 밤 크림, 클래식 디저트, 고급스러움, 만족감, 화려함, 전통적, 풍미 깊음]', '[달콤함, 부드러운 질감, 은은한 꿀 향, 촉촉함, 클래식 디저트, 고급스러움, 만족감, 화려함, 사랑스러움, 정겨움]'], 'menuIngred': [\"[ '크로와상 반죽, 설탕, 버터, 생크림, 메이플 시럽, 슈가파우더']\", \"[ '밀가루', '설탕', '버터', '달걀', '소금', '베이킹파우더', '초콜릿', '바닐라 추출물']\", \"[ '버터', '설탕', '계란', '밀가루', '슈가파우더', '크림', '마롱', '바닐라', '생크림', '휘핑크림']\", \"[ '밀가루, 설탕, 계란, 우유, 버터, 이스트, 밤, 크림, 바닐라 추출물']\", \"[ '크림치즈', '버터', '설탕', '밀가루', '베이킹파우더', '소금', '계란', '우유', '바닐라 익스트랙', '레몬 제스트']\", \"[ '오레오 쿠키', '초콜릿 시럽', '휘핑크림', '바닐라 아이스크림', '초콜릿 가루']\", \"[ '크루아상 반죽', '계란', '밀가루', '설탕', '버터', '바닐라 익스트랙', '소금']\", \"[ '박력분, 설탕, 계란, 우유, 버터, 베이킹파우더, 소금, 바닐라 추출물, 생크림']\", \"[ '버터, 설탕, 달걀, 밀가루, 아몬드 가루, 베이킹 파우더, 크림, 슈가 파우더, 밤, 바닐라 엑스트랙트']\", \"[ '밀가루', '베이킹 파우더', '소금', '설탕', '계란', '버터', '허니', '우유', '레몬 제스트']\"]}\n",
      "크로플\n",
      "{'status': 'success', 'similarMenus': ['생크림 크로플', '크루키', '크림 몽블랑', '카스테라 몽블랑', '크림치즈 파운드 케이크', '오레오 크럼블', '카스테라 크루아상', '크림 카스테라', '몽블랑 케이크', '허니 마들렌'], 'menu': '크로플', 'menuInfo': ['[바삭함, 달콤함, 부드러운 생크림, 촉촉한 속, 클래식 디저트, 화려함, 만족감, 고급스러움, 풍미 깊음, 사랑스러움]', '[고소함, 바삭함, 부드러운 크림 필링, 촉촉한 질감, 독특한 조합, 클래식 디저트, 만족감, 고급스러움, 화려함, 풍부함]', '[부드러움, 달콤함, 크리미한 밤 크림, 촉촉한 질감, 클래식 디저트, 고급스러움, 만족감, 화려함, 정겨움, 풍미 깊음]', '[부드러움, 달콤함, 촉촉한 카스테라, 진한 밤 크림, 클래식 디저트, 고급스러움, 만족감, 화려함, 독특함, 사랑스러움]', '[고소함, 크리미함, 달콤함, 촉촉한 질감, 풍부한 크림치즈 풍미, 클래식 디저트, 고급스러움, 만족감, 풍미 깊음, 사랑스러움]', '[달콤함, 바삭한 오레오 조각, 촉촉한 중심, 풍부한 크림 필링, 독특한 디저트, 고급스러움, 만족감, 화려함, 창의적, 사랑스러움]', '[바삭함, 달콤함, 부드러운 카스테라, 촉촉한 크루아상, 클래식 디저트, 고급스러움, 만족감, 화려함, 독특함, 정겨움]', '[부드러움, 달콤함, 촉촉한 질감, 크리미한 크림, 클래식 디저트, 고급스러움, 만족감, 화사함, 심플함, 사랑스러움]', '[달콤함, 고소함, 부드러운 질감, 촉촉한 밤 크림, 클래식 디저트, 고급스러움, 만족감, 화려함, 전통적, 풍미 깊음]', '[달콤함, 부드러운 질감, 은은한 꿀 향, 촉촉함, 클래식 디저트, 고급스러움, 만족감, 화려함, 사랑스러움, 정겨움]'], 'menuIngred': [\"[ '크로와상 반죽, 설탕, 버터, 생크림, 메이플 시럽, 슈가파우더']\", \"[ '밀가루', '설탕', '버터', '달걀', '소금', '베이킹파우더', '초콜릿', '바닐라 추출물']\", \"[ '버터', '설탕', '계란', '밀가루', '슈가파우더', '크림', '마롱', '바닐라', '생크림', '휘핑크림']\", \"[ '밀가루, 설탕, 계란, 우유, 버터, 이스트, 밤, 크림, 바닐라 추출물']\", \"[ '크림치즈', '버터', '설탕', '밀가루', '베이킹파우더', '소금', '계란', '우유', '바닐라 익스트랙', '레몬 제스트']\", \"[ '오레오 쿠키', '초콜릿 시럽', '휘핑크림', '바닐라 아이스크림', '초콜릿 가루']\", \"[ '크루아상 반죽', '계란', '밀가루', '설탕', '버터', '바닐라 익스트랙', '소금']\", \"[ '박력분, 설탕, 계란, 우유, 버터, 베이킹파우더, 소금, 바닐라 추출물, 생크림']\", \"[ '버터, 설탕, 달걀, 밀가루, 아몬드 가루, 베이킹 파우더, 크림, 슈가 파우더, 밤, 바닐라 엑스트랙트']\", \"[ '밀가루', '베이킹 파우더', '소금', '설탕', '계란', '버터', '허니', '우유', '레몬 제스트']\"]}\n"
     ]
    }
   ],
   "source": [
    "app = Flask(__name__)\n",
    "CORS(app)  # 모든 도메인에서의 요청 허용\n",
    "\n",
    "# CORS(app, resources={r\"/api/*\": {\"origins\": \"http://localhost:8087\"}})\n",
    "# REST API key\n",
    "KAKAO_API_KEY = \"015412fbc48c3a4e31b1926b6adb667e\"\n",
    "\n",
    "\n",
    "# 스프링 부트로부터 사용자가 클릭한 좌표 정보를 전달받아 동을 찾은 후 분석하고 전송\n",
    "@app.route('/send-coordinates', methods=['POST'])\n",
    "def receive_coordinates():\n",
    "    # 클라이언트로부터 받은 데이터(현 위치 위도, 경도)\n",
    "    data = request.get_json()\n",
    "    latitude = data.get('latitude')\n",
    "    longitude = data.get('longitude')\n",
    "    \n",
    "    url = f\"https://dapi.kakao.com/v2/local/geo/coord2address.json?x={longitude}&y={latitude}\"\n",
    "    headers = {\"Authorization\" : f\"KakaoAK {KAKAO_API_KEY}\"}\n",
    "    \n",
    "    response = requests.get(url, headers=headers)\n",
    "    \n",
    "    dong_number = get_dong_number(latitude, longitude)\n",
    "    if(dong_number == None):\n",
    "        return jsonify({\"status\" : \"error\", \"message\" : \"현재 지역의 법정동 번호를 찾을 수 없습니다.\"})\n",
    "    \n",
    "    \n",
    "    # 유사 상권의 법정동 번호\n",
    "    similar_dongs = yusa_dong(clustered_dong, dong_number)\n",
    "    \n",
    "    dong_names = [\" \".join(clustered_dong[clustered_dong[\"법정동 번호(PK)\"]==dong_pk][[\"지역\", \"동 이름\"]].values[0]) for dong_pk in similar_dongs]\n",
    "    # 스트링 부트로 전달\n",
    "    spring_response = similar_dong_send_to_spring(similar_dongs)\n",
    "    # 전송 결과 확인\n",
    "    if(spring_response.get(\"status\")==\"success\"):\n",
    "        return jsonify({\"status\":\"success\",\n",
    "                        \"similarDongs\":dong_names,\n",
    "                        \"similarDongsNum\":similar_dongs,\n",
    "                        \"message\": \"flask successed\"\n",
    "                       })\n",
    "    else:\n",
    "        return jsonify({\n",
    "            \"status\" : \"error\",\n",
    "            \"similarDongs\" : \"\",\n",
    "            \"similarDongsNum\":\"\",\n",
    "            \"message\" : spring_response.get(\"error\")\n",
    "        })\n",
    "\n",
    "\n",
    "# 유사 상권 탐색 2. 스프링으로부터 동을 전달받아 유사한 동 분석\n",
    "@app.route(\"/yusa-dong-search\", methods=[\"POST\"])\n",
    "def receive_dong():\n",
    "    data = request.get_json()\n",
    "    input_data = data.get(\"dong\").strip()\n",
    "    dong = \"-1\"\n",
    "    region = \"-1\"\n",
    "    print(input_data)\n",
    "    \n",
    "    yusa_dong_list = []\n",
    "    \n",
    "    if(len(input_data.split(\" \"))>1):\n",
    "        dong = input_data.split(\" \")[-1]\n",
    "        region = input_data.split(\" \")[0]\n",
    "    else:\n",
    "        dong = input_data\n",
    "    \n",
    "    if(dong not in list(clustered_dong[\"동 이름\"])):\n",
    "        yusa_dong_list.append(\"None\")\n",
    "        return jsonify({\"status\":\"success\",\n",
    "                        \"dong\":\"None\",\n",
    "                        \"yusaDongNum\":\"None\",\n",
    "                        \"yusaDongName\" : \"None\"\n",
    "                        })\n",
    "        \n",
    "    else:\n",
    "        # 혹시 지역까지 입력해주면 더 확실하게 동을 찾아 줄 수 있음(동 이름이 겹치는 경우가 많음...)\n",
    "        if(clustered_dong[\"지역\"].str.contains(region).sum()>0):\n",
    "            region_data = clustered_dong[clustered_dong[\"지역\"].str.contains(region)]\n",
    "            dong_data = region_data[region_data[\"동 이름\"]==dong]\n",
    "        else:\n",
    "            dong_data = clustered_dong[clustered_dong[\"동 이름\"]==dong]\n",
    "    \n",
    "        dong_pk = int(dong_data[\"법정동 번호(PK)\"].values[0])\n",
    "        yusa_dong_number = yusa_dong(clustered_dong, dong_pk)\n",
    "        yusa_dong_name = [list(clustered_dong[clustered_dong[\"법정동 번호(PK)\"]==dong_num][\"동 이름\"])[0] for dong_num in yusa_dong_number]\n",
    "        \n",
    "        payload ={\"status\":\"success\",\n",
    "                 \"dong\":dong,\n",
    "                 \"yusaDongNum\":yusa_dong_number,\n",
    "                 \"yusaDongName\":yusa_dong_name}\n",
    "        \n",
    "        return jsonify(payload)\n",
    "        \n",
    "    \n",
    "\n",
    "# 스프링 부트로부터 키워드 전달받아 분석\n",
    "@app.route(\"/analyze-keyword\", methods=[\"POST\"])\n",
    "def analyze_keyword():\n",
    "    # 요청 본문 데이터 확인 : 키워드\n",
    "    data = request.get_json()\n",
    "    keyword = data.get(\"keyword\", \"\")\n",
    "    recommanded = input_simil(menu_data, keyword)  # 추천 메뉴 리스트\n",
    "\n",
    "    # 스프링 서버로 요청 보내기\n",
    "    spring_response = keyword_menu_send_to_spring(menu_data, keyword, recommanded)\n",
    "\n",
    "    # 스프링 응답 확인\n",
    "    if spring_response.get(\"status\") == \"success\":\n",
    "        return jsonify({\n",
    "            \"status\": \"success\",\n",
    "            \"keyword\": spring_response.get(\"keyword\"),\n",
    "            \"recommanded\": spring_response.get(\"recommanded\"),\n",
    "            \"menuInfo\": spring_response.get(\"menuInfo\"),\n",
    "            \"menuIngred\": spring_response.get(\"menuIngred\")\n",
    "        })\n",
    "    else:\n",
    "        return jsonify({\n",
    "            \"status\": \"error\",\n",
    "            \"keyword\": keyword,\n",
    "            \"message\": spring_response.get(\"error\")\n",
    "        })\n",
    "\n",
    "# 스프링 부트로부터 메뉴 전달받아 분석\n",
    "@app.route(\"/analyze-menu\", methods=[\"POST\"])\n",
    "def analyze_menu():\n",
    "    # 요청 데이터 확인 : 메뉴\n",
    "    data = request.get_json()\n",
    "    menu_name = data.get(\"menu\",\"\")\n",
    "    print(menu_name)\n",
    "    similar_menus = ingred_sim(menu_data, menu_name)\n",
    "    \n",
    "    spring_response = similar_menu_recommanded(menu_data, similar_menus, menu_name)\n",
    "#     print(spring_response[\"similarMenus\"])\n",
    "    if(spring_response.get(\"status\")==\"success\"):\n",
    "        return jsonify(spring_response)\n",
    "    else:\n",
    "        return jsonify({\"status\":\"error\",\n",
    "                       \"message\":spring_response.get(\"error\")})\n",
    "\n",
    "@app.route(\"/sanggueon-gongtong\", methods=[\"POST\"])\n",
    "def sanggueon_gongtong():\n",
    "    data = request.get_json()\n",
    "    sang1 = data.get(\"sang1\", \"\")\n",
    "    sang2 = data.get(\"sang2\", \"\")\n",
    "    no_data_dong = []\n",
    "    \n",
    "    # 공통 메뉴와 카운트 계산\n",
    "    gongtong_menus, sang1_cnt, sang2_cnt = yusasang_gongtong(cafe_menu_data, sang1, sang2)\n",
    "    print(gongtong_menus)\n",
    "    \n",
    "    # 공통 상권 검색\n",
    "    spring_response = search_sanggueon_gongtong(menu_data, gongtong_menus, sang1, sang2, sang1_cnt, sang2_cnt)\n",
    "    print(f\"Spring Response: {spring_response}\")  # 디버깅용\n",
    "    \n",
    "    no_data_dong=[dong for dong in [sang1, sang2] if dong.strip().split(\" \")[-1] not in list(cafe_menu_data[\"dong\"])]\n",
    "\n",
    "    if spring_response.get(\"status\") == \"success\":\n",
    "        return jsonify({\n",
    "        \"status\": \"success\",\n",
    "        \"gongtongMenus\": spring_response.get(\"gontongMenus\"),\n",
    "        \"menuIngred\": spring_response.get(\"menuIngred\"),\n",
    "        \"menuInfo\": spring_response.get(\"menuInfo\"),\n",
    "        \"sang1\": spring_response.get(\"sang1\"),\n",
    "        \"sang2\": spring_response.get(\"sang2\"),\n",
    "        \"sang1MenuCnt\": spring_response.get(\"sang1MenuCnt\"),\n",
    "        \"sang2MenuCnt\": spring_response.get(\"sang2MenuCnt\"),\n",
    "        \"noDataDong\" : no_data_dong,\n",
    "        \"message\": spring_response.get(\"message\", \"No message provided\")\n",
    "        })\n",
    "    else:\n",
    "        return jsonify({\n",
    "            \"status\": \"error\",\n",
    "            \"message\": spring_response.get(\"error\")\n",
    "        })\n",
    "\n",
    "@app.route(\"/sanggueon-only\", methods=[\"POST\"])\n",
    "def sanggueon_only():\n",
    "    data=request.get_json()\n",
    "    sang1=data.get(\"sang1\",\"\")\n",
    "    sang2=data.get(\"sang2\",\"\")\n",
    "    only_menus, sang1_cnt, sang2_cnt = yusasang_only(cafe_menu_data, sang1, sang2)\n",
    "    \n",
    "    no_data_dong=[dong for dong in [sang1, sang2] if dong.strip().split(\" \")[-1] not in list(cafe_menu_data[\"dong\"])]\n",
    "    \n",
    "    spring_response = search_sanggueon_only(menu_data, only_menus, sang1, sang2, sang1_cnt, sang2_cnt)\n",
    "    if(spring_response.get(\"status\")==\"success\"):\n",
    "        return jsonify({\n",
    "        \"status\": \"success\",\n",
    "        \"onlyMenus\": spring_response.get(\"onlyMenus\"),\n",
    "        \"menuIngred\": spring_response.get(\"menuIngred\"),\n",
    "        \"menuInfo\": spring_response.get(\"menuInfo\"),\n",
    "        \"sang1\": spring_response.get(\"sang1\"),\n",
    "        \"sang2\": spring_response.get(\"sang2\"),\n",
    "        \"sang1MenuCnt\": spring_response.get(\"sang1MenuCnt\"),\n",
    "        \"sang2MenuCnt\": spring_response.get(\"sang2MenuCnt\"),\n",
    "        \"noDataDong\" : no_data_dong,\n",
    "        \"message\": spring_response.get(\"message\", \"No message provided\")\n",
    "        })\n",
    "    else:\n",
    "        return jsonify({\"status\":\"error\",\"message\":spring_response.get(\"error\")})\n",
    "\n",
    "# @app.route()\n",
    "\n",
    "\n",
    "if __name__ == '__main__':\n",
    "    app.run(host='0.0.0.0', port=5001)"
   ]
  },
  {
   "cell_type": "code",
   "execution_count": null,
   "id": "3d31a7eb",
   "metadata": {},
   "outputs": [],
   "source": [
    "\" \".join(clustered_dong[clustered_dong[\"동 이름\"]==\"동명동\"][[\"지역\", \"동 이름\"]].values[0])"
   ]
  },
  {
   "cell_type": "code",
   "execution_count": null,
   "id": "89838db2",
   "metadata": {},
   "outputs": [],
   "source": [
    "sang_menu(cafe_menu_data, \"동명동\")"
   ]
  },
  {
   "cell_type": "code",
   "execution_count": null,
   "id": "d157fa40",
   "metadata": {},
   "outputs": [],
   "source": [
    "len(clustered_dong[clustered_dong[\"지역\"]==\"부산광역시\"]) + len(clustered_dong[clustered_dong[\"지역\"]==\"인천광역시\"])"
   ]
  },
  {
   "cell_type": "code",
   "execution_count": null,
   "id": "fdc990d2",
   "metadata": {},
   "outputs": [],
   "source": [
    "from kiwipiepy import Kiwi\n",
    "\n",
    "# Kiwi 객체 생성\n",
    "kiwi = Kiwi()\n",
    "\n",
    "# 텍스트 입력\n",
    "input_text = \"안녕하세요! 파이썬을 배우고 있습니다.\"\n",
    "\n",
    "# 토큰화\n",
    "tokenized = kiwi.no(input_text)\n",
    "\n",
    "# 결과 출력\n",
    "for word in tokenized:\n",
    "    print(word.form)"
   ]
  },
  {
   "cell_type": "code",
   "execution_count": null,
   "id": "decf2c71",
   "metadata": {},
   "outputs": [],
   "source": []
  }
 ],
 "metadata": {
  "kernelspec": {
   "display_name": "Python 3 (ipykernel)",
   "language": "python",
   "name": "python3"
  },
  "language_info": {
   "codemirror_mode": {
    "name": "ipython",
    "version": 3
   },
   "file_extension": ".py",
   "mimetype": "text/x-python",
   "name": "python",
   "nbconvert_exporter": "python",
   "pygments_lexer": "ipython3",
   "version": "3.12.2"
  }
 },
 "nbformat": 4,
 "nbformat_minor": 5
}
