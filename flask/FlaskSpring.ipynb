{
 "cells": [
  {
   "cell_type": "code",
   "execution_count": 49,
   "id": "7933f0c8",
   "metadata": {},
   "outputs": [],
   "source": [
    "normalizer = Normalizer()\n",
    "clustered_dong = pd.read_json(\"./data/군집상권데이터.json\")\n",
    "menu_data = pd.read_json(\"./data/메뉴_추상설명_재료_토큰화.json\")"
   ]
  },
  {
   "cell_type": "code",
   "execution_count": null,
   "id": "87e8a038-0a4f-4b7f-b069-cab41b2b8087",
   "metadata": {},
   "outputs": [
    {
     "name": "stdout",
     "output_type": "stream",
     "text": [
      " * Serving Flask app '__main__'\n",
      " * Debug mode: off\n"
     ]
    },
    {
     "name": "stderr",
     "output_type": "stream",
     "text": [
      "WARNING: This is a development server. Do not use it in a production deployment. Use a production WSGI server instead.\n",
      " * Running on http://localhost:5001\n",
      "Press CTRL+C to quit\n",
      "127.0.0.1 - - [02/Jan/2025 15:15:05] \"POST /analyze-menu HTTP/1.1\" 200 -\n"
     ]
    },
    {
     "name": "stdout",
     "output_type": "stream",
     "text": [
      "바닐라 라떼\n",
      "{'status': 'success', 'similarMenus': ['헤이즐넛 라떼', '바닐라 밀크티', '연유 라떼', '라벤더 밀크티', '디카페인커피', '밤 라떼', '소금 우유', '카라멜 카푸치노', '애플시나몬 크로플', '복숭아 티'], 'menu': '바닐라 라떼'}\n"
     ]
    },
    {
     "name": "stderr",
     "output_type": "stream",
     "text": [
      "127.0.0.1 - - [02/Jan/2025 15:15:11] \"POST /analyze-menu HTTP/1.1\" 200 -\n"
     ]
    },
    {
     "name": "stdout",
     "output_type": "stream",
     "text": [
      "치킨 샌드위치\n",
      "{'status': 'success', 'similarMenus': ['치킨 치아바타', 'BLT 샌드위치', '치킨 바게트', '닭가슴살 샌드위치', '미트볼 샌드위치', '샐러드 샌드위치', '머쉬룸 샌드위치', '호밀 샌드위치', '치킨 파이', '함박 샌드위치'], 'menu': '치킨 샌드위치'}\n"
     ]
    },
    {
     "name": "stderr",
     "output_type": "stream",
     "text": [
      "127.0.0.1 - - [02/Jan/2025 15:19:32] \"POST /analyze-menu HTTP/1.1\" 200 -\n",
      "127.0.0.1 - - [02/Jan/2025 15:19:32] \"POST /analyze-menu HTTP/1.1\" 200 -\n"
     ]
    },
    {
     "name": "stdout",
     "output_type": "stream",
     "text": [
      "바닐라 라떼\n",
      "치킨 샌드위치\n",
      "{'status': 'success', 'similarMenus': ['헤이즐넛 라떼', '바닐라 밀크티', '연유 라떼', '라벤더 밀크티', '디카페인커피', '밤 라떼', '소금 우유', '카라멜 카푸치노', '애플시나몬 크로플', '복숭아 티'], 'menu': '바닐라 라떼'}\n",
      "{'status': 'success', 'similarMenus': ['치킨 치아바타', 'BLT 샌드위치', '치킨 바게트', '닭가슴살 샌드위치', '미트볼 샌드위치', '샐러드 샌드위치', '머쉬룸 샌드위치', '호밀 샌드위치', '치킨 파이', '함박 샌드위치'], 'menu': '치킨 샌드위치'}\n"
     ]
    },
    {
     "name": "stderr",
     "output_type": "stream",
     "text": [
      "127.0.0.1 - - [02/Jan/2025 15:20:50] \"POST /analyze-menu HTTP/1.1\" 200 -\n",
      "127.0.0.1 - - [02/Jan/2025 15:20:50] \"POST /analyze-menu HTTP/1.1\" 200 -\n"
     ]
    },
    {
     "name": "stdout",
     "output_type": "stream",
     "text": [
      "바닐라 라떼\n",
      "{'status': 'success', 'similarMenus': ['헤이즐넛 라떼', '바닐라 밀크티', '연유 라떼', '라벤더 밀크티', '디카페인커피', '밤 라떼', '소금 우유', '카라멜 카푸치노', '애플시나몬 크로플', '복숭아 티'], 'menu': '바닐라 라떼'}\n",
      "치킨 샌드위치\n",
      "{'status': 'success', 'similarMenus': ['치킨 치아바타', 'BLT 샌드위치', '치킨 바게트', '닭가슴살 샌드위치', '미트볼 샌드위치', '샐러드 샌드위치', '머쉬룸 샌드위치', '호밀 샌드위치', '치킨 파이', '함박 샌드위치'], 'menu': '치킨 샌드위치'}\n"
     ]
    }
   ],
   "source": [
    "app = Flask(__name__)\n",
    "CORS(app)  # 모든 도메인에서의 요청 허용\n",
    "\n",
    "# CORS(app, resources={r\"/api/*\": {\"origins\": \"http://localhost:8087\"}})\n",
    "# REST API key\n",
    "KAKAO_API_KEY = \"015412fbc48c3a4e31b1926b6adb667e\"\n",
    "\n",
    "# 1. 유사 상권 탐색\n",
    "# 스프링 부트로부터 사용자가 클릭한 좌표 정보를 전달받아 동을 찾은 후 분석하고 전송\n",
    "@app.route('/send-coordinates', methods=['POST'])\n",
    "def receive_coordinates():\n",
    "    # 클라이언트로부터 받은 데이터(현 위치 위도, 경도)\n",
    "    data = request.get_json()\n",
    "    latitude = data.get('latitude')\n",
    "    longitude = data.get('longitude')\n",
    "    \n",
    "    url = f\"https://dapi.kakao.com/v2/local/geo/coord2address.json?x={longitude}&y={latitude}\"\n",
    "    headers = {\"Authorization\" : f\"KakaoAK {KAKAO_API_KEY}\"}\n",
    "    \n",
    "    response = requests.get(url, headers=headers)\n",
    "    \n",
    "    \n",
    "    dong_number = get_dong_number(latitude, longitude)\n",
    "    if(dong_number == None):\n",
    "        return jsonify({\"status\" : \"error\", \"message\" : \"현재 지역의 법정동 번호를 찾을 수 없습니다.\"})\n",
    "    \n",
    "    # 유사 상권의 법정동 번호\n",
    "    similar_dongs = yusa_dong(clustered_dong, dong_number)\n",
    "    \n",
    "    # 스트링 부트로 전달\n",
    "    spring_response = similar_dong_send_to_spring(similar_dongs)\n",
    "    # 전송 결과 확인\n",
    "    if(spring_response.get(\"status\")==\"success\"):\n",
    "        return jsonify({\"status\":\"success\",\n",
    "                        \"yusadongs\":similar_dongs,\n",
    "                        \"message\": \"flask successed\"\n",
    "                       })\n",
    "    else:\n",
    "        return jsonify({\n",
    "            \"status\" : \"error\",\n",
    "            \"yusadongs\" : \"\",\n",
    "            \"message\" : spring_response.get(\"error\")\n",
    "        })\n",
    "\n",
    "\n",
    "\n",
    "# 스프링 부트로부터 키워드 전달받아 분석\n",
    "@app.route(\"/analyze-keyword\", methods=[\"POST\"])\n",
    "def analyze_keyword():\n",
    "    # 요청 본문 데이터 확인 : 키워드\n",
    "    data = request.get_json()\n",
    "    keyword = data.get(\"keyword\", \"\")\n",
    "    recommanded = input_simil(menu_data, keyword)\n",
    "\n",
    "    spring_response = keyword_menu_send_to_spring(keyword, recommanded)\n",
    "    if (spring_response.get(\"status\") == \"success\"):\n",
    "        return jsonify({\"status\": \"success\",\n",
    "                        \"keyword\": keyword,\n",
    "                        \"recommanded\": recommanded\n",
    "                        })\n",
    "    else:\n",
    "        return jsonify({\n",
    "            \"status\": \"error\",\n",
    "            \"keyword\": keyword,\n",
    "            \"message\": spring_response.get(\"error\")\n",
    "        })\n",
    "\n",
    "# 스프링 부트로부터 메뉴 전달받아 분석\n",
    "@app.route(\"/analyze-menu\", methods=[\"POST\"])\n",
    "def analyze_menu():\n",
    "    # 요청 데이터 확인 : 메뉴\n",
    "    data = request.get_json()\n",
    "    menu_name = data.get(\"menu\",\"\")\n",
    "    print(menu_name)\n",
    "    similar_menus = ingred_sim(menu_data, menu_name)\n",
    "    \n",
    "    spring_response = similar_menu_recommanded(similar_menus, menu_name)\n",
    "#     print(spring_response[\"similarMenus\"])\n",
    "    if(spring_response.get(\"status\")==\"success\"):\n",
    "        return jsonify({\"status\":\"success\",\n",
    "                        \"menu\":menu_name,\n",
    "                       \"similarMenus\":similar_menus})\n",
    "    else:\n",
    "        return jsonify({\"status\":\"error\",\n",
    "                       \"message\":spring_response.get(\"error\")})\n",
    "\n",
    "\n",
    "\n",
    "if __name__ == '__main__':\n",
    "    app.run(host='localhost', port=5001)"
   ]
  },
  {
   "cell_type": "code",
   "execution_count": 67,
   "id": "39cbf150-32aa-4000-97bd-475e4644bebe",
   "metadata": {},
   "outputs": [
    {
     "data": {
      "text/plain": [
       "True"
      ]
     },
     "execution_count": 67,
     "metadata": {},
     "output_type": "execute_result"
    }
   ],
   "source": [
    "\"치킨 샌드위치\" in list(menu_data[\"menu\"])"
   ]
  },
  {
   "cell_type": "code",
   "execution_count": 45,
   "id": "ac97c9df-6e67-48e4-9f68-514a6ccd555b",
   "metadata": {},
   "outputs": [
    {
     "name": "stdout",
     "output_type": "stream",
     "text": [
      "Requirement already satisfied: flask-cors in /opt/anaconda3/lib/python3.12/site-packages (5.0.0)\n",
      "Requirement already satisfied: Flask>=0.9 in /opt/anaconda3/lib/python3.12/site-packages (from flask-cors) (3.0.3)\n",
      "Requirement already satisfied: Werkzeug>=3.0.0 in /opt/anaconda3/lib/python3.12/site-packages (from Flask>=0.9->flask-cors) (3.0.3)\n",
      "Requirement already satisfied: Jinja2>=3.1.2 in /opt/anaconda3/lib/python3.12/site-packages (from Flask>=0.9->flask-cors) (3.1.4)\n",
      "Requirement already satisfied: itsdangerous>=2.1.2 in /opt/anaconda3/lib/python3.12/site-packages (from Flask>=0.9->flask-cors) (2.2.0)\n",
      "Requirement already satisfied: click>=8.1.3 in /opt/anaconda3/lib/python3.12/site-packages (from Flask>=0.9->flask-cors) (8.1.7)\n",
      "Requirement already satisfied: blinker>=1.6.2 in /opt/anaconda3/lib/python3.12/site-packages (from Flask>=0.9->flask-cors) (1.6.2)\n",
      "Requirement already satisfied: MarkupSafe>=2.0 in /opt/anaconda3/lib/python3.12/site-packages (from Jinja2>=3.1.2->Flask>=0.9->flask-cors) (2.1.3)\n",
      "Note: you may need to restart the kernel to use updated packages.\n"
     ]
    }
   ],
   "source": []
  },
  {
   "cell_type": "code",
   "execution_count": 1,
   "id": "cb8b366f-df39-45bb-86af-ca569428042e",
   "metadata": {},
   "outputs": [],
   "source": [
    "import requests\n",
    "from flask import Flask, request, jsonify\n",
    "from flask_cors import CORS\n",
    "import pandas as pd\n",
    "import numpy as np\n",
    "import sklearn\n",
    "from sklearn.preprocessing import Normalizer\n",
    "import torch\n",
    "import mglearn\n",
    "from collections import Counter\n",
    "from kiwipiepy import Kiwi, TypoTransformer, TypoDefinition\n",
    "import re\n",
    "import pandas as pd\n",
    "import json\n",
    "import numpy as np\n",
    "from kiwipiepy.utils import Stopwords\n",
    "from sklearn.feature_extraction.text import TfidfVectorizer\n",
    "from sklearn.metrics.pairwise import cosine_similarity\n"
   ]
  },
  {
   "cell_type": "code",
   "execution_count": 2,
   "id": "a397a071-16ad-4407-af0f-543596349d49",
   "metadata": {},
   "outputs": [],
   "source": [
    "def data_tokenizing(data):\n",
    "    data[\"ingred\"] = data[\"ingred\"].replace('\\'', '', regex=True)\n",
    "    kiwi = Kiwi()\n",
    "    for i in range(len(data[\"info\"])):\n",
    "        data.iloc[i, 1] = kiwi_tokenizer(data[\"info\"][i], tokenizer=kiwi)\n",
    "    return data"
   ]
  },
  {
   "cell_type": "code",
   "execution_count": 53,
   "id": "bb87bdcf-e94e-4a19-bd3f-3272149c6555",
   "metadata": {},
   "outputs": [],
   "source": [
    "def ingred_sim(data, menu_name, num=10):\n",
    "    info_sim = info_simil(data, menu_name, 50)\n",
    "    if (len(info_sim[\"menu\"]) == 0):\n",
    "        return \"유사한 메뉴가 존재하지 않습니다...\"\n",
    "\n",
    "    tfidfv = TfidfVectorizer().fit_transform(info_sim[\"tokenized_info\"])\n",
    "\n",
    "    ingred_simil = cosine_similarity(tfidfv[0], tfidfv)[0]\n",
    "    ingred_simil_index = np.flip(np.argpartition(ingred_simil, kth=-1)[:-1])\n",
    "\n",
    "    if (ingred_simil[ingred_simil_index[0]] < 0.2):\n",
    "        return \"유사한 메뉴가 존재하지 않습니다...\"\n",
    "    else:\n",
    "        return list(info_sim.iloc[ingred_simil_index[:num], 0])\n"
   ]
  },
  {
   "cell_type": "code",
   "execution_count": 54,
   "id": "92e31b74-4ddf-4912-b112-3a99d685cb12",
   "metadata": {},
   "outputs": [],
   "source": [
    "# 메뉴의 설명이 유사한 메뉴 추천\n",
    "def info_simil(data, menu_name, num=10):\n",
    "    pick = menu_name\n",
    "    if(menu_name not in list(data[\"menu\"])):\n",
    "        print(\"메뉴 이름이 잘못됨\")\n",
    "    pick_idx = data[data[\"menu\"] == pick].index\n",
    "\n",
    "    tfidfv = TfidfVectorizer().fit_transform(data[\"tokenized_info\"])\n",
    "\n",
    "    # 단어의 출현 순서에 영향을 받지 않기 위해 코사인 유사도 사용\n",
    "    cosine_simil = cosine_similarity(tfidfv[pick_idx], tfidfv)[0]\n",
    "\n",
    "    # 자기 자신은 제외(가장 값이 큰 요소)하고 값이 높은 순으로 정렬\n",
    "    simil_index = np.flip(np.argpartition(cosine_simil, kth=-1))\n",
    "\n",
    "    if (cosine_simil[simil_index[1]] < 0.2):\n",
    "        return data[data[\"menu\"] == \"-1\"]\n",
    "    else:\n",
    "        return data.iloc[simil_index[:num]]"
   ]
  },
  {
   "cell_type": "code",
   "execution_count": 55,
   "id": "d7bbadc8-fba3-403c-ba96-4414dc6bb752",
   "metadata": {},
   "outputs": [],
   "source": [
    "def input_simil(data, input_data, num=10):\n",
    "\n",
    "    input_token = kiwi_tokenizer(input_data)\n",
    "    text_vector = np.array(data[\"menu\"]+\" \"+data[\"tokenized_info\"])\n",
    "    t_vector = np.insert(text_vector, 0, input_token)\n",
    "\n",
    "    tfidfv = TfidfVectorizer().fit_transform(t_vector)\n",
    "\n",
    "    # 일반 연산을 한 경우 내적 값이 매우 작은 경우 오류가 발생하여 사이킷 런의 모듈 사용\n",
    "    cosine_simil = cosine_similarity(tfidfv[0], tfidfv)[0]\n",
    "\n",
    "    # 자기 자신은 제외(가장 값이 큰 요소)하고 값이 높은 순으로 정렬\n",
    "    simil_index = np.flip(np.argpartition(cosine_simil, kth=-1)[:-1])\n",
    "    simil_index -= 1\n",
    "\n",
    "    if (cosine_simil[simil_index[0]+1] < 0.2):\n",
    "        return \"유사한 메뉴가 존재하지 않습니다...\"\n",
    "    else:\n",
    "        return list(data.iloc[simil_index[:num], 0])\n"
   ]
  },
  {
   "cell_type": "code",
   "execution_count": 6,
   "id": "2eec58c0-a17a-45db-a417-3773363782be",
   "metadata": {},
   "outputs": [],
   "source": [
    "def kiwi_tokenizer(sentence, tokenizer=Kiwi(typos=\"basic\")):\n",
    "    sentence = sentence.replace(\" \", \"\")\n",
    "    stopwords = Stopwords()\n",
    "    get_tags = [\"XR\", \"NNG\", \"VA\"]\n",
    "    sentence = tokenizer.space(sentence)\n",
    "\n",
    "    kiwi_result = tokenizer.tokenize(\n",
    "        sentence, normalize_coda=True, stopwords=stopwords)\n",
    "    token_list = []\n",
    "    for token in range(len(kiwi_result)):\n",
    "        if (kiwi_result[token].tag in get_tags):\n",
    "            token_list.append(kiwi_result[token].form)\n",
    "    token_str = \" \".join(token_list)\n",
    "    return token_str"
   ]
  },
  {
   "cell_type": "code",
   "execution_count": 7,
   "id": "0dd39a16-f5e3-4bf9-8949-c2f4c7962185",
   "metadata": {},
   "outputs": [],
   "source": [
    "def yusa_dong(clustered_dong, dong_pk):\n",
    "    target_dong_index = clustered_dong[clustered_dong[\"법정동 번호(PK)\"]==dong_pk].index[0]\n",
    "\n",
    "    same_cluster_dong = clustered_dong[clustered_dong[\"군집\"]==clustered_dong.iloc[target_dong_index,-1]]\n",
    "    same_cluster_dong.reset_index(drop=True, inplace=True)\n",
    "    target_dong_index = same_cluster_dong[same_cluster_dong[\"법정동 번호(PK)\"]==dong_pk].index[0]\n",
    "    \n",
    "    simil_data = same_cluster_dong.iloc[:,3:-1]\n",
    "    simil_data_scaled = normalizer.fit_transform(simil_data)\n",
    "\n",
    "    train_tensor = torch.tensor(simil_data_scaled, dtype=torch.float64)\n",
    "    euclidean_distances = torch.cdist(train_tensor[target_dong_index].unsqueeze(0), train_tensor).squeeze()\n",
    "    top_idx = np.argsort(euclidean_distances)[1:10]\n",
    "\n",
    "    return [int(same_cluster_dong[\"법정동 번호(PK)\"].iloc[int(idx)]) for idx in top_idx]"
   ]
  },
  {
   "cell_type": "code",
   "execution_count": 63,
   "id": "b3737049-5e64-448c-a1e7-649c00569b14",
   "metadata": {},
   "outputs": [],
   "source": [
    "# 키워드 추천 분석 결과 전달\n",
    "def keyword_menu_send_to_spring(keyword, recommanded):\n",
    "    spring_url = \"http://localhost:8087/api/receive-keyword-menu\"\n",
    "    payload = {\n",
    "        \"status\" : \"success\",\n",
    "        \"keyword\": keyword,\n",
    "        \"recommanded\": recommanded\n",
    "    }\n",
    "    # json 형식으로 전송\n",
    "    headers = {\"Content-Type\": \"application/json\"}\n",
    "    print(payload)\n",
    "    try:\n",
    "        response = requests.post(spring_url, json=payload, headers=headers)\n",
    "        response.raise_for_status()\n",
    "        return {\"status\": \"success\", \"message\": \"스프링으로 전송 완료\"}\n",
    "    except Exception as e:\n",
    "        # 예외처리\n",
    "        print(f\"스프링 부트 전송 실패: {str(e)}\")\n",
    "        return {\"status\": \"error\", \"error\": str(e)}"
   ]
  },
  {
   "cell_type": "code",
   "execution_count": 65,
   "id": "757024c2-6d06-427d-87b3-65dc9c38c8b4",
   "metadata": {},
   "outputs": [],
   "source": [
    "# 분석한 유사 상권 정보 전달\n",
    "def similar_dong_send_to_spring(similar_dongs):\n",
    "    spring_url = \"http://localhost:8087/api/receive-similar-dongs\"\n",
    "    # 스프링에 dong이라는 이름으로 dong_name 데이터 전송\n",
    "    payload = {\"similarDongs\": similar_dongs,\n",
    "               \"status\": \"success\"\n",
    "              }\n",
    "    # json 형식으로 전송\n",
    "    headers = {\"Content-Type\": \"application/json\"}\n",
    "    \n",
    "    try:\n",
    "        response = requests.post(spring_url, json=payload, headers=headers)\n",
    "        response.raise_for_status()  # HTTP 오류 있는지 확인 => 예외 발생\n",
    "        return {\"status\": \"success\", \"message\": \"스프링으로 전송 완료\"}\n",
    "    except Exception as e:\n",
    "        # 예외처리\n",
    "        print(f\"스프링 전송 실패: {str(e)}\")\n",
    "        return {\"status\": \"error\", \"error\": str(e)}"
   ]
  },
  {
   "cell_type": "code",
   "execution_count": 64,
   "id": "3e29e184",
   "metadata": {},
   "outputs": [],
   "source": [
    "# 유사 메뉴 분석 결과 스프링으로 전송\n",
    "def similar_menu_recommanded(similar_menus, menu_name):\n",
    "    spring_url=\"http://localhost:8087/api/receive-similar-menus\"\n",
    "    \n",
    "    payload={\"status\":\"success\",\n",
    "            \"similarMenus\":similar_menus,\n",
    "            \"menu\": menu_name\n",
    "            }\n",
    "        \n",
    "    headers={\"Content-Type\" : \"application/json\"}\n",
    "    print(payload)\n",
    "    \n",
    "    try:\n",
    "        response = requests.post(spring_url, json=payload, headers=headers)\n",
    "        response.raise_for_status()\n",
    "        return {\"status\":\"success\",\"message\":\"스프링으로 전송 완료\"}\n",
    "    except Exception as e:\n",
    "        print(f\"스프링 전송 실패: {str(e)}\")\n",
    "        return {\"status\" : \"error\", \"error\":str(e)}"
   ]
  },
  {
   "cell_type": "code",
   "execution_count": 13,
   "id": "1b29fb04-3741-4a47-9cc3-a2ecc64cc38e",
   "metadata": {},
   "outputs": [],
   "source": [
    "# 좌표를 통해 법정동 번호 조회\n",
    "def get_dong_number(latitude, longitude, dong_data=clustered_dong):\n",
    "    url = f\"https://dapi.kakao.com/v2/local/geo/coord2address.json?x={longitude}&y={latitude}\"\n",
    "    headers = {\"Authorization\": f\"KakaoAK {KAKAO_API_KEY}\"}\n",
    "\n",
    "    response = requests.get(url, headers=headers)\n",
    "\n",
    "    # 200번 : 통신 성공\n",
    "    if response.status_code == 200:\n",
    "        address_info = response.json()\n",
    "        # 카카오 api에 해당 좌표 정보가 있는지 확인\n",
    "        if address_info['documents']:\n",
    "            addr = address_info['documents'][0]['address']['address_name']\n",
    "            region = addr.split(\" \")[0]\n",
    "            gu = addr.split(\" \")[1]\n",
    "            dong = addr.split(\" \")[2]\n",
    "\n",
    "            region_dong = dong_data[dong_data[\"지역\"].str.contains(region)]\n",
    "            dong_number = list(\n",
    "                region_dong[region_dong[\"동 이름\"] == dong].head(1)[\"법정동 번호(PK)\"])[0]\n",
    "            return dong_number\n",
    "    return None"
   ]
  },
  {
   "cell_type": "code",
   "execution_count": null,
   "id": "f8a0c078",
   "metadata": {},
   "outputs": [],
   "source": []
  }
 ],
 "metadata": {
  "kernelspec": {
   "display_name": "Python 3 (ipykernel)",
   "language": "python",
   "name": "python3"
  },
  "language_info": {
   "codemirror_mode": {
    "name": "ipython",
    "version": 3
   },
   "file_extension": ".py",
   "mimetype": "text/x-python",
   "name": "python",
   "nbconvert_exporter": "python",
   "pygments_lexer": "ipython3",
   "version": "3.11.9"
  }
 },
 "nbformat": 4,
 "nbformat_minor": 5
}
