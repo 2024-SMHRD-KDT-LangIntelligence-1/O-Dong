{
 "cells": [
  {
   "cell_type": "code",
   "execution_count": 1,
   "id": "973a1f9e",
   "metadata": {},
   "outputs": [],
   "source": [
    "import requests\n",
    "from flask import Flask, request, jsonify\n",
    "from flask_cors import CORS\n",
    "import pandas as pd\n",
    "import numpy as np\n",
    "import sklearn\n",
    "from sklearn.preprocessing import Normalizer\n",
    "import torch\n",
    "import mglearn\n",
    "from collections import Counter\n",
    "from kiwipiepy import Kiwi, TypoTransformer, TypoDefinition\n",
    "import re\n",
    "import pandas as pd\n",
    "import json\n",
    "import numpy as np\n",
    "from kiwipiepy.utils import Stopwords\n",
    "from sklearn.feature_extraction.text import TfidfVectorizer\n",
    "from sklearn.metrics.pairwise import cosine_similarity"
   ]
  },
  {
   "cell_type": "code",
   "execution_count": 2,
   "id": "692a81a2",
   "metadata": {},
   "outputs": [],
   "source": [
    "normalizer = Normalizer()\n",
    "clustered_dong = pd.read_json(\"./data/군집상권데이터.json\")\n",
    "menu_data = pd.read_json(\"./data/메뉴_추상설명_재료_토큰화.json\")\n",
    "cafe_menu_data = pd.read_json(\"./data/메뉴 데이터.json\")"
   ]
  },
  {
   "cell_type": "code",
   "execution_count": 3,
   "id": "3e742127",
   "metadata": {},
   "outputs": [],
   "source": [
    "# 유사 상권 탐색\n",
    "def yusa_dong(clustered_dong, dong_pk):\n",
    "    target_dong_index = clustered_dong[clustered_dong[\"법정동 번호(PK)\"]==dong_pk].index[0]\n",
    "    print(dong_pk)\n",
    "\n",
    "    same_cluster_dong = clustered_dong[clustered_dong[\"군집\"]==clustered_dong.iloc[target_dong_index,-1]]\n",
    "    same_cluster_dong.reset_index(drop=True, inplace=True)\n",
    "    target_dong_index = same_cluster_dong[same_cluster_dong[\"법정동 번호(PK)\"]==dong_pk].index[0]\n",
    "    \n",
    "    simil_data = same_cluster_dong.iloc[:,3:-1]\n",
    "    simil_data_scaled = normalizer.fit_transform(simil_data)\n",
    "\n",
    "    train_tensor = torch.tensor(simil_data_scaled, dtype=torch.float64)\n",
    "    euclidean_distances = torch.cdist(train_tensor[target_dong_index].unsqueeze(0), train_tensor).squeeze()\n",
    "    top_idx = np.argsort(euclidean_distances)[1:10]\n",
    "\n",
    "    return [int(same_cluster_dong[\"법정동 번호(PK)\"].iloc[int(idx)]) for idx in top_idx]"
   ]
  },
  {
   "cell_type": "code",
   "execution_count": 4,
   "id": "a397a071-16ad-4407-af0f-543596349d49",
   "metadata": {},
   "outputs": [],
   "source": [
    "def data_tokenizing(data):\n",
    "    data[\"ingred\"] = data[\"ingred\"].replace('\\'', '', regex=True)\n",
    "    kiwi = Kiwi()\n",
    "    for i in range(len(data[\"info\"])):\n",
    "        data.iloc[i, 1] = kiwi_tokenizer(data[\"info\"][i], tokenizer=kiwi)\n",
    "    return data"
   ]
  },
  {
   "cell_type": "code",
   "execution_count": 5,
   "id": "bb87bdcf-e94e-4a19-bd3f-3272149c6555",
   "metadata": {},
   "outputs": [],
   "source": [
    "def ingred_sim(data, menu_name, num=10):\n",
    "    # info_simil 함수로 유사한 메뉴 추출\n",
    "    info_sim = info_simil(data, menu_name, 50)\n",
    "    \n",
    "    # 유사한 메뉴가 없는 경우 처리\n",
    "    if info_sim.empty or len(info_sim[\"menu\"]) == 0:\n",
    "        return [\"유사한 메뉴가 존재하지 않습니다...\"]\n",
    "\n",
    "    # TF-IDF 변환\n",
    "    tfidfv = TfidfVectorizer().fit_transform(info_sim[\"tokenized_info\"])\n",
    "\n",
    "    # 코사인 유사도 계산\n",
    "    ingred_simil = cosine_similarity(tfidfv[0], tfidfv)[0]\n",
    "\n",
    "    # 자기 자신 제외하고 유사도 순으로 정렬\n",
    "    ingred_simil_index = np.argsort(ingred_simil)[::-1][1:num + 1]\n",
    "\n",
    "    # 유사도가 낮은 경우 처리\n",
    "    if len(ingred_simil_index) == 0 or ingred_simil[ingred_simil_index[0]] < 0.2:\n",
    "        return [\"유사한 메뉴가 존재하지 않습니다...\"]\n",
    "\n",
    "    # 결과 반환\n",
    "    return list(info_sim.iloc[ingred_simil_index][\"menu\"])"
   ]
  },
  {
   "cell_type": "code",
   "execution_count": 6,
   "id": "92e31b74-4ddf-4912-b112-3a99d685cb12",
   "metadata": {},
   "outputs": [],
   "source": [
    "def info_simil(data, menu_name, num=10):\n",
    "    # 메뉴 이름이 유효한지 확인\n",
    "    if menu_name not in data[\"menu\"].values:\n",
    "        print(\"메뉴 이름이 잘못되었습니다.\")\n",
    "        return pd.DataFrame()  # 빈 데이터프레임 반환\n",
    "\n",
    "    # 선택된 메뉴의 인덱스 가져오기\n",
    "    pick_idx = data[data[\"menu\"] == menu_name].index[0]\n",
    "\n",
    "    # TF-IDF 변환\n",
    "    tfidfv = TfidfVectorizer().fit_transform(data[\"tokenized_info\"])\n",
    "\n",
    "    # 코사인 유사도 계산\n",
    "    cosine_simil = cosine_similarity(tfidfv[pick_idx], tfidfv)[0]\n",
    "\n",
    "    # 유사도를 기준으로 정렬 (내림차순)\n",
    "    simil_index = np.argsort(cosine_simil)[::-1]\n",
    "\n",
    "    # 자기 자신 제외하고 상위 num개 선택\n",
    "    simil_index = simil_index[1:num + 1]\n",
    "\n",
    "    # 유사도가 일정 수준 이하인 경우 처리\n",
    "    if len(simil_index) == 0 or cosine_simil[simil_index[0]] < 0.2:\n",
    "        print(\"유사한 메뉴가 존재하지 않습니다.\")\n",
    "        return pd.DataFrame()  # 빈 데이터프레임 반환\n",
    "\n",
    "    # 결과 반환\n",
    "    return data.iloc[simil_index]"
   ]
  },
  {
   "cell_type": "code",
   "execution_count": 7,
   "id": "d7bbadc8-fba3-403c-ba96-4414dc6bb752",
   "metadata": {},
   "outputs": [],
   "source": [
    "def input_simil(data, input_data, num=10):\n",
    "    input_token = kiwi_tokenizer(input_data)\n",
    "    text_vector = np.array(data[\"menu\"] + \" \" + data[\"tokenized_info\"])\n",
    "    t_vector = np.insert(text_vector, 0, input_token)\n",
    "\n",
    "    tfidfv = TfidfVectorizer().fit_transform(t_vector)\n",
    "    cosine_simil = cosine_similarity(tfidfv[0], tfidfv)[0]\n",
    "\n",
    "    simil_index = np.flip(np.argsort(cosine_simil[1:]))  # Exclude self-similarity\n",
    "\n",
    "    # Lower threshold to capture more matches\n",
    "    threshold = 0.15\n",
    "    if cosine_simil[simil_index[0] + 1] < threshold:\n",
    "        return [\"유사한 메뉴가 존재하지 않습니다...\"]\n",
    "    else:\n",
    "        top_matches = data.iloc[simil_index[:num], 0]\n",
    "        return list(top_matches)"
   ]
  },
  {
   "cell_type": "code",
   "execution_count": 8,
   "id": "2eec58c0-a17a-45db-a417-3773363782be",
   "metadata": {},
   "outputs": [],
   "source": [
    "def kiwi_tokenizer(sentence, tokenizer=Kiwi(typos=\"basic\")):\n",
    "    sentence = sentence.replace(\" \", \"\")\n",
    "    stopwords = Stopwords()\n",
    "    get_tags = [\"XR\", \"NNG\", \"VA\"]\n",
    "    sentence = tokenizer.space(sentence)\n",
    "\n",
    "    kiwi_result = tokenizer.tokenize(\n",
    "        sentence, normalize_coda=True, stopwords=stopwords)\n",
    "    token_list = []\n",
    "    for token in range(len(kiwi_result)):\n",
    "        if (kiwi_result[token].tag in get_tags):\n",
    "            token_list.append(kiwi_result[token].form)\n",
    "    token_str = \" \".join(token_list)\n",
    "    return token_str"
   ]
  },
  {
   "cell_type": "code",
   "execution_count": 9,
   "id": "b3737049-5e64-448c-a1e7-649c00569b14",
   "metadata": {},
   "outputs": [],
   "source": [
    "def keyword_menu_send_to_spring(menu_data, keyword, recommanded):\n",
    "    spring_url = \"http://localhost:8087/api/receive-keyword-menu\"\n",
    "    \n",
    "    menu_info = [f'[{menu_data[menu_data[\"menu\"]==menu][\"info\"].values[0]}]' for menu in recommanded]\n",
    "    menu_ingred = [f'[{menu_data[menu_data[\"menu\"]==menu][\"ingred\"].values[0]}]' for menu in recommanded]\n",
    "    \n",
    "    # 전송할 payload 준비\n",
    "    payload = {\n",
    "        \"status\": \"success\",\n",
    "        \"keyword\": keyword,\n",
    "        \"recommanded\": recommanded,\n",
    "        \"menuInfo\": menu_info,\n",
    "        \"menuIngred\": menu_ingred\n",
    "    }\n",
    "    \n",
    "    headers = {\"Content-Type\": \"application/json\"}\n",
    "    print(\"Payload to be sent:\", payload)  # payload 출력\n",
    "    try:\n",
    "        response = requests.post(spring_url, json=payload, headers=headers)\n",
    "        response.raise_for_status()  # 예외가 발생하면 여기서 처리\n",
    "        print(response.status_code)  # 응답 코드 출력\n",
    "        print(response.json())  # 응답 내용 출력\n",
    "        return response.json()  # 응답 JSON을 반환\n",
    "    except Exception as e:\n",
    "        # 예외 처리\n",
    "        print(f\"스프링 부트 전송 실패: {str(e)}\")\n",
    "        return {\"status\": \"error\", \"error\": str(e)}  # 실패한 경우 error 메시지 반환"
   ]
  },
  {
   "cell_type": "code",
   "execution_count": 10,
   "id": "5fac4053",
   "metadata": {},
   "outputs": [],
   "source": [
    "# 분석한 유사 상권 정보 전달\n",
    "def similar_dong_send_to_spring(similar_dongs):\n",
    "    spring_url = \"http://localhost:8087/api/receive-similar-dongs\"\n",
    "    # 스프링에 dong이라는 이름으로 dong_name 데이터 전송\n",
    "    payload = {\"similarDongs\": similar_dongs,\n",
    "               \"status\": \"success\"\n",
    "              }\n",
    "    # json 형식으로 전송\n",
    "    headers = {\"Content-Type\": \"application/json\"}\n",
    "    \n",
    "    try:\n",
    "        response = requests.post(spring_url, json=payload, headers=headers)\n",
    "        response.raise_for_status()  # HTTP 오류 있는지 확인 => 예외 발생\n",
    "        return payload\n",
    "    except Exception as e:\n",
    "        # 예외처리\n",
    "        print(f\"스프링 전송 실패: {str(e)}\")\n",
    "        return {\"status\": \"error\", \"error\": str(e)}"
   ]
  },
  {
   "cell_type": "code",
   "execution_count": 24,
   "id": "757024c2-6d06-427d-87b3-65dc9c38c8b4",
   "metadata": {},
   "outputs": [],
   "source": [
    "# 유사 메뉴 분석 결과 스프링으로 전송\n",
    "def similar_menu_recommanded(menu_data, similar_menus, menu_name):\n",
    "    spring_url=\"http://localhost:8087/api/receive-similar-menus\"\n",
    "    \n",
    "    menu_info = [f'[{menu_data[menu_data[\"menu\"]==menu][\"info\"].values[0]}]' for menu in similar_menus]\n",
    "    menu_ingred = [f'[{menu_data[menu_data[\"menu\"]==menu][\"ingred\"].values[0]}]' for menu in similar_menus]\n",
    "    \n",
    "    payload={\"status\":\"success\",\n",
    "            \"similarMenus\":similar_menus,\n",
    "            \"menu\": menu_name,\n",
    "             \"menuInfo\": menu_info,\n",
    "             \"menuIngred\":menu_ingred\n",
    "            }\n",
    "        \n",
    "    headers={\"Content-Type\" : \"application/json\"}\n",
    "    print(payload)\n",
    "    \n",
    "    try:\n",
    "        response = requests.post(spring_url, json=payload, headers=headers)\n",
    "        response.raise_for_status()\n",
    "        return payload\n",
    "    except Exception as e:\n",
    "        print(f\"스프링 전송 실패: {str(e)}\")\n",
    "        return {\"status\" : \"error\", \"error\":str(e)}"
   ]
  },
  {
   "cell_type": "code",
   "execution_count": 12,
   "id": "90f70a14",
   "metadata": {},
   "outputs": [],
   "source": [
    "# 상권 공통 메뉴 분석 결과 스프링으로 전송\n",
    "def search_sanggueon_gongtong(menu_data, gongtong_menus, sang1, sang2, sang1_ratio, sang2_ratio):\n",
    "    spring_url=\"http://localhost:8087/api/receive-sanggueon-gongtong\"\n",
    "    \n",
    "    menu_info = [f'[{menu_data[menu_data[\"menu\"]==menu][\"info\"].values[0]}]' for menu in gongtong_menus if menu in list(menu_data[\"menu\"])]\n",
    "    menu_ingred = [f'[{menu_data[menu_data[\"menu\"]==menu][\"ingred\"].values[0]}]' for menu in gongtong_menus if menu in list(menu_data[\"menu\"])]\n",
    "    \n",
    "    payload={\"status\":\"success\",\n",
    "            \"gongtongMenus\" : gongtong_menus,\n",
    "             \"sang1\" : sang1,\n",
    "             \"sang2\":sang2,\n",
    "             \"sang1MenuCnt\":sang1_ratio,\n",
    "             \"sang2MenuCnt\":sang2_ratio,\n",
    "             \"menuInfo\":menu_info,\n",
    "             \"menuIngred\":menu_ingred\n",
    "            }\n",
    "        \n",
    "    headers={\"Content-Type\" : \"application/json\"}\n",
    "    print(payload)\n",
    "    \n",
    "    try:\n",
    "        response = requests.post(spring_url, json=payload, headers=headers)\n",
    "        response.raise_for_status()\n",
    "        return response.json()\n",
    "    except Exception as e:\n",
    "        print(f\"스프링 전송 실패: {str(e)}\")\n",
    "        return {\"status\" : \"error\", \"error\":str(e)}"
   ]
  },
  {
   "cell_type": "code",
   "execution_count": 13,
   "id": "1bbb025b",
   "metadata": {},
   "outputs": [],
   "source": [
    "# 상권2만 언급이 많은 메뉴 전송\n",
    "def search_sanggueon_only(menu_data, only_menus, sang1, sang2, sang1_ratio, sang2_ratio):\n",
    "    spring_url=\"http://localhost:8087/api/recieve-sanggueon-only\"\n",
    "    \n",
    "    menu_info = [f'[{menu_data[menu_data[\"menu\"]==menu][\"info\"].values[0]}]' for menu in only_menus if menu in list(menu_data[\"menu\"])]\n",
    "    menu_ingred = [f'[{menu_data[menu_data[\"menu\"]==menu][\"ingred\"].values[0]}]' for menu in only_menus if menu in list(menu_data[\"menu\"])]\n",
    "    \n",
    "    payload={\"status\":\"success\",\n",
    "             \"onlyMenus\":only_menus,\n",
    "             \"sang1\":sang1,\n",
    "             \"sang2\":sang2,\n",
    "             \"sang1MenuCnt\":sang1_ratio,\n",
    "             \"sang2MenuCnt\":sang2_ratio,\n",
    "             \"menuInfo\":menu_info,\n",
    "             \"menuIngred\":menu_ingred\n",
    "            }\n",
    "    headers={\"Content-Type\":\"application/json\"}\n",
    "    print(payload)\n",
    "    \n",
    "    try:\n",
    "        response=requests.post(spring_url,json=payload,headers=headers)\n",
    "        response.raise_for_status()\n",
    "        return response.json()\n",
    "    except Exception as e:\n",
    "        print(f\"스프링 전송 실패: {str(e)}\")\n",
    "        return {\"status\":\"error\", \"error\":str(e)}"
   ]
  },
  {
   "cell_type": "code",
   "execution_count": 14,
   "id": "1b29fb04-3741-4a47-9cc3-a2ecc64cc38e",
   "metadata": {},
   "outputs": [],
   "source": [
    "# 좌표를 통해 법정동 번호 조회\n",
    "def get_dong_number(latitude, longitude, dong_data=clustered_dong):\n",
    "    url = f\"https://dapi.kakao.com/v2/local/geo/coord2address.json?x={longitude}&y={latitude}\"\n",
    "    headers = {\"Authorization\": f\"KakaoAK {KAKAO_API_KEY}\"}\n",
    "\n",
    "    response = requests.get(url, headers=headers)\n",
    "\n",
    "    # 200번 : 통신 성공\n",
    "    if response.status_code == 200:\n",
    "        address_info = response.json()\n",
    "        # 카카오 api에 해당 좌표 정보가 있는지 확인\n",
    "        if address_info['documents']:\n",
    "            addr = address_info['documents'][0]['address']['address_name']\n",
    "            region = addr.split(\" \")[0]\n",
    "            gu = addr.split(\" \")[1]\n",
    "            dong = addr.split(\" \")[2]\n",
    "\n",
    "            region_dong = dong_data[dong_data[\"지역\"].str.contains(region)]\n",
    "            dong_number = list(\n",
    "                region_dong[region_dong[\"동 이름\"] == dong].head(1)[\"법정동 번호(PK)\"])[0]\n",
    "            return dong_number\n",
    "    return None"
   ]
  },
  {
   "cell_type": "code",
   "execution_count": 15,
   "id": "143c6a2a",
   "metadata": {},
   "outputs": [],
   "source": [
    "# 두 상권 중 다른 상권에만 유독 더 많이 파는 메뉴\n",
    "def yusasang_only(data, sang1, sang2):\n",
    "    sang1data = data[data[\"dong\"]==sang1]\n",
    "    sang2data = data[data[\"dong\"]==sang2]\n",
    "    \n",
    "    sang1_count = Counter(sang1data['menu_keyword'])\n",
    "    sang2_count = Counter(sang2data['menu_keyword'])\n",
    "\n",
    "    sang1_menu = list(sang1_count.keys())\n",
    "    sang1_cnt = sang1_count.values()\n",
    "    sang1_cnt_list = list(sang1_cnt)\n",
    "    sang1_rat = []\n",
    "    sang1_sum = 0\n",
    "\n",
    "    sang2_menu = list(sang2_count.keys())\n",
    "    sang2_cnt = sang2_count.values()\n",
    "    sang2_cnt_list = list(sang2_cnt)\n",
    "    sang2_rat = []\n",
    "    sang2_sum = 0\n",
    "\n",
    "    for i in range(len(sang1_cnt)):\n",
    "        sang1_sum+=sang1_cnt_list[i]\n",
    "    for i in range(len(sang2_cnt)):\n",
    "        sang2_sum+=sang2_cnt_list[i]\n",
    "\n",
    "    sang1_rat = np.array([r/sang1_sum for r in sang1_cnt_list])\n",
    "    sang2_rat = np.array([r/sang2_sum for r in sang2_cnt_list])\n",
    "\n",
    "    sang1_most_rat = np.flip(np.argsort(sang1_rat)[:])\n",
    "    sang2_most_rat = np.flip(np.argsort(sang2_rat)[:])\n",
    "\n",
    "    sang1_most = [sang1_menu[menu_i] for menu_i in sang1_most_rat]\n",
    "    sang2_most = [sang2_menu[menu_i] for menu_i in sang2_most_rat]\n",
    "\n",
    "    only_sang2 = []\n",
    "    sang1_ratio = []\n",
    "    sang2_ratio = []\n",
    "    popularity = len(sang1_most)//5\n",
    "    \n",
    "    for i in range(len(sang2_most)):\n",
    "        if(sang2_most[i] not in sang1_most[:popularity]):\n",
    "            only_sang2.append(sang2_most[i])\n",
    "            try:\n",
    "                sang1_ratio.append(sang1_cnt_list[sang1_menu.index(sang2_most[i])])\n",
    "            except:\n",
    "                sang1_ratio.append(0)\n",
    "            sang2_ratio.append(sang2_cnt_list[sang2_most_rat[i]])\n",
    "        if(len(only_sang2) == 5):\n",
    "            break\n",
    "    if(len(only_sang2) < 3):\n",
    "        only_sang2.append(\"두 상권의 거의 모든 메뉴가 유사합니다.\")\n",
    "        sang1_ratio.append(0)\n",
    "        sang2_ratio.append(0)\n",
    "\n",
    "    return [only_sang2, sang1_ratio, sang2_ratio]"
   ]
  },
  {
   "cell_type": "code",
   "execution_count": 16,
   "id": "b3fc050f",
   "metadata": {},
   "outputs": [],
   "source": [
    "#두 상권 모두 많이 파는 메뉴\n",
    "def yusasang_gongtong(data, sang1, sang2):\n",
    "    sang1data = data[data[\"dong\"]==sang1]\n",
    "    sang2data = data[data[\"dong\"]==sang2]\n",
    "    \n",
    "    sang1_count = Counter(sang1data['menu_keyword'])\n",
    "    sang2_count = Counter(sang2data['menu_keyword'])\n",
    "\n",
    "    sang1_menu = list(sang1_count.keys())\n",
    "    sang1_cnt = sang1_count.values()\n",
    "    sang1_cnt_list = list(sang1_cnt)\n",
    "    sang1_rat = []\n",
    "    sang1_sum = 0\n",
    "\n",
    "    sang2_menu = list(sang2_count.keys())\n",
    "    sang2_cnt = sang2_count.values()\n",
    "    sang2_cnt_list = list(sang2_cnt)\n",
    "    sang2_rat = []\n",
    "    sang2_sum = 0\n",
    "\n",
    "    for i in range(len(sang1_cnt)):\n",
    "        sang1_sum+=sang1_cnt_list[i]\n",
    "    for i in range(len(sang2_cnt)):\n",
    "        sang2_sum+=sang2_cnt_list[i]\n",
    "\n",
    "    sang1_rat = np.array([r/sang1_sum for r in sang1_cnt_list])\n",
    "    sang2_rat = np.array([r/sang2_sum for r in sang2_cnt_list])\n",
    "\n",
    "    sang1_most_rat = np.flip(np.argsort(sang1_rat)[:])\n",
    "    sang2_most_rat = np.flip(np.argsort(sang2_rat)[:])\n",
    "\n",
    "    sang1_most = [sang1_menu[menu_i] for menu_i in sang1_most_rat]\n",
    "    sang2_most = [sang2_menu[menu_i] for menu_i in sang2_most_rat]\n",
    "    \n",
    "    sang1_ratio = []\n",
    "    sang2_ratio = []\n",
    "    popularity = len(sang2_most) // 10\n",
    "    \n",
    "    gongtong_sang = []\n",
    "    for i in range(popularity, len(sang1_most)):\n",
    "        if(sang1_most[i] in sang2_most[:popularity*2]):\n",
    "            gongtong_sang.append(sang1_most[i])\n",
    "            sang1_ratio.append(sang1_cnt_list[sang1_most_rat[i]])\n",
    "            sang2_ratio.append(sang2_cnt_list[sang2_menu.index(sang1_most[i])])\n",
    "        if(len(gongtong_sang)==5):\n",
    "            break\n",
    "    if(len(gongtong_sang) < 3):\n",
    "        gongtong_sang.append(\"두 상권의 메뉴는 거의 유사하지 않습니다.\")\n",
    "    print(sang1_ratio)\n",
    "    print(sang2_ratio)\n",
    "    return [gongtong_sang, sang1_ratio, sang2_ratio]"
   ]
  },
  {
   "cell_type": "code",
   "execution_count": 17,
   "id": "3e00f4ec",
   "metadata": {},
   "outputs": [],
   "source": [
    "# 현재 상권에서 주로 파는 메뉴\n",
    "def sang_menu(data, sang, no_menus=[]):\n",
    "    sangdata = data[data[\"dong\"]==sang]\n",
    "    \n",
    "    sang_count = Counter(sangdata['menu_keyword'])\n",
    "    sang_most = sang_count.most_common(len(sang_count))\n",
    "    \n",
    "    sang_best_menu = []\n",
    "    for i in range(5, len(sang_most)):\n",
    "        if(sang_most[i][0] in no_menus):\n",
    "            continue\n",
    "        sang_best_menu.append(sang_most[i][0])\n",
    "        if(len(sang_best_menu)==5):\n",
    "            break\n",
    "    if(len(sang_best_menu)<3):\n",
    "        sang_best_menu.append(\"해당 상권은 분석할 수 없습니다. 사유 : 상권 내 카페 수 부족\")\n",
    "    return sang_best_menu"
   ]
  },
  {
   "cell_type": "code",
   "execution_count": null,
   "id": "c2367f2c",
   "metadata": {},
   "outputs": [
    {
     "name": "stdout",
     "output_type": "stream",
     "text": [
      " * Serving Flask app '__main__'\n",
      " * Debug mode: off\n"
     ]
    },
    {
     "name": "stderr",
     "output_type": "stream",
     "text": [
      "WARNING: This is a development server. Do not use it in a production deployment. Use a production WSGI server instead.\n",
      " * Running on all addresses (0.0.0.0)\n",
      " * Running on http://127.0.0.1:5001\n",
      " * Running on http://192.168.219.245:5001\n",
      "Press CTRL+C to quit\n",
      "[2025-01-06 14:30:55,793] ERROR in app: Exception on /analyze-menu [POST]\n",
      "Traceback (most recent call last):\n",
      "  File \"/opt/anaconda3/lib/python3.12/site-packages/flask/app.py\", line 1473, in wsgi_app\n",
      "    response = self.full_dispatch_request()\n",
      "               ^^^^^^^^^^^^^^^^^^^^^^^^^^^^\n",
      "  File \"/opt/anaconda3/lib/python3.12/site-packages/flask/app.py\", line 882, in full_dispatch_request\n",
      "    rv = self.handle_user_exception(e)\n",
      "         ^^^^^^^^^^^^^^^^^^^^^^^^^^^^^\n",
      "  File \"/opt/anaconda3/lib/python3.12/site-packages/flask_cors/extension.py\", line 194, in wrapped_function\n",
      "    return cors_after_request(app.make_response(f(*args, **kwargs)))\n",
      "                                                ^^^^^^^^^^^^^^^^^^\n",
      "  File \"/opt/anaconda3/lib/python3.12/site-packages/flask/app.py\", line 880, in full_dispatch_request\n",
      "    rv = self.dispatch_request()\n",
      "         ^^^^^^^^^^^^^^^^^^^^^^^\n",
      "  File \"/opt/anaconda3/lib/python3.12/site-packages/flask/app.py\", line 865, in dispatch_request\n",
      "    return self.ensure_sync(self.view_functions[rule.endpoint])(**view_args)  # type: ignore[no-any-return]\n",
      "           ^^^^^^^^^^^^^^^^^^^^^^^^^^^^^^^^^^^^^^^^^^^^^^^^^^^^^^^^^^^^^^^^^\n",
      "  File \"/var/folders/l3/0wzpj5z122lcwp0r6cgklgy80000gn/T/ipykernel_39730/461091995.py\", line 149, in analyze_menu\n",
      "    spring_response = similar_menu_recommanded(menu_data, similar_menus, menu_name)\n",
      "                      ^^^^^^^^^^^^^^^^^^^^^^^^^^^^^^^^^^^^^^^^^^^^^^^^^^^^^^^^^^^^^\n",
      "  File \"/var/folders/l3/0wzpj5z122lcwp0r6cgklgy80000gn/T/ipykernel_39730/927440023.py\", line 5, in similar_menu_recommanded\n",
      "    menu_info = [f'[{menu_data[menu_data[\"menu\"]==menu][\"info\"].values[0]}]' for menu in similar_menus]\n",
      "                     ~~~~~~~~~~~~~~~~~~~~~~~~~~~~~~~~~~~~~~~~~~~~~~~~~^^^\n",
      "IndexError: index 0 is out of bounds for axis 0 with size 0\n",
      "127.0.0.1 - - [06/Jan/2025 14:30:55] \"POST /analyze-menu HTTP/1.1\" 500 -\n"
     ]
    },
    {
     "name": "stdout",
     "output_type": "stream",
     "text": [
      "에스프레소\n",
      "메뉴 이름이 잘못되었습니다.\n"
     ]
    },
    {
     "name": "stderr",
     "output_type": "stream",
     "text": [
      "127.0.0.1 - - [06/Jan/2025 14:31:20] \"POST /analyze-menu HTTP/1.1\" 200 -\n"
     ]
    },
    {
     "name": "stdout",
     "output_type": "stream",
     "text": [
      "플랫화이트\n",
      "{'status': 'success', 'similarMenus': ['헤이즐넛 콜드브루', '헤이즐넛 에스프레소', '오트 콜드브루', '디카페인 아인슈페너', '흑임자 크림 에스프레소', '에스프레소 라떼', '모카 라떼', '디카페인커피', '황치즈 마들렌', '콜드브루 카푸치노'], 'menu': '플랫화이트', 'menuInfo': ['[고소함, 진한 커피맛, 깔끔함, 부드러움, 고급스러움, 고소한 견과류 풍미, 진한 커피 맛, 시원한 질감, 균형감, 고급스러운 끝맛]', '[고소함, 깊은 맛, 진한 커피향, 따뜻함, 고급스러움, 고소한 견과류 향, 진한 커피 맛, 부드러운 끝맛, 풍부한 텍스처, 깊은 여운]', '[고소함, 건강함, 깔끔함, 부드러움, 고급스러움, 고소한 귀리 향, 깔끔한 커피, 부드러운 끝맛, 현대적 감성]', '[진한 맛, 부드러움, 건강함, 고급스러움, 깔끔함, 부드러운 크림, 진한 커피 풍미, 부담 없는 선택, 세련된 맛, 균형감]', '[고소함, 크리미함, 진한 맛, 고급스러움, 독특함, 고소한 흑임자 향, 부드러운 크림, 진한 커피 맛, 세련된 조화, 특별한 풍미]', '[진한 커피맛, 부드러움, 고급스러움, 풍미, 클래식, 진한 커피 맛, 부드러운 우유, 균형감, 풍부한 여운]', '[달콤함, 초콜릿, 진한 커피향, 부드러움, 만족감, 진한 초콜릿, 풍부한 크림감, 고급스러움, 달콤한 끝맛, 따뜻한 풍미]', '[가벼움, 부드러움, 건강함, 편안함, 깔끔함, 부드러운 커피 향, 가벼운 여운, 균형감, 온화한 풍미]', '[고소함, 담백함, 부드러운 질감, 진한 황치즈 풍미, 고급 디저트, 클래식 감성, 만족감, 풍미 깊음, 깔끔함, 독특함]', '[진한 맛, 크리미함, 깔끔함, 부드러움, 고급스러움, 풍부한 크림감, 진한 커피 풍미, 부드러운 끝맛, 청량감, 고급스러운 질감]'], 'menuIngred': [\"[ '콜드브루 커피, 헤이즐넛 시럽, 우유, 얼음']\", \"[ '에스프레소, 헤이즐넛 시럽, 우유']\", \"[ '콜드브루 커피', '오트밀크', '얼음', '오트 시럽 (옵션)']\", \"[ '디카페인 커피, 설탕, 생크림, 바닐라 추출물, 얼음']\", \"[ '에스프레소', '흑임자 가루', '휘핑크림', '연유', '우유']\", \"[ '에스프레소', '우유', '설탕 (옵션)', '바닐라 시럽 (옵션)']\", \"[ '우유', '에스프레소', '초콜릿 시럽', '휘핑크림 (옵션)', '초콜릿 가루 (옵션)']\", \"[ '디카페인 원두', '우유', '설탕', '시럽']\", \"[ '밀가루', '설탕', '버터', '달걀', '베이킹파우더', '소금', '체다 치즈', '크림치즈', '우유', '올리브유', '레몬즙']\", \"[ '콜드브루', '에스프레소', '우유', '스팀밀크', '얼음']\"]}\n"
     ]
    },
    {
     "name": "stderr",
     "output_type": "stream",
     "text": [
      "127.0.0.1 - - [06/Jan/2025 14:31:21] \"POST /analyze-menu HTTP/1.1\" 200 -\n"
     ]
    },
    {
     "name": "stdout",
     "output_type": "stream",
     "text": [
      "플랫화이트\n",
      "{'status': 'success', 'similarMenus': ['헤이즐넛 콜드브루', '헤이즐넛 에스프레소', '오트 콜드브루', '디카페인 아인슈페너', '흑임자 크림 에스프레소', '에스프레소 라떼', '모카 라떼', '디카페인커피', '황치즈 마들렌', '콜드브루 카푸치노'], 'menu': '플랫화이트', 'menuInfo': ['[고소함, 진한 커피맛, 깔끔함, 부드러움, 고급스러움, 고소한 견과류 풍미, 진한 커피 맛, 시원한 질감, 균형감, 고급스러운 끝맛]', '[고소함, 깊은 맛, 진한 커피향, 따뜻함, 고급스러움, 고소한 견과류 향, 진한 커피 맛, 부드러운 끝맛, 풍부한 텍스처, 깊은 여운]', '[고소함, 건강함, 깔끔함, 부드러움, 고급스러움, 고소한 귀리 향, 깔끔한 커피, 부드러운 끝맛, 현대적 감성]', '[진한 맛, 부드러움, 건강함, 고급스러움, 깔끔함, 부드러운 크림, 진한 커피 풍미, 부담 없는 선택, 세련된 맛, 균형감]', '[고소함, 크리미함, 진한 맛, 고급스러움, 독특함, 고소한 흑임자 향, 부드러운 크림, 진한 커피 맛, 세련된 조화, 특별한 풍미]', '[진한 커피맛, 부드러움, 고급스러움, 풍미, 클래식, 진한 커피 맛, 부드러운 우유, 균형감, 풍부한 여운]', '[달콤함, 초콜릿, 진한 커피향, 부드러움, 만족감, 진한 초콜릿, 풍부한 크림감, 고급스러움, 달콤한 끝맛, 따뜻한 풍미]', '[가벼움, 부드러움, 건강함, 편안함, 깔끔함, 부드러운 커피 향, 가벼운 여운, 균형감, 온화한 풍미]', '[고소함, 담백함, 부드러운 질감, 진한 황치즈 풍미, 고급 디저트, 클래식 감성, 만족감, 풍미 깊음, 깔끔함, 독특함]', '[진한 맛, 크리미함, 깔끔함, 부드러움, 고급스러움, 풍부한 크림감, 진한 커피 풍미, 부드러운 끝맛, 청량감, 고급스러운 질감]'], 'menuIngred': [\"[ '콜드브루 커피, 헤이즐넛 시럽, 우유, 얼음']\", \"[ '에스프레소, 헤이즐넛 시럽, 우유']\", \"[ '콜드브루 커피', '오트밀크', '얼음', '오트 시럽 (옵션)']\", \"[ '디카페인 커피, 설탕, 생크림, 바닐라 추출물, 얼음']\", \"[ '에스프레소', '흑임자 가루', '휘핑크림', '연유', '우유']\", \"[ '에스프레소', '우유', '설탕 (옵션)', '바닐라 시럽 (옵션)']\", \"[ '우유', '에스프레소', '초콜릿 시럽', '휘핑크림 (옵션)', '초콜릿 가루 (옵션)']\", \"[ '디카페인 원두', '우유', '설탕', '시럽']\", \"[ '밀가루', '설탕', '버터', '달걀', '베이킹파우더', '소금', '체다 치즈', '크림치즈', '우유', '올리브유', '레몬즙']\", \"[ '콜드브루', '에스프레소', '우유', '스팀밀크', '얼음']\"]}\n"
     ]
    },
    {
     "name": "stderr",
     "output_type": "stream",
     "text": [
      "127.0.0.1 - - [06/Jan/2025 14:37:08] \"POST /analyze-menu HTTP/1.1\" 200 -\n"
     ]
    },
    {
     "name": "stdout",
     "output_type": "stream",
     "text": [
      "플랫화이트\n",
      "{'status': 'success', 'similarMenus': ['헤이즐넛 콜드브루', '헤이즐넛 에스프레소', '오트 콜드브루', '디카페인 아인슈페너', '흑임자 크림 에스프레소', '에스프레소 라떼', '모카 라떼', '디카페인커피', '황치즈 마들렌', '콜드브루 카푸치노'], 'menu': '플랫화이트', 'menuInfo': ['[고소함, 진한 커피맛, 깔끔함, 부드러움, 고급스러움, 고소한 견과류 풍미, 진한 커피 맛, 시원한 질감, 균형감, 고급스러운 끝맛]', '[고소함, 깊은 맛, 진한 커피향, 따뜻함, 고급스러움, 고소한 견과류 향, 진한 커피 맛, 부드러운 끝맛, 풍부한 텍스처, 깊은 여운]', '[고소함, 건강함, 깔끔함, 부드러움, 고급스러움, 고소한 귀리 향, 깔끔한 커피, 부드러운 끝맛, 현대적 감성]', '[진한 맛, 부드러움, 건강함, 고급스러움, 깔끔함, 부드러운 크림, 진한 커피 풍미, 부담 없는 선택, 세련된 맛, 균형감]', '[고소함, 크리미함, 진한 맛, 고급스러움, 독특함, 고소한 흑임자 향, 부드러운 크림, 진한 커피 맛, 세련된 조화, 특별한 풍미]', '[진한 커피맛, 부드러움, 고급스러움, 풍미, 클래식, 진한 커피 맛, 부드러운 우유, 균형감, 풍부한 여운]', '[달콤함, 초콜릿, 진한 커피향, 부드러움, 만족감, 진한 초콜릿, 풍부한 크림감, 고급스러움, 달콤한 끝맛, 따뜻한 풍미]', '[가벼움, 부드러움, 건강함, 편안함, 깔끔함, 부드러운 커피 향, 가벼운 여운, 균형감, 온화한 풍미]', '[고소함, 담백함, 부드러운 질감, 진한 황치즈 풍미, 고급 디저트, 클래식 감성, 만족감, 풍미 깊음, 깔끔함, 독특함]', '[진한 맛, 크리미함, 깔끔함, 부드러움, 고급스러움, 풍부한 크림감, 진한 커피 풍미, 부드러운 끝맛, 청량감, 고급스러운 질감]'], 'menuIngred': [\"[ '콜드브루 커피, 헤이즐넛 시럽, 우유, 얼음']\", \"[ '에스프레소, 헤이즐넛 시럽, 우유']\", \"[ '콜드브루 커피', '오트밀크', '얼음', '오트 시럽 (옵션)']\", \"[ '디카페인 커피, 설탕, 생크림, 바닐라 추출물, 얼음']\", \"[ '에스프레소', '흑임자 가루', '휘핑크림', '연유', '우유']\", \"[ '에스프레소', '우유', '설탕 (옵션)', '바닐라 시럽 (옵션)']\", \"[ '우유', '에스프레소', '초콜릿 시럽', '휘핑크림 (옵션)', '초콜릿 가루 (옵션)']\", \"[ '디카페인 원두', '우유', '설탕', '시럽']\", \"[ '밀가루', '설탕', '버터', '달걀', '베이킹파우더', '소금', '체다 치즈', '크림치즈', '우유', '올리브유', '레몬즙']\", \"[ '콜드브루', '에스프레소', '우유', '스팀밀크', '얼음']\"]}\n"
     ]
    },
    {
     "name": "stderr",
     "output_type": "stream",
     "text": [
      "127.0.0.1 - - [06/Jan/2025 14:38:50] \"POST /analyze-menu HTTP/1.1\" 200 -\n"
     ]
    },
    {
     "name": "stdout",
     "output_type": "stream",
     "text": [
      "플랫화이트\n",
      "{'status': 'success', 'similarMenus': ['헤이즐넛 콜드브루', '헤이즐넛 에스프레소', '오트 콜드브루', '디카페인 아인슈페너', '흑임자 크림 에스프레소', '에스프레소 라떼', '모카 라떼', '디카페인커피', '황치즈 마들렌', '콜드브루 카푸치노'], 'menu': '플랫화이트', 'menuInfo': ['[고소함, 진한 커피맛, 깔끔함, 부드러움, 고급스러움, 고소한 견과류 풍미, 진한 커피 맛, 시원한 질감, 균형감, 고급스러운 끝맛]', '[고소함, 깊은 맛, 진한 커피향, 따뜻함, 고급스러움, 고소한 견과류 향, 진한 커피 맛, 부드러운 끝맛, 풍부한 텍스처, 깊은 여운]', '[고소함, 건강함, 깔끔함, 부드러움, 고급스러움, 고소한 귀리 향, 깔끔한 커피, 부드러운 끝맛, 현대적 감성]', '[진한 맛, 부드러움, 건강함, 고급스러움, 깔끔함, 부드러운 크림, 진한 커피 풍미, 부담 없는 선택, 세련된 맛, 균형감]', '[고소함, 크리미함, 진한 맛, 고급스러움, 독특함, 고소한 흑임자 향, 부드러운 크림, 진한 커피 맛, 세련된 조화, 특별한 풍미]', '[진한 커피맛, 부드러움, 고급스러움, 풍미, 클래식, 진한 커피 맛, 부드러운 우유, 균형감, 풍부한 여운]', '[달콤함, 초콜릿, 진한 커피향, 부드러움, 만족감, 진한 초콜릿, 풍부한 크림감, 고급스러움, 달콤한 끝맛, 따뜻한 풍미]', '[가벼움, 부드러움, 건강함, 편안함, 깔끔함, 부드러운 커피 향, 가벼운 여운, 균형감, 온화한 풍미]', '[고소함, 담백함, 부드러운 질감, 진한 황치즈 풍미, 고급 디저트, 클래식 감성, 만족감, 풍미 깊음, 깔끔함, 독특함]', '[진한 맛, 크리미함, 깔끔함, 부드러움, 고급스러움, 풍부한 크림감, 진한 커피 풍미, 부드러운 끝맛, 청량감, 고급스러운 질감]'], 'menuIngred': [\"[ '콜드브루 커피, 헤이즐넛 시럽, 우유, 얼음']\", \"[ '에스프레소, 헤이즐넛 시럽, 우유']\", \"[ '콜드브루 커피', '오트밀크', '얼음', '오트 시럽 (옵션)']\", \"[ '디카페인 커피, 설탕, 생크림, 바닐라 추출물, 얼음']\", \"[ '에스프레소', '흑임자 가루', '휘핑크림', '연유', '우유']\", \"[ '에스프레소', '우유', '설탕 (옵션)', '바닐라 시럽 (옵션)']\", \"[ '우유', '에스프레소', '초콜릿 시럽', '휘핑크림 (옵션)', '초콜릿 가루 (옵션)']\", \"[ '디카페인 원두', '우유', '설탕', '시럽']\", \"[ '밀가루', '설탕', '버터', '달걀', '베이킹파우더', '소금', '체다 치즈', '크림치즈', '우유', '올리브유', '레몬즙']\", \"[ '콜드브루', '에스프레소', '우유', '스팀밀크', '얼음']\"]}\n"
     ]
    },
    {
     "name": "stderr",
     "output_type": "stream",
     "text": [
      "127.0.0.1 - - [06/Jan/2025 14:39:44] \"POST /analyze-menu HTTP/1.1\" 200 -\n"
     ]
    },
    {
     "name": "stdout",
     "output_type": "stream",
     "text": [
      "플랫화이트\n",
      "{'status': 'success', 'similarMenus': ['헤이즐넛 콜드브루', '헤이즐넛 에스프레소', '오트 콜드브루', '디카페인 아인슈페너', '흑임자 크림 에스프레소', '에스프레소 라떼', '모카 라떼', '디카페인커피', '황치즈 마들렌', '콜드브루 카푸치노'], 'menu': '플랫화이트', 'menuInfo': ['[고소함, 진한 커피맛, 깔끔함, 부드러움, 고급스러움, 고소한 견과류 풍미, 진한 커피 맛, 시원한 질감, 균형감, 고급스러운 끝맛]', '[고소함, 깊은 맛, 진한 커피향, 따뜻함, 고급스러움, 고소한 견과류 향, 진한 커피 맛, 부드러운 끝맛, 풍부한 텍스처, 깊은 여운]', '[고소함, 건강함, 깔끔함, 부드러움, 고급스러움, 고소한 귀리 향, 깔끔한 커피, 부드러운 끝맛, 현대적 감성]', '[진한 맛, 부드러움, 건강함, 고급스러움, 깔끔함, 부드러운 크림, 진한 커피 풍미, 부담 없는 선택, 세련된 맛, 균형감]', '[고소함, 크리미함, 진한 맛, 고급스러움, 독특함, 고소한 흑임자 향, 부드러운 크림, 진한 커피 맛, 세련된 조화, 특별한 풍미]', '[진한 커피맛, 부드러움, 고급스러움, 풍미, 클래식, 진한 커피 맛, 부드러운 우유, 균형감, 풍부한 여운]', '[달콤함, 초콜릿, 진한 커피향, 부드러움, 만족감, 진한 초콜릿, 풍부한 크림감, 고급스러움, 달콤한 끝맛, 따뜻한 풍미]', '[가벼움, 부드러움, 건강함, 편안함, 깔끔함, 부드러운 커피 향, 가벼운 여운, 균형감, 온화한 풍미]', '[고소함, 담백함, 부드러운 질감, 진한 황치즈 풍미, 고급 디저트, 클래식 감성, 만족감, 풍미 깊음, 깔끔함, 독특함]', '[진한 맛, 크리미함, 깔끔함, 부드러움, 고급스러움, 풍부한 크림감, 진한 커피 풍미, 부드러운 끝맛, 청량감, 고급스러운 질감]'], 'menuIngred': [\"[ '콜드브루 커피, 헤이즐넛 시럽, 우유, 얼음']\", \"[ '에스프레소, 헤이즐넛 시럽, 우유']\", \"[ '콜드브루 커피', '오트밀크', '얼음', '오트 시럽 (옵션)']\", \"[ '디카페인 커피, 설탕, 생크림, 바닐라 추출물, 얼음']\", \"[ '에스프레소', '흑임자 가루', '휘핑크림', '연유', '우유']\", \"[ '에스프레소', '우유', '설탕 (옵션)', '바닐라 시럽 (옵션)']\", \"[ '우유', '에스프레소', '초콜릿 시럽', '휘핑크림 (옵션)', '초콜릿 가루 (옵션)']\", \"[ '디카페인 원두', '우유', '설탕', '시럽']\", \"[ '밀가루', '설탕', '버터', '달걀', '베이킹파우더', '소금', '체다 치즈', '크림치즈', '우유', '올리브유', '레몬즙']\", \"[ '콜드브루', '에스프레소', '우유', '스팀밀크', '얼음']\"]}\n"
     ]
    },
    {
     "name": "stderr",
     "output_type": "stream",
     "text": [
      "127.0.0.1 - - [06/Jan/2025 14:42:55] \"POST /analyze-menu HTTP/1.1\" 200 -\n"
     ]
    },
    {
     "name": "stdout",
     "output_type": "stream",
     "text": [
      "플랫화이트\n",
      "{'status': 'success', 'similarMenus': ['헤이즐넛 콜드브루', '헤이즐넛 에스프레소', '오트 콜드브루', '디카페인 아인슈페너', '흑임자 크림 에스프레소', '에스프레소 라떼', '모카 라떼', '디카페인커피', '황치즈 마들렌', '콜드브루 카푸치노'], 'menu': '플랫화이트', 'menuInfo': ['[고소함, 진한 커피맛, 깔끔함, 부드러움, 고급스러움, 고소한 견과류 풍미, 진한 커피 맛, 시원한 질감, 균형감, 고급스러운 끝맛]', '[고소함, 깊은 맛, 진한 커피향, 따뜻함, 고급스러움, 고소한 견과류 향, 진한 커피 맛, 부드러운 끝맛, 풍부한 텍스처, 깊은 여운]', '[고소함, 건강함, 깔끔함, 부드러움, 고급스러움, 고소한 귀리 향, 깔끔한 커피, 부드러운 끝맛, 현대적 감성]', '[진한 맛, 부드러움, 건강함, 고급스러움, 깔끔함, 부드러운 크림, 진한 커피 풍미, 부담 없는 선택, 세련된 맛, 균형감]', '[고소함, 크리미함, 진한 맛, 고급스러움, 독특함, 고소한 흑임자 향, 부드러운 크림, 진한 커피 맛, 세련된 조화, 특별한 풍미]', '[진한 커피맛, 부드러움, 고급스러움, 풍미, 클래식, 진한 커피 맛, 부드러운 우유, 균형감, 풍부한 여운]', '[달콤함, 초콜릿, 진한 커피향, 부드러움, 만족감, 진한 초콜릿, 풍부한 크림감, 고급스러움, 달콤한 끝맛, 따뜻한 풍미]', '[가벼움, 부드러움, 건강함, 편안함, 깔끔함, 부드러운 커피 향, 가벼운 여운, 균형감, 온화한 풍미]', '[고소함, 담백함, 부드러운 질감, 진한 황치즈 풍미, 고급 디저트, 클래식 감성, 만족감, 풍미 깊음, 깔끔함, 독특함]', '[진한 맛, 크리미함, 깔끔함, 부드러움, 고급스러움, 풍부한 크림감, 진한 커피 풍미, 부드러운 끝맛, 청량감, 고급스러운 질감]'], 'menuIngred': [\"[ '콜드브루 커피, 헤이즐넛 시럽, 우유, 얼음']\", \"[ '에스프레소, 헤이즐넛 시럽, 우유']\", \"[ '콜드브루 커피', '오트밀크', '얼음', '오트 시럽 (옵션)']\", \"[ '디카페인 커피, 설탕, 생크림, 바닐라 추출물, 얼음']\", \"[ '에스프레소', '흑임자 가루', '휘핑크림', '연유', '우유']\", \"[ '에스프레소', '우유', '설탕 (옵션)', '바닐라 시럽 (옵션)']\", \"[ '우유', '에스프레소', '초콜릿 시럽', '휘핑크림 (옵션)', '초콜릿 가루 (옵션)']\", \"[ '디카페인 원두', '우유', '설탕', '시럽']\", \"[ '밀가루', '설탕', '버터', '달걀', '베이킹파우더', '소금', '체다 치즈', '크림치즈', '우유', '올리브유', '레몬즙']\", \"[ '콜드브루', '에스프레소', '우유', '스팀밀크', '얼음']\"]}\n"
     ]
    },
    {
     "name": "stderr",
     "output_type": "stream",
     "text": [
      "127.0.0.1 - - [06/Jan/2025 14:43:40] \"POST /analyze-menu HTTP/1.1\" 200 -\n"
     ]
    },
    {
     "name": "stdout",
     "output_type": "stream",
     "text": [
      "플랫화이트\n",
      "{'status': 'success', 'similarMenus': ['헤이즐넛 콜드브루', '헤이즐넛 에스프레소', '오트 콜드브루', '디카페인 아인슈페너', '흑임자 크림 에스프레소', '에스프레소 라떼', '모카 라떼', '디카페인커피', '황치즈 마들렌', '콜드브루 카푸치노'], 'menu': '플랫화이트', 'menuInfo': ['[고소함, 진한 커피맛, 깔끔함, 부드러움, 고급스러움, 고소한 견과류 풍미, 진한 커피 맛, 시원한 질감, 균형감, 고급스러운 끝맛]', '[고소함, 깊은 맛, 진한 커피향, 따뜻함, 고급스러움, 고소한 견과류 향, 진한 커피 맛, 부드러운 끝맛, 풍부한 텍스처, 깊은 여운]', '[고소함, 건강함, 깔끔함, 부드러움, 고급스러움, 고소한 귀리 향, 깔끔한 커피, 부드러운 끝맛, 현대적 감성]', '[진한 맛, 부드러움, 건강함, 고급스러움, 깔끔함, 부드러운 크림, 진한 커피 풍미, 부담 없는 선택, 세련된 맛, 균형감]', '[고소함, 크리미함, 진한 맛, 고급스러움, 독특함, 고소한 흑임자 향, 부드러운 크림, 진한 커피 맛, 세련된 조화, 특별한 풍미]', '[진한 커피맛, 부드러움, 고급스러움, 풍미, 클래식, 진한 커피 맛, 부드러운 우유, 균형감, 풍부한 여운]', '[달콤함, 초콜릿, 진한 커피향, 부드러움, 만족감, 진한 초콜릿, 풍부한 크림감, 고급스러움, 달콤한 끝맛, 따뜻한 풍미]', '[가벼움, 부드러움, 건강함, 편안함, 깔끔함, 부드러운 커피 향, 가벼운 여운, 균형감, 온화한 풍미]', '[고소함, 담백함, 부드러운 질감, 진한 황치즈 풍미, 고급 디저트, 클래식 감성, 만족감, 풍미 깊음, 깔끔함, 독특함]', '[진한 맛, 크리미함, 깔끔함, 부드러움, 고급스러움, 풍부한 크림감, 진한 커피 풍미, 부드러운 끝맛, 청량감, 고급스러운 질감]'], 'menuIngred': [\"[ '콜드브루 커피, 헤이즐넛 시럽, 우유, 얼음']\", \"[ '에스프레소, 헤이즐넛 시럽, 우유']\", \"[ '콜드브루 커피', '오트밀크', '얼음', '오트 시럽 (옵션)']\", \"[ '디카페인 커피, 설탕, 생크림, 바닐라 추출물, 얼음']\", \"[ '에스프레소', '흑임자 가루', '휘핑크림', '연유', '우유']\", \"[ '에스프레소', '우유', '설탕 (옵션)', '바닐라 시럽 (옵션)']\", \"[ '우유', '에스프레소', '초콜릿 시럽', '휘핑크림 (옵션)', '초콜릿 가루 (옵션)']\", \"[ '디카페인 원두', '우유', '설탕', '시럽']\", \"[ '밀가루', '설탕', '버터', '달걀', '베이킹파우더', '소금', '체다 치즈', '크림치즈', '우유', '올리브유', '레몬즙']\", \"[ '콜드브루', '에스프레소', '우유', '스팀밀크', '얼음']\"]}\n"
     ]
    },
    {
     "name": "stderr",
     "output_type": "stream",
     "text": [
      "127.0.0.1 - - [06/Jan/2025 14:46:27] \"POST /analyze-menu HTTP/1.1\" 200 -\n"
     ]
    },
    {
     "name": "stdout",
     "output_type": "stream",
     "text": [
      "플랫화이트\n",
      "{'status': 'success', 'similarMenus': ['헤이즐넛 콜드브루', '헤이즐넛 에스프레소', '오트 콜드브루', '디카페인 아인슈페너', '흑임자 크림 에스프레소', '에스프레소 라떼', '모카 라떼', '디카페인커피', '황치즈 마들렌', '콜드브루 카푸치노'], 'menu': '플랫화이트', 'menuInfo': ['[고소함, 진한 커피맛, 깔끔함, 부드러움, 고급스러움, 고소한 견과류 풍미, 진한 커피 맛, 시원한 질감, 균형감, 고급스러운 끝맛]', '[고소함, 깊은 맛, 진한 커피향, 따뜻함, 고급스러움, 고소한 견과류 향, 진한 커피 맛, 부드러운 끝맛, 풍부한 텍스처, 깊은 여운]', '[고소함, 건강함, 깔끔함, 부드러움, 고급스러움, 고소한 귀리 향, 깔끔한 커피, 부드러운 끝맛, 현대적 감성]', '[진한 맛, 부드러움, 건강함, 고급스러움, 깔끔함, 부드러운 크림, 진한 커피 풍미, 부담 없는 선택, 세련된 맛, 균형감]', '[고소함, 크리미함, 진한 맛, 고급스러움, 독특함, 고소한 흑임자 향, 부드러운 크림, 진한 커피 맛, 세련된 조화, 특별한 풍미]', '[진한 커피맛, 부드러움, 고급스러움, 풍미, 클래식, 진한 커피 맛, 부드러운 우유, 균형감, 풍부한 여운]', '[달콤함, 초콜릿, 진한 커피향, 부드러움, 만족감, 진한 초콜릿, 풍부한 크림감, 고급스러움, 달콤한 끝맛, 따뜻한 풍미]', '[가벼움, 부드러움, 건강함, 편안함, 깔끔함, 부드러운 커피 향, 가벼운 여운, 균형감, 온화한 풍미]', '[고소함, 담백함, 부드러운 질감, 진한 황치즈 풍미, 고급 디저트, 클래식 감성, 만족감, 풍미 깊음, 깔끔함, 독특함]', '[진한 맛, 크리미함, 깔끔함, 부드러움, 고급스러움, 풍부한 크림감, 진한 커피 풍미, 부드러운 끝맛, 청량감, 고급스러운 질감]'], 'menuIngred': [\"[ '콜드브루 커피, 헤이즐넛 시럽, 우유, 얼음']\", \"[ '에스프레소, 헤이즐넛 시럽, 우유']\", \"[ '콜드브루 커피', '오트밀크', '얼음', '오트 시럽 (옵션)']\", \"[ '디카페인 커피, 설탕, 생크림, 바닐라 추출물, 얼음']\", \"[ '에스프레소', '흑임자 가루', '휘핑크림', '연유', '우유']\", \"[ '에스프레소', '우유', '설탕 (옵션)', '바닐라 시럽 (옵션)']\", \"[ '우유', '에스프레소', '초콜릿 시럽', '휘핑크림 (옵션)', '초콜릿 가루 (옵션)']\", \"[ '디카페인 원두', '우유', '설탕', '시럽']\", \"[ '밀가루', '설탕', '버터', '달걀', '베이킹파우더', '소금', '체다 치즈', '크림치즈', '우유', '올리브유', '레몬즙']\", \"[ '콜드브루', '에스프레소', '우유', '스팀밀크', '얼음']\"]}\n"
     ]
    },
    {
     "name": "stderr",
     "output_type": "stream",
     "text": [
      "127.0.0.1 - - [06/Jan/2025 14:46:32] \"POST /analyze-menu HTTP/1.1\" 200 -\n"
     ]
    },
    {
     "name": "stdout",
     "output_type": "stream",
     "text": [
      "플랫화이트\n",
      "{'status': 'success', 'similarMenus': ['헤이즐넛 콜드브루', '헤이즐넛 에스프레소', '오트 콜드브루', '디카페인 아인슈페너', '흑임자 크림 에스프레소', '에스프레소 라떼', '모카 라떼', '디카페인커피', '황치즈 마들렌', '콜드브루 카푸치노'], 'menu': '플랫화이트', 'menuInfo': ['[고소함, 진한 커피맛, 깔끔함, 부드러움, 고급스러움, 고소한 견과류 풍미, 진한 커피 맛, 시원한 질감, 균형감, 고급스러운 끝맛]', '[고소함, 깊은 맛, 진한 커피향, 따뜻함, 고급스러움, 고소한 견과류 향, 진한 커피 맛, 부드러운 끝맛, 풍부한 텍스처, 깊은 여운]', '[고소함, 건강함, 깔끔함, 부드러움, 고급스러움, 고소한 귀리 향, 깔끔한 커피, 부드러운 끝맛, 현대적 감성]', '[진한 맛, 부드러움, 건강함, 고급스러움, 깔끔함, 부드러운 크림, 진한 커피 풍미, 부담 없는 선택, 세련된 맛, 균형감]', '[고소함, 크리미함, 진한 맛, 고급스러움, 독특함, 고소한 흑임자 향, 부드러운 크림, 진한 커피 맛, 세련된 조화, 특별한 풍미]', '[진한 커피맛, 부드러움, 고급스러움, 풍미, 클래식, 진한 커피 맛, 부드러운 우유, 균형감, 풍부한 여운]', '[달콤함, 초콜릿, 진한 커피향, 부드러움, 만족감, 진한 초콜릿, 풍부한 크림감, 고급스러움, 달콤한 끝맛, 따뜻한 풍미]', '[가벼움, 부드러움, 건강함, 편안함, 깔끔함, 부드러운 커피 향, 가벼운 여운, 균형감, 온화한 풍미]', '[고소함, 담백함, 부드러운 질감, 진한 황치즈 풍미, 고급 디저트, 클래식 감성, 만족감, 풍미 깊음, 깔끔함, 독특함]', '[진한 맛, 크리미함, 깔끔함, 부드러움, 고급스러움, 풍부한 크림감, 진한 커피 풍미, 부드러운 끝맛, 청량감, 고급스러운 질감]'], 'menuIngred': [\"[ '콜드브루 커피, 헤이즐넛 시럽, 우유, 얼음']\", \"[ '에스프레소, 헤이즐넛 시럽, 우유']\", \"[ '콜드브루 커피', '오트밀크', '얼음', '오트 시럽 (옵션)']\", \"[ '디카페인 커피, 설탕, 생크림, 바닐라 추출물, 얼음']\", \"[ '에스프레소', '흑임자 가루', '휘핑크림', '연유', '우유']\", \"[ '에스프레소', '우유', '설탕 (옵션)', '바닐라 시럽 (옵션)']\", \"[ '우유', '에스프레소', '초콜릿 시럽', '휘핑크림 (옵션)', '초콜릿 가루 (옵션)']\", \"[ '디카페인 원두', '우유', '설탕', '시럽']\", \"[ '밀가루', '설탕', '버터', '달걀', '베이킹파우더', '소금', '체다 치즈', '크림치즈', '우유', '올리브유', '레몬즙']\", \"[ '콜드브루', '에스프레소', '우유', '스팀밀크', '얼음']\"]}\n"
     ]
    },
    {
     "name": "stderr",
     "output_type": "stream",
     "text": [
      "127.0.0.1 - - [06/Jan/2025 14:48:19] \"POST /analyze-menu HTTP/1.1\" 200 -\n"
     ]
    },
    {
     "name": "stdout",
     "output_type": "stream",
     "text": [
      "플랫화이트\n",
      "{'status': 'success', 'similarMenus': ['헤이즐넛 콜드브루', '헤이즐넛 에스프레소', '오트 콜드브루', '디카페인 아인슈페너', '흑임자 크림 에스프레소', '에스프레소 라떼', '모카 라떼', '디카페인커피', '황치즈 마들렌', '콜드브루 카푸치노'], 'menu': '플랫화이트', 'menuInfo': ['[고소함, 진한 커피맛, 깔끔함, 부드러움, 고급스러움, 고소한 견과류 풍미, 진한 커피 맛, 시원한 질감, 균형감, 고급스러운 끝맛]', '[고소함, 깊은 맛, 진한 커피향, 따뜻함, 고급스러움, 고소한 견과류 향, 진한 커피 맛, 부드러운 끝맛, 풍부한 텍스처, 깊은 여운]', '[고소함, 건강함, 깔끔함, 부드러움, 고급스러움, 고소한 귀리 향, 깔끔한 커피, 부드러운 끝맛, 현대적 감성]', '[진한 맛, 부드러움, 건강함, 고급스러움, 깔끔함, 부드러운 크림, 진한 커피 풍미, 부담 없는 선택, 세련된 맛, 균형감]', '[고소함, 크리미함, 진한 맛, 고급스러움, 독특함, 고소한 흑임자 향, 부드러운 크림, 진한 커피 맛, 세련된 조화, 특별한 풍미]', '[진한 커피맛, 부드러움, 고급스러움, 풍미, 클래식, 진한 커피 맛, 부드러운 우유, 균형감, 풍부한 여운]', '[달콤함, 초콜릿, 진한 커피향, 부드러움, 만족감, 진한 초콜릿, 풍부한 크림감, 고급스러움, 달콤한 끝맛, 따뜻한 풍미]', '[가벼움, 부드러움, 건강함, 편안함, 깔끔함, 부드러운 커피 향, 가벼운 여운, 균형감, 온화한 풍미]', '[고소함, 담백함, 부드러운 질감, 진한 황치즈 풍미, 고급 디저트, 클래식 감성, 만족감, 풍미 깊음, 깔끔함, 독특함]', '[진한 맛, 크리미함, 깔끔함, 부드러움, 고급스러움, 풍부한 크림감, 진한 커피 풍미, 부드러운 끝맛, 청량감, 고급스러운 질감]'], 'menuIngred': [\"[ '콜드브루 커피, 헤이즐넛 시럽, 우유, 얼음']\", \"[ '에스프레소, 헤이즐넛 시럽, 우유']\", \"[ '콜드브루 커피', '오트밀크', '얼음', '오트 시럽 (옵션)']\", \"[ '디카페인 커피, 설탕, 생크림, 바닐라 추출물, 얼음']\", \"[ '에스프레소', '흑임자 가루', '휘핑크림', '연유', '우유']\", \"[ '에스프레소', '우유', '설탕 (옵션)', '바닐라 시럽 (옵션)']\", \"[ '우유', '에스프레소', '초콜릿 시럽', '휘핑크림 (옵션)', '초콜릿 가루 (옵션)']\", \"[ '디카페인 원두', '우유', '설탕', '시럽']\", \"[ '밀가루', '설탕', '버터', '달걀', '베이킹파우더', '소금', '체다 치즈', '크림치즈', '우유', '올리브유', '레몬즙']\", \"[ '콜드브루', '에스프레소', '우유', '스팀밀크', '얼음']\"]}\n"
     ]
    },
    {
     "name": "stderr",
     "output_type": "stream",
     "text": [
      "127.0.0.1 - - [06/Jan/2025 14:48:56] \"POST /analyze-menu HTTP/1.1\" 200 -\n"
     ]
    },
    {
     "name": "stdout",
     "output_type": "stream",
     "text": [
      "플랫화이트\n",
      "{'status': 'success', 'similarMenus': ['헤이즐넛 콜드브루', '헤이즐넛 에스프레소', '오트 콜드브루', '디카페인 아인슈페너', '흑임자 크림 에스프레소', '에스프레소 라떼', '모카 라떼', '디카페인커피', '황치즈 마들렌', '콜드브루 카푸치노'], 'menu': '플랫화이트', 'menuInfo': ['[고소함, 진한 커피맛, 깔끔함, 부드러움, 고급스러움, 고소한 견과류 풍미, 진한 커피 맛, 시원한 질감, 균형감, 고급스러운 끝맛]', '[고소함, 깊은 맛, 진한 커피향, 따뜻함, 고급스러움, 고소한 견과류 향, 진한 커피 맛, 부드러운 끝맛, 풍부한 텍스처, 깊은 여운]', '[고소함, 건강함, 깔끔함, 부드러움, 고급스러움, 고소한 귀리 향, 깔끔한 커피, 부드러운 끝맛, 현대적 감성]', '[진한 맛, 부드러움, 건강함, 고급스러움, 깔끔함, 부드러운 크림, 진한 커피 풍미, 부담 없는 선택, 세련된 맛, 균형감]', '[고소함, 크리미함, 진한 맛, 고급스러움, 독특함, 고소한 흑임자 향, 부드러운 크림, 진한 커피 맛, 세련된 조화, 특별한 풍미]', '[진한 커피맛, 부드러움, 고급스러움, 풍미, 클래식, 진한 커피 맛, 부드러운 우유, 균형감, 풍부한 여운]', '[달콤함, 초콜릿, 진한 커피향, 부드러움, 만족감, 진한 초콜릿, 풍부한 크림감, 고급스러움, 달콤한 끝맛, 따뜻한 풍미]', '[가벼움, 부드러움, 건강함, 편안함, 깔끔함, 부드러운 커피 향, 가벼운 여운, 균형감, 온화한 풍미]', '[고소함, 담백함, 부드러운 질감, 진한 황치즈 풍미, 고급 디저트, 클래식 감성, 만족감, 풍미 깊음, 깔끔함, 독특함]', '[진한 맛, 크리미함, 깔끔함, 부드러움, 고급스러움, 풍부한 크림감, 진한 커피 풍미, 부드러운 끝맛, 청량감, 고급스러운 질감]'], 'menuIngred': [\"[ '콜드브루 커피, 헤이즐넛 시럽, 우유, 얼음']\", \"[ '에스프레소, 헤이즐넛 시럽, 우유']\", \"[ '콜드브루 커피', '오트밀크', '얼음', '오트 시럽 (옵션)']\", \"[ '디카페인 커피, 설탕, 생크림, 바닐라 추출물, 얼음']\", \"[ '에스프레소', '흑임자 가루', '휘핑크림', '연유', '우유']\", \"[ '에스프레소', '우유', '설탕 (옵션)', '바닐라 시럽 (옵션)']\", \"[ '우유', '에스프레소', '초콜릿 시럽', '휘핑크림 (옵션)', '초콜릿 가루 (옵션)']\", \"[ '디카페인 원두', '우유', '설탕', '시럽']\", \"[ '밀가루', '설탕', '버터', '달걀', '베이킹파우더', '소금', '체다 치즈', '크림치즈', '우유', '올리브유', '레몬즙']\", \"[ '콜드브루', '에스프레소', '우유', '스팀밀크', '얼음']\"]}\n"
     ]
    },
    {
     "name": "stderr",
     "output_type": "stream",
     "text": [
      "127.0.0.1 - - [06/Jan/2025 14:51:17] \"POST /analyze-menu HTTP/1.1\" 200 -\n"
     ]
    },
    {
     "name": "stdout",
     "output_type": "stream",
     "text": [
      "플랫화이트\n",
      "{'status': 'success', 'similarMenus': ['헤이즐넛 콜드브루', '헤이즐넛 에스프레소', '오트 콜드브루', '디카페인 아인슈페너', '흑임자 크림 에스프레소', '에스프레소 라떼', '모카 라떼', '디카페인커피', '황치즈 마들렌', '콜드브루 카푸치노'], 'menu': '플랫화이트', 'menuInfo': ['[고소함, 진한 커피맛, 깔끔함, 부드러움, 고급스러움, 고소한 견과류 풍미, 진한 커피 맛, 시원한 질감, 균형감, 고급스러운 끝맛]', '[고소함, 깊은 맛, 진한 커피향, 따뜻함, 고급스러움, 고소한 견과류 향, 진한 커피 맛, 부드러운 끝맛, 풍부한 텍스처, 깊은 여운]', '[고소함, 건강함, 깔끔함, 부드러움, 고급스러움, 고소한 귀리 향, 깔끔한 커피, 부드러운 끝맛, 현대적 감성]', '[진한 맛, 부드러움, 건강함, 고급스러움, 깔끔함, 부드러운 크림, 진한 커피 풍미, 부담 없는 선택, 세련된 맛, 균형감]', '[고소함, 크리미함, 진한 맛, 고급스러움, 독특함, 고소한 흑임자 향, 부드러운 크림, 진한 커피 맛, 세련된 조화, 특별한 풍미]', '[진한 커피맛, 부드러움, 고급스러움, 풍미, 클래식, 진한 커피 맛, 부드러운 우유, 균형감, 풍부한 여운]', '[달콤함, 초콜릿, 진한 커피향, 부드러움, 만족감, 진한 초콜릿, 풍부한 크림감, 고급스러움, 달콤한 끝맛, 따뜻한 풍미]', '[가벼움, 부드러움, 건강함, 편안함, 깔끔함, 부드러운 커피 향, 가벼운 여운, 균형감, 온화한 풍미]', '[고소함, 담백함, 부드러운 질감, 진한 황치즈 풍미, 고급 디저트, 클래식 감성, 만족감, 풍미 깊음, 깔끔함, 독특함]', '[진한 맛, 크리미함, 깔끔함, 부드러움, 고급스러움, 풍부한 크림감, 진한 커피 풍미, 부드러운 끝맛, 청량감, 고급스러운 질감]'], 'menuIngred': [\"[ '콜드브루 커피, 헤이즐넛 시럽, 우유, 얼음']\", \"[ '에스프레소, 헤이즐넛 시럽, 우유']\", \"[ '콜드브루 커피', '오트밀크', '얼음', '오트 시럽 (옵션)']\", \"[ '디카페인 커피, 설탕, 생크림, 바닐라 추출물, 얼음']\", \"[ '에스프레소', '흑임자 가루', '휘핑크림', '연유', '우유']\", \"[ '에스프레소', '우유', '설탕 (옵션)', '바닐라 시럽 (옵션)']\", \"[ '우유', '에스프레소', '초콜릿 시럽', '휘핑크림 (옵션)', '초콜릿 가루 (옵션)']\", \"[ '디카페인 원두', '우유', '설탕', '시럽']\", \"[ '밀가루', '설탕', '버터', '달걀', '베이킹파우더', '소금', '체다 치즈', '크림치즈', '우유', '올리브유', '레몬즙']\", \"[ '콜드브루', '에스프레소', '우유', '스팀밀크', '얼음']\"]}\n"
     ]
    },
    {
     "name": "stderr",
     "output_type": "stream",
     "text": [
      "127.0.0.1 - - [06/Jan/2025 14:51:25] \"POST /analyze-menu HTTP/1.1\" 200 -\n"
     ]
    },
    {
     "name": "stdout",
     "output_type": "stream",
     "text": [
      "플랫화이트\n",
      "{'status': 'success', 'similarMenus': ['헤이즐넛 콜드브루', '헤이즐넛 에스프레소', '오트 콜드브루', '디카페인 아인슈페너', '흑임자 크림 에스프레소', '에스프레소 라떼', '모카 라떼', '디카페인커피', '황치즈 마들렌', '콜드브루 카푸치노'], 'menu': '플랫화이트', 'menuInfo': ['[고소함, 진한 커피맛, 깔끔함, 부드러움, 고급스러움, 고소한 견과류 풍미, 진한 커피 맛, 시원한 질감, 균형감, 고급스러운 끝맛]', '[고소함, 깊은 맛, 진한 커피향, 따뜻함, 고급스러움, 고소한 견과류 향, 진한 커피 맛, 부드러운 끝맛, 풍부한 텍스처, 깊은 여운]', '[고소함, 건강함, 깔끔함, 부드러움, 고급스러움, 고소한 귀리 향, 깔끔한 커피, 부드러운 끝맛, 현대적 감성]', '[진한 맛, 부드러움, 건강함, 고급스러움, 깔끔함, 부드러운 크림, 진한 커피 풍미, 부담 없는 선택, 세련된 맛, 균형감]', '[고소함, 크리미함, 진한 맛, 고급스러움, 독특함, 고소한 흑임자 향, 부드러운 크림, 진한 커피 맛, 세련된 조화, 특별한 풍미]', '[진한 커피맛, 부드러움, 고급스러움, 풍미, 클래식, 진한 커피 맛, 부드러운 우유, 균형감, 풍부한 여운]', '[달콤함, 초콜릿, 진한 커피향, 부드러움, 만족감, 진한 초콜릿, 풍부한 크림감, 고급스러움, 달콤한 끝맛, 따뜻한 풍미]', '[가벼움, 부드러움, 건강함, 편안함, 깔끔함, 부드러운 커피 향, 가벼운 여운, 균형감, 온화한 풍미]', '[고소함, 담백함, 부드러운 질감, 진한 황치즈 풍미, 고급 디저트, 클래식 감성, 만족감, 풍미 깊음, 깔끔함, 독특함]', '[진한 맛, 크리미함, 깔끔함, 부드러움, 고급스러움, 풍부한 크림감, 진한 커피 풍미, 부드러운 끝맛, 청량감, 고급스러운 질감]'], 'menuIngred': [\"[ '콜드브루 커피, 헤이즐넛 시럽, 우유, 얼음']\", \"[ '에스프레소, 헤이즐넛 시럽, 우유']\", \"[ '콜드브루 커피', '오트밀크', '얼음', '오트 시럽 (옵션)']\", \"[ '디카페인 커피, 설탕, 생크림, 바닐라 추출물, 얼음']\", \"[ '에스프레소', '흑임자 가루', '휘핑크림', '연유', '우유']\", \"[ '에스프레소', '우유', '설탕 (옵션)', '바닐라 시럽 (옵션)']\", \"[ '우유', '에스프레소', '초콜릿 시럽', '휘핑크림 (옵션)', '초콜릿 가루 (옵션)']\", \"[ '디카페인 원두', '우유', '설탕', '시럽']\", \"[ '밀가루', '설탕', '버터', '달걀', '베이킹파우더', '소금', '체다 치즈', '크림치즈', '우유', '올리브유', '레몬즙']\", \"[ '콜드브루', '에스프레소', '우유', '스팀밀크', '얼음']\"]}\n"
     ]
    },
    {
     "name": "stderr",
     "output_type": "stream",
     "text": [
      "127.0.0.1 - - [06/Jan/2025 14:51:40] \"POST /analyze-menu HTTP/1.1\" 200 -\n"
     ]
    },
    {
     "name": "stdout",
     "output_type": "stream",
     "text": [
      "플랫화이트\n",
      "{'status': 'success', 'similarMenus': ['헤이즐넛 콜드브루', '헤이즐넛 에스프레소', '오트 콜드브루', '디카페인 아인슈페너', '흑임자 크림 에스프레소', '에스프레소 라떼', '모카 라떼', '디카페인커피', '황치즈 마들렌', '콜드브루 카푸치노'], 'menu': '플랫화이트', 'menuInfo': ['[고소함, 진한 커피맛, 깔끔함, 부드러움, 고급스러움, 고소한 견과류 풍미, 진한 커피 맛, 시원한 질감, 균형감, 고급스러운 끝맛]', '[고소함, 깊은 맛, 진한 커피향, 따뜻함, 고급스러움, 고소한 견과류 향, 진한 커피 맛, 부드러운 끝맛, 풍부한 텍스처, 깊은 여운]', '[고소함, 건강함, 깔끔함, 부드러움, 고급스러움, 고소한 귀리 향, 깔끔한 커피, 부드러운 끝맛, 현대적 감성]', '[진한 맛, 부드러움, 건강함, 고급스러움, 깔끔함, 부드러운 크림, 진한 커피 풍미, 부담 없는 선택, 세련된 맛, 균형감]', '[고소함, 크리미함, 진한 맛, 고급스러움, 독특함, 고소한 흑임자 향, 부드러운 크림, 진한 커피 맛, 세련된 조화, 특별한 풍미]', '[진한 커피맛, 부드러움, 고급스러움, 풍미, 클래식, 진한 커피 맛, 부드러운 우유, 균형감, 풍부한 여운]', '[달콤함, 초콜릿, 진한 커피향, 부드러움, 만족감, 진한 초콜릿, 풍부한 크림감, 고급스러움, 달콤한 끝맛, 따뜻한 풍미]', '[가벼움, 부드러움, 건강함, 편안함, 깔끔함, 부드러운 커피 향, 가벼운 여운, 균형감, 온화한 풍미]', '[고소함, 담백함, 부드러운 질감, 진한 황치즈 풍미, 고급 디저트, 클래식 감성, 만족감, 풍미 깊음, 깔끔함, 독특함]', '[진한 맛, 크리미함, 깔끔함, 부드러움, 고급스러움, 풍부한 크림감, 진한 커피 풍미, 부드러운 끝맛, 청량감, 고급스러운 질감]'], 'menuIngred': [\"[ '콜드브루 커피, 헤이즐넛 시럽, 우유, 얼음']\", \"[ '에스프레소, 헤이즐넛 시럽, 우유']\", \"[ '콜드브루 커피', '오트밀크', '얼음', '오트 시럽 (옵션)']\", \"[ '디카페인 커피, 설탕, 생크림, 바닐라 추출물, 얼음']\", \"[ '에스프레소', '흑임자 가루', '휘핑크림', '연유', '우유']\", \"[ '에스프레소', '우유', '설탕 (옵션)', '바닐라 시럽 (옵션)']\", \"[ '우유', '에스프레소', '초콜릿 시럽', '휘핑크림 (옵션)', '초콜릿 가루 (옵션)']\", \"[ '디카페인 원두', '우유', '설탕', '시럽']\", \"[ '밀가루', '설탕', '버터', '달걀', '베이킹파우더', '소금', '체다 치즈', '크림치즈', '우유', '올리브유', '레몬즙']\", \"[ '콜드브루', '에스프레소', '우유', '스팀밀크', '얼음']\"]}\n"
     ]
    },
    {
     "name": "stderr",
     "output_type": "stream",
     "text": [
      "127.0.0.1 - - [06/Jan/2025 14:52:20] \"POST /analyze-menu HTTP/1.1\" 200 -\n"
     ]
    },
    {
     "name": "stdout",
     "output_type": "stream",
     "text": [
      "플랫화이트\n",
      "{'status': 'success', 'similarMenus': ['헤이즐넛 콜드브루', '헤이즐넛 에스프레소', '오트 콜드브루', '디카페인 아인슈페너', '흑임자 크림 에스프레소', '에스프레소 라떼', '모카 라떼', '디카페인커피', '황치즈 마들렌', '콜드브루 카푸치노'], 'menu': '플랫화이트', 'menuInfo': ['[고소함, 진한 커피맛, 깔끔함, 부드러움, 고급스러움, 고소한 견과류 풍미, 진한 커피 맛, 시원한 질감, 균형감, 고급스러운 끝맛]', '[고소함, 깊은 맛, 진한 커피향, 따뜻함, 고급스러움, 고소한 견과류 향, 진한 커피 맛, 부드러운 끝맛, 풍부한 텍스처, 깊은 여운]', '[고소함, 건강함, 깔끔함, 부드러움, 고급스러움, 고소한 귀리 향, 깔끔한 커피, 부드러운 끝맛, 현대적 감성]', '[진한 맛, 부드러움, 건강함, 고급스러움, 깔끔함, 부드러운 크림, 진한 커피 풍미, 부담 없는 선택, 세련된 맛, 균형감]', '[고소함, 크리미함, 진한 맛, 고급스러움, 독특함, 고소한 흑임자 향, 부드러운 크림, 진한 커피 맛, 세련된 조화, 특별한 풍미]', '[진한 커피맛, 부드러움, 고급스러움, 풍미, 클래식, 진한 커피 맛, 부드러운 우유, 균형감, 풍부한 여운]', '[달콤함, 초콜릿, 진한 커피향, 부드러움, 만족감, 진한 초콜릿, 풍부한 크림감, 고급스러움, 달콤한 끝맛, 따뜻한 풍미]', '[가벼움, 부드러움, 건강함, 편안함, 깔끔함, 부드러운 커피 향, 가벼운 여운, 균형감, 온화한 풍미]', '[고소함, 담백함, 부드러운 질감, 진한 황치즈 풍미, 고급 디저트, 클래식 감성, 만족감, 풍미 깊음, 깔끔함, 독특함]', '[진한 맛, 크리미함, 깔끔함, 부드러움, 고급스러움, 풍부한 크림감, 진한 커피 풍미, 부드러운 끝맛, 청량감, 고급스러운 질감]'], 'menuIngred': [\"[ '콜드브루 커피, 헤이즐넛 시럽, 우유, 얼음']\", \"[ '에스프레소, 헤이즐넛 시럽, 우유']\", \"[ '콜드브루 커피', '오트밀크', '얼음', '오트 시럽 (옵션)']\", \"[ '디카페인 커피, 설탕, 생크림, 바닐라 추출물, 얼음']\", \"[ '에스프레소', '흑임자 가루', '휘핑크림', '연유', '우유']\", \"[ '에스프레소', '우유', '설탕 (옵션)', '바닐라 시럽 (옵션)']\", \"[ '우유', '에스프레소', '초콜릿 시럽', '휘핑크림 (옵션)', '초콜릿 가루 (옵션)']\", \"[ '디카페인 원두', '우유', '설탕', '시럽']\", \"[ '밀가루', '설탕', '버터', '달걀', '베이킹파우더', '소금', '체다 치즈', '크림치즈', '우유', '올리브유', '레몬즙']\", \"[ '콜드브루', '에스프레소', '우유', '스팀밀크', '얼음']\"]}\n"
     ]
    },
    {
     "name": "stderr",
     "output_type": "stream",
     "text": [
      "127.0.0.1 - - [06/Jan/2025 14:53:13] \"POST /analyze-menu HTTP/1.1\" 200 -\n"
     ]
    },
    {
     "name": "stdout",
     "output_type": "stream",
     "text": [
      "플랫화이트\n",
      "{'status': 'success', 'similarMenus': ['헤이즐넛 콜드브루', '헤이즐넛 에스프레소', '오트 콜드브루', '디카페인 아인슈페너', '흑임자 크림 에스프레소', '에스프레소 라떼', '모카 라떼', '디카페인커피', '황치즈 마들렌', '콜드브루 카푸치노'], 'menu': '플랫화이트', 'menuInfo': ['[고소함, 진한 커피맛, 깔끔함, 부드러움, 고급스러움, 고소한 견과류 풍미, 진한 커피 맛, 시원한 질감, 균형감, 고급스러운 끝맛]', '[고소함, 깊은 맛, 진한 커피향, 따뜻함, 고급스러움, 고소한 견과류 향, 진한 커피 맛, 부드러운 끝맛, 풍부한 텍스처, 깊은 여운]', '[고소함, 건강함, 깔끔함, 부드러움, 고급스러움, 고소한 귀리 향, 깔끔한 커피, 부드러운 끝맛, 현대적 감성]', '[진한 맛, 부드러움, 건강함, 고급스러움, 깔끔함, 부드러운 크림, 진한 커피 풍미, 부담 없는 선택, 세련된 맛, 균형감]', '[고소함, 크리미함, 진한 맛, 고급스러움, 독특함, 고소한 흑임자 향, 부드러운 크림, 진한 커피 맛, 세련된 조화, 특별한 풍미]', '[진한 커피맛, 부드러움, 고급스러움, 풍미, 클래식, 진한 커피 맛, 부드러운 우유, 균형감, 풍부한 여운]', '[달콤함, 초콜릿, 진한 커피향, 부드러움, 만족감, 진한 초콜릿, 풍부한 크림감, 고급스러움, 달콤한 끝맛, 따뜻한 풍미]', '[가벼움, 부드러움, 건강함, 편안함, 깔끔함, 부드러운 커피 향, 가벼운 여운, 균형감, 온화한 풍미]', '[고소함, 담백함, 부드러운 질감, 진한 황치즈 풍미, 고급 디저트, 클래식 감성, 만족감, 풍미 깊음, 깔끔함, 독특함]', '[진한 맛, 크리미함, 깔끔함, 부드러움, 고급스러움, 풍부한 크림감, 진한 커피 풍미, 부드러운 끝맛, 청량감, 고급스러운 질감]'], 'menuIngred': [\"[ '콜드브루 커피, 헤이즐넛 시럽, 우유, 얼음']\", \"[ '에스프레소, 헤이즐넛 시럽, 우유']\", \"[ '콜드브루 커피', '오트밀크', '얼음', '오트 시럽 (옵션)']\", \"[ '디카페인 커피, 설탕, 생크림, 바닐라 추출물, 얼음']\", \"[ '에스프레소', '흑임자 가루', '휘핑크림', '연유', '우유']\", \"[ '에스프레소', '우유', '설탕 (옵션)', '바닐라 시럽 (옵션)']\", \"[ '우유', '에스프레소', '초콜릿 시럽', '휘핑크림 (옵션)', '초콜릿 가루 (옵션)']\", \"[ '디카페인 원두', '우유', '설탕', '시럽']\", \"[ '밀가루', '설탕', '버터', '달걀', '베이킹파우더', '소금', '체다 치즈', '크림치즈', '우유', '올리브유', '레몬즙']\", \"[ '콜드브루', '에스프레소', '우유', '스팀밀크', '얼음']\"]}\n"
     ]
    },
    {
     "name": "stderr",
     "output_type": "stream",
     "text": [
      "127.0.0.1 - - [06/Jan/2025 14:54:18] \"POST /analyze-menu HTTP/1.1\" 200 -\n"
     ]
    },
    {
     "name": "stdout",
     "output_type": "stream",
     "text": [
      "플랫화이트\n",
      "{'status': 'success', 'similarMenus': ['헤이즐넛 콜드브루', '헤이즐넛 에스프레소', '오트 콜드브루', '디카페인 아인슈페너', '흑임자 크림 에스프레소', '에스프레소 라떼', '모카 라떼', '디카페인커피', '황치즈 마들렌', '콜드브루 카푸치노'], 'menu': '플랫화이트', 'menuInfo': ['[고소함, 진한 커피맛, 깔끔함, 부드러움, 고급스러움, 고소한 견과류 풍미, 진한 커피 맛, 시원한 질감, 균형감, 고급스러운 끝맛]', '[고소함, 깊은 맛, 진한 커피향, 따뜻함, 고급스러움, 고소한 견과류 향, 진한 커피 맛, 부드러운 끝맛, 풍부한 텍스처, 깊은 여운]', '[고소함, 건강함, 깔끔함, 부드러움, 고급스러움, 고소한 귀리 향, 깔끔한 커피, 부드러운 끝맛, 현대적 감성]', '[진한 맛, 부드러움, 건강함, 고급스러움, 깔끔함, 부드러운 크림, 진한 커피 풍미, 부담 없는 선택, 세련된 맛, 균형감]', '[고소함, 크리미함, 진한 맛, 고급스러움, 독특함, 고소한 흑임자 향, 부드러운 크림, 진한 커피 맛, 세련된 조화, 특별한 풍미]', '[진한 커피맛, 부드러움, 고급스러움, 풍미, 클래식, 진한 커피 맛, 부드러운 우유, 균형감, 풍부한 여운]', '[달콤함, 초콜릿, 진한 커피향, 부드러움, 만족감, 진한 초콜릿, 풍부한 크림감, 고급스러움, 달콤한 끝맛, 따뜻한 풍미]', '[가벼움, 부드러움, 건강함, 편안함, 깔끔함, 부드러운 커피 향, 가벼운 여운, 균형감, 온화한 풍미]', '[고소함, 담백함, 부드러운 질감, 진한 황치즈 풍미, 고급 디저트, 클래식 감성, 만족감, 풍미 깊음, 깔끔함, 독특함]', '[진한 맛, 크리미함, 깔끔함, 부드러움, 고급스러움, 풍부한 크림감, 진한 커피 풍미, 부드러운 끝맛, 청량감, 고급스러운 질감]'], 'menuIngred': [\"[ '콜드브루 커피, 헤이즐넛 시럽, 우유, 얼음']\", \"[ '에스프레소, 헤이즐넛 시럽, 우유']\", \"[ '콜드브루 커피', '오트밀크', '얼음', '오트 시럽 (옵션)']\", \"[ '디카페인 커피, 설탕, 생크림, 바닐라 추출물, 얼음']\", \"[ '에스프레소', '흑임자 가루', '휘핑크림', '연유', '우유']\", \"[ '에스프레소', '우유', '설탕 (옵션)', '바닐라 시럽 (옵션)']\", \"[ '우유', '에스프레소', '초콜릿 시럽', '휘핑크림 (옵션)', '초콜릿 가루 (옵션)']\", \"[ '디카페인 원두', '우유', '설탕', '시럽']\", \"[ '밀가루', '설탕', '버터', '달걀', '베이킹파우더', '소금', '체다 치즈', '크림치즈', '우유', '올리브유', '레몬즙']\", \"[ '콜드브루', '에스프레소', '우유', '스팀밀크', '얼음']\"]}\n"
     ]
    },
    {
     "name": "stderr",
     "output_type": "stream",
     "text": [
      "127.0.0.1 - - [06/Jan/2025 14:55:11] \"POST /analyze-menu HTTP/1.1\" 200 -\n"
     ]
    },
    {
     "name": "stdout",
     "output_type": "stream",
     "text": [
      "플랫화이트\n",
      "{'status': 'success', 'similarMenus': ['헤이즐넛 콜드브루', '헤이즐넛 에스프레소', '오트 콜드브루', '디카페인 아인슈페너', '흑임자 크림 에스프레소', '에스프레소 라떼', '모카 라떼', '디카페인커피', '황치즈 마들렌', '콜드브루 카푸치노'], 'menu': '플랫화이트', 'menuInfo': ['[고소함, 진한 커피맛, 깔끔함, 부드러움, 고급스러움, 고소한 견과류 풍미, 진한 커피 맛, 시원한 질감, 균형감, 고급스러운 끝맛]', '[고소함, 깊은 맛, 진한 커피향, 따뜻함, 고급스러움, 고소한 견과류 향, 진한 커피 맛, 부드러운 끝맛, 풍부한 텍스처, 깊은 여운]', '[고소함, 건강함, 깔끔함, 부드러움, 고급스러움, 고소한 귀리 향, 깔끔한 커피, 부드러운 끝맛, 현대적 감성]', '[진한 맛, 부드러움, 건강함, 고급스러움, 깔끔함, 부드러운 크림, 진한 커피 풍미, 부담 없는 선택, 세련된 맛, 균형감]', '[고소함, 크리미함, 진한 맛, 고급스러움, 독특함, 고소한 흑임자 향, 부드러운 크림, 진한 커피 맛, 세련된 조화, 특별한 풍미]', '[진한 커피맛, 부드러움, 고급스러움, 풍미, 클래식, 진한 커피 맛, 부드러운 우유, 균형감, 풍부한 여운]', '[달콤함, 초콜릿, 진한 커피향, 부드러움, 만족감, 진한 초콜릿, 풍부한 크림감, 고급스러움, 달콤한 끝맛, 따뜻한 풍미]', '[가벼움, 부드러움, 건강함, 편안함, 깔끔함, 부드러운 커피 향, 가벼운 여운, 균형감, 온화한 풍미]', '[고소함, 담백함, 부드러운 질감, 진한 황치즈 풍미, 고급 디저트, 클래식 감성, 만족감, 풍미 깊음, 깔끔함, 독특함]', '[진한 맛, 크리미함, 깔끔함, 부드러움, 고급스러움, 풍부한 크림감, 진한 커피 풍미, 부드러운 끝맛, 청량감, 고급스러운 질감]'], 'menuIngred': [\"[ '콜드브루 커피, 헤이즐넛 시럽, 우유, 얼음']\", \"[ '에스프레소, 헤이즐넛 시럽, 우유']\", \"[ '콜드브루 커피', '오트밀크', '얼음', '오트 시럽 (옵션)']\", \"[ '디카페인 커피, 설탕, 생크림, 바닐라 추출물, 얼음']\", \"[ '에스프레소', '흑임자 가루', '휘핑크림', '연유', '우유']\", \"[ '에스프레소', '우유', '설탕 (옵션)', '바닐라 시럽 (옵션)']\", \"[ '우유', '에스프레소', '초콜릿 시럽', '휘핑크림 (옵션)', '초콜릿 가루 (옵션)']\", \"[ '디카페인 원두', '우유', '설탕', '시럽']\", \"[ '밀가루', '설탕', '버터', '달걀', '베이킹파우더', '소금', '체다 치즈', '크림치즈', '우유', '올리브유', '레몬즙']\", \"[ '콜드브루', '에스프레소', '우유', '스팀밀크', '얼음']\"]}\n"
     ]
    },
    {
     "name": "stderr",
     "output_type": "stream",
     "text": [
      "127.0.0.1 - - [06/Jan/2025 14:56:03] \"POST /analyze-menu HTTP/1.1\" 200 -\n"
     ]
    },
    {
     "name": "stdout",
     "output_type": "stream",
     "text": [
      "플랫화이트\n",
      "{'status': 'success', 'similarMenus': ['헤이즐넛 콜드브루', '헤이즐넛 에스프레소', '오트 콜드브루', '디카페인 아인슈페너', '흑임자 크림 에스프레소', '에스프레소 라떼', '모카 라떼', '디카페인커피', '황치즈 마들렌', '콜드브루 카푸치노'], 'menu': '플랫화이트', 'menuInfo': ['[고소함, 진한 커피맛, 깔끔함, 부드러움, 고급스러움, 고소한 견과류 풍미, 진한 커피 맛, 시원한 질감, 균형감, 고급스러운 끝맛]', '[고소함, 깊은 맛, 진한 커피향, 따뜻함, 고급스러움, 고소한 견과류 향, 진한 커피 맛, 부드러운 끝맛, 풍부한 텍스처, 깊은 여운]', '[고소함, 건강함, 깔끔함, 부드러움, 고급스러움, 고소한 귀리 향, 깔끔한 커피, 부드러운 끝맛, 현대적 감성]', '[진한 맛, 부드러움, 건강함, 고급스러움, 깔끔함, 부드러운 크림, 진한 커피 풍미, 부담 없는 선택, 세련된 맛, 균형감]', '[고소함, 크리미함, 진한 맛, 고급스러움, 독특함, 고소한 흑임자 향, 부드러운 크림, 진한 커피 맛, 세련된 조화, 특별한 풍미]', '[진한 커피맛, 부드러움, 고급스러움, 풍미, 클래식, 진한 커피 맛, 부드러운 우유, 균형감, 풍부한 여운]', '[달콤함, 초콜릿, 진한 커피향, 부드러움, 만족감, 진한 초콜릿, 풍부한 크림감, 고급스러움, 달콤한 끝맛, 따뜻한 풍미]', '[가벼움, 부드러움, 건강함, 편안함, 깔끔함, 부드러운 커피 향, 가벼운 여운, 균형감, 온화한 풍미]', '[고소함, 담백함, 부드러운 질감, 진한 황치즈 풍미, 고급 디저트, 클래식 감성, 만족감, 풍미 깊음, 깔끔함, 독특함]', '[진한 맛, 크리미함, 깔끔함, 부드러움, 고급스러움, 풍부한 크림감, 진한 커피 풍미, 부드러운 끝맛, 청량감, 고급스러운 질감]'], 'menuIngred': [\"[ '콜드브루 커피, 헤이즐넛 시럽, 우유, 얼음']\", \"[ '에스프레소, 헤이즐넛 시럽, 우유']\", \"[ '콜드브루 커피', '오트밀크', '얼음', '오트 시럽 (옵션)']\", \"[ '디카페인 커피, 설탕, 생크림, 바닐라 추출물, 얼음']\", \"[ '에스프레소', '흑임자 가루', '휘핑크림', '연유', '우유']\", \"[ '에스프레소', '우유', '설탕 (옵션)', '바닐라 시럽 (옵션)']\", \"[ '우유', '에스프레소', '초콜릿 시럽', '휘핑크림 (옵션)', '초콜릿 가루 (옵션)']\", \"[ '디카페인 원두', '우유', '설탕', '시럽']\", \"[ '밀가루', '설탕', '버터', '달걀', '베이킹파우더', '소금', '체다 치즈', '크림치즈', '우유', '올리브유', '레몬즙']\", \"[ '콜드브루', '에스프레소', '우유', '스팀밀크', '얼음']\"]}\n"
     ]
    },
    {
     "name": "stderr",
     "output_type": "stream",
     "text": [
      "127.0.0.1 - - [06/Jan/2025 14:56:38] \"POST /analyze-menu HTTP/1.1\" 200 -\n"
     ]
    },
    {
     "name": "stdout",
     "output_type": "stream",
     "text": [
      "플랫화이트\n",
      "{'status': 'success', 'similarMenus': ['헤이즐넛 콜드브루', '헤이즐넛 에스프레소', '오트 콜드브루', '디카페인 아인슈페너', '흑임자 크림 에스프레소', '에스프레소 라떼', '모카 라떼', '디카페인커피', '황치즈 마들렌', '콜드브루 카푸치노'], 'menu': '플랫화이트', 'menuInfo': ['[고소함, 진한 커피맛, 깔끔함, 부드러움, 고급스러움, 고소한 견과류 풍미, 진한 커피 맛, 시원한 질감, 균형감, 고급스러운 끝맛]', '[고소함, 깊은 맛, 진한 커피향, 따뜻함, 고급스러움, 고소한 견과류 향, 진한 커피 맛, 부드러운 끝맛, 풍부한 텍스처, 깊은 여운]', '[고소함, 건강함, 깔끔함, 부드러움, 고급스러움, 고소한 귀리 향, 깔끔한 커피, 부드러운 끝맛, 현대적 감성]', '[진한 맛, 부드러움, 건강함, 고급스러움, 깔끔함, 부드러운 크림, 진한 커피 풍미, 부담 없는 선택, 세련된 맛, 균형감]', '[고소함, 크리미함, 진한 맛, 고급스러움, 독특함, 고소한 흑임자 향, 부드러운 크림, 진한 커피 맛, 세련된 조화, 특별한 풍미]', '[진한 커피맛, 부드러움, 고급스러움, 풍미, 클래식, 진한 커피 맛, 부드러운 우유, 균형감, 풍부한 여운]', '[달콤함, 초콜릿, 진한 커피향, 부드러움, 만족감, 진한 초콜릿, 풍부한 크림감, 고급스러움, 달콤한 끝맛, 따뜻한 풍미]', '[가벼움, 부드러움, 건강함, 편안함, 깔끔함, 부드러운 커피 향, 가벼운 여운, 균형감, 온화한 풍미]', '[고소함, 담백함, 부드러운 질감, 진한 황치즈 풍미, 고급 디저트, 클래식 감성, 만족감, 풍미 깊음, 깔끔함, 독특함]', '[진한 맛, 크리미함, 깔끔함, 부드러움, 고급스러움, 풍부한 크림감, 진한 커피 풍미, 부드러운 끝맛, 청량감, 고급스러운 질감]'], 'menuIngred': [\"[ '콜드브루 커피, 헤이즐넛 시럽, 우유, 얼음']\", \"[ '에스프레소, 헤이즐넛 시럽, 우유']\", \"[ '콜드브루 커피', '오트밀크', '얼음', '오트 시럽 (옵션)']\", \"[ '디카페인 커피, 설탕, 생크림, 바닐라 추출물, 얼음']\", \"[ '에스프레소', '흑임자 가루', '휘핑크림', '연유', '우유']\", \"[ '에스프레소', '우유', '설탕 (옵션)', '바닐라 시럽 (옵션)']\", \"[ '우유', '에스프레소', '초콜릿 시럽', '휘핑크림 (옵션)', '초콜릿 가루 (옵션)']\", \"[ '디카페인 원두', '우유', '설탕', '시럽']\", \"[ '밀가루', '설탕', '버터', '달걀', '베이킹파우더', '소금', '체다 치즈', '크림치즈', '우유', '올리브유', '레몬즙']\", \"[ '콜드브루', '에스프레소', '우유', '스팀밀크', '얼음']\"]}\n"
     ]
    },
    {
     "name": "stderr",
     "output_type": "stream",
     "text": [
      "[2025-01-06 14:57:13,870] ERROR in app: Exception on /analyze-menu [POST]\n",
      "Traceback (most recent call last):\n",
      "  File \"/opt/anaconda3/lib/python3.12/site-packages/flask/app.py\", line 1473, in wsgi_app\n",
      "    response = self.full_dispatch_request()\n",
      "               ^^^^^^^^^^^^^^^^^^^^^^^^^^^^\n",
      "  File \"/opt/anaconda3/lib/python3.12/site-packages/flask/app.py\", line 882, in full_dispatch_request\n",
      "    rv = self.handle_user_exception(e)\n",
      "         ^^^^^^^^^^^^^^^^^^^^^^^^^^^^^\n",
      "  File \"/opt/anaconda3/lib/python3.12/site-packages/flask_cors/extension.py\", line 194, in wrapped_function\n",
      "    return cors_after_request(app.make_response(f(*args, **kwargs)))\n",
      "                                                ^^^^^^^^^^^^^^^^^^\n",
      "  File \"/opt/anaconda3/lib/python3.12/site-packages/flask/app.py\", line 880, in full_dispatch_request\n",
      "    rv = self.dispatch_request()\n",
      "         ^^^^^^^^^^^^^^^^^^^^^^^\n",
      "  File \"/opt/anaconda3/lib/python3.12/site-packages/flask/app.py\", line 865, in dispatch_request\n",
      "    return self.ensure_sync(self.view_functions[rule.endpoint])(**view_args)  # type: ignore[no-any-return]\n",
      "           ^^^^^^^^^^^^^^^^^^^^^^^^^^^^^^^^^^^^^^^^^^^^^^^^^^^^^^^^^^^^^^^^^\n",
      "  File \"/var/folders/l3/0wzpj5z122lcwp0r6cgklgy80000gn/T/ipykernel_39730/461091995.py\", line 149, in analyze_menu\n",
      "    spring_response = similar_menu_recommanded(menu_data, similar_menus, menu_name)\n",
      "                      ^^^^^^^^^^^^^^^^^^^^^^^^^^^^^^^^^^^^^^^^^^^^^^^^^^^^^^^^^^^^^\n",
      "  File \"/var/folders/l3/0wzpj5z122lcwp0r6cgklgy80000gn/T/ipykernel_39730/927440023.py\", line 5, in similar_menu_recommanded\n",
      "    menu_info = [f'[{menu_data[menu_data[\"menu\"]==menu][\"info\"].values[0]}]' for menu in similar_menus]\n",
      "                     ~~~~~~~~~~~~~~~~~~~~~~~~~~~~~~~~~~~~~~~~~~~~~~~~~^^^\n",
      "IndexError: index 0 is out of bounds for axis 0 with size 0\n",
      "127.0.0.1 - - [06/Jan/2025 14:57:13] \"POST /analyze-menu HTTP/1.1\" 500 -\n"
     ]
    },
    {
     "name": "stdout",
     "output_type": "stream",
     "text": [
      "에스프레소\n",
      "메뉴 이름이 잘못되었습니다.\n"
     ]
    },
    {
     "name": "stderr",
     "output_type": "stream",
     "text": [
      "127.0.0.1 - - [06/Jan/2025 14:57:17] \"POST /analyze-menu HTTP/1.1\" 200 -\n"
     ]
    },
    {
     "name": "stdout",
     "output_type": "stream",
     "text": [
      "플랫화이트\n",
      "{'status': 'success', 'similarMenus': ['헤이즐넛 콜드브루', '헤이즐넛 에스프레소', '오트 콜드브루', '디카페인 아인슈페너', '흑임자 크림 에스프레소', '에스프레소 라떼', '모카 라떼', '디카페인커피', '황치즈 마들렌', '콜드브루 카푸치노'], 'menu': '플랫화이트', 'menuInfo': ['[고소함, 진한 커피맛, 깔끔함, 부드러움, 고급스러움, 고소한 견과류 풍미, 진한 커피 맛, 시원한 질감, 균형감, 고급스러운 끝맛]', '[고소함, 깊은 맛, 진한 커피향, 따뜻함, 고급스러움, 고소한 견과류 향, 진한 커피 맛, 부드러운 끝맛, 풍부한 텍스처, 깊은 여운]', '[고소함, 건강함, 깔끔함, 부드러움, 고급스러움, 고소한 귀리 향, 깔끔한 커피, 부드러운 끝맛, 현대적 감성]', '[진한 맛, 부드러움, 건강함, 고급스러움, 깔끔함, 부드러운 크림, 진한 커피 풍미, 부담 없는 선택, 세련된 맛, 균형감]', '[고소함, 크리미함, 진한 맛, 고급스러움, 독특함, 고소한 흑임자 향, 부드러운 크림, 진한 커피 맛, 세련된 조화, 특별한 풍미]', '[진한 커피맛, 부드러움, 고급스러움, 풍미, 클래식, 진한 커피 맛, 부드러운 우유, 균형감, 풍부한 여운]', '[달콤함, 초콜릿, 진한 커피향, 부드러움, 만족감, 진한 초콜릿, 풍부한 크림감, 고급스러움, 달콤한 끝맛, 따뜻한 풍미]', '[가벼움, 부드러움, 건강함, 편안함, 깔끔함, 부드러운 커피 향, 가벼운 여운, 균형감, 온화한 풍미]', '[고소함, 담백함, 부드러운 질감, 진한 황치즈 풍미, 고급 디저트, 클래식 감성, 만족감, 풍미 깊음, 깔끔함, 독특함]', '[진한 맛, 크리미함, 깔끔함, 부드러움, 고급스러움, 풍부한 크림감, 진한 커피 풍미, 부드러운 끝맛, 청량감, 고급스러운 질감]'], 'menuIngred': [\"[ '콜드브루 커피, 헤이즐넛 시럽, 우유, 얼음']\", \"[ '에스프레소, 헤이즐넛 시럽, 우유']\", \"[ '콜드브루 커피', '오트밀크', '얼음', '오트 시럽 (옵션)']\", \"[ '디카페인 커피, 설탕, 생크림, 바닐라 추출물, 얼음']\", \"[ '에스프레소', '흑임자 가루', '휘핑크림', '연유', '우유']\", \"[ '에스프레소', '우유', '설탕 (옵션)', '바닐라 시럽 (옵션)']\", \"[ '우유', '에스프레소', '초콜릿 시럽', '휘핑크림 (옵션)', '초콜릿 가루 (옵션)']\", \"[ '디카페인 원두', '우유', '설탕', '시럽']\", \"[ '밀가루', '설탕', '버터', '달걀', '베이킹파우더', '소금', '체다 치즈', '크림치즈', '우유', '올리브유', '레몬즙']\", \"[ '콜드브루', '에스프레소', '우유', '스팀밀크', '얼음']\"]}\n"
     ]
    },
    {
     "name": "stderr",
     "output_type": "stream",
     "text": [
      "127.0.0.1 - - [06/Jan/2025 14:57:17] \"POST /analyze-menu HTTP/1.1\" 200 -\n"
     ]
    },
    {
     "name": "stdout",
     "output_type": "stream",
     "text": [
      "플랫화이트\n",
      "{'status': 'success', 'similarMenus': ['헤이즐넛 콜드브루', '헤이즐넛 에스프레소', '오트 콜드브루', '디카페인 아인슈페너', '흑임자 크림 에스프레소', '에스프레소 라떼', '모카 라떼', '디카페인커피', '황치즈 마들렌', '콜드브루 카푸치노'], 'menu': '플랫화이트', 'menuInfo': ['[고소함, 진한 커피맛, 깔끔함, 부드러움, 고급스러움, 고소한 견과류 풍미, 진한 커피 맛, 시원한 질감, 균형감, 고급스러운 끝맛]', '[고소함, 깊은 맛, 진한 커피향, 따뜻함, 고급스러움, 고소한 견과류 향, 진한 커피 맛, 부드러운 끝맛, 풍부한 텍스처, 깊은 여운]', '[고소함, 건강함, 깔끔함, 부드러움, 고급스러움, 고소한 귀리 향, 깔끔한 커피, 부드러운 끝맛, 현대적 감성]', '[진한 맛, 부드러움, 건강함, 고급스러움, 깔끔함, 부드러운 크림, 진한 커피 풍미, 부담 없는 선택, 세련된 맛, 균형감]', '[고소함, 크리미함, 진한 맛, 고급스러움, 독특함, 고소한 흑임자 향, 부드러운 크림, 진한 커피 맛, 세련된 조화, 특별한 풍미]', '[진한 커피맛, 부드러움, 고급스러움, 풍미, 클래식, 진한 커피 맛, 부드러운 우유, 균형감, 풍부한 여운]', '[달콤함, 초콜릿, 진한 커피향, 부드러움, 만족감, 진한 초콜릿, 풍부한 크림감, 고급스러움, 달콤한 끝맛, 따뜻한 풍미]', '[가벼움, 부드러움, 건강함, 편안함, 깔끔함, 부드러운 커피 향, 가벼운 여운, 균형감, 온화한 풍미]', '[고소함, 담백함, 부드러운 질감, 진한 황치즈 풍미, 고급 디저트, 클래식 감성, 만족감, 풍미 깊음, 깔끔함, 독특함]', '[진한 맛, 크리미함, 깔끔함, 부드러움, 고급스러움, 풍부한 크림감, 진한 커피 풍미, 부드러운 끝맛, 청량감, 고급스러운 질감]'], 'menuIngred': [\"[ '콜드브루 커피, 헤이즐넛 시럽, 우유, 얼음']\", \"[ '에스프레소, 헤이즐넛 시럽, 우유']\", \"[ '콜드브루 커피', '오트밀크', '얼음', '오트 시럽 (옵션)']\", \"[ '디카페인 커피, 설탕, 생크림, 바닐라 추출물, 얼음']\", \"[ '에스프레소', '흑임자 가루', '휘핑크림', '연유', '우유']\", \"[ '에스프레소', '우유', '설탕 (옵션)', '바닐라 시럽 (옵션)']\", \"[ '우유', '에스프레소', '초콜릿 시럽', '휘핑크림 (옵션)', '초콜릿 가루 (옵션)']\", \"[ '디카페인 원두', '우유', '설탕', '시럽']\", \"[ '밀가루', '설탕', '버터', '달걀', '베이킹파우더', '소금', '체다 치즈', '크림치즈', '우유', '올리브유', '레몬즙']\", \"[ '콜드브루', '에스프레소', '우유', '스팀밀크', '얼음']\"]}\n"
     ]
    },
    {
     "name": "stderr",
     "output_type": "stream",
     "text": [
      "127.0.0.1 - - [06/Jan/2025 14:58:00] \"POST /analyze-menu HTTP/1.1\" 200 -\n"
     ]
    },
    {
     "name": "stdout",
     "output_type": "stream",
     "text": [
      "플랫화이트\n",
      "{'status': 'success', 'similarMenus': ['헤이즐넛 콜드브루', '헤이즐넛 에스프레소', '오트 콜드브루', '디카페인 아인슈페너', '흑임자 크림 에스프레소', '에스프레소 라떼', '모카 라떼', '디카페인커피', '황치즈 마들렌', '콜드브루 카푸치노'], 'menu': '플랫화이트', 'menuInfo': ['[고소함, 진한 커피맛, 깔끔함, 부드러움, 고급스러움, 고소한 견과류 풍미, 진한 커피 맛, 시원한 질감, 균형감, 고급스러운 끝맛]', '[고소함, 깊은 맛, 진한 커피향, 따뜻함, 고급스러움, 고소한 견과류 향, 진한 커피 맛, 부드러운 끝맛, 풍부한 텍스처, 깊은 여운]', '[고소함, 건강함, 깔끔함, 부드러움, 고급스러움, 고소한 귀리 향, 깔끔한 커피, 부드러운 끝맛, 현대적 감성]', '[진한 맛, 부드러움, 건강함, 고급스러움, 깔끔함, 부드러운 크림, 진한 커피 풍미, 부담 없는 선택, 세련된 맛, 균형감]', '[고소함, 크리미함, 진한 맛, 고급스러움, 독특함, 고소한 흑임자 향, 부드러운 크림, 진한 커피 맛, 세련된 조화, 특별한 풍미]', '[진한 커피맛, 부드러움, 고급스러움, 풍미, 클래식, 진한 커피 맛, 부드러운 우유, 균형감, 풍부한 여운]', '[달콤함, 초콜릿, 진한 커피향, 부드러움, 만족감, 진한 초콜릿, 풍부한 크림감, 고급스러움, 달콤한 끝맛, 따뜻한 풍미]', '[가벼움, 부드러움, 건강함, 편안함, 깔끔함, 부드러운 커피 향, 가벼운 여운, 균형감, 온화한 풍미]', '[고소함, 담백함, 부드러운 질감, 진한 황치즈 풍미, 고급 디저트, 클래식 감성, 만족감, 풍미 깊음, 깔끔함, 독특함]', '[진한 맛, 크리미함, 깔끔함, 부드러움, 고급스러움, 풍부한 크림감, 진한 커피 풍미, 부드러운 끝맛, 청량감, 고급스러운 질감]'], 'menuIngred': [\"[ '콜드브루 커피, 헤이즐넛 시럽, 우유, 얼음']\", \"[ '에스프레소, 헤이즐넛 시럽, 우유']\", \"[ '콜드브루 커피', '오트밀크', '얼음', '오트 시럽 (옵션)']\", \"[ '디카페인 커피, 설탕, 생크림, 바닐라 추출물, 얼음']\", \"[ '에스프레소', '흑임자 가루', '휘핑크림', '연유', '우유']\", \"[ '에스프레소', '우유', '설탕 (옵션)', '바닐라 시럽 (옵션)']\", \"[ '우유', '에스프레소', '초콜릿 시럽', '휘핑크림 (옵션)', '초콜릿 가루 (옵션)']\", \"[ '디카페인 원두', '우유', '설탕', '시럽']\", \"[ '밀가루', '설탕', '버터', '달걀', '베이킹파우더', '소금', '체다 치즈', '크림치즈', '우유', '올리브유', '레몬즙']\", \"[ '콜드브루', '에스프레소', '우유', '스팀밀크', '얼음']\"]}\n"
     ]
    },
    {
     "name": "stderr",
     "output_type": "stream",
     "text": [
      "127.0.0.1 - - [06/Jan/2025 14:58:40] \"POST /analyze-menu HTTP/1.1\" 200 -\n"
     ]
    },
    {
     "name": "stdout",
     "output_type": "stream",
     "text": [
      "카페모카\n",
      "{'status': 'success', 'similarMenus': ['초콜렛 모카', '크림 카페모카', '초코 프라페', '모카 스무디', '모카 라떼', '밀크 코코아', '초코 스무디', '피칸 케이크', '모카 프라페', '밀크 쇼콜라'], 'menu': '카페모카', 'menuInfo': ['[진한 초콜릿, 풍부함, 달콤함, 따뜻함, 만족감, 달콤한 초콜릿, 진한 크림, 고급스러운 풍미, 풍부한 텍스처, 따뜻한 마무리]', '[초콜릿, 크리미함, 달콤함, 진한 맛, 고급스러움, 진한 초콜릿 풍미, 부드러운 크림, 달콤한 조화, 깊고 풍부한 맛, 세련된 만족감]', '[진한 맛, 달콤함, 크리미함, 만족감, 풍미, 진한 초콜릿 맛, 풍부한 크림감, 달콤한 여운, 고급스러움, 만족스러움]', '[진한 초콜릿, 달콤함, 크리미함, 풍미, 만족감, 진한 초콜릿 풍미, 부드러운 텍스처, 크리미한 조화, 달콤한 여운, 고급스러운 맛]', '[달콤함, 초콜릿, 진한 커피향, 부드러움, 만족감, 진한 초콜릿, 풍부한 크림감, 고급스러움, 달콤한 끝맛, 따뜻한 풍미]', '[초콜릿, 달콤함, 부드러움, 따뜻함, 포근함, 진한 초콜릿 풍미, 부드러운 크림, 포근한 달콤함, 고급스러운 여운]', '[진한 초콜릿, 달콤함, 크리미함, 만족감, 풍부함, 진한 초콜릿 풍미, 부드러운 텍스처, 크리미한 만족감, 세련된 조화]', '[고소함, 달콤함, 촉촉한 질감, 풍부한 피칸 풍미, 부드러운 크림, 클래식 디저트, 고급스러움, 만족감, 따뜻함, 풍미 깊음]', '[진한 초콜릿, 달콤함, 크리미함, 풍미, 만족감, 진한 초콜릿 풍미, 크리미한 텍스처, 달콤한 만족감, 고급스러움, 깊은 여운]', '[초콜릿, 달콤함, 부드러움, 풍미, 따뜻함, 진한 초콜릿 향, 부드러운 텍스처, 달콤한 감미, 크리미한 만족감, 고급스러운 맛]'], 'menuIngred': [\"[ '우유', '에스프레소', '초콜릿 시럽', '휘핑크림 (옵션)', '초콜릿 가루 (옵션)']\", \"[ '에스프레소, 우유, 초콜릿 시럽, 설탕, 휘핑크림']\", \"[ '우유', '초콜릿 시럽', '초콜릿 칩', '바닐라 아이스크림', '얼음', '휘핑크림 (옵션)']\", \"[ '초콜릿 시럽', '커피', '우유', '얼음', '휘핑 크림', '초콜릿 조각']\", \"[ '우유', '에스프레소', '초콜릿 시럽', '휘핑크림 (옵션)', '초콜릿 가루 (옵션)']\", \"[ '우유', '코코아 파우더', '설탕', '휘핑크림', '초콜릿 시럽']\", \"[ '초콜릿 시럽, 우유, 설탕, 얼음, 휘핑크림, 초콜릿칩']\", \"[ '버터', '설탕', '밀가루', '베이킹파우더', '소금', '계란', '바닐라 익스트랙', '우유', '피칸', '크림치즈', '휘핑크림', '아이싱 설탕']\", \"[ '에스프레소, 우유, 초콜릿 시럽, 설탕, 얼음, 휘핑크림, 초콜릿칩']\", \"[ '초콜릿', '우유', '설탕', '휘핑 크림', '바닐라']\"]}\n"
     ]
    },
    {
     "name": "stderr",
     "output_type": "stream",
     "text": [
      "127.0.0.1 - - [06/Jan/2025 14:58:55] \"POST /analyze-menu HTTP/1.1\" 200 -\n"
     ]
    },
    {
     "name": "stdout",
     "output_type": "stream",
     "text": [
      "플랫화이트\n",
      "{'status': 'success', 'similarMenus': ['헤이즐넛 콜드브루', '헤이즐넛 에스프레소', '오트 콜드브루', '디카페인 아인슈페너', '흑임자 크림 에스프레소', '에스프레소 라떼', '모카 라떼', '디카페인커피', '황치즈 마들렌', '콜드브루 카푸치노'], 'menu': '플랫화이트', 'menuInfo': ['[고소함, 진한 커피맛, 깔끔함, 부드러움, 고급스러움, 고소한 견과류 풍미, 진한 커피 맛, 시원한 질감, 균형감, 고급스러운 끝맛]', '[고소함, 깊은 맛, 진한 커피향, 따뜻함, 고급스러움, 고소한 견과류 향, 진한 커피 맛, 부드러운 끝맛, 풍부한 텍스처, 깊은 여운]', '[고소함, 건강함, 깔끔함, 부드러움, 고급스러움, 고소한 귀리 향, 깔끔한 커피, 부드러운 끝맛, 현대적 감성]', '[진한 맛, 부드러움, 건강함, 고급스러움, 깔끔함, 부드러운 크림, 진한 커피 풍미, 부담 없는 선택, 세련된 맛, 균형감]', '[고소함, 크리미함, 진한 맛, 고급스러움, 독특함, 고소한 흑임자 향, 부드러운 크림, 진한 커피 맛, 세련된 조화, 특별한 풍미]', '[진한 커피맛, 부드러움, 고급스러움, 풍미, 클래식, 진한 커피 맛, 부드러운 우유, 균형감, 풍부한 여운]', '[달콤함, 초콜릿, 진한 커피향, 부드러움, 만족감, 진한 초콜릿, 풍부한 크림감, 고급스러움, 달콤한 끝맛, 따뜻한 풍미]', '[가벼움, 부드러움, 건강함, 편안함, 깔끔함, 부드러운 커피 향, 가벼운 여운, 균형감, 온화한 풍미]', '[고소함, 담백함, 부드러운 질감, 진한 황치즈 풍미, 고급 디저트, 클래식 감성, 만족감, 풍미 깊음, 깔끔함, 독특함]', '[진한 맛, 크리미함, 깔끔함, 부드러움, 고급스러움, 풍부한 크림감, 진한 커피 풍미, 부드러운 끝맛, 청량감, 고급스러운 질감]'], 'menuIngred': [\"[ '콜드브루 커피, 헤이즐넛 시럽, 우유, 얼음']\", \"[ '에스프레소, 헤이즐넛 시럽, 우유']\", \"[ '콜드브루 커피', '오트밀크', '얼음', '오트 시럽 (옵션)']\", \"[ '디카페인 커피, 설탕, 생크림, 바닐라 추출물, 얼음']\", \"[ '에스프레소', '흑임자 가루', '휘핑크림', '연유', '우유']\", \"[ '에스프레소', '우유', '설탕 (옵션)', '바닐라 시럽 (옵션)']\", \"[ '우유', '에스프레소', '초콜릿 시럽', '휘핑크림 (옵션)', '초콜릿 가루 (옵션)']\", \"[ '디카페인 원두', '우유', '설탕', '시럽']\", \"[ '밀가루', '설탕', '버터', '달걀', '베이킹파우더', '소금', '체다 치즈', '크림치즈', '우유', '올리브유', '레몬즙']\", \"[ '콜드브루', '에스프레소', '우유', '스팀밀크', '얼음']\"]}\n"
     ]
    },
    {
     "name": "stderr",
     "output_type": "stream",
     "text": [
      "127.0.0.1 - - [06/Jan/2025 15:00:05] \"OPTIONS /send-coordinates HTTP/1.1\" 200 -\n",
      "127.0.0.1 - - [06/Jan/2025 15:00:05] \"POST /send-coordinates HTTP/1.1\" 200 -\n"
     ]
    },
    {
     "name": "stdout",
     "output_type": "stream",
     "text": [
      "2650010400\n"
     ]
    },
    {
     "name": "stderr",
     "output_type": "stream",
     "text": [
      "127.0.0.1 - - [06/Jan/2025 15:13:38] \"OPTIONS /send-coordinates HTTP/1.1\" 200 -\n",
      "127.0.0.1 - - [06/Jan/2025 15:13:38] \"POST /send-coordinates HTTP/1.1\" 200 -\n"
     ]
    },
    {
     "name": "stdout",
     "output_type": "stream",
     "text": [
      "2650010400\n"
     ]
    },
    {
     "name": "stderr",
     "output_type": "stream",
     "text": [
      "127.0.0.1 - - [06/Jan/2025 15:14:30] \"POST /analyze-menu HTTP/1.1\" 200 -\n"
     ]
    },
    {
     "name": "stdout",
     "output_type": "stream",
     "text": [
      "바닐라 라떼\n",
      "{'status': 'success', 'similarMenus': ['아몬드 라떼', '헤이즐넛 아메리카노', '헤이즐넛 콜드브루', '고구마 라떼', '진저 라떼', '고구마 밀크티', '카라멜 카푸치노', '달고나 밀크티', '오트밀 라떼', '카페라떼'], 'menu': '바닐라 라떼', 'menuInfo': ['[고소함, 건강함, 부드러움, 풍미, 따뜻함, 고소한 견과 향, 부드러운 텍스처, 은은한 단맛, 크리미함]', '[고소함, 진한 커피향, 깔끔함, 따뜻함, 풍미, 고소한 견과류 향, 깊고 진한 커피 맛, 균형감, 깔끔한 끝맛, 부드러운 고급감]', '[고소함, 진한 커피맛, 깔끔함, 부드러움, 고급스러움, 고소한 견과류 풍미, 진한 커피 맛, 시원한 질감, 균형감, 고급스러운 끝맛]', '[고소함, 달콤함, 따뜻함, 포근함, 건강함, 부드러운 텍스처, 자연스러운 단맛, 전통적인 풍미]', '[따뜻함, 스파이시, 건강함, 고급스러움, 풍미, 따뜻한 생강 향, 고소함, 건강한 풍미, 부드러운 크리미함, 은은한 단맛]', '[달콤함, 부드러움, 고소함, 포근함, 전통적, 고소한 고구마 향, 부드러운 질감, 자연스러운 달콤함, 전통적인 풍미, 따뜻한 만족감]', '[달콤함, 고소함, 크리미함, 풍미, 따뜻함, 달콤한 캐러멜 향, 부드러운 크림, 진한 커피 풍미, 고급스러운 조화, 따뜻한 만족감]', '[달콤함, 고소함, 부드러움, 포근함, 중독성, 고소한 달고나 향, 부드러운 크리미함, 전통적인 매력, 포근한 풍미]', '[고소함, 건강함, 부드러움, 크리미함, 포근함, 고소한 귀리 향, 부드러운 우유, 자연스러운 단맛, 편안한 텍스처]', '[진한 커피향, 부드러움, 고소함, 클래식, 안정감, 고소한 우유, 밸런스, 편안함, 은은한 단맛]'], 'menuIngred': [\"[ '에스프레소, 스팀 밀크, 아몬드 시럽, 휘핑크림']\", \"[ '에스프레소, 물, 헤이즐넛 시럽, 얼음']\", \"[ '콜드브루 커피, 헤이즐넛 시럽, 우유, 얼음']\", \"[ '고구마', '우유', '에스프레소', '설탕', '바닐라 시럽']\", \"[ '우유, 에스프레소, 생강 시럽, 설탕, 얼음']\", \"[ '홍차', '우유', '고구마', '시럽', '얼음']\", \"[ '에스프레소', '우유', '카라멜 시럽', '우유 거품', '카라멜 소스']\", \"[ '홍차, 우유, 설탕, 달고나 크럼블, 얼음']\", \"[ '오트밀 음료', '에스프레소', '우유']\", \"[ '에스프레소, 우유']\"]}\n"
     ]
    },
    {
     "name": "stderr",
     "output_type": "stream",
     "text": [
      "127.0.0.1 - - [06/Jan/2025 15:33:07] \"OPTIONS /send-coordinates HTTP/1.1\" 200 -\n",
      "127.0.0.1 - - [06/Jan/2025 15:33:07] \"POST /send-coordinates HTTP/1.1\" 200 -\n"
     ]
    },
    {
     "name": "stdout",
     "output_type": "stream",
     "text": [
      "2650010400\n"
     ]
    },
    {
     "name": "stderr",
     "output_type": "stream",
     "text": [
      "127.0.0.1 - - [06/Jan/2025 15:33:30] \"OPTIONS /send-coordinates HTTP/1.1\" 200 -\n",
      "127.0.0.1 - - [06/Jan/2025 15:33:30] \"POST /send-coordinates HTTP/1.1\" 200 -\n"
     ]
    },
    {
     "name": "stdout",
     "output_type": "stream",
     "text": [
      "2650010400\n"
     ]
    },
    {
     "name": "stderr",
     "output_type": "stream",
     "text": [
      "127.0.0.1 - - [06/Jan/2025 15:39:48] \"OPTIONS /send-coordinates HTTP/1.1\" 200 -\n",
      "127.0.0.1 - - [06/Jan/2025 15:39:48] \"POST /send-coordinates HTTP/1.1\" 200 -\n"
     ]
    },
    {
     "name": "stdout",
     "output_type": "stream",
     "text": [
      "2650010400\n"
     ]
    },
    {
     "name": "stderr",
     "output_type": "stream",
     "text": [
      "127.0.0.1 - - [06/Jan/2025 15:41:35] \"OPTIONS /send-coordinates HTTP/1.1\" 200 -\n",
      "127.0.0.1 - - [06/Jan/2025 15:41:36] \"POST /send-coordinates HTTP/1.1\" 200 -\n"
     ]
    },
    {
     "name": "stdout",
     "output_type": "stream",
     "text": [
      "2650010400\n"
     ]
    },
    {
     "name": "stderr",
     "output_type": "stream",
     "text": [
      "127.0.0.1 - - [06/Jan/2025 15:42:24] \"OPTIONS /send-coordinates HTTP/1.1\" 200 -\n",
      "127.0.0.1 - - [06/Jan/2025 15:42:24] \"POST /send-coordinates HTTP/1.1\" 200 -\n"
     ]
    },
    {
     "name": "stdout",
     "output_type": "stream",
     "text": [
      "2650010400\n"
     ]
    },
    {
     "name": "stderr",
     "output_type": "stream",
     "text": [
      "127.0.0.1 - - [06/Jan/2025 15:43:02] \"OPTIONS /send-coordinates HTTP/1.1\" 200 -\n",
      "127.0.0.1 - - [06/Jan/2025 15:43:02] \"POST /send-coordinates HTTP/1.1\" 200 -\n"
     ]
    },
    {
     "name": "stdout",
     "output_type": "stream",
     "text": [
      "2650010400\n"
     ]
    },
    {
     "name": "stderr",
     "output_type": "stream",
     "text": [
      "127.0.0.1 - - [06/Jan/2025 15:43:17] \"OPTIONS /send-coordinates HTTP/1.1\" 200 -\n",
      "127.0.0.1 - - [06/Jan/2025 15:43:17] \"POST /send-coordinates HTTP/1.1\" 200 -\n"
     ]
    },
    {
     "name": "stdout",
     "output_type": "stream",
     "text": [
      "2650010400\n"
     ]
    },
    {
     "name": "stderr",
     "output_type": "stream",
     "text": [
      "127.0.0.1 - - [06/Jan/2025 15:45:09] \"OPTIONS /send-coordinates HTTP/1.1\" 200 -\n",
      "127.0.0.1 - - [06/Jan/2025 15:45:10] \"POST /send-coordinates HTTP/1.1\" 200 -\n"
     ]
    },
    {
     "name": "stdout",
     "output_type": "stream",
     "text": [
      "2650010400\n"
     ]
    },
    {
     "name": "stderr",
     "output_type": "stream",
     "text": [
      "127.0.0.1 - - [06/Jan/2025 15:45:19] \"OPTIONS /send-coordinates HTTP/1.1\" 200 -\n",
      "127.0.0.1 - - [06/Jan/2025 15:45:19] \"POST /send-coordinates HTTP/1.1\" 200 -\n"
     ]
    },
    {
     "name": "stdout",
     "output_type": "stream",
     "text": [
      "2650010400\n"
     ]
    },
    {
     "name": "stderr",
     "output_type": "stream",
     "text": [
      "127.0.0.1 - - [06/Jan/2025 15:52:49] \"OPTIONS /send-coordinates HTTP/1.1\" 200 -\n",
      "127.0.0.1 - - [06/Jan/2025 15:52:50] \"POST /send-coordinates HTTP/1.1\" 200 -\n"
     ]
    },
    {
     "name": "stdout",
     "output_type": "stream",
     "text": [
      "2650010400\n"
     ]
    },
    {
     "name": "stderr",
     "output_type": "stream",
     "text": [
      "127.0.0.1 - - [06/Jan/2025 15:53:14] \"OPTIONS /send-coordinates HTTP/1.1\" 200 -\n",
      "127.0.0.1 - - [06/Jan/2025 15:53:14] \"POST /send-coordinates HTTP/1.1\" 200 -\n"
     ]
    },
    {
     "name": "stdout",
     "output_type": "stream",
     "text": [
      "2650010400\n"
     ]
    },
    {
     "name": "stderr",
     "output_type": "stream",
     "text": [
      "127.0.0.1 - - [06/Jan/2025 15:55:48] \"OPTIONS /send-coordinates HTTP/1.1\" 200 -\n",
      "127.0.0.1 - - [06/Jan/2025 15:55:48] \"POST /send-coordinates HTTP/1.1\" 200 -\n"
     ]
    },
    {
     "name": "stdout",
     "output_type": "stream",
     "text": [
      "2650010400\n"
     ]
    },
    {
     "name": "stderr",
     "output_type": "stream",
     "text": [
      "127.0.0.1 - - [06/Jan/2025 15:56:30] \"OPTIONS /send-coordinates HTTP/1.1\" 200 -\n",
      "127.0.0.1 - - [06/Jan/2025 15:56:31] \"POST /send-coordinates HTTP/1.1\" 200 -\n"
     ]
    },
    {
     "name": "stdout",
     "output_type": "stream",
     "text": [
      "2650010400\n"
     ]
    },
    {
     "name": "stderr",
     "output_type": "stream",
     "text": [
      "127.0.0.1 - - [06/Jan/2025 15:56:57] \"OPTIONS /send-coordinates HTTP/1.1\" 200 -\n",
      "127.0.0.1 - - [06/Jan/2025 15:56:57] \"POST /send-coordinates HTTP/1.1\" 200 -\n"
     ]
    },
    {
     "name": "stdout",
     "output_type": "stream",
     "text": [
      "2650010400\n"
     ]
    },
    {
     "name": "stderr",
     "output_type": "stream",
     "text": [
      "127.0.0.1 - - [06/Jan/2025 15:57:14] \"OPTIONS /send-coordinates HTTP/1.1\" 200 -\n",
      "127.0.0.1 - - [06/Jan/2025 15:57:14] \"POST /send-coordinates HTTP/1.1\" 200 -\n"
     ]
    },
    {
     "name": "stdout",
     "output_type": "stream",
     "text": [
      "2650010400\n"
     ]
    },
    {
     "name": "stderr",
     "output_type": "stream",
     "text": [
      "127.0.0.1 - - [06/Jan/2025 15:58:54] \"OPTIONS /send-coordinates HTTP/1.1\" 200 -\n",
      "127.0.0.1 - - [06/Jan/2025 15:58:54] \"POST /send-coordinates HTTP/1.1\" 200 -\n"
     ]
    },
    {
     "name": "stdout",
     "output_type": "stream",
     "text": [
      "2650010400\n"
     ]
    },
    {
     "name": "stderr",
     "output_type": "stream",
     "text": [
      "127.0.0.1 - - [06/Jan/2025 16:06:12] \"OPTIONS /send-coordinates HTTP/1.1\" 200 -\n",
      "127.0.0.1 - - [06/Jan/2025 16:06:12] \"POST /send-coordinates HTTP/1.1\" 200 -\n"
     ]
    },
    {
     "name": "stdout",
     "output_type": "stream",
     "text": [
      "2650010400\n"
     ]
    },
    {
     "name": "stderr",
     "output_type": "stream",
     "text": [
      "127.0.0.1 - - [06/Jan/2025 16:06:37] \"OPTIONS /send-coordinates HTTP/1.1\" 200 -\n",
      "127.0.0.1 - - [06/Jan/2025 16:06:38] \"POST /send-coordinates HTTP/1.1\" 200 -\n"
     ]
    },
    {
     "name": "stdout",
     "output_type": "stream",
     "text": [
      "2650010400\n"
     ]
    },
    {
     "name": "stderr",
     "output_type": "stream",
     "text": [
      "127.0.0.1 - - [06/Jan/2025 16:06:51] \"OPTIONS /send-coordinates HTTP/1.1\" 200 -\n",
      "127.0.0.1 - - [06/Jan/2025 16:06:51] \"POST /send-coordinates HTTP/1.1\" 200 -\n"
     ]
    },
    {
     "name": "stdout",
     "output_type": "stream",
     "text": [
      "2650010400\n"
     ]
    },
    {
     "name": "stderr",
     "output_type": "stream",
     "text": [
      "127.0.0.1 - - [06/Jan/2025 16:07:40] \"OPTIONS /send-coordinates HTTP/1.1\" 200 -\n",
      "127.0.0.1 - - [06/Jan/2025 16:07:41] \"POST /send-coordinates HTTP/1.1\" 200 -\n"
     ]
    },
    {
     "name": "stdout",
     "output_type": "stream",
     "text": [
      "2650010400\n"
     ]
    },
    {
     "name": "stderr",
     "output_type": "stream",
     "text": [
      "127.0.0.1 - - [06/Jan/2025 16:09:22] \"OPTIONS /send-coordinates HTTP/1.1\" 200 -\n",
      "127.0.0.1 - - [06/Jan/2025 16:09:22] \"POST /send-coordinates HTTP/1.1\" 200 -\n"
     ]
    },
    {
     "name": "stdout",
     "output_type": "stream",
     "text": [
      "2650010400\n"
     ]
    },
    {
     "name": "stderr",
     "output_type": "stream",
     "text": [
      "127.0.0.1 - - [06/Jan/2025 16:10:09] \"OPTIONS /send-coordinates HTTP/1.1\" 200 -\n",
      "127.0.0.1 - - [06/Jan/2025 16:10:09] \"POST /send-coordinates HTTP/1.1\" 200 -\n"
     ]
    },
    {
     "name": "stdout",
     "output_type": "stream",
     "text": [
      "2650010400\n"
     ]
    },
    {
     "name": "stderr",
     "output_type": "stream",
     "text": [
      "127.0.0.1 - - [06/Jan/2025 16:10:15] \"POST /sanggueon-only HTTP/1.1\" 200 -\n",
      "127.0.0.1 - - [06/Jan/2025 16:10:15] \"POST /sanggueon-gongtong HTTP/1.1\" 200 -\n"
     ]
    },
    {
     "name": "stdout",
     "output_type": "stream",
     "text": [
      "[15, 14, 14, 14, 14]\n",
      "[57, 25, 37, 55, 27]\n",
      "['패션후르츠 에이드', '딸기 요거', '망고 스무디', '얼그레이 밀크티', '유자 에이드']\n",
      "{'status': 'success', 'gongtongMenus': ['패션후르츠 에이드', '딸기 요거', '망고 스무디', '얼그레이 밀크티', '유자 에이드'], 'sang1': '광안동', 'sang2': '동명동', 'sang1MenuCnt': [15, 14, 14, 14, 14], 'sang2MenuCnt': [57, 25, 37, 55, 27], 'menuInfo': ['[이국적, 새콤달콤, 청량감, 활기참, 과일향, 이국적 과일향, 상쾌함, 청량한 탄산]', '[달콤함, 상큼함, 과일향, 건강함, 부드러움, 사랑스러운 과일향, 새콤달콤, 부드러운 질감, 건강한 단맛, 활기참]', '[이국적, 달콤함, 과일향, 시원함, 상쾌함, 열대과일의 상큼함, 부드러움, 자연스러운 달콤함, 활기참, 신선한 질감]', '[우아함, 부드러움, 깊은 맛, 클래식, 고급스러움, 베르가못 향, 부드러운 크림, 우아한 맛, 조화로움, 깔끔한 끝맛]', '[상큼함, 청량감, 과일향, 산뜻함, 리프레시, 상큼한 감귤 향, 청량한 탄산, 자연스러운 단맛, 활기참, 산뜻한 마무리]'], 'menuIngred': [\"[ '패션후르츠', '탄산수', '설탕', '레몬', '얼음']\", \"[ '딸기', '플레인 요거트', '우유', '꿀', '얼음 (옵션)', '민트 잎 (옵션)']\", \"[ '망고', '우유', '바닐라 아이스크림', '설탕', '얼음']\", \"[ '얼그레이 티백, 우유, 설탕, 얼음']\", \"[ '유자청', '탄산수', '얼음', '민트 잎 (옵션)']\"]}\n",
      "{'status': 'success', 'onlyMenus': ['자스민 티', '디카페인 카라멜 마끼야또', '에스프레소 라떼', '바닐라 라떼 콜드브루', '말차'], 'sang1': '광안동', 'sang2': '동명동', 'sang1MenuCnt': [2, 4, 8, 6, 7], 'sang2MenuCnt': [102, 46, 46, 39, 39], 'menuInfo': ['[우아함, 허브향, 편안함, 자연스러움, 깔끔함, 은은한 꽃향, 부드러운 허브감, 우아한 풍미, 고요한 여운, 자연스러운 감미]', '[달콤함, 크리미함, 건강함, 부드러움, 만족감, 부드러운 캐러멜, 크리미한 텍스처, 가벼운 풍미, 달콤한 여운, 편안함]', '[진한 커피맛, 부드러움, 고급스러움, 풍미, 클래식, 진한 커피 맛, 부드러운 우유, 균형감, 풍부한 여운]', '[부드러움, 달콤함, 크리미함, 시원함, 고급스러움, 부드러운 바닐라 향, 깔끔한 커피, 청량감, 자연스러운 단맛, 균형 잡힌 맛]', '[쌉쌀함, 고소함, 전통적, 자연스러움, 깊은 맛, 전통적 풍미, 자연스러운 깊이, 깔끔한 여운]'], 'menuIngred': [\"[ '자스민 티 잎', '뜨거운 물', '설탕', '레몬']\", \"[ '디카페인 커피 원두', '우유', '카라멜 시럽', '얼음']\", \"[ '에스프레소', '우유', '설탕 (옵션)', '바닐라 시럽 (옵션)']\", \"[ '콜드브루 커피', '우유', '바닐라 시럽', '얼음', '휘핑크림 (옵션)']\", \"[ '말차 가루', '우유', '설탕', '물', '바닐라 시럽 (옵션)']\"]}\n",
      "Spring Response: {'menuIngred': [\"[ '패션후르츠', '탄산수', '설탕', '레몬', '얼음']\", \"[ '딸기', '플레인 요거트', '우유', '꿀', '얼음 (옵션)', '민트 잎 (옵션)']\", \"[ '망고', '우유', '바닐라 아이스크림', '설탕', '얼음']\", \"[ '얼그레이 티백, 우유, 설탕, 얼음']\", \"[ '유자청', '탄산수', '얼음', '민트 잎 (옵션)']\"], 'menuInfo': ['[이국적, 새콤달콤, 청량감, 활기참, 과일향, 이국적 과일향, 상쾌함, 청량한 탄산]', '[달콤함, 상큼함, 과일향, 건강함, 부드러움, 사랑스러운 과일향, 새콤달콤, 부드러운 질감, 건강한 단맛, 활기참]', '[이국적, 달콤함, 과일향, 시원함, 상쾌함, 열대과일의 상큼함, 부드러움, 자연스러운 달콤함, 활기참, 신선한 질감]', '[우아함, 부드러움, 깊은 맛, 클래식, 고급스러움, 베르가못 향, 부드러운 크림, 우아한 맛, 조화로움, 깔끔한 끝맛]', '[상큼함, 청량감, 과일향, 산뜻함, 리프레시, 상큼한 감귤 향, 청량한 탄산, 자연스러운 단맛, 활기참, 산뜻한 마무리]'], 'sang1MenuCnt': [15, 14, 14, 14, 14], 'sang1': '광안동', 'sang2': '동명동', 'gontongMenus': ['패션후르츠 에이드', '딸기 요거', '망고 스무디', '얼그레이 밀크티', '유자 에이드'], 'sang2MenuCnt': [57, 25, 37, 55, 27], 'message': '데이터 전송 성공', 'status': 'success'}\n"
     ]
    },
    {
     "name": "stderr",
     "output_type": "stream",
     "text": [
      "127.0.0.1 - - [06/Jan/2025 16:10:25] \"POST /analyze-keyword HTTP/1.1\" 200 -\n"
     ]
    },
    {
     "name": "stdout",
     "output_type": "stream",
     "text": [
      "Payload to be sent: {'status': 'success', 'keyword': '상큼한', 'recommanded': ['요거트 플랫치노', '파인애플 주스', '애플 티', '깔라만시 스무디', '자몽 주스', '오렌지 콜드브루', '라즈베리 케이크', '요거트 크림 케이크', '라즈베리 푸딩', '레몬 티'], 'menuInfo': ['[건강함, 상큼함, 부드러움, 새콤달콤, 크리미함, 상큼한 요거트, 부드러운 텍스처, 새콤달콤한 풍미, 활기참]', '[이국적, 상큼함, 과일향, 청량감, 활기참, 열대 과일의 상큼함, 달콤한 풍미, 신선한 질감, 자연스러운 여운]', '[따뜻함, 상큼함, 과일향, 건강함, 여유, 상큼한 사과 향, 은은한 달콤함, 가벼운 산미, 편안한 마무리]', '[새콤함, 상큼함, 청량감, 건강함, 독특함, 상큼한 열대 과일 향, 자연스러운 산미, 새콤달콤한 조화, 활기찬 풍미]', '[새콤함, 상큼함, 과일향, 청량감, 활기참, 신선한 과즙, 상큼한 산미, 새콤달콤, 기분 좋은 쌉쌀함]', '[과일향, 진한 커피맛, 상큼함, 깔끔함, 이색적, 상큼한 시트러스, 진한 커피 풍미, 자연스러운 산미, 청량감, 세련된 조화]', '[새콤달콤, 부드러움, 촉촉함, 신선한 라즈베리, 클래식 디저트, 상큼한 풍미, 만족감, 화려함, 고급스러움, 생동감]', '[새콤달콤, 부드러움, 크리미함, 촉촉한 질감, 건강한 디저트, 클래식함, 신선함, 만족스러운, 상큼함, 가벼운]', '[새콤달콤, 부드러움, 크리미함, 신선한 라즈베리, 촉촉함, 클래식 디저트, 상큼함, 고급스러움, 만족감, 화사함]', '[상큼함, 따뜻함, 깔끔함, 건강함, 리프레시, 상큼한 시트러스, 은은한 달콤함, 건강감, 청량한 여운]'], 'menuIngred': [\"[ '그릭 요거트', '우유', '얼음', '휘핑크림', '꿀']\", \"[ '파인애플', '설탕', '레몬', '얼음']\", \"[ '사과', '홍차', '설탕', '물', '레몬 (옵션)', '시나몬 스틱 (옵션)']\", \"[ '깔라만시', '얼음', '설탕', '요거트', '레몬즙', '물']\", \"[ '자몽', '설탕 (옵션)', '물', '얼음']\", \"[ '콜드브루 커피', '오렌지 주스', '얼음', '오렌지 슬라이스']\", \"[ '라즈베리, 밀가루, 설탕, 버터, 달걀, 생크림, 베이킹 파우더, 바닐라 추출물']\", \"[ '케이크 시트, 요거트, 생크림, 설탕, 젤라틴, 바닐라 익스트랙트, 레몬즙']\", \"[ '라즈베리', '우유', '설탕', '젤라틴', '크림', '바닐라', '소금']\", \"[ '홍차', '레몬', '설탕', '꿀']\"]}\n",
      "200\n",
      "{'menuIngred': [\"[ '그릭 요거트', '우유', '얼음', '휘핑크림', '꿀']\", \"[ '파인애플', '설탕', '레몬', '얼음']\", \"[ '사과', '홍차', '설탕', '물', '레몬 (옵션)', '시나몬 스틱 (옵션)']\", \"[ '깔라만시', '얼음', '설탕', '요거트', '레몬즙', '물']\", \"[ '자몽', '설탕 (옵션)', '물', '얼음']\", \"[ '콜드브루 커피', '오렌지 주스', '얼음', '오렌지 슬라이스']\", \"[ '라즈베리, 밀가루, 설탕, 버터, 달걀, 생크림, 베이킹 파우더, 바닐라 추출물']\", \"[ '케이크 시트, 요거트, 생크림, 설탕, 젤라틴, 바닐라 익스트랙트, 레몬즙']\", \"[ '라즈베리', '우유', '설탕', '젤라틴', '크림', '바닐라', '소금']\", \"[ '홍차', '레몬', '설탕', '꿀']\"], 'menuInfo': ['[건강함, 상큼함, 부드러움, 새콤달콤, 크리미함, 상큼한 요거트, 부드러운 텍스처, 새콤달콤한 풍미, 활기참]', '[이국적, 상큼함, 과일향, 청량감, 활기참, 열대 과일의 상큼함, 달콤한 풍미, 신선한 질감, 자연스러운 여운]', '[따뜻함, 상큼함, 과일향, 건강함, 여유, 상큼한 사과 향, 은은한 달콤함, 가벼운 산미, 편안한 마무리]', '[새콤함, 상큼함, 청량감, 건강함, 독특함, 상큼한 열대 과일 향, 자연스러운 산미, 새콤달콤한 조화, 활기찬 풍미]', '[새콤함, 상큼함, 과일향, 청량감, 활기참, 신선한 과즙, 상큼한 산미, 새콤달콤, 기분 좋은 쌉쌀함]', '[과일향, 진한 커피맛, 상큼함, 깔끔함, 이색적, 상큼한 시트러스, 진한 커피 풍미, 자연스러운 산미, 청량감, 세련된 조화]', '[새콤달콤, 부드러움, 촉촉함, 신선한 라즈베리, 클래식 디저트, 상큼한 풍미, 만족감, 화려함, 고급스러움, 생동감]', '[새콤달콤, 부드러움, 크리미함, 촉촉한 질감, 건강한 디저트, 클래식함, 신선함, 만족스러운, 상큼함, 가벼운]', '[새콤달콤, 부드러움, 크리미함, 신선한 라즈베리, 촉촉함, 클래식 디저트, 상큼함, 고급스러움, 만족감, 화사함]', '[상큼함, 따뜻함, 깔끔함, 건강함, 리프레시, 상큼한 시트러스, 은은한 달콤함, 건강감, 청량한 여운]'], 'recommanded': ['요거트 플랫치노', '파인애플 주스', '애플 티', '깔라만시 스무디', '자몽 주스', '오렌지 콜드브루', '라즈베리 케이크', '요거트 크림 케이크', '라즈베리 푸딩', '레몬 티'], 'keyword': '상큼한', 'message': '데이터 전송 완료', 'status': 'success'}\n"
     ]
    },
    {
     "name": "stderr",
     "output_type": "stream",
     "text": [
      "127.0.0.1 - - [06/Jan/2025 16:10:30] \"POST /analyze-menu HTTP/1.1\" 200 -\n"
     ]
    },
    {
     "name": "stdout",
     "output_type": "stream",
     "text": [
      "카페라떼\n",
      "{'status': 'success', 'similarMenus': ['허니 아포가토', '딜라이트 라떼', '모카 쿠키', '달고나커피', '플랫화이트', '바닐라 에스프레소', '커피 쉐이크', '헤이즐넛 아메리카노', '돌체 에스프레소', '꿀 아메리카노'], 'menu': '카페라떼', 'menuInfo': ['[달콤함, 크리미함, 진한 커피 풍미, 은은한 꿀 조화, 고급 음료, 클래식 감성, 만족감, 깔끔함, 화사함, 사랑스러움]', '[크리미함, 달콤함, 부드러운 텍스처, 풍부한 우유와 커피 조화, 고급 음료, 클래식 감성, 만족감, 깔끔함, 사랑스러움, 화사함]', '[달콤함, 고소함, 바삭함, 진한 커피와 초콜릿 풍미, 촉촉한 중심, 고급 디저트, 클래식 감성, 만족감, 독특함, 농후함]', '[달콤함, 크리미함, 진한 커피맛, 고소함, 만족감, 고소한 달고나 향, 부드러운 크림, 달콤한 조화, 레트로 감성, 포근한 만족감]', '[고소함, 깔끔함, 클래식, 부드러움, 진한 커피맛, 부드러운 거품, 진한 커피 풍미, 깔끔한 마무리, 고급스러움, 균형감]', '[부드러움, 진한 맛, 깔끔함, 고급스러움, 달콤함, 진한 커피 향, 은은한 단맛, 부드러운 여운]', '[진한 맛, 크리미함, 달콤함, 만족감, 고소함, 진한 커피 향, 부드러운 크리미함, 시원한 텍스처, 만족스러운 풍미]', '[고소함, 진한 커피향, 깔끔함, 따뜻함, 풍미, 고소한 견과류 향, 깊고 진한 커피 맛, 균형감, 깔끔한 끝맛, 부드러운 고급감]', '[달콤함, 진한 맛, 크리미함, 부드러움, 고급스러움, 진한 커피 풍미, 크리미한 단맛, 고급스러운 질감, 균형 잡힌 조화, 세련된 마무리]', '[진한 맛, 달콤함, 고급스러움, 깔끔함, 자연스러움, 자연스러운 단맛, 진한 커피 풍미, 은은한 꿀 향, 깔끔한 마무리]'], 'menuIngred': [\"[ '아이스크림', '에스프레소', '꿀']\", \"[ '에스프레소', '라벤더 시럽', '우유', '설탕']\", \"[ '밀가루', '설탕', '버터', '초콜릿', '에스프레소', '계란', '베이킹파우더', '소금']\", \"[ '인스턴트 커피', '설탕', '뜨거운 물', '우유', '얼음']\", \"[ '에스프레소', '스팀 밀크', '우유']\", \"[ '에스프레소', '바닐라 시럽', '우유', '휘핑크림 (옵션)']\", \"[ '커피', '우유', '얼음', '설탕', '바닐라 아이스크림']\", \"[ '에스프레소, 물, 헤이즐넛 시럽, 얼음']\", \"[ '에스프레소', '돌체 시럽', '우유', '카라멜 시럽']\", \"[ '에스프레소, 물, 꿀, 얼음']\"]}\n"
     ]
    },
    {
     "name": "stderr",
     "output_type": "stream",
     "text": [
      "127.0.0.1 - - [06/Jan/2025 16:10:38] \"OPTIONS /send-coordinates HTTP/1.1\" 200 -\n",
      "127.0.0.1 - - [06/Jan/2025 16:10:38] \"POST /send-coordinates HTTP/1.1\" 200 -\n"
     ]
    },
    {
     "name": "stdout",
     "output_type": "stream",
     "text": [
      "2650010400\n"
     ]
    },
    {
     "name": "stderr",
     "output_type": "stream",
     "text": [
      "127.0.0.1 - - [06/Jan/2025 16:11:14] \"OPTIONS /send-coordinates HTTP/1.1\" 200 -\n",
      "127.0.0.1 - - [06/Jan/2025 16:11:14] \"POST /send-coordinates HTTP/1.1\" 200 -\n"
     ]
    },
    {
     "name": "stdout",
     "output_type": "stream",
     "text": [
      "2650010400\n"
     ]
    },
    {
     "name": "stderr",
     "output_type": "stream",
     "text": [
      "127.0.0.1 - - [06/Jan/2025 16:11:22] \"OPTIONS /send-coordinates HTTP/1.1\" 200 -\n",
      "127.0.0.1 - - [06/Jan/2025 16:11:22] \"POST /send-coordinates HTTP/1.1\" 200 -\n"
     ]
    },
    {
     "name": "stdout",
     "output_type": "stream",
     "text": [
      "2650010400\n"
     ]
    },
    {
     "name": "stderr",
     "output_type": "stream",
     "text": [
      "127.0.0.1 - - [06/Jan/2025 16:11:26] \"POST /send-coordinates HTTP/1.1\" 200 -\n"
     ]
    },
    {
     "name": "stdout",
     "output_type": "stream",
     "text": [
      "2650010400\n"
     ]
    },
    {
     "name": "stderr",
     "output_type": "stream",
     "text": [
      "127.0.0.1 - - [06/Jan/2025 16:11:35] \"POST /sanggueon-only HTTP/1.1\" 200 -\n",
      "127.0.0.1 - - [06/Jan/2025 16:11:35] \"POST /sanggueon-gongtong HTTP/1.1\" 200 -\n"
     ]
    },
    {
     "name": "stdout",
     "output_type": "stream",
     "text": [
      "[15, 14, 14, 14, 14]\n",
      "[57, 25, 37, 55, 27]\n",
      "['패션후르츠 에이드', '딸기 요거', '망고 스무디', '얼그레이 밀크티', '유자 에이드']\n",
      "{'status': 'success', 'gongtongMenus': ['패션후르츠 에이드', '딸기 요거', '망고 스무디', '얼그레이 밀크티', '유자 에이드'], 'sang1': '광안동', 'sang2': '동명동', 'sang1MenuCnt': [15, 14, 14, 14, 14], 'sang2MenuCnt': [57, 25, 37, 55, 27], 'menuInfo': ['[이국적, 새콤달콤, 청량감, 활기참, 과일향, 이국적 과일향, 상쾌함, 청량한 탄산]', '[달콤함, 상큼함, 과일향, 건강함, 부드러움, 사랑스러운 과일향, 새콤달콤, 부드러운 질감, 건강한 단맛, 활기참]', '[이국적, 달콤함, 과일향, 시원함, 상쾌함, 열대과일의 상큼함, 부드러움, 자연스러운 달콤함, 활기참, 신선한 질감]', '[우아함, 부드러움, 깊은 맛, 클래식, 고급스러움, 베르가못 향, 부드러운 크림, 우아한 맛, 조화로움, 깔끔한 끝맛]', '[상큼함, 청량감, 과일향, 산뜻함, 리프레시, 상큼한 감귤 향, 청량한 탄산, 자연스러운 단맛, 활기참, 산뜻한 마무리]'], 'menuIngred': [\"[ '패션후르츠', '탄산수', '설탕', '레몬', '얼음']\", \"[ '딸기', '플레인 요거트', '우유', '꿀', '얼음 (옵션)', '민트 잎 (옵션)']\", \"[ '망고', '우유', '바닐라 아이스크림', '설탕', '얼음']\", \"[ '얼그레이 티백, 우유, 설탕, 얼음']\", \"[ '유자청', '탄산수', '얼음', '민트 잎 (옵션)']\"]}\n",
      "{'status': 'success', 'onlyMenus': ['자스민 티', '디카페인 카라멜 마끼야또', '에스프레소 라떼', '바닐라 라떼 콜드브루', '말차'], 'sang1': '광안동', 'sang2': '동명동', 'sang1MenuCnt': [2, 4, 8, 6, 7], 'sang2MenuCnt': [102, 46, 46, 39, 39], 'menuInfo': ['[우아함, 허브향, 편안함, 자연스러움, 깔끔함, 은은한 꽃향, 부드러운 허브감, 우아한 풍미, 고요한 여운, 자연스러운 감미]', '[달콤함, 크리미함, 건강함, 부드러움, 만족감, 부드러운 캐러멜, 크리미한 텍스처, 가벼운 풍미, 달콤한 여운, 편안함]', '[진한 커피맛, 부드러움, 고급스러움, 풍미, 클래식, 진한 커피 맛, 부드러운 우유, 균형감, 풍부한 여운]', '[부드러움, 달콤함, 크리미함, 시원함, 고급스러움, 부드러운 바닐라 향, 깔끔한 커피, 청량감, 자연스러운 단맛, 균형 잡힌 맛]', '[쌉쌀함, 고소함, 전통적, 자연스러움, 깊은 맛, 전통적 풍미, 자연스러운 깊이, 깔끔한 여운]'], 'menuIngred': [\"[ '자스민 티 잎', '뜨거운 물', '설탕', '레몬']\", \"[ '디카페인 커피 원두', '우유', '카라멜 시럽', '얼음']\", \"[ '에스프레소', '우유', '설탕 (옵션)', '바닐라 시럽 (옵션)']\", \"[ '콜드브루 커피', '우유', '바닐라 시럽', '얼음', '휘핑크림 (옵션)']\", \"[ '말차 가루', '우유', '설탕', '물', '바닐라 시럽 (옵션)']\"]}\n",
      "Spring Response: {'menuIngred': [\"[ '패션후르츠', '탄산수', '설탕', '레몬', '얼음']\", \"[ '딸기', '플레인 요거트', '우유', '꿀', '얼음 (옵션)', '민트 잎 (옵션)']\", \"[ '망고', '우유', '바닐라 아이스크림', '설탕', '얼음']\", \"[ '얼그레이 티백, 우유, 설탕, 얼음']\", \"[ '유자청', '탄산수', '얼음', '민트 잎 (옵션)']\"], 'menuInfo': ['[이국적, 새콤달콤, 청량감, 활기참, 과일향, 이국적 과일향, 상쾌함, 청량한 탄산]', '[달콤함, 상큼함, 과일향, 건강함, 부드러움, 사랑스러운 과일향, 새콤달콤, 부드러운 질감, 건강한 단맛, 활기참]', '[이국적, 달콤함, 과일향, 시원함, 상쾌함, 열대과일의 상큼함, 부드러움, 자연스러운 달콤함, 활기참, 신선한 질감]', '[우아함, 부드러움, 깊은 맛, 클래식, 고급스러움, 베르가못 향, 부드러운 크림, 우아한 맛, 조화로움, 깔끔한 끝맛]', '[상큼함, 청량감, 과일향, 산뜻함, 리프레시, 상큼한 감귤 향, 청량한 탄산, 자연스러운 단맛, 활기참, 산뜻한 마무리]'], 'sang1MenuCnt': [15, 14, 14, 14, 14], 'sang1': '광안동', 'sang2': '동명동', 'gontongMenus': ['패션후르츠 에이드', '딸기 요거', '망고 스무디', '얼그레이 밀크티', '유자 에이드'], 'sang2MenuCnt': [57, 25, 37, 55, 27], 'message': '데이터 전송 성공', 'status': 'success'}\n"
     ]
    },
    {
     "name": "stderr",
     "output_type": "stream",
     "text": [
      "127.0.0.1 - - [06/Jan/2025 16:11:42] \"POST /analyze-keyword HTTP/1.1\" 200 -\n"
     ]
    },
    {
     "name": "stdout",
     "output_type": "stream",
     "text": [
      "Payload to be sent: {'status': 'success', 'keyword': '상큼한', 'recommanded': ['요거트 플랫치노', '파인애플 주스', '애플 티', '깔라만시 스무디', '자몽 주스', '오렌지 콜드브루', '라즈베리 케이크', '요거트 크림 케이크', '라즈베리 푸딩', '레몬 티'], 'menuInfo': ['[건강함, 상큼함, 부드러움, 새콤달콤, 크리미함, 상큼한 요거트, 부드러운 텍스처, 새콤달콤한 풍미, 활기참]', '[이국적, 상큼함, 과일향, 청량감, 활기참, 열대 과일의 상큼함, 달콤한 풍미, 신선한 질감, 자연스러운 여운]', '[따뜻함, 상큼함, 과일향, 건강함, 여유, 상큼한 사과 향, 은은한 달콤함, 가벼운 산미, 편안한 마무리]', '[새콤함, 상큼함, 청량감, 건강함, 독특함, 상큼한 열대 과일 향, 자연스러운 산미, 새콤달콤한 조화, 활기찬 풍미]', '[새콤함, 상큼함, 과일향, 청량감, 활기참, 신선한 과즙, 상큼한 산미, 새콤달콤, 기분 좋은 쌉쌀함]', '[과일향, 진한 커피맛, 상큼함, 깔끔함, 이색적, 상큼한 시트러스, 진한 커피 풍미, 자연스러운 산미, 청량감, 세련된 조화]', '[새콤달콤, 부드러움, 촉촉함, 신선한 라즈베리, 클래식 디저트, 상큼한 풍미, 만족감, 화려함, 고급스러움, 생동감]', '[새콤달콤, 부드러움, 크리미함, 촉촉한 질감, 건강한 디저트, 클래식함, 신선함, 만족스러운, 상큼함, 가벼운]', '[새콤달콤, 부드러움, 크리미함, 신선한 라즈베리, 촉촉함, 클래식 디저트, 상큼함, 고급스러움, 만족감, 화사함]', '[상큼함, 따뜻함, 깔끔함, 건강함, 리프레시, 상큼한 시트러스, 은은한 달콤함, 건강감, 청량한 여운]'], 'menuIngred': [\"[ '그릭 요거트', '우유', '얼음', '휘핑크림', '꿀']\", \"[ '파인애플', '설탕', '레몬', '얼음']\", \"[ '사과', '홍차', '설탕', '물', '레몬 (옵션)', '시나몬 스틱 (옵션)']\", \"[ '깔라만시', '얼음', '설탕', '요거트', '레몬즙', '물']\", \"[ '자몽', '설탕 (옵션)', '물', '얼음']\", \"[ '콜드브루 커피', '오렌지 주스', '얼음', '오렌지 슬라이스']\", \"[ '라즈베리, 밀가루, 설탕, 버터, 달걀, 생크림, 베이킹 파우더, 바닐라 추출물']\", \"[ '케이크 시트, 요거트, 생크림, 설탕, 젤라틴, 바닐라 익스트랙트, 레몬즙']\", \"[ '라즈베리', '우유', '설탕', '젤라틴', '크림', '바닐라', '소금']\", \"[ '홍차', '레몬', '설탕', '꿀']\"]}\n",
      "200\n",
      "{'menuIngred': [\"[ '그릭 요거트', '우유', '얼음', '휘핑크림', '꿀']\", \"[ '파인애플', '설탕', '레몬', '얼음']\", \"[ '사과', '홍차', '설탕', '물', '레몬 (옵션)', '시나몬 스틱 (옵션)']\", \"[ '깔라만시', '얼음', '설탕', '요거트', '레몬즙', '물']\", \"[ '자몽', '설탕 (옵션)', '물', '얼음']\", \"[ '콜드브루 커피', '오렌지 주스', '얼음', '오렌지 슬라이스']\", \"[ '라즈베리, 밀가루, 설탕, 버터, 달걀, 생크림, 베이킹 파우더, 바닐라 추출물']\", \"[ '케이크 시트, 요거트, 생크림, 설탕, 젤라틴, 바닐라 익스트랙트, 레몬즙']\", \"[ '라즈베리', '우유', '설탕', '젤라틴', '크림', '바닐라', '소금']\", \"[ '홍차', '레몬', '설탕', '꿀']\"], 'menuInfo': ['[건강함, 상큼함, 부드러움, 새콤달콤, 크리미함, 상큼한 요거트, 부드러운 텍스처, 새콤달콤한 풍미, 활기참]', '[이국적, 상큼함, 과일향, 청량감, 활기참, 열대 과일의 상큼함, 달콤한 풍미, 신선한 질감, 자연스러운 여운]', '[따뜻함, 상큼함, 과일향, 건강함, 여유, 상큼한 사과 향, 은은한 달콤함, 가벼운 산미, 편안한 마무리]', '[새콤함, 상큼함, 청량감, 건강함, 독특함, 상큼한 열대 과일 향, 자연스러운 산미, 새콤달콤한 조화, 활기찬 풍미]', '[새콤함, 상큼함, 과일향, 청량감, 활기참, 신선한 과즙, 상큼한 산미, 새콤달콤, 기분 좋은 쌉쌀함]', '[과일향, 진한 커피맛, 상큼함, 깔끔함, 이색적, 상큼한 시트러스, 진한 커피 풍미, 자연스러운 산미, 청량감, 세련된 조화]', '[새콤달콤, 부드러움, 촉촉함, 신선한 라즈베리, 클래식 디저트, 상큼한 풍미, 만족감, 화려함, 고급스러움, 생동감]', '[새콤달콤, 부드러움, 크리미함, 촉촉한 질감, 건강한 디저트, 클래식함, 신선함, 만족스러운, 상큼함, 가벼운]', '[새콤달콤, 부드러움, 크리미함, 신선한 라즈베리, 촉촉함, 클래식 디저트, 상큼함, 고급스러움, 만족감, 화사함]', '[상큼함, 따뜻함, 깔끔함, 건강함, 리프레시, 상큼한 시트러스, 은은한 달콤함, 건강감, 청량한 여운]'], 'recommanded': ['요거트 플랫치노', '파인애플 주스', '애플 티', '깔라만시 스무디', '자몽 주스', '오렌지 콜드브루', '라즈베리 케이크', '요거트 크림 케이크', '라즈베리 푸딩', '레몬 티'], 'keyword': '상큼한', 'message': '데이터 전송 완료', 'status': 'success'}\n"
     ]
    },
    {
     "name": "stderr",
     "output_type": "stream",
     "text": [
      "[2025-01-06 16:11:51,754] ERROR in app: Exception on /analyze-menu [POST]\n",
      "Traceback (most recent call last):\n",
      "  File \"/opt/anaconda3/lib/python3.12/site-packages/flask/app.py\", line 1473, in wsgi_app\n",
      "    response = self.full_dispatch_request()\n",
      "               ^^^^^^^^^^^^^^^^^^^^^^^^^^^^\n",
      "  File \"/opt/anaconda3/lib/python3.12/site-packages/flask/app.py\", line 882, in full_dispatch_request\n",
      "    rv = self.handle_user_exception(e)\n",
      "         ^^^^^^^^^^^^^^^^^^^^^^^^^^^^^\n",
      "  File \"/opt/anaconda3/lib/python3.12/site-packages/flask_cors/extension.py\", line 194, in wrapped_function\n",
      "    return cors_after_request(app.make_response(f(*args, **kwargs)))\n",
      "                                                ^^^^^^^^^^^^^^^^^^\n",
      "  File \"/opt/anaconda3/lib/python3.12/site-packages/flask/app.py\", line 880, in full_dispatch_request\n",
      "    rv = self.dispatch_request()\n",
      "         ^^^^^^^^^^^^^^^^^^^^^^^\n",
      "  File \"/opt/anaconda3/lib/python3.12/site-packages/flask/app.py\", line 865, in dispatch_request\n",
      "    return self.ensure_sync(self.view_functions[rule.endpoint])(**view_args)  # type: ignore[no-any-return]\n",
      "           ^^^^^^^^^^^^^^^^^^^^^^^^^^^^^^^^^^^^^^^^^^^^^^^^^^^^^^^^^^^^^^^^^\n",
      "  File \"/var/folders/l3/0wzpj5z122lcwp0r6cgklgy80000gn/T/ipykernel_39730/461091995.py\", line 149, in analyze_menu\n",
      "    spring_response = similar_menu_recommanded(menu_data, similar_menus, menu_name)\n",
      "                      ^^^^^^^^^^^^^^^^^^^^^^^^^^^^^^^^^^^^^^^^^^^^^^^^^^^^^^^^^^^^^\n",
      "  File \"/var/folders/l3/0wzpj5z122lcwp0r6cgklgy80000gn/T/ipykernel_39730/927440023.py\", line 5, in similar_menu_recommanded\n",
      "    menu_info = [f'[{menu_data[menu_data[\"menu\"]==menu][\"info\"].values[0]}]' for menu in similar_menus]\n",
      "                     ~~~~~~~~~~~~~~~~~~~~~~~~~~~~~~~~~~~~~~~~~~~~~~~~~^^^\n",
      "IndexError: index 0 is out of bounds for axis 0 with size 0\n",
      "127.0.0.1 - - [06/Jan/2025 16:11:51] \"POST /analyze-menu HTTP/1.1\" 500 -\n"
     ]
    },
    {
     "name": "stdout",
     "output_type": "stream",
     "text": [
      "에스프레소\n",
      "메뉴 이름이 잘못되었습니다.\n"
     ]
    },
    {
     "name": "stderr",
     "output_type": "stream",
     "text": [
      "127.0.0.1 - - [06/Jan/2025 16:11:54] \"POST /analyze-menu HTTP/1.1\" 200 -\n"
     ]
    },
    {
     "name": "stdout",
     "output_type": "stream",
     "text": [
      "카페모카\n",
      "{'status': 'success', 'similarMenus': ['초콜렛 모카', '크림 카페모카', '초코 프라페', '모카 스무디', '모카 라떼', '밀크 코코아', '초코 스무디', '피칸 케이크', '모카 프라페', '밀크 쇼콜라'], 'menu': '카페모카', 'menuInfo': ['[진한 초콜릿, 풍부함, 달콤함, 따뜻함, 만족감, 달콤한 초콜릿, 진한 크림, 고급스러운 풍미, 풍부한 텍스처, 따뜻한 마무리]', '[초콜릿, 크리미함, 달콤함, 진한 맛, 고급스러움, 진한 초콜릿 풍미, 부드러운 크림, 달콤한 조화, 깊고 풍부한 맛, 세련된 만족감]', '[진한 맛, 달콤함, 크리미함, 만족감, 풍미, 진한 초콜릿 맛, 풍부한 크림감, 달콤한 여운, 고급스러움, 만족스러움]', '[진한 초콜릿, 달콤함, 크리미함, 풍미, 만족감, 진한 초콜릿 풍미, 부드러운 텍스처, 크리미한 조화, 달콤한 여운, 고급스러운 맛]', '[달콤함, 초콜릿, 진한 커피향, 부드러움, 만족감, 진한 초콜릿, 풍부한 크림감, 고급스러움, 달콤한 끝맛, 따뜻한 풍미]', '[초콜릿, 달콤함, 부드러움, 따뜻함, 포근함, 진한 초콜릿 풍미, 부드러운 크림, 포근한 달콤함, 고급스러운 여운]', '[진한 초콜릿, 달콤함, 크리미함, 만족감, 풍부함, 진한 초콜릿 풍미, 부드러운 텍스처, 크리미한 만족감, 세련된 조화]', '[고소함, 달콤함, 촉촉한 질감, 풍부한 피칸 풍미, 부드러운 크림, 클래식 디저트, 고급스러움, 만족감, 따뜻함, 풍미 깊음]', '[진한 초콜릿, 달콤함, 크리미함, 풍미, 만족감, 진한 초콜릿 풍미, 크리미한 텍스처, 달콤한 만족감, 고급스러움, 깊은 여운]', '[초콜릿, 달콤함, 부드러움, 풍미, 따뜻함, 진한 초콜릿 향, 부드러운 텍스처, 달콤한 감미, 크리미한 만족감, 고급스러운 맛]'], 'menuIngred': [\"[ '우유', '에스프레소', '초콜릿 시럽', '휘핑크림 (옵션)', '초콜릿 가루 (옵션)']\", \"[ '에스프레소, 우유, 초콜릿 시럽, 설탕, 휘핑크림']\", \"[ '우유', '초콜릿 시럽', '초콜릿 칩', '바닐라 아이스크림', '얼음', '휘핑크림 (옵션)']\", \"[ '초콜릿 시럽', '커피', '우유', '얼음', '휘핑 크림', '초콜릿 조각']\", \"[ '우유', '에스프레소', '초콜릿 시럽', '휘핑크림 (옵션)', '초콜릿 가루 (옵션)']\", \"[ '우유', '코코아 파우더', '설탕', '휘핑크림', '초콜릿 시럽']\", \"[ '초콜릿 시럽, 우유, 설탕, 얼음, 휘핑크림, 초콜릿칩']\", \"[ '버터', '설탕', '밀가루', '베이킹파우더', '소금', '계란', '바닐라 익스트랙', '우유', '피칸', '크림치즈', '휘핑크림', '아이싱 설탕']\", \"[ '에스프레소, 우유, 초콜릿 시럽, 설탕, 얼음, 휘핑크림, 초콜릿칩']\", \"[ '초콜릿', '우유', '설탕', '휘핑 크림', '바닐라']\"]}\n"
     ]
    },
    {
     "name": "stderr",
     "output_type": "stream",
     "text": [
      "127.0.0.1 - - [06/Jan/2025 16:11:55] \"POST /analyze-menu HTTP/1.1\" 200 -\n"
     ]
    },
    {
     "name": "stdout",
     "output_type": "stream",
     "text": [
      "카페모카\n",
      "{'status': 'success', 'similarMenus': ['초콜렛 모카', '크림 카페모카', '초코 프라페', '모카 스무디', '모카 라떼', '밀크 코코아', '초코 스무디', '피칸 케이크', '모카 프라페', '밀크 쇼콜라'], 'menu': '카페모카', 'menuInfo': ['[진한 초콜릿, 풍부함, 달콤함, 따뜻함, 만족감, 달콤한 초콜릿, 진한 크림, 고급스러운 풍미, 풍부한 텍스처, 따뜻한 마무리]', '[초콜릿, 크리미함, 달콤함, 진한 맛, 고급스러움, 진한 초콜릿 풍미, 부드러운 크림, 달콤한 조화, 깊고 풍부한 맛, 세련된 만족감]', '[진한 맛, 달콤함, 크리미함, 만족감, 풍미, 진한 초콜릿 맛, 풍부한 크림감, 달콤한 여운, 고급스러움, 만족스러움]', '[진한 초콜릿, 달콤함, 크리미함, 풍미, 만족감, 진한 초콜릿 풍미, 부드러운 텍스처, 크리미한 조화, 달콤한 여운, 고급스러운 맛]', '[달콤함, 초콜릿, 진한 커피향, 부드러움, 만족감, 진한 초콜릿, 풍부한 크림감, 고급스러움, 달콤한 끝맛, 따뜻한 풍미]', '[초콜릿, 달콤함, 부드러움, 따뜻함, 포근함, 진한 초콜릿 풍미, 부드러운 크림, 포근한 달콤함, 고급스러운 여운]', '[진한 초콜릿, 달콤함, 크리미함, 만족감, 풍부함, 진한 초콜릿 풍미, 부드러운 텍스처, 크리미한 만족감, 세련된 조화]', '[고소함, 달콤함, 촉촉한 질감, 풍부한 피칸 풍미, 부드러운 크림, 클래식 디저트, 고급스러움, 만족감, 따뜻함, 풍미 깊음]', '[진한 초콜릿, 달콤함, 크리미함, 풍미, 만족감, 진한 초콜릿 풍미, 크리미한 텍스처, 달콤한 만족감, 고급스러움, 깊은 여운]', '[초콜릿, 달콤함, 부드러움, 풍미, 따뜻함, 진한 초콜릿 향, 부드러운 텍스처, 달콤한 감미, 크리미한 만족감, 고급스러운 맛]'], 'menuIngred': [\"[ '우유', '에스프레소', '초콜릿 시럽', '휘핑크림 (옵션)', '초콜릿 가루 (옵션)']\", \"[ '에스프레소, 우유, 초콜릿 시럽, 설탕, 휘핑크림']\", \"[ '우유', '초콜릿 시럽', '초콜릿 칩', '바닐라 아이스크림', '얼음', '휘핑크림 (옵션)']\", \"[ '초콜릿 시럽', '커피', '우유', '얼음', '휘핑 크림', '초콜릿 조각']\", \"[ '우유', '에스프레소', '초콜릿 시럽', '휘핑크림 (옵션)', '초콜릿 가루 (옵션)']\", \"[ '우유', '코코아 파우더', '설탕', '휘핑크림', '초콜릿 시럽']\", \"[ '초콜릿 시럽, 우유, 설탕, 얼음, 휘핑크림, 초콜릿칩']\", \"[ '버터', '설탕', '밀가루', '베이킹파우더', '소금', '계란', '바닐라 익스트랙', '우유', '피칸', '크림치즈', '휘핑크림', '아이싱 설탕']\", \"[ '에스프레소, 우유, 초콜릿 시럽, 설탕, 얼음, 휘핑크림, 초콜릿칩']\", \"[ '초콜릿', '우유', '설탕', '휘핑 크림', '바닐라']\"]}\n"
     ]
    },
    {
     "name": "stderr",
     "output_type": "stream",
     "text": [
      "127.0.0.1 - - [06/Jan/2025 16:12:07] \"POST /analyze-keyword HTTP/1.1\" 200 -\n"
     ]
    },
    {
     "name": "stdout",
     "output_type": "stream",
     "text": [
      "Payload to be sent: {'status': 'success', 'keyword': '상큼한', 'recommanded': ['요거트 플랫치노', '파인애플 주스', '애플 티', '깔라만시 스무디', '자몽 주스', '오렌지 콜드브루', '라즈베리 케이크', '요거트 크림 케이크', '라즈베리 푸딩', '레몬 티'], 'menuInfo': ['[건강함, 상큼함, 부드러움, 새콤달콤, 크리미함, 상큼한 요거트, 부드러운 텍스처, 새콤달콤한 풍미, 활기참]', '[이국적, 상큼함, 과일향, 청량감, 활기참, 열대 과일의 상큼함, 달콤한 풍미, 신선한 질감, 자연스러운 여운]', '[따뜻함, 상큼함, 과일향, 건강함, 여유, 상큼한 사과 향, 은은한 달콤함, 가벼운 산미, 편안한 마무리]', '[새콤함, 상큼함, 청량감, 건강함, 독특함, 상큼한 열대 과일 향, 자연스러운 산미, 새콤달콤한 조화, 활기찬 풍미]', '[새콤함, 상큼함, 과일향, 청량감, 활기참, 신선한 과즙, 상큼한 산미, 새콤달콤, 기분 좋은 쌉쌀함]', '[과일향, 진한 커피맛, 상큼함, 깔끔함, 이색적, 상큼한 시트러스, 진한 커피 풍미, 자연스러운 산미, 청량감, 세련된 조화]', '[새콤달콤, 부드러움, 촉촉함, 신선한 라즈베리, 클래식 디저트, 상큼한 풍미, 만족감, 화려함, 고급스러움, 생동감]', '[새콤달콤, 부드러움, 크리미함, 촉촉한 질감, 건강한 디저트, 클래식함, 신선함, 만족스러운, 상큼함, 가벼운]', '[새콤달콤, 부드러움, 크리미함, 신선한 라즈베리, 촉촉함, 클래식 디저트, 상큼함, 고급스러움, 만족감, 화사함]', '[상큼함, 따뜻함, 깔끔함, 건강함, 리프레시, 상큼한 시트러스, 은은한 달콤함, 건강감, 청량한 여운]'], 'menuIngred': [\"[ '그릭 요거트', '우유', '얼음', '휘핑크림', '꿀']\", \"[ '파인애플', '설탕', '레몬', '얼음']\", \"[ '사과', '홍차', '설탕', '물', '레몬 (옵션)', '시나몬 스틱 (옵션)']\", \"[ '깔라만시', '얼음', '설탕', '요거트', '레몬즙', '물']\", \"[ '자몽', '설탕 (옵션)', '물', '얼음']\", \"[ '콜드브루 커피', '오렌지 주스', '얼음', '오렌지 슬라이스']\", \"[ '라즈베리, 밀가루, 설탕, 버터, 달걀, 생크림, 베이킹 파우더, 바닐라 추출물']\", \"[ '케이크 시트, 요거트, 생크림, 설탕, 젤라틴, 바닐라 익스트랙트, 레몬즙']\", \"[ '라즈베리', '우유', '설탕', '젤라틴', '크림', '바닐라', '소금']\", \"[ '홍차', '레몬', '설탕', '꿀']\"]}\n",
      "200\n",
      "{'menuIngred': [\"[ '그릭 요거트', '우유', '얼음', '휘핑크림', '꿀']\", \"[ '파인애플', '설탕', '레몬', '얼음']\", \"[ '사과', '홍차', '설탕', '물', '레몬 (옵션)', '시나몬 스틱 (옵션)']\", \"[ '깔라만시', '얼음', '설탕', '요거트', '레몬즙', '물']\", \"[ '자몽', '설탕 (옵션)', '물', '얼음']\", \"[ '콜드브루 커피', '오렌지 주스', '얼음', '오렌지 슬라이스']\", \"[ '라즈베리, 밀가루, 설탕, 버터, 달걀, 생크림, 베이킹 파우더, 바닐라 추출물']\", \"[ '케이크 시트, 요거트, 생크림, 설탕, 젤라틴, 바닐라 익스트랙트, 레몬즙']\", \"[ '라즈베리', '우유', '설탕', '젤라틴', '크림', '바닐라', '소금']\", \"[ '홍차', '레몬', '설탕', '꿀']\"], 'menuInfo': ['[건강함, 상큼함, 부드러움, 새콤달콤, 크리미함, 상큼한 요거트, 부드러운 텍스처, 새콤달콤한 풍미, 활기참]', '[이국적, 상큼함, 과일향, 청량감, 활기참, 열대 과일의 상큼함, 달콤한 풍미, 신선한 질감, 자연스러운 여운]', '[따뜻함, 상큼함, 과일향, 건강함, 여유, 상큼한 사과 향, 은은한 달콤함, 가벼운 산미, 편안한 마무리]', '[새콤함, 상큼함, 청량감, 건강함, 독특함, 상큼한 열대 과일 향, 자연스러운 산미, 새콤달콤한 조화, 활기찬 풍미]', '[새콤함, 상큼함, 과일향, 청량감, 활기참, 신선한 과즙, 상큼한 산미, 새콤달콤, 기분 좋은 쌉쌀함]', '[과일향, 진한 커피맛, 상큼함, 깔끔함, 이색적, 상큼한 시트러스, 진한 커피 풍미, 자연스러운 산미, 청량감, 세련된 조화]', '[새콤달콤, 부드러움, 촉촉함, 신선한 라즈베리, 클래식 디저트, 상큼한 풍미, 만족감, 화려함, 고급스러움, 생동감]', '[새콤달콤, 부드러움, 크리미함, 촉촉한 질감, 건강한 디저트, 클래식함, 신선함, 만족스러운, 상큼함, 가벼운]', '[새콤달콤, 부드러움, 크리미함, 신선한 라즈베리, 촉촉함, 클래식 디저트, 상큼함, 고급스러움, 만족감, 화사함]', '[상큼함, 따뜻함, 깔끔함, 건강함, 리프레시, 상큼한 시트러스, 은은한 달콤함, 건강감, 청량한 여운]'], 'recommanded': ['요거트 플랫치노', '파인애플 주스', '애플 티', '깔라만시 스무디', '자몽 주스', '오렌지 콜드브루', '라즈베리 케이크', '요거트 크림 케이크', '라즈베리 푸딩', '레몬 티'], 'keyword': '상큼한', 'message': '데이터 전송 완료', 'status': 'success'}\n"
     ]
    },
    {
     "name": "stderr",
     "output_type": "stream",
     "text": [
      "127.0.0.1 - - [06/Jan/2025 16:18:11] \"POST /analyze-keyword HTTP/1.1\" 200 -\n"
     ]
    },
    {
     "name": "stdout",
     "output_type": "stream",
     "text": [
      "Payload to be sent: {'status': 'success', 'keyword': '상큼한', 'recommanded': ['요거트 플랫치노', '파인애플 주스', '애플 티', '깔라만시 스무디', '자몽 주스', '오렌지 콜드브루', '라즈베리 케이크', '요거트 크림 케이크', '라즈베리 푸딩', '레몬 티'], 'menuInfo': ['[건강함, 상큼함, 부드러움, 새콤달콤, 크리미함, 상큼한 요거트, 부드러운 텍스처, 새콤달콤한 풍미, 활기참]', '[이국적, 상큼함, 과일향, 청량감, 활기참, 열대 과일의 상큼함, 달콤한 풍미, 신선한 질감, 자연스러운 여운]', '[따뜻함, 상큼함, 과일향, 건강함, 여유, 상큼한 사과 향, 은은한 달콤함, 가벼운 산미, 편안한 마무리]', '[새콤함, 상큼함, 청량감, 건강함, 독특함, 상큼한 열대 과일 향, 자연스러운 산미, 새콤달콤한 조화, 활기찬 풍미]', '[새콤함, 상큼함, 과일향, 청량감, 활기참, 신선한 과즙, 상큼한 산미, 새콤달콤, 기분 좋은 쌉쌀함]', '[과일향, 진한 커피맛, 상큼함, 깔끔함, 이색적, 상큼한 시트러스, 진한 커피 풍미, 자연스러운 산미, 청량감, 세련된 조화]', '[새콤달콤, 부드러움, 촉촉함, 신선한 라즈베리, 클래식 디저트, 상큼한 풍미, 만족감, 화려함, 고급스러움, 생동감]', '[새콤달콤, 부드러움, 크리미함, 촉촉한 질감, 건강한 디저트, 클래식함, 신선함, 만족스러운, 상큼함, 가벼운]', '[새콤달콤, 부드러움, 크리미함, 신선한 라즈베리, 촉촉함, 클래식 디저트, 상큼함, 고급스러움, 만족감, 화사함]', '[상큼함, 따뜻함, 깔끔함, 건강함, 리프레시, 상큼한 시트러스, 은은한 달콤함, 건강감, 청량한 여운]'], 'menuIngred': [\"[ '그릭 요거트', '우유', '얼음', '휘핑크림', '꿀']\", \"[ '파인애플', '설탕', '레몬', '얼음']\", \"[ '사과', '홍차', '설탕', '물', '레몬 (옵션)', '시나몬 스틱 (옵션)']\", \"[ '깔라만시', '얼음', '설탕', '요거트', '레몬즙', '물']\", \"[ '자몽', '설탕 (옵션)', '물', '얼음']\", \"[ '콜드브루 커피', '오렌지 주스', '얼음', '오렌지 슬라이스']\", \"[ '라즈베리, 밀가루, 설탕, 버터, 달걀, 생크림, 베이킹 파우더, 바닐라 추출물']\", \"[ '케이크 시트, 요거트, 생크림, 설탕, 젤라틴, 바닐라 익스트랙트, 레몬즙']\", \"[ '라즈베리', '우유', '설탕', '젤라틴', '크림', '바닐라', '소금']\", \"[ '홍차', '레몬', '설탕', '꿀']\"]}\n",
      "200\n",
      "{'menuIngred': [\"[ '그릭 요거트', '우유', '얼음', '휘핑크림', '꿀']\", \"[ '파인애플', '설탕', '레몬', '얼음']\", \"[ '사과', '홍차', '설탕', '물', '레몬 (옵션)', '시나몬 스틱 (옵션)']\", \"[ '깔라만시', '얼음', '설탕', '요거트', '레몬즙', '물']\", \"[ '자몽', '설탕 (옵션)', '물', '얼음']\", \"[ '콜드브루 커피', '오렌지 주스', '얼음', '오렌지 슬라이스']\", \"[ '라즈베리, 밀가루, 설탕, 버터, 달걀, 생크림, 베이킹 파우더, 바닐라 추출물']\", \"[ '케이크 시트, 요거트, 생크림, 설탕, 젤라틴, 바닐라 익스트랙트, 레몬즙']\", \"[ '라즈베리', '우유', '설탕', '젤라틴', '크림', '바닐라', '소금']\", \"[ '홍차', '레몬', '설탕', '꿀']\"], 'menuInfo': ['[건강함, 상큼함, 부드러움, 새콤달콤, 크리미함, 상큼한 요거트, 부드러운 텍스처, 새콤달콤한 풍미, 활기참]', '[이국적, 상큼함, 과일향, 청량감, 활기참, 열대 과일의 상큼함, 달콤한 풍미, 신선한 질감, 자연스러운 여운]', '[따뜻함, 상큼함, 과일향, 건강함, 여유, 상큼한 사과 향, 은은한 달콤함, 가벼운 산미, 편안한 마무리]', '[새콤함, 상큼함, 청량감, 건강함, 독특함, 상큼한 열대 과일 향, 자연스러운 산미, 새콤달콤한 조화, 활기찬 풍미]', '[새콤함, 상큼함, 과일향, 청량감, 활기참, 신선한 과즙, 상큼한 산미, 새콤달콤, 기분 좋은 쌉쌀함]', '[과일향, 진한 커피맛, 상큼함, 깔끔함, 이색적, 상큼한 시트러스, 진한 커피 풍미, 자연스러운 산미, 청량감, 세련된 조화]', '[새콤달콤, 부드러움, 촉촉함, 신선한 라즈베리, 클래식 디저트, 상큼한 풍미, 만족감, 화려함, 고급스러움, 생동감]', '[새콤달콤, 부드러움, 크리미함, 촉촉한 질감, 건강한 디저트, 클래식함, 신선함, 만족스러운, 상큼함, 가벼운]', '[새콤달콤, 부드러움, 크리미함, 신선한 라즈베리, 촉촉함, 클래식 디저트, 상큼함, 고급스러움, 만족감, 화사함]', '[상큼함, 따뜻함, 깔끔함, 건강함, 리프레시, 상큼한 시트러스, 은은한 달콤함, 건강감, 청량한 여운]'], 'recommanded': ['요거트 플랫치노', '파인애플 주스', '애플 티', '깔라만시 스무디', '자몽 주스', '오렌지 콜드브루', '라즈베리 케이크', '요거트 크림 케이크', '라즈베리 푸딩', '레몬 티'], 'keyword': '상큼한', 'message': '데이터 전송 완료', 'status': 'success'}\n"
     ]
    },
    {
     "name": "stderr",
     "output_type": "stream",
     "text": [
      "127.0.0.1 - - [06/Jan/2025 16:18:44] \"POST /analyze-keyword HTTP/1.1\" 200 -\n"
     ]
    },
    {
     "name": "stdout",
     "output_type": "stream",
     "text": [
      "Payload to be sent: {'status': 'success', 'keyword': '상큼한', 'recommanded': ['요거트 플랫치노', '파인애플 주스', '애플 티', '깔라만시 스무디', '자몽 주스', '오렌지 콜드브루', '라즈베리 케이크', '요거트 크림 케이크', '라즈베리 푸딩', '레몬 티'], 'menuInfo': ['[건강함, 상큼함, 부드러움, 새콤달콤, 크리미함, 상큼한 요거트, 부드러운 텍스처, 새콤달콤한 풍미, 활기참]', '[이국적, 상큼함, 과일향, 청량감, 활기참, 열대 과일의 상큼함, 달콤한 풍미, 신선한 질감, 자연스러운 여운]', '[따뜻함, 상큼함, 과일향, 건강함, 여유, 상큼한 사과 향, 은은한 달콤함, 가벼운 산미, 편안한 마무리]', '[새콤함, 상큼함, 청량감, 건강함, 독특함, 상큼한 열대 과일 향, 자연스러운 산미, 새콤달콤한 조화, 활기찬 풍미]', '[새콤함, 상큼함, 과일향, 청량감, 활기참, 신선한 과즙, 상큼한 산미, 새콤달콤, 기분 좋은 쌉쌀함]', '[과일향, 진한 커피맛, 상큼함, 깔끔함, 이색적, 상큼한 시트러스, 진한 커피 풍미, 자연스러운 산미, 청량감, 세련된 조화]', '[새콤달콤, 부드러움, 촉촉함, 신선한 라즈베리, 클래식 디저트, 상큼한 풍미, 만족감, 화려함, 고급스러움, 생동감]', '[새콤달콤, 부드러움, 크리미함, 촉촉한 질감, 건강한 디저트, 클래식함, 신선함, 만족스러운, 상큼함, 가벼운]', '[새콤달콤, 부드러움, 크리미함, 신선한 라즈베리, 촉촉함, 클래식 디저트, 상큼함, 고급스러움, 만족감, 화사함]', '[상큼함, 따뜻함, 깔끔함, 건강함, 리프레시, 상큼한 시트러스, 은은한 달콤함, 건강감, 청량한 여운]'], 'menuIngred': [\"[ '그릭 요거트', '우유', '얼음', '휘핑크림', '꿀']\", \"[ '파인애플', '설탕', '레몬', '얼음']\", \"[ '사과', '홍차', '설탕', '물', '레몬 (옵션)', '시나몬 스틱 (옵션)']\", \"[ '깔라만시', '얼음', '설탕', '요거트', '레몬즙', '물']\", \"[ '자몽', '설탕 (옵션)', '물', '얼음']\", \"[ '콜드브루 커피', '오렌지 주스', '얼음', '오렌지 슬라이스']\", \"[ '라즈베리, 밀가루, 설탕, 버터, 달걀, 생크림, 베이킹 파우더, 바닐라 추출물']\", \"[ '케이크 시트, 요거트, 생크림, 설탕, 젤라틴, 바닐라 익스트랙트, 레몬즙']\", \"[ '라즈베리', '우유', '설탕', '젤라틴', '크림', '바닐라', '소금']\", \"[ '홍차', '레몬', '설탕', '꿀']\"]}\n",
      "200\n",
      "{'menuIngred': [\"[ '그릭 요거트', '우유', '얼음', '휘핑크림', '꿀']\", \"[ '파인애플', '설탕', '레몬', '얼음']\", \"[ '사과', '홍차', '설탕', '물', '레몬 (옵션)', '시나몬 스틱 (옵션)']\", \"[ '깔라만시', '얼음', '설탕', '요거트', '레몬즙', '물']\", \"[ '자몽', '설탕 (옵션)', '물', '얼음']\", \"[ '콜드브루 커피', '오렌지 주스', '얼음', '오렌지 슬라이스']\", \"[ '라즈베리, 밀가루, 설탕, 버터, 달걀, 생크림, 베이킹 파우더, 바닐라 추출물']\", \"[ '케이크 시트, 요거트, 생크림, 설탕, 젤라틴, 바닐라 익스트랙트, 레몬즙']\", \"[ '라즈베리', '우유', '설탕', '젤라틴', '크림', '바닐라', '소금']\", \"[ '홍차', '레몬', '설탕', '꿀']\"], 'menuInfo': ['[건강함, 상큼함, 부드러움, 새콤달콤, 크리미함, 상큼한 요거트, 부드러운 텍스처, 새콤달콤한 풍미, 활기참]', '[이국적, 상큼함, 과일향, 청량감, 활기참, 열대 과일의 상큼함, 달콤한 풍미, 신선한 질감, 자연스러운 여운]', '[따뜻함, 상큼함, 과일향, 건강함, 여유, 상큼한 사과 향, 은은한 달콤함, 가벼운 산미, 편안한 마무리]', '[새콤함, 상큼함, 청량감, 건강함, 독특함, 상큼한 열대 과일 향, 자연스러운 산미, 새콤달콤한 조화, 활기찬 풍미]', '[새콤함, 상큼함, 과일향, 청량감, 활기참, 신선한 과즙, 상큼한 산미, 새콤달콤, 기분 좋은 쌉쌀함]', '[과일향, 진한 커피맛, 상큼함, 깔끔함, 이색적, 상큼한 시트러스, 진한 커피 풍미, 자연스러운 산미, 청량감, 세련된 조화]', '[새콤달콤, 부드러움, 촉촉함, 신선한 라즈베리, 클래식 디저트, 상큼한 풍미, 만족감, 화려함, 고급스러움, 생동감]', '[새콤달콤, 부드러움, 크리미함, 촉촉한 질감, 건강한 디저트, 클래식함, 신선함, 만족스러운, 상큼함, 가벼운]', '[새콤달콤, 부드러움, 크리미함, 신선한 라즈베리, 촉촉함, 클래식 디저트, 상큼함, 고급스러움, 만족감, 화사함]', '[상큼함, 따뜻함, 깔끔함, 건강함, 리프레시, 상큼한 시트러스, 은은한 달콤함, 건강감, 청량한 여운]'], 'recommanded': ['요거트 플랫치노', '파인애플 주스', '애플 티', '깔라만시 스무디', '자몽 주스', '오렌지 콜드브루', '라즈베리 케이크', '요거트 크림 케이크', '라즈베리 푸딩', '레몬 티'], 'keyword': '상큼한', 'message': '데이터 전송 완료', 'status': 'success'}\n"
     ]
    },
    {
     "name": "stderr",
     "output_type": "stream",
     "text": [
      "127.0.0.1 - - [06/Jan/2025 16:19:26] \"OPTIONS /send-coordinates HTTP/1.1\" 200 -\n",
      "127.0.0.1 - - [06/Jan/2025 16:19:26] \"POST /send-coordinates HTTP/1.1\" 200 -\n"
     ]
    },
    {
     "name": "stdout",
     "output_type": "stream",
     "text": [
      "2650010400\n"
     ]
    },
    {
     "name": "stderr",
     "output_type": "stream",
     "text": [
      "127.0.0.1 - - [06/Jan/2025 16:19:32] \"POST /analyze-keyword HTTP/1.1\" 200 -\n"
     ]
    },
    {
     "name": "stdout",
     "output_type": "stream",
     "text": [
      "Payload to be sent: {'status': 'success', 'keyword': '상큼한', 'recommanded': ['요거트 플랫치노', '파인애플 주스', '애플 티', '깔라만시 스무디', '자몽 주스', '오렌지 콜드브루', '라즈베리 케이크', '요거트 크림 케이크', '라즈베리 푸딩', '레몬 티'], 'menuInfo': ['[건강함, 상큼함, 부드러움, 새콤달콤, 크리미함, 상큼한 요거트, 부드러운 텍스처, 새콤달콤한 풍미, 활기참]', '[이국적, 상큼함, 과일향, 청량감, 활기참, 열대 과일의 상큼함, 달콤한 풍미, 신선한 질감, 자연스러운 여운]', '[따뜻함, 상큼함, 과일향, 건강함, 여유, 상큼한 사과 향, 은은한 달콤함, 가벼운 산미, 편안한 마무리]', '[새콤함, 상큼함, 청량감, 건강함, 독특함, 상큼한 열대 과일 향, 자연스러운 산미, 새콤달콤한 조화, 활기찬 풍미]', '[새콤함, 상큼함, 과일향, 청량감, 활기참, 신선한 과즙, 상큼한 산미, 새콤달콤, 기분 좋은 쌉쌀함]', '[과일향, 진한 커피맛, 상큼함, 깔끔함, 이색적, 상큼한 시트러스, 진한 커피 풍미, 자연스러운 산미, 청량감, 세련된 조화]', '[새콤달콤, 부드러움, 촉촉함, 신선한 라즈베리, 클래식 디저트, 상큼한 풍미, 만족감, 화려함, 고급스러움, 생동감]', '[새콤달콤, 부드러움, 크리미함, 촉촉한 질감, 건강한 디저트, 클래식함, 신선함, 만족스러운, 상큼함, 가벼운]', '[새콤달콤, 부드러움, 크리미함, 신선한 라즈베리, 촉촉함, 클래식 디저트, 상큼함, 고급스러움, 만족감, 화사함]', '[상큼함, 따뜻함, 깔끔함, 건강함, 리프레시, 상큼한 시트러스, 은은한 달콤함, 건강감, 청량한 여운]'], 'menuIngred': [\"[ '그릭 요거트', '우유', '얼음', '휘핑크림', '꿀']\", \"[ '파인애플', '설탕', '레몬', '얼음']\", \"[ '사과', '홍차', '설탕', '물', '레몬 (옵션)', '시나몬 스틱 (옵션)']\", \"[ '깔라만시', '얼음', '설탕', '요거트', '레몬즙', '물']\", \"[ '자몽', '설탕 (옵션)', '물', '얼음']\", \"[ '콜드브루 커피', '오렌지 주스', '얼음', '오렌지 슬라이스']\", \"[ '라즈베리, 밀가루, 설탕, 버터, 달걀, 생크림, 베이킹 파우더, 바닐라 추출물']\", \"[ '케이크 시트, 요거트, 생크림, 설탕, 젤라틴, 바닐라 익스트랙트, 레몬즙']\", \"[ '라즈베리', '우유', '설탕', '젤라틴', '크림', '바닐라', '소금']\", \"[ '홍차', '레몬', '설탕', '꿀']\"]}\n",
      "200\n",
      "{'menuIngred': [\"[ '그릭 요거트', '우유', '얼음', '휘핑크림', '꿀']\", \"[ '파인애플', '설탕', '레몬', '얼음']\", \"[ '사과', '홍차', '설탕', '물', '레몬 (옵션)', '시나몬 스틱 (옵션)']\", \"[ '깔라만시', '얼음', '설탕', '요거트', '레몬즙', '물']\", \"[ '자몽', '설탕 (옵션)', '물', '얼음']\", \"[ '콜드브루 커피', '오렌지 주스', '얼음', '오렌지 슬라이스']\", \"[ '라즈베리, 밀가루, 설탕, 버터, 달걀, 생크림, 베이킹 파우더, 바닐라 추출물']\", \"[ '케이크 시트, 요거트, 생크림, 설탕, 젤라틴, 바닐라 익스트랙트, 레몬즙']\", \"[ '라즈베리', '우유', '설탕', '젤라틴', '크림', '바닐라', '소금']\", \"[ '홍차', '레몬', '설탕', '꿀']\"], 'menuInfo': ['[건강함, 상큼함, 부드러움, 새콤달콤, 크리미함, 상큼한 요거트, 부드러운 텍스처, 새콤달콤한 풍미, 활기참]', '[이국적, 상큼함, 과일향, 청량감, 활기참, 열대 과일의 상큼함, 달콤한 풍미, 신선한 질감, 자연스러운 여운]', '[따뜻함, 상큼함, 과일향, 건강함, 여유, 상큼한 사과 향, 은은한 달콤함, 가벼운 산미, 편안한 마무리]', '[새콤함, 상큼함, 청량감, 건강함, 독특함, 상큼한 열대 과일 향, 자연스러운 산미, 새콤달콤한 조화, 활기찬 풍미]', '[새콤함, 상큼함, 과일향, 청량감, 활기참, 신선한 과즙, 상큼한 산미, 새콤달콤, 기분 좋은 쌉쌀함]', '[과일향, 진한 커피맛, 상큼함, 깔끔함, 이색적, 상큼한 시트러스, 진한 커피 풍미, 자연스러운 산미, 청량감, 세련된 조화]', '[새콤달콤, 부드러움, 촉촉함, 신선한 라즈베리, 클래식 디저트, 상큼한 풍미, 만족감, 화려함, 고급스러움, 생동감]', '[새콤달콤, 부드러움, 크리미함, 촉촉한 질감, 건강한 디저트, 클래식함, 신선함, 만족스러운, 상큼함, 가벼운]', '[새콤달콤, 부드러움, 크리미함, 신선한 라즈베리, 촉촉함, 클래식 디저트, 상큼함, 고급스러움, 만족감, 화사함]', '[상큼함, 따뜻함, 깔끔함, 건강함, 리프레시, 상큼한 시트러스, 은은한 달콤함, 건강감, 청량한 여운]'], 'recommanded': ['요거트 플랫치노', '파인애플 주스', '애플 티', '깔라만시 스무디', '자몽 주스', '오렌지 콜드브루', '라즈베리 케이크', '요거트 크림 케이크', '라즈베리 푸딩', '레몬 티'], 'keyword': '상큼한', 'message': '데이터 전송 완료', 'status': 'success'}\n"
     ]
    },
    {
     "name": "stderr",
     "output_type": "stream",
     "text": [
      "127.0.0.1 - - [06/Jan/2025 16:20:03] \"POST /analyze-keyword HTTP/1.1\" 200 -\n"
     ]
    },
    {
     "name": "stdout",
     "output_type": "stream",
     "text": [
      "Payload to be sent: {'status': 'success', 'keyword': '상큼한', 'recommanded': ['요거트 플랫치노', '파인애플 주스', '애플 티', '깔라만시 스무디', '자몽 주스', '오렌지 콜드브루', '라즈베리 케이크', '요거트 크림 케이크', '라즈베리 푸딩', '레몬 티'], 'menuInfo': ['[건강함, 상큼함, 부드러움, 새콤달콤, 크리미함, 상큼한 요거트, 부드러운 텍스처, 새콤달콤한 풍미, 활기참]', '[이국적, 상큼함, 과일향, 청량감, 활기참, 열대 과일의 상큼함, 달콤한 풍미, 신선한 질감, 자연스러운 여운]', '[따뜻함, 상큼함, 과일향, 건강함, 여유, 상큼한 사과 향, 은은한 달콤함, 가벼운 산미, 편안한 마무리]', '[새콤함, 상큼함, 청량감, 건강함, 독특함, 상큼한 열대 과일 향, 자연스러운 산미, 새콤달콤한 조화, 활기찬 풍미]', '[새콤함, 상큼함, 과일향, 청량감, 활기참, 신선한 과즙, 상큼한 산미, 새콤달콤, 기분 좋은 쌉쌀함]', '[과일향, 진한 커피맛, 상큼함, 깔끔함, 이색적, 상큼한 시트러스, 진한 커피 풍미, 자연스러운 산미, 청량감, 세련된 조화]', '[새콤달콤, 부드러움, 촉촉함, 신선한 라즈베리, 클래식 디저트, 상큼한 풍미, 만족감, 화려함, 고급스러움, 생동감]', '[새콤달콤, 부드러움, 크리미함, 촉촉한 질감, 건강한 디저트, 클래식함, 신선함, 만족스러운, 상큼함, 가벼운]', '[새콤달콤, 부드러움, 크리미함, 신선한 라즈베리, 촉촉함, 클래식 디저트, 상큼함, 고급스러움, 만족감, 화사함]', '[상큼함, 따뜻함, 깔끔함, 건강함, 리프레시, 상큼한 시트러스, 은은한 달콤함, 건강감, 청량한 여운]'], 'menuIngred': [\"[ '그릭 요거트', '우유', '얼음', '휘핑크림', '꿀']\", \"[ '파인애플', '설탕', '레몬', '얼음']\", \"[ '사과', '홍차', '설탕', '물', '레몬 (옵션)', '시나몬 스틱 (옵션)']\", \"[ '깔라만시', '얼음', '설탕', '요거트', '레몬즙', '물']\", \"[ '자몽', '설탕 (옵션)', '물', '얼음']\", \"[ '콜드브루 커피', '오렌지 주스', '얼음', '오렌지 슬라이스']\", \"[ '라즈베리, 밀가루, 설탕, 버터, 달걀, 생크림, 베이킹 파우더, 바닐라 추출물']\", \"[ '케이크 시트, 요거트, 생크림, 설탕, 젤라틴, 바닐라 익스트랙트, 레몬즙']\", \"[ '라즈베리', '우유', '설탕', '젤라틴', '크림', '바닐라', '소금']\", \"[ '홍차', '레몬', '설탕', '꿀']\"]}\n",
      "200\n",
      "{'menuIngred': [\"[ '그릭 요거트', '우유', '얼음', '휘핑크림', '꿀']\", \"[ '파인애플', '설탕', '레몬', '얼음']\", \"[ '사과', '홍차', '설탕', '물', '레몬 (옵션)', '시나몬 스틱 (옵션)']\", \"[ '깔라만시', '얼음', '설탕', '요거트', '레몬즙', '물']\", \"[ '자몽', '설탕 (옵션)', '물', '얼음']\", \"[ '콜드브루 커피', '오렌지 주스', '얼음', '오렌지 슬라이스']\", \"[ '라즈베리, 밀가루, 설탕, 버터, 달걀, 생크림, 베이킹 파우더, 바닐라 추출물']\", \"[ '케이크 시트, 요거트, 생크림, 설탕, 젤라틴, 바닐라 익스트랙트, 레몬즙']\", \"[ '라즈베리', '우유', '설탕', '젤라틴', '크림', '바닐라', '소금']\", \"[ '홍차', '레몬', '설탕', '꿀']\"], 'menuInfo': ['[건강함, 상큼함, 부드러움, 새콤달콤, 크리미함, 상큼한 요거트, 부드러운 텍스처, 새콤달콤한 풍미, 활기참]', '[이국적, 상큼함, 과일향, 청량감, 활기참, 열대 과일의 상큼함, 달콤한 풍미, 신선한 질감, 자연스러운 여운]', '[따뜻함, 상큼함, 과일향, 건강함, 여유, 상큼한 사과 향, 은은한 달콤함, 가벼운 산미, 편안한 마무리]', '[새콤함, 상큼함, 청량감, 건강함, 독특함, 상큼한 열대 과일 향, 자연스러운 산미, 새콤달콤한 조화, 활기찬 풍미]', '[새콤함, 상큼함, 과일향, 청량감, 활기참, 신선한 과즙, 상큼한 산미, 새콤달콤, 기분 좋은 쌉쌀함]', '[과일향, 진한 커피맛, 상큼함, 깔끔함, 이색적, 상큼한 시트러스, 진한 커피 풍미, 자연스러운 산미, 청량감, 세련된 조화]', '[새콤달콤, 부드러움, 촉촉함, 신선한 라즈베리, 클래식 디저트, 상큼한 풍미, 만족감, 화려함, 고급스러움, 생동감]', '[새콤달콤, 부드러움, 크리미함, 촉촉한 질감, 건강한 디저트, 클래식함, 신선함, 만족스러운, 상큼함, 가벼운]', '[새콤달콤, 부드러움, 크리미함, 신선한 라즈베리, 촉촉함, 클래식 디저트, 상큼함, 고급스러움, 만족감, 화사함]', '[상큼함, 따뜻함, 깔끔함, 건강함, 리프레시, 상큼한 시트러스, 은은한 달콤함, 건강감, 청량한 여운]'], 'recommanded': ['요거트 플랫치노', '파인애플 주스', '애플 티', '깔라만시 스무디', '자몽 주스', '오렌지 콜드브루', '라즈베리 케이크', '요거트 크림 케이크', '라즈베리 푸딩', '레몬 티'], 'keyword': '상큼한', 'message': '데이터 전송 완료', 'status': 'success'}\n"
     ]
    },
    {
     "name": "stderr",
     "output_type": "stream",
     "text": [
      "127.0.0.1 - - [06/Jan/2025 16:20:54] \"POST /analyze-keyword HTTP/1.1\" 200 -\n"
     ]
    },
    {
     "name": "stdout",
     "output_type": "stream",
     "text": [
      "Payload to be sent: {'status': 'success', 'keyword': '상큼한', 'recommanded': ['요거트 플랫치노', '파인애플 주스', '애플 티', '깔라만시 스무디', '자몽 주스', '오렌지 콜드브루', '라즈베리 케이크', '요거트 크림 케이크', '라즈베리 푸딩', '레몬 티'], 'menuInfo': ['[건강함, 상큼함, 부드러움, 새콤달콤, 크리미함, 상큼한 요거트, 부드러운 텍스처, 새콤달콤한 풍미, 활기참]', '[이국적, 상큼함, 과일향, 청량감, 활기참, 열대 과일의 상큼함, 달콤한 풍미, 신선한 질감, 자연스러운 여운]', '[따뜻함, 상큼함, 과일향, 건강함, 여유, 상큼한 사과 향, 은은한 달콤함, 가벼운 산미, 편안한 마무리]', '[새콤함, 상큼함, 청량감, 건강함, 독특함, 상큼한 열대 과일 향, 자연스러운 산미, 새콤달콤한 조화, 활기찬 풍미]', '[새콤함, 상큼함, 과일향, 청량감, 활기참, 신선한 과즙, 상큼한 산미, 새콤달콤, 기분 좋은 쌉쌀함]', '[과일향, 진한 커피맛, 상큼함, 깔끔함, 이색적, 상큼한 시트러스, 진한 커피 풍미, 자연스러운 산미, 청량감, 세련된 조화]', '[새콤달콤, 부드러움, 촉촉함, 신선한 라즈베리, 클래식 디저트, 상큼한 풍미, 만족감, 화려함, 고급스러움, 생동감]', '[새콤달콤, 부드러움, 크리미함, 촉촉한 질감, 건강한 디저트, 클래식함, 신선함, 만족스러운, 상큼함, 가벼운]', '[새콤달콤, 부드러움, 크리미함, 신선한 라즈베리, 촉촉함, 클래식 디저트, 상큼함, 고급스러움, 만족감, 화사함]', '[상큼함, 따뜻함, 깔끔함, 건강함, 리프레시, 상큼한 시트러스, 은은한 달콤함, 건강감, 청량한 여운]'], 'menuIngred': [\"[ '그릭 요거트', '우유', '얼음', '휘핑크림', '꿀']\", \"[ '파인애플', '설탕', '레몬', '얼음']\", \"[ '사과', '홍차', '설탕', '물', '레몬 (옵션)', '시나몬 스틱 (옵션)']\", \"[ '깔라만시', '얼음', '설탕', '요거트', '레몬즙', '물']\", \"[ '자몽', '설탕 (옵션)', '물', '얼음']\", \"[ '콜드브루 커피', '오렌지 주스', '얼음', '오렌지 슬라이스']\", \"[ '라즈베리, 밀가루, 설탕, 버터, 달걀, 생크림, 베이킹 파우더, 바닐라 추출물']\", \"[ '케이크 시트, 요거트, 생크림, 설탕, 젤라틴, 바닐라 익스트랙트, 레몬즙']\", \"[ '라즈베리', '우유', '설탕', '젤라틴', '크림', '바닐라', '소금']\", \"[ '홍차', '레몬', '설탕', '꿀']\"]}\n",
      "200\n",
      "{'menuIngred': [\"[ '그릭 요거트', '우유', '얼음', '휘핑크림', '꿀']\", \"[ '파인애플', '설탕', '레몬', '얼음']\", \"[ '사과', '홍차', '설탕', '물', '레몬 (옵션)', '시나몬 스틱 (옵션)']\", \"[ '깔라만시', '얼음', '설탕', '요거트', '레몬즙', '물']\", \"[ '자몽', '설탕 (옵션)', '물', '얼음']\", \"[ '콜드브루 커피', '오렌지 주스', '얼음', '오렌지 슬라이스']\", \"[ '라즈베리, 밀가루, 설탕, 버터, 달걀, 생크림, 베이킹 파우더, 바닐라 추출물']\", \"[ '케이크 시트, 요거트, 생크림, 설탕, 젤라틴, 바닐라 익스트랙트, 레몬즙']\", \"[ '라즈베리', '우유', '설탕', '젤라틴', '크림', '바닐라', '소금']\", \"[ '홍차', '레몬', '설탕', '꿀']\"], 'menuInfo': ['[건강함, 상큼함, 부드러움, 새콤달콤, 크리미함, 상큼한 요거트, 부드러운 텍스처, 새콤달콤한 풍미, 활기참]', '[이국적, 상큼함, 과일향, 청량감, 활기참, 열대 과일의 상큼함, 달콤한 풍미, 신선한 질감, 자연스러운 여운]', '[따뜻함, 상큼함, 과일향, 건강함, 여유, 상큼한 사과 향, 은은한 달콤함, 가벼운 산미, 편안한 마무리]', '[새콤함, 상큼함, 청량감, 건강함, 독특함, 상큼한 열대 과일 향, 자연스러운 산미, 새콤달콤한 조화, 활기찬 풍미]', '[새콤함, 상큼함, 과일향, 청량감, 활기참, 신선한 과즙, 상큼한 산미, 새콤달콤, 기분 좋은 쌉쌀함]', '[과일향, 진한 커피맛, 상큼함, 깔끔함, 이색적, 상큼한 시트러스, 진한 커피 풍미, 자연스러운 산미, 청량감, 세련된 조화]', '[새콤달콤, 부드러움, 촉촉함, 신선한 라즈베리, 클래식 디저트, 상큼한 풍미, 만족감, 화려함, 고급스러움, 생동감]', '[새콤달콤, 부드러움, 크리미함, 촉촉한 질감, 건강한 디저트, 클래식함, 신선함, 만족스러운, 상큼함, 가벼운]', '[새콤달콤, 부드러움, 크리미함, 신선한 라즈베리, 촉촉함, 클래식 디저트, 상큼함, 고급스러움, 만족감, 화사함]', '[상큼함, 따뜻함, 깔끔함, 건강함, 리프레시, 상큼한 시트러스, 은은한 달콤함, 건강감, 청량한 여운]'], 'recommanded': ['요거트 플랫치노', '파인애플 주스', '애플 티', '깔라만시 스무디', '자몽 주스', '오렌지 콜드브루', '라즈베리 케이크', '요거트 크림 케이크', '라즈베리 푸딩', '레몬 티'], 'keyword': '상큼한', 'message': '데이터 전송 완료', 'status': 'success'}\n"
     ]
    },
    {
     "name": "stderr",
     "output_type": "stream",
     "text": [
      "127.0.0.1 - - [06/Jan/2025 16:21:17] \"POST /analyze-keyword HTTP/1.1\" 200 -\n"
     ]
    },
    {
     "name": "stdout",
     "output_type": "stream",
     "text": [
      "Payload to be sent: {'status': 'success', 'keyword': '상큼한', 'recommanded': ['요거트 플랫치노', '파인애플 주스', '애플 티', '깔라만시 스무디', '자몽 주스', '오렌지 콜드브루', '라즈베리 케이크', '요거트 크림 케이크', '라즈베리 푸딩', '레몬 티'], 'menuInfo': ['[건강함, 상큼함, 부드러움, 새콤달콤, 크리미함, 상큼한 요거트, 부드러운 텍스처, 새콤달콤한 풍미, 활기참]', '[이국적, 상큼함, 과일향, 청량감, 활기참, 열대 과일의 상큼함, 달콤한 풍미, 신선한 질감, 자연스러운 여운]', '[따뜻함, 상큼함, 과일향, 건강함, 여유, 상큼한 사과 향, 은은한 달콤함, 가벼운 산미, 편안한 마무리]', '[새콤함, 상큼함, 청량감, 건강함, 독특함, 상큼한 열대 과일 향, 자연스러운 산미, 새콤달콤한 조화, 활기찬 풍미]', '[새콤함, 상큼함, 과일향, 청량감, 활기참, 신선한 과즙, 상큼한 산미, 새콤달콤, 기분 좋은 쌉쌀함]', '[과일향, 진한 커피맛, 상큼함, 깔끔함, 이색적, 상큼한 시트러스, 진한 커피 풍미, 자연스러운 산미, 청량감, 세련된 조화]', '[새콤달콤, 부드러움, 촉촉함, 신선한 라즈베리, 클래식 디저트, 상큼한 풍미, 만족감, 화려함, 고급스러움, 생동감]', '[새콤달콤, 부드러움, 크리미함, 촉촉한 질감, 건강한 디저트, 클래식함, 신선함, 만족스러운, 상큼함, 가벼운]', '[새콤달콤, 부드러움, 크리미함, 신선한 라즈베리, 촉촉함, 클래식 디저트, 상큼함, 고급스러움, 만족감, 화사함]', '[상큼함, 따뜻함, 깔끔함, 건강함, 리프레시, 상큼한 시트러스, 은은한 달콤함, 건강감, 청량한 여운]'], 'menuIngred': [\"[ '그릭 요거트', '우유', '얼음', '휘핑크림', '꿀']\", \"[ '파인애플', '설탕', '레몬', '얼음']\", \"[ '사과', '홍차', '설탕', '물', '레몬 (옵션)', '시나몬 스틱 (옵션)']\", \"[ '깔라만시', '얼음', '설탕', '요거트', '레몬즙', '물']\", \"[ '자몽', '설탕 (옵션)', '물', '얼음']\", \"[ '콜드브루 커피', '오렌지 주스', '얼음', '오렌지 슬라이스']\", \"[ '라즈베리, 밀가루, 설탕, 버터, 달걀, 생크림, 베이킹 파우더, 바닐라 추출물']\", \"[ '케이크 시트, 요거트, 생크림, 설탕, 젤라틴, 바닐라 익스트랙트, 레몬즙']\", \"[ '라즈베리', '우유', '설탕', '젤라틴', '크림', '바닐라', '소금']\", \"[ '홍차', '레몬', '설탕', '꿀']\"]}\n",
      "200\n",
      "{'menuIngred': [\"[ '그릭 요거트', '우유', '얼음', '휘핑크림', '꿀']\", \"[ '파인애플', '설탕', '레몬', '얼음']\", \"[ '사과', '홍차', '설탕', '물', '레몬 (옵션)', '시나몬 스틱 (옵션)']\", \"[ '깔라만시', '얼음', '설탕', '요거트', '레몬즙', '물']\", \"[ '자몽', '설탕 (옵션)', '물', '얼음']\", \"[ '콜드브루 커피', '오렌지 주스', '얼음', '오렌지 슬라이스']\", \"[ '라즈베리, 밀가루, 설탕, 버터, 달걀, 생크림, 베이킹 파우더, 바닐라 추출물']\", \"[ '케이크 시트, 요거트, 생크림, 설탕, 젤라틴, 바닐라 익스트랙트, 레몬즙']\", \"[ '라즈베리', '우유', '설탕', '젤라틴', '크림', '바닐라', '소금']\", \"[ '홍차', '레몬', '설탕', '꿀']\"], 'menuInfo': ['[건강함, 상큼함, 부드러움, 새콤달콤, 크리미함, 상큼한 요거트, 부드러운 텍스처, 새콤달콤한 풍미, 활기참]', '[이국적, 상큼함, 과일향, 청량감, 활기참, 열대 과일의 상큼함, 달콤한 풍미, 신선한 질감, 자연스러운 여운]', '[따뜻함, 상큼함, 과일향, 건강함, 여유, 상큼한 사과 향, 은은한 달콤함, 가벼운 산미, 편안한 마무리]', '[새콤함, 상큼함, 청량감, 건강함, 독특함, 상큼한 열대 과일 향, 자연스러운 산미, 새콤달콤한 조화, 활기찬 풍미]', '[새콤함, 상큼함, 과일향, 청량감, 활기참, 신선한 과즙, 상큼한 산미, 새콤달콤, 기분 좋은 쌉쌀함]', '[과일향, 진한 커피맛, 상큼함, 깔끔함, 이색적, 상큼한 시트러스, 진한 커피 풍미, 자연스러운 산미, 청량감, 세련된 조화]', '[새콤달콤, 부드러움, 촉촉함, 신선한 라즈베리, 클래식 디저트, 상큼한 풍미, 만족감, 화려함, 고급스러움, 생동감]', '[새콤달콤, 부드러움, 크리미함, 촉촉한 질감, 건강한 디저트, 클래식함, 신선함, 만족스러운, 상큼함, 가벼운]', '[새콤달콤, 부드러움, 크리미함, 신선한 라즈베리, 촉촉함, 클래식 디저트, 상큼함, 고급스러움, 만족감, 화사함]', '[상큼함, 따뜻함, 깔끔함, 건강함, 리프레시, 상큼한 시트러스, 은은한 달콤함, 건강감, 청량한 여운]'], 'recommanded': ['요거트 플랫치노', '파인애플 주스', '애플 티', '깔라만시 스무디', '자몽 주스', '오렌지 콜드브루', '라즈베리 케이크', '요거트 크림 케이크', '라즈베리 푸딩', '레몬 티'], 'keyword': '상큼한', 'message': '데이터 전송 완료', 'status': 'success'}\n"
     ]
    }
   ],
   "source": [
    "app = Flask(__name__)\n",
    "CORS(app)  # 모든 도메인에서의 요청 허용\n",
    "\n",
    "# CORS(app, resources={r\"/api/*\": {\"origins\": \"http://localhost:8087\"}})\n",
    "# REST API key\n",
    "KAKAO_API_KEY = \"015412fbc48c3a4e31b1926b6adb667e\"\n",
    "\n",
    "\n",
    "# 스프링 부트로부터 사용자가 클릭한 좌표 정보를 전달받아 동을 찾은 후 분석하고 전송\n",
    "@app.route('/send-coordinates', methods=['POST'])\n",
    "def receive_coordinates():\n",
    "    # 클라이언트로부터 받은 데이터(현 위치 위도, 경도)\n",
    "    data = request.get_json()\n",
    "    latitude = data.get('latitude')\n",
    "    longitude = data.get('longitude')\n",
    "    \n",
    "    url = f\"https://dapi.kakao.com/v2/local/geo/coord2address.json?x={longitude}&y={latitude}\"\n",
    "    headers = {\"Authorization\" : f\"KakaoAK {KAKAO_API_KEY}\"}\n",
    "    \n",
    "    response = requests.get(url, headers=headers)\n",
    "    \n",
    "    dong_number = get_dong_number(latitude, longitude)\n",
    "    if(dong_number == None):\n",
    "        return jsonify({\"status\" : \"error\", \"message\" : \"현재 지역의 법정동 번호를 찾을 수 없습니다.\"})\n",
    "    \n",
    "    \n",
    "    # 유사 상권의 법정동 번호\n",
    "    similar_dongs = yusa_dong(clustered_dong, dong_number)\n",
    "    \n",
    "    dong_names = [\" \".join(clustered_dong[clustered_dong[\"법정동 번호(PK)\"]==dong_pk][[\"지역\", \"동 이름\"]].values[0]) for dong_pk in similar_dongs]\n",
    "    # 스트링 부트로 전달\n",
    "    spring_response = similar_dong_send_to_spring(similar_dongs)\n",
    "    # 전송 결과 확인\n",
    "    if(spring_response.get(\"status\")==\"success\"):\n",
    "        return jsonify({\"status\":\"success\",\n",
    "                        \"similarDongs\":dong_names,\n",
    "                        \"similarDongsNum\":similar_dongs,\n",
    "                        \"message\": \"flask successed\"\n",
    "                       })\n",
    "    else:\n",
    "        return jsonify({\n",
    "            \"status\" : \"error\",\n",
    "            \"similarDongs\" : \"\",\n",
    "            \"similarDongsNum\":\"\",\n",
    "            \"message\" : spring_response.get(\"error\")\n",
    "        })\n",
    "\n",
    "\n",
    "# 유사 상권 탐색 2. 스프링으로부터 동을 전달받아 유사한 동 분석\n",
    "@app.route(\"/yusa-dong-search\", methods=[\"POST\"])\n",
    "def receive_dong():\n",
    "    data = request.get_json()\n",
    "    input_data = data.get(\"dong\").strip()\n",
    "    dong = \"-1\"\n",
    "    region = \"-1\"\n",
    "    print(input_data)\n",
    "    yusa_dong_list = []\n",
    "    \n",
    "    if(len(input_data.split(\" \"))>1):\n",
    "        dong = input_data.split(\" \")[-1]\n",
    "        region = input_data.split(\" \")[0]\n",
    "    else:\n",
    "        dong = input_data\n",
    "    \n",
    "    if(dong not in list(clustered_dong[\"동 이름\"])):\n",
    "        yusa_dong_list.append(\"죄송합니다. 현재 해당하는 동에 대한 데이터는 수집 중입니다.\")\n",
    "        spring_response = search_sanggueon_gongtong(menu_data, [], input_data,yusa_dong_list,0,0)\n",
    "        if(spring_response.get(\"status\")==\"success\"):\n",
    "            return jsonify({\"status\":\"success\",\n",
    "                           \"dong\":\"잘못된 입력\",\n",
    "                           \"message\":\"전송은 성공했지만, 분석은 실패\"})\n",
    "        else:\n",
    "            return jsonify({\"status\":\"error\",\n",
    "                           \"message\":spring_response.get(\"error\")})\n",
    "        \n",
    "    else:\n",
    "        # 혹시 지역까지 입력해주면 더 확실하게 동을 찾아 줄 수 있음(동 이름이 겹치는 경우가 많음...)\n",
    "        if(clustered_dong[\"지역\"].str.contains(region).sum()>0):\n",
    "            region_data = clustered_dong[clustered_dong[\"지역\"].str.contains(region)]\n",
    "            dong_data = region_data[region_data[\"동 이름\"]==dong]\n",
    "        else:\n",
    "            dong_data = clustered_dong[clustered_dong[\"동 이름\"]==dong]\n",
    "    \n",
    "        dong_pk = int(dong_data[\"법정동 번호(PK)\"].values[0])\n",
    "        yusa_dong_number = yusa_dong(clustered_dong, dong_pk)\n",
    "        \n",
    "        for i in range(len(yusa_dong_number)):\n",
    "            yusa_dong_data=clustered_dong[clustered_dong[\"법정동 번호(PK)\"]==yusa_dong_number[i]]\n",
    "            yusa_dong_name=yusa_dong_data[\"동 이름\"].values[0]\n",
    "            print(yusa_dong_name)\n",
    "            gongtong_menus, dong_gongtong_cnt, yusa_dong_gongtong_cnt = yusasang_gongtong(cafe_menu_data, dong, yusa_dong_name)\n",
    "            spring_response_gongtong = search_sanggueon_gongtong(menu_data, gongtong_menus,dong, yusa_dong_name, dong_gongtong_cnt, yusa_dong_gongtong_cnt)\n",
    "            \n",
    "            if(spring_response_gongtong.get(\"status\")!=\"success\"):\n",
    "                return jsonify({\"status\":\"error\",\n",
    "                               \"dong\":yusa_dong_name,\n",
    "                               \"message\":spring_response_gongtong.get(\"error\")})\n",
    "            \n",
    "            only_menus, dong_only_cnt, yusa_dong_only_cnt = yusasang_only(cafe_menu_data, dong, yusa_dong_name)\n",
    "            spring_response_only = search_sanggueon_only(menu_data, only_menus, dong, yusa_dong_name, dong_only_cnt, yusa_dong_only_cnt)\n",
    "            \n",
    "            if(spring_response_only.get(\"status\")!=\"success\"):\n",
    "                return jsonify({\"status\":\"error\",\n",
    "                               \"dong\":yusa_dong_name,\n",
    "                               \"message\":spring_response_only.get(\"error\")})\n",
    "        \n",
    "        return jsonify({\"status\":\"success\",\n",
    "                       \"dong\":dong})\n",
    "        \n",
    "    \n",
    "\n",
    "# 스프링 부트로부터 키워드 전달받아 분석\n",
    "@app.route(\"/analyze-keyword\", methods=[\"POST\"])\n",
    "def analyze_keyword():\n",
    "    # 요청 본문 데이터 확인 : 키워드\n",
    "    data = request.get_json()\n",
    "    keyword = data.get(\"keyword\", \"\")\n",
    "    recommanded = input_simil(menu_data, keyword)  # 추천 메뉴 리스트\n",
    "\n",
    "    # 스프링 서버로 요청 보내기\n",
    "    spring_response = keyword_menu_send_to_spring(menu_data, keyword, recommanded)\n",
    "\n",
    "    # 스프링 응답 확인\n",
    "    if spring_response.get(\"status\") == \"success\":\n",
    "        return jsonify({\n",
    "            \"status\": \"success\",\n",
    "            \"keyword\": spring_response.get(\"keyword\"),\n",
    "            \"recommanded\": spring_response.get(\"recommanded\"),\n",
    "            \"menuInfo\": spring_response.get(\"menuInfo\"),\n",
    "            \"menuIngred\": spring_response.get(\"menuIngred\")\n",
    "        })\n",
    "    else:\n",
    "        return jsonify({\n",
    "            \"status\": \"error\",\n",
    "            \"keyword\": keyword,\n",
    "            \"message\": spring_response.get(\"error\")\n",
    "        })\n",
    "\n",
    "# 스프링 부트로부터 메뉴 전달받아 분석\n",
    "# 스프링 부트로부터 메뉴 전달받아 분석\n",
    "@app.route(\"/analyze-menu\", methods=[\"POST\"])\n",
    "def analyze_menu():\n",
    "    # 요청 데이터 확인 : 메뉴\n",
    "    data = request.get_json()\n",
    "    menu_name = data.get(\"menu\",\"\")\n",
    "    print(menu_name)\n",
    "    similar_menus = ingred_sim(menu_data, menu_name)\n",
    "    \n",
    "    spring_response = similar_menu_recommanded(menu_data, similar_menus, menu_name)\n",
    "#     print(spring_response[\"similarMenus\"])\n",
    "    if(spring_response.get(\"status\")==\"success\"):\n",
    "        return jsonify(spring_response)\n",
    "    else:\n",
    "        return jsonify({\"status\":\"error\",\n",
    "                       \"message\":spring_response.get(\"error\")})\n",
    "\n",
    "@app.route(\"/sanggueon-gongtong\", methods=[\"POST\"])\n",
    "def sanggueon_gongtong():\n",
    "    data = request.get_json()\n",
    "    sang1 = data.get(\"sang1\", \"\")\n",
    "    sang2 = data.get(\"sang2\", \"\")\n",
    "    no_data_dong = []\n",
    "    \n",
    "    # 공통 메뉴와 카운트 계산\n",
    "    gongtong_menus, sang1_cnt, sang2_cnt = yusasang_gongtong(cafe_menu_data, sang1, sang2)\n",
    "    print(gongtong_menus)\n",
    "    \n",
    "    # 공통 상권 검색\n",
    "    spring_response = search_sanggueon_gongtong(menu_data, gongtong_menus, sang1, sang2, sang1_cnt, sang2_cnt)\n",
    "    print(f\"Spring Response: {spring_response}\")  # 디버깅용\n",
    "    \n",
    "    no_data_dong=[dong for dong in [sang1, sang2] if dong not in list(cafe_menu_data[\"dong\"])]\n",
    "\n",
    "    # spring_response가 dict이므로 json() 호출 불필요\n",
    "    if spring_response.get(\"status\") == \"success\":\n",
    "        return jsonify({\n",
    "        \"status\": \"success\",\n",
    "        \"gongtongMenus\": spring_response.get(\"gontongMenus\"),\n",
    "        \"menuIngred\": spring_response.get(\"menuIngred\"),\n",
    "        \"menuInfo\": spring_response.get(\"menuInfo\"),\n",
    "        \"sang1\": spring_response.get(\"sang1\"),\n",
    "        \"sang2\": spring_response.get(\"sang2\"),\n",
    "        \"sang1MenuCnt\": spring_response.get(\"sang1MenuCnt\"),\n",
    "        \"sang2MenuCnt\": spring_response.get(\"sang2MenuCnt\"),\n",
    "        \"noDataDong\" : no_data_dong,\n",
    "        \"message\": spring_response.get(\"message\", \"No message provided\")\n",
    "        })\n",
    "    else:\n",
    "        return jsonify({\n",
    "            \"status\": \"error\",\n",
    "            \"message\": spring_response.get(\"error\")\n",
    "        })\n",
    "\n",
    "@app.route(\"/sanggueon-only\", methods=[\"POST\"])\n",
    "def sanggueon_only():\n",
    "    data=request.get_json()\n",
    "    sang1=data.get(\"sang1\",\"\")\n",
    "    sang2=data.get(\"sang2\",\"\")\n",
    "    only_menus, sang1_cnt, sang2_cnt = yusasang_only(cafe_menu_data, sang1, sang2)\n",
    "    \n",
    "    no_data_dong=[dong for dong in [sang1, sang2] if dong not in list(cafe_menu_data[\"dong\"])]\n",
    "    \n",
    "    spring_response = search_sanggueon_only(menu_data, only_menus, sang1, sang2, sang1_cnt, sang2_cnt)\n",
    "    if(spring_response.get(\"status\")==\"success\"):\n",
    "        return jsonify({\n",
    "        \"status\": \"success\",\n",
    "        \"onlyMenus\": spring_response.get(\"onlyMenus\"),\n",
    "        \"menuIngred\": spring_response.get(\"menuIngred\"),\n",
    "        \"menuInfo\": spring_response.get(\"menuInfo\"),\n",
    "        \"sang1\": spring_response.get(\"sang1\"),\n",
    "        \"sang2\": spring_response.get(\"sang2\"),\n",
    "        \"sang1MenuCnt\": spring_response.get(\"sang1MenuCnt\"),\n",
    "        \"sang2MenuCnt\": spring_response.get(\"sang2MenuCnt\"),\n",
    "        \"noDataDong\" : no_data_dong,\n",
    "        \"message\": spring_response.get(\"message\", \"No message provided\")\n",
    "        })\n",
    "    else:\n",
    "        return jsonify({\"status\":\"error\",\"message\":spring_response.get(\"error\")})\n",
    "\n",
    "\n",
    "if __name__ == '__main__':\n",
    "    app.run(host='0.0.0.0', port=5001)"
   ]
  },
  {
   "cell_type": "code",
   "execution_count": 19,
   "id": "3d31a7eb",
   "metadata": {},
   "outputs": [
    {
     "data": {
      "text/plain": [
       "'광주광역시 동명동'"
      ]
     },
     "execution_count": 19,
     "metadata": {},
     "output_type": "execute_result"
    }
   ],
   "source": [
    "\" \".join(clustered_dong[clustered_dong[\"동 이름\"]==\"동명동\"][[\"지역\", \"동 이름\"]].values[0])"
   ]
  },
  {
   "cell_type": "code",
   "execution_count": 20,
   "id": "89838db2",
   "metadata": {},
   "outputs": [
    {
     "data": {
      "text/plain": [
       "['쇼콜라 라떼', '딸기 라떼', '레몬 에이드', '얼그레이 티', '돌체 라떼']"
      ]
     },
     "execution_count": 20,
     "metadata": {},
     "output_type": "execute_result"
    }
   ],
   "source": [
    "sang_menu(cafe_menu_data, \"동명동\")"
   ]
  },
  {
   "cell_type": "code",
   "execution_count": 21,
   "id": "d157fa40",
   "metadata": {},
   "outputs": [
    {
     "name": "stderr",
     "output_type": "stream",
     "text": [
      "\n",
      "KeyboardInterrupt\n",
      "\n"
     ]
    }
   ],
   "source": [
    "sys.version"
   ]
  },
  {
   "cell_type": "code",
   "execution_count": null,
   "id": "fdc990d2",
   "metadata": {},
   "outputs": [],
   "source": [
    "from kiwipiepy import Kiwi\n",
    "\n",
    "# Kiwi 객체 생성\n",
    "kiwi = Kiwi()\n",
    "\n",
    "# 텍스트 입력\n",
    "input_text = \"안녕하세요! 파이썬을 배우고 있습니다.\"\n",
    "\n",
    "# 토큰화\n",
    "tokenized = kiwi.no(input_text)\n",
    "\n",
    "# 결과 출력\n",
    "for word in tokenized:\n",
    "    print(word.form)"
   ]
  },
  {
   "cell_type": "code",
   "execution_count": null,
   "id": "decf2c71",
   "metadata": {},
   "outputs": [],
   "source": []
  }
 ],
 "metadata": {
  "kernelspec": {
   "display_name": "Python 3 (ipykernel)",
   "language": "python",
   "name": "python3"
  },
  "language_info": {
   "codemirror_mode": {
    "name": "ipython",
    "version": 3
   },
   "file_extension": ".py",
   "mimetype": "text/x-python",
   "name": "python",
   "nbconvert_exporter": "python",
   "pygments_lexer": "ipython3",
   "version": "3.12.2"
  }
 },
 "nbformat": 4,
 "nbformat_minor": 5
}
