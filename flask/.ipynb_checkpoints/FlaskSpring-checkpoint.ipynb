{
 "cells": [
  {
   "cell_type": "code",
   "execution_count": 398,
   "id": "973a1f9e",
   "metadata": {},
   "outputs": [],
   "source": [
    "import requests\n",
    "from flask import Flask, request, jsonify\n",
    "from flask_cors import CORS\n",
    "import pandas as pd\n",
    "import numpy as np\n",
    "import sklearn\n",
    "from sklearn.preprocessing import Normalizer\n",
    "import torch\n",
    "import mglearn\n",
    "from collections import Counter\n",
    "from kiwipiepy import Kiwi, TypoTransformer, TypoDefinition\n",
    "import re\n",
    "import pandas as pd\n",
    "import json\n",
    "import numpy as np\n",
    "import Levenshtein\n",
    "from kiwipiepy.utils import Stopwords\n",
    "from sklearn.feature_extraction.text import TfidfVectorizer\n",
    "from sklearn.metrics.pairwise import cosine_similarity"
   ]
  },
  {
   "cell_type": "code",
   "execution_count": 401,
   "id": "7be28a9d",
   "metadata": {},
   "outputs": [],
   "source": [
    "def connect_mysql():\n",
    "    try:\n",
    "        mydb = mysql.connector.connect(\n",
    "            host=\"project-db-campus.smhrd.com\",\n",
    "            user=\"campus_24K_LI_p2_3\",\n",
    "            password=\"smhrd3\",\n",
    "            database=\"campus_24K_LI_p2_3\",\n",
    "            port=3307\n",
    "        )\n",
    "        return mydb\n",
    "    except Error as e:\n",
    "        print(\"데이터베이스 연결 실패\")\n",
    "        return None"
   ]
  },
  {
   "cell_type": "code",
   "execution_count": 454,
   "id": "e31f0146",
   "metadata": {},
   "outputs": [],
   "source": [
    "# 연결 종료\n",
    "def close_connection(connection):\n",
    "    if connection.is_connected():\n",
    "        connection.close()\n",
    "        print(\"MySQL 연결 종료.\")\n",
    "\n",
    "# db의 데이터를 데이터 프레임으로 받아옴\n",
    "def fetch_data_from_table(table_name):\n",
    "    try:\n",
    "        connection = connect_mysql()\n",
    "        cursor = connection.cursor()\n",
    "        query = f\"SELECT * FROM {table_name}\"  # 조회할 테이블 지정\n",
    "        cursor.execute(query)\n",
    "        results = cursor.fetchall()  # 모든 데이터를 가져오기\n",
    "\n",
    "        # 열 이름 가져오기\n",
    "        column_names = [desc[0] for desc in cursor.description]\n",
    "        db_df = pd.DataFrame(results, columns=column_names)\n",
    "        close_connection(connection)\n",
    "        return db_df\n",
    "\n",
    "    except Error as e:\n",
    "        print(\"데이터 조회 실패:\", e)\n",
    "        close_connection(connection)\n",
    "        return None"
   ]
  },
  {
   "cell_type": "code",
   "execution_count": 455,
   "id": "ae2ffb91",
   "metadata": {},
   "outputs": [
    {
     "name": "stdout",
     "output_type": "stream",
     "text": [
      "MySQL 연결 종료.\n"
     ]
    }
   ],
   "source": [
    "cafe_menu_data = fetch_data_from_table(\"t_cafe_menu\")"
   ]
  },
  {
   "cell_type": "code",
   "execution_count": 456,
   "id": "a1257a86",
   "metadata": {},
   "outputs": [
    {
     "data": {
      "text/html": [
       "<div>\n",
       "<style scoped>\n",
       "    .dataframe tbody tr th:only-of-type {\n",
       "        vertical-align: middle;\n",
       "    }\n",
       "\n",
       "    .dataframe tbody tr th {\n",
       "        vertical-align: top;\n",
       "    }\n",
       "\n",
       "    .dataframe thead th {\n",
       "        text-align: right;\n",
       "    }\n",
       "</style>\n",
       "<table border=\"1\" class=\"dataframe\">\n",
       "  <thead>\n",
       "    <tr style=\"text-align: right;\">\n",
       "      <th></th>\n",
       "      <th>cafe_menu_idx</th>\n",
       "      <th>cafe_idx</th>\n",
       "      <th>menu_nm</th>\n",
       "      <th>menu_price</th>\n",
       "      <th>dong</th>\n",
       "      <th>first_category</th>\n",
       "      <th>second_category</th>\n",
       "      <th>menu_keyword</th>\n",
       "      <th>created_at</th>\n",
       "    </tr>\n",
       "  </thead>\n",
       "  <tbody>\n",
       "    <tr>\n",
       "      <th>0</th>\n",
       "      <td>598</td>\n",
       "      <td>1</td>\n",
       "      <td>바질 샌드위치</td>\n",
       "      <td>11900</td>\n",
       "      <td>광안동</td>\n",
       "      <td>음식</td>\n",
       "      <td>샌드위치</td>\n",
       "      <td>바질 샌드위치</td>\n",
       "      <td>2025-01-04 14:51:13</td>\n",
       "    </tr>\n",
       "    <tr>\n",
       "      <th>1</th>\n",
       "      <td>33334</td>\n",
       "      <td>1</td>\n",
       "      <td>바질 샌드위치</td>\n",
       "      <td>11900.0</td>\n",
       "      <td>광안동</td>\n",
       "      <td>음식</td>\n",
       "      <td>샌드위치</td>\n",
       "      <td>바질 샌드위치</td>\n",
       "      <td>2025-01-04 15:05:17</td>\n",
       "    </tr>\n",
       "    <tr>\n",
       "      <th>2</th>\n",
       "      <td>33335</td>\n",
       "      <td>1</td>\n",
       "      <td>블루베리 샌드위치</td>\n",
       "      <td>11900.0</td>\n",
       "      <td>광안동</td>\n",
       "      <td>음식</td>\n",
       "      <td>샌드위치</td>\n",
       "      <td>블루베리 샌드위치</td>\n",
       "      <td>2025-01-04 15:05:17</td>\n",
       "    </tr>\n",
       "    <tr>\n",
       "      <th>3</th>\n",
       "      <td>33336</td>\n",
       "      <td>1</td>\n",
       "      <td>파니니 그릴 샌드위치</td>\n",
       "      <td>11900.0</td>\n",
       "      <td>광안동</td>\n",
       "      <td>음식</td>\n",
       "      <td>샌드위치</td>\n",
       "      <td>파니니 샌드위치</td>\n",
       "      <td>2025-01-04 15:05:17</td>\n",
       "    </tr>\n",
       "    <tr>\n",
       "      <th>4</th>\n",
       "      <td>33337</td>\n",
       "      <td>1</td>\n",
       "      <td>파스트라미 바게트 샌드위치</td>\n",
       "      <td>12500.0</td>\n",
       "      <td>광안동</td>\n",
       "      <td>음식</td>\n",
       "      <td>샌드위치</td>\n",
       "      <td>바게트 샌드위치</td>\n",
       "      <td>2025-01-04 15:05:17</td>\n",
       "    </tr>\n",
       "    <tr>\n",
       "      <th>...</th>\n",
       "      <td>...</td>\n",
       "      <td>...</td>\n",
       "      <td>...</td>\n",
       "      <td>...</td>\n",
       "      <td>...</td>\n",
       "      <td>...</td>\n",
       "      <td>...</td>\n",
       "      <td>...</td>\n",
       "      <td>...</td>\n",
       "    </tr>\n",
       "    <tr>\n",
       "      <th>240945</th>\n",
       "      <td>274278</td>\n",
       "      <td>7444</td>\n",
       "      <td>플레인 피낭시에(1EA)</td>\n",
       "      <td>3500.0</td>\n",
       "      <td>치평동</td>\n",
       "      <td>음식</td>\n",
       "      <td>휘낭시에</td>\n",
       "      <td>플레인 휘낭시에</td>\n",
       "      <td>2025-01-04 15:20:58</td>\n",
       "    </tr>\n",
       "    <tr>\n",
       "      <th>240946</th>\n",
       "      <td>274279</td>\n",
       "      <td>7444</td>\n",
       "      <td>솔티카라멜 피낭시에(1EA)</td>\n",
       "      <td>3500.0</td>\n",
       "      <td>치평동</td>\n",
       "      <td>음식</td>\n",
       "      <td>휘낭시에</td>\n",
       "      <td>카라멜 휘낭시에</td>\n",
       "      <td>2025-01-04 15:20:58</td>\n",
       "    </tr>\n",
       "    <tr>\n",
       "      <th>240947</th>\n",
       "      <td>274280</td>\n",
       "      <td>7444</td>\n",
       "      <td>무화과 피낭시에(1EA)</td>\n",
       "      <td>3500.0</td>\n",
       "      <td>치평동</td>\n",
       "      <td>음식</td>\n",
       "      <td>휘낭시에</td>\n",
       "      <td>무화과 휘낭시에</td>\n",
       "      <td>2025-01-04 15:20:58</td>\n",
       "    </tr>\n",
       "    <tr>\n",
       "      <th>240948</th>\n",
       "      <td>274281</td>\n",
       "      <td>7444</td>\n",
       "      <td>레몬 피낭시에(1EA)</td>\n",
       "      <td>3500.0</td>\n",
       "      <td>치평동</td>\n",
       "      <td>음식</td>\n",
       "      <td>휘낭시에</td>\n",
       "      <td>레몬 휘낭시에</td>\n",
       "      <td>2025-01-04 15:20:58</td>\n",
       "    </tr>\n",
       "    <tr>\n",
       "      <th>240949</th>\n",
       "      <td>274282</td>\n",
       "      <td>7444</td>\n",
       "      <td>흑임자 피낭시에(1EA)</td>\n",
       "      <td>3500.0</td>\n",
       "      <td>치평동</td>\n",
       "      <td>음식</td>\n",
       "      <td>휘낭시에</td>\n",
       "      <td>흑임자 휘낭시에</td>\n",
       "      <td>2025-01-04 15:20:58</td>\n",
       "    </tr>\n",
       "  </tbody>\n",
       "</table>\n",
       "<p>240950 rows × 9 columns</p>\n",
       "</div>"
      ],
      "text/plain": [
       "        cafe_menu_idx cafe_idx          menu_nm menu_price dong  \\\n",
       "0                 598        1          바질 샌드위치      11900  광안동   \n",
       "1               33334        1          바질 샌드위치    11900.0  광안동   \n",
       "2               33335        1        블루베리 샌드위치    11900.0  광안동   \n",
       "3               33336        1      파니니 그릴 샌드위치    11900.0  광안동   \n",
       "4               33337        1   파스트라미 바게트 샌드위치    12500.0  광안동   \n",
       "...               ...      ...              ...        ...  ...   \n",
       "240945         274278     7444    플레인 피낭시에(1EA)     3500.0  치평동   \n",
       "240946         274279     7444  솔티카라멜 피낭시에(1EA)     3500.0  치평동   \n",
       "240947         274280     7444    무화과 피낭시에(1EA)     3500.0  치평동   \n",
       "240948         274281     7444     레몬 피낭시에(1EA)     3500.0  치평동   \n",
       "240949         274282     7444    흑임자 피낭시에(1EA)     3500.0  치평동   \n",
       "\n",
       "       first_category second_category menu_keyword          created_at  \n",
       "0                  음식            샌드위치      바질 샌드위치 2025-01-04 14:51:13  \n",
       "1                  음식            샌드위치      바질 샌드위치 2025-01-04 15:05:17  \n",
       "2                  음식            샌드위치    블루베리 샌드위치 2025-01-04 15:05:17  \n",
       "3                  음식            샌드위치     파니니 샌드위치 2025-01-04 15:05:17  \n",
       "4                  음식            샌드위치     바게트 샌드위치 2025-01-04 15:05:17  \n",
       "...               ...             ...          ...                 ...  \n",
       "240945             음식            휘낭시에     플레인 휘낭시에 2025-01-04 15:20:58  \n",
       "240946             음식            휘낭시에     카라멜 휘낭시에 2025-01-04 15:20:58  \n",
       "240947             음식            휘낭시에     무화과 휘낭시에 2025-01-04 15:20:58  \n",
       "240948             음식            휘낭시에      레몬 휘낭시에 2025-01-04 15:20:58  \n",
       "240949             음식            휘낭시에     흑임자 휘낭시에 2025-01-04 15:20:58  \n",
       "\n",
       "[240950 rows x 9 columns]"
      ]
     },
     "execution_count": 456,
     "metadata": {},
     "output_type": "execute_result"
    }
   ],
   "source": [
    "cafe_menu_data"
   ]
  },
  {
   "cell_type": "code",
   "execution_count": 154,
   "id": "692a81a2",
   "metadata": {},
   "outputs": [],
   "source": [
    "normalizer = Normalizer()\n",
    "clustered_dong = pd.read_json(\"./data/군집상권데이터.json\")\n",
    "menu_data = pd.read_json(\"./data/메뉴_추상설명_재료_토큰화.json\")\n",
    "cafe_menu_data = pd.read_json(\"./data/메뉴 데이터.json\")"
   ]
  },
  {
   "cell_type": "code",
   "execution_count": 443,
   "id": "b77b1deb",
   "metadata": {},
   "outputs": [
    {
     "name": "stdout",
     "output_type": "stream",
     "text": [
      "<class 'pandas.core.frame.DataFrame'>\n",
      "RangeIndex: 240949 entries, 0 to 240948\n",
      "Data columns (total 7 columns):\n",
      " #   Column           Non-Null Count   Dtype \n",
      "---  ------           --------------   ----- \n",
      " 0   cafe_idx         240949 non-null  string\n",
      " 1   menu_nm          240949 non-null  object\n",
      " 2   menu_price       217834 non-null  object\n",
      " 3   dong             240949 non-null  object\n",
      " 4   first_category   240949 non-null  object\n",
      " 5   second_category  240949 non-null  object\n",
      " 6   menu_keyword     240949 non-null  object\n",
      "dtypes: object(6), string(1)\n",
      "memory usage: 12.9+ MB\n"
     ]
    }
   ],
   "source": [
    "cafe_menu_data.info()"
   ]
  },
  {
   "cell_type": "code",
   "execution_count": 458,
   "id": "87e8a038-0a4f-4b7f-b069-cab41b2b8087",
   "metadata": {
    "scrolled": true
   },
   "outputs": [
    {
     "name": "stdout",
     "output_type": "stream",
     "text": [
      " * Serving Flask app '__main__'\n",
      " * Debug mode: off\n"
     ]
    },
    {
     "name": "stderr",
     "output_type": "stream",
     "text": [
      "WARNING: This is a development server. Do not use it in a production deployment. Use a production WSGI server instead.\n",
      " * Running on http://localhost:5001\n",
      "Press CTRL+C to quit\n",
      "127.0.0.1 - - [04/Jan/2025 15:45:30] \"POST /yusa-dong-search HTTP/1.1\" 200 -\n"
     ]
    },
    {
     "name": "stdout",
     "output_type": "stream",
     "text": [
      "동명동\n"
     ]
    },
    {
     "name": "stderr",
     "output_type": "stream",
     "text": [
      "127.0.0.1 - - [04/Jan/2025 15:46:28] \"POST /yusa-dong-search HTTP/1.1\" 200 -\n"
     ]
    },
    {
     "name": "stdout",
     "output_type": "stream",
     "text": [
      "광안동\n"
     ]
    },
    {
     "name": "stderr",
     "output_type": "stream",
     "text": [
      "127.0.0.1 - - [04/Jan/2025 15:51:36] \"POST /sanggueon-only HTTP/1.1\" 200 -\n",
      "127.0.0.1 - - [04/Jan/2025 15:51:36] \"POST /sanggueon-gongtong HTTP/1.1\" 200 -\n"
     ]
    },
    {
     "name": "stdout",
     "output_type": "stream",
     "text": [
      "['토마토 주스', '고구마 케이크', '연유 라떼', '키위 주스', '콤부차']\n",
      "{'status': 'success', 'onlyMenus': ['토마토 주스', '고구마 케이크', '연유 라떼', '키위 주스', '콤부차'], 'sang1': '동명동', 'sang2': '광천동', 'sang1MenuCnt': [13, 8, 6, 14, 12], 'sang2MenuCnt': [36, 32, 32, 31, 30], 'menuInfo': ['[건강함, 담백함, 신선함, 상큼함, 깔끔함, 산뜻한 채소 향, 자연스러운 신선함, 건강감, 깔끔한 끝맛, 가벼운 감미]', '[달콤함, 포근함, 고소함, 부드러운 식감, 진한 고구마 풍미, 촉촉한 케이크, 담백한 단맛, 가벼운 디저트, 정성스러움, 따뜻한 매력]', '[달콤함, 부드러움, 고소함, 풍부함, 따뜻함, 크리미함, 부드러운 질감, 농축된 맛, 향긋함]', '[상큼함, 건강함, 새콤달콤, 신선함, 청량감, 상큼한 산미, 과일의 자연미, 활기참, 가벼운 단맛]', '[건강함, 상큼함, 발효, 청량감, 이국적, 톡쏘는 발효 감미, 건강한 신선함, 상쾌한 끝맛, 자연스러운 균형, 활력감]'], 'menuIngred': [\"[ '토마토', '설탕', '레몬', '얼음']\", \"[ '고구마, 밀가루, 설탕, 달걀, 버터, 우유, 베이킹 파우더, 소금, 휘핑크림, 고구마 시럽']\", \"[ '에스프레소', '연유', '우유']\", \"[ '키위', '설탕 (옵션)', '물', '얼음 (옵션)']\", \"[ '콤부차', '얼음', '레몬 슬라이스', '꿀']\"]}\n",
      "{'status': 'success', 'onlyMenus': ['토마토 주스', '고구마 케이크', '연유 라떼', '키위 주스', '콤부차'], 'sang1': '동명동', 'sang2': '광천동', 'sang1MenuCnt': [13, 8, 6, 14, 12], 'sang2MenuCnt': [36, 32, 32, 31, 30], 'menuInfo': ['[건강함, 담백함, 신선함, 상큼함, 깔끔함, 산뜻한 채소 향, 자연스러운 신선함, 건강감, 깔끔한 끝맛, 가벼운 감미]', '[달콤함, 포근함, 고소함, 부드러운 식감, 진한 고구마 풍미, 촉촉한 케이크, 담백한 단맛, 가벼운 디저트, 정성스러움, 따뜻한 매력]', '[달콤함, 부드러움, 고소함, 풍부함, 따뜻함, 크리미함, 부드러운 질감, 농축된 맛, 향긋함]', '[상큼함, 건강함, 새콤달콤, 신선함, 청량감, 상큼한 산미, 과일의 자연미, 활기참, 가벼운 단맛]', '[건강함, 상큼함, 발효, 청량감, 이국적, 톡쏘는 발효 감미, 건강한 신선함, 상쾌한 끝맛, 자연스러운 균형, 활력감]'], 'menuIngred': [\"[ '토마토', '설탕', '레몬', '얼음']\", \"[ '고구마, 밀가루, 설탕, 달걀, 버터, 우유, 베이킹 파우더, 소금, 휘핑크림, 고구마 시럽']\", \"[ '에스프레소', '연유', '우유']\", \"[ '키위', '설탕 (옵션)', '물', '얼음 (옵션)']\", \"[ '콤부차', '얼음', '레몬 슬라이스', '꿀']\"]}\n",
      "[28, 25, 25, 25, 23]\n",
      "[79, 37, 33, 36, 41]\n",
      "['민트초코 라떼', '딸기 요거', '초코 브라우니', '블루베리 요거', '초코 케이크']\n",
      "{'status': 'success', 'gongtongMenus': ['민트초코 라떼', '딸기 요거', '초코 브라우니', '블루베리 요거', '초코 케이크'], 'sang1': '동명동', 'sang2': '광천동', 'sang1MenuCnt': [28, 25, 25, 25, 23], 'sang2MenuCnt': [79, 37, 33, 36, 41], 'menuInfo': ['[달콤함, 청량감, 부드러움, 크리미함, 초콜릿, 상쾌한 민트, 달콤한 초콜릿, 부드러운 크리미함, 신선한 조화, 특별한 풍미]', '[달콤함, 상큼함, 과일향, 건강함, 부드러움, 사랑스러운 과일향, 새콤달콤, 부드러운 질감, 건강한 단맛, 활기참]', '[진한 초콜릿, 달콤함, 풍미 깊음, 촉촉함, 부드러운 식감, 고급스러운 디저트, 클래식함, 만족감, 농후한 맛, 풍부함]', '[건강함, 새콤달콤, 과일향, 부드러움, 상쾌함, 과일의 자연미, 건강한 즐거움]', '[풍미 깊음, 진한 초콜릿, 달콤함, 부드러운 크림, 촉촉한 케이크, 클래식 디저트, 만족감, 고급스러움, 농후한 맛, 깔끔함]'], 'menuIngred': [\"[ '에스프레소', '우유', '민트 시럽', '초콜릿 시럽', '설탕']\", \"[ '딸기', '플레인 요거트', '우유', '꿀', '얼음 (옵션)', '민트 잎 (옵션)']\", \"[ '다크 초콜릿, 밀가루, 설탕, 계란, 버터, 바닐라 엑스트랙, 베이킹파우더, 소금']\", \"[ '블루베리', '플레인 요거트', '우유', '꿀', '얼음 (옵션)', '민트 잎 (옵션)']\", \"[ '밀가루, 설탕, 코코아 가루, 계란, 버터, 우유, 베이킹파우더, 생크림, 초콜릿, 바닐라 추출액']\"]}\n"
     ]
    },
    {
     "name": "stderr",
     "output_type": "stream",
     "text": [
      "127.0.0.1 - - [04/Jan/2025 15:59:19] \"POST /analyze-menu HTTP/1.1\" 200 -\n",
      "127.0.0.1 - - [04/Jan/2025 15:59:19] \"POST /analyze-menu HTTP/1.1\" 200 -\n"
     ]
    },
    {
     "name": "stdout",
     "output_type": "stream",
     "text": [
      "0.6666666666666667\n",
      "얼그레이 티\n",
      "{'status': 'success', 'similarMenus': ['콜드브루 라떼', '흑당 우유', '커피 쉐이크', '헤이즐넛 콜드브루', '홍차 스무디', '바닐라 에스프레소', '헤이즐넛 아메리카노', '바닐라 라떼', '돌체 에스프레소', '흑임자 라떼'], 'menu': '카페라떼', 'menuInfo': ['[진한 맛, 부드러움, 깔끔함, 고급스러움, 시원함, 부드러운 우유, 진한 커피 향, 시원한 질감, 깔끔한 단맛, 균형 잡힌 맛]', '[달콤함, 고소함, 부드러움, 크리미함, 중독성, 깊고 진한 단맛, 부드러운 텍스처, 크리미한 만족감, 고급스러운 풍미, 전통적인 감미]', '[진한 맛, 크리미함, 달콤함, 만족감, 고소함, 진한 커피 향, 부드러운 크리미함, 시원한 텍스처, 만족스러운 풍미]', '[고소함, 진한 커피맛, 깔끔함, 부드러움, 고급스러움, 고소한 견과류 풍미, 진한 커피 맛, 시원한 질감, 균형감, 고급스러운 끝맛]', '[우아함, 부드러움, 진한 맛, 크리미함, 고급스러움, 깊고 은은한 풍미, 부드러운 텍스처, 고급스러운 맛, 깔끔한 단맛, 세련된 조화]', '[부드러움, 진한 맛, 깔끔함, 고급스러움, 달콤함, 진한 커피 향, 은은한 단맛, 부드러운 여운]', '[고소함, 진한 커피향, 깔끔함, 따뜻함, 풍미, 고소한 견과류 향, 깊고 진한 커피 맛, 균형감, 깔끔한 끝맛, 부드러운 고급감]', '[따뜻함, 부드러움, 고소함, 편안함, 달콤함, 향긋함, 은은함, 포근함, 조화로움, 균형감]', '[달콤함, 진한 맛, 크리미함, 부드러움, 고급스러움, 진한 커피 풍미, 크리미한 단맛, 고급스러운 질감, 균형 잡힌 조화, 세련된 마무리]', '[고소함, 전통적, 부드러움, 깊은 맛, 고급스러움, 고소한 참깨, 부드러운 크리미함, 전통적 풍미, 은은한 단맛, 건강한 만족감]'], 'menuIngred': [\"[ '콜드브루 커피', '우유', '시럽']\", \"[ '흑당 시럽', '우유', '얼음']\", \"[ '커피', '우유', '얼음', '설탕', '바닐라 아이스크림']\", \"[ '콜드브루 커피, 헤이즐넛 시럽, 우유, 얼음']\", \"[ '홍차 추출액', '우유', '얼음', '설탕', '바닐라 시럽']\", \"[ '에스프레소', '바닐라 시럽', '우유', '휘핑크림 (옵션)']\", \"[ '에스프레소, 물, 헤이즐넛 시럽, 얼음']\", \"[ '에스프레소, 스팀밀크, 바닐라 시럽']\", \"[ '에스프레소', '돌체 시럽', '우유', '카라멜 시럽']\", \"[ '흑임자 가루', '우유', '에스프레소', '설탕', '바닐라 시럽']\"]}\n",
      "{'status': 'success', 'similarMenus': ['얼그레이 스무디', '얼그레이 버블티', '바닐라 에스프레소', '우롱 밀크티', '얼그레이 밀크티', '홍차 스무디', '라벤더 밀크티', '홍차 라떼', '샤인머스켓 스무디', '타로 우유'], 'menu': '얼그레이', 'menuInfo': ['[허브향, 부드러움, 우아함, 상쾌함, 깔끔함, 우아한 베르가못 향, 부드러운 텍스처, 고급스러운 감미, 청량감, 자연스러운 조화]', '[우아함, 쫄깃함, 허브향, 크리미함, 고급스러움, 우아한 베르가못 향, 쫄깃한 펄, 부드러운 조화, 고급스러운 맛, 균형 잡힌 풍미]', '[부드러움, 진한 맛, 깔끔함, 고급스러움, 달콤함, 진한 커피 향, 은은한 단맛, 부드러운 여운]', '[전통적, 부드러움, 깊은 맛, 고급스러움, 깔끔함, 은은한 허브향, 부드러운 크리미함, 전통적 깊이, 자연스러운 단맛, 고급스러운 풍미]', '[우아함, 부드러움, 깊은 맛, 클래식, 고급스러움, 베르가못 향, 부드러운 크림, 우아한 맛, 조화로움, 깔끔한 끝맛]', '[우아함, 부드러움, 진한 맛, 크리미함, 고급스러움, 깊고 은은한 풍미, 부드러운 텍스처, 고급스러운 맛, 깔끔한 단맛, 세련된 조화]', '[우아함, 허브향, 부드러움, 달콤함, 편안함, 은은한 꽃향, 부드러운 크림, 세련된 풍미, 편안한 끝맛, 우아한 조화]', '[부드러움, 우아함, 진한 맛, 따뜻함, 고급스러움, 은은한 홍차 향, 부드러운 우유, 자연스러운 감미]', '[이국적, 청량감, 과일향, 고급스러움, 달콤함, 고급스러운 과일향, 달콤한 여운, 부드러운 텍스처, 신선한 질감]', '[부드러움, 고소함, 독특함, 달콤함, 크리미함, 부드러운 타로 향, 크리미한 질감, 고소한 단맛, 독특한 풍미, 편안한 여운]'], 'menuIngred': [\"[ '얼그레이 티', '우유', '설탕', '얼음', '바닐라 시럽']\", \"[ '얼그레이 차, 우유, 설탕, 타피오카 펄, 얼음, 바닐라 시럽']\", \"[ '에스프레소', '바닐라 시럽', '우유', '휘핑크림 (옵션)']\", \"[ '우롱차, 우유, 설탕, 얼음, 바닐라 시럽']\", \"[ '얼그레이 티백, 우유, 설탕, 얼음']\", \"[ '홍차 추출액', '우유', '얼음', '설탕', '바닐라 시럽']\", \"[ '얼그레이 티, 라벤더 시럽, 우유, 설탕']\", \"[ '홍차, 우유, 설탕, 바닐라 추출물, 얼음']\", \"[ '샤인머스켓', '우유', '바닐라 아이스크림', '설탕', '얼음']\", \"[ '타로 파우더', '우유', '설탕', '얼음']\"]}\n"
     ]
    },
    {
     "name": "stderr",
     "output_type": "stream",
     "text": [
      "127.0.0.1 - - [04/Jan/2025 16:00:03] \"POST /yusa-dong-search HTTP/1.1\" 200 -\n"
     ]
    },
    {
     "name": "stdout",
     "output_type": "stream",
     "text": [
      "광안동\n"
     ]
    },
    {
     "name": "stderr",
     "output_type": "stream",
     "text": [
      "127.0.0.1 - - [04/Jan/2025 16:16:24] \"POST /yusa-dong-search HTTP/1.1\" 200 -\n"
     ]
    },
    {
     "name": "stdout",
     "output_type": "stream",
     "text": [
      "동명동\n"
     ]
    },
    {
     "name": "stderr",
     "output_type": "stream",
     "text": [
      "127.0.0.1 - - [04/Jan/2025 16:17:20] \"POST /yusa-dong-search HTTP/1.1\" 200 -\n"
     ]
    },
    {
     "name": "stdout",
     "output_type": "stream",
     "text": [
      "동명동\n"
     ]
    },
    {
     "name": "stderr",
     "output_type": "stream",
     "text": [
      "127.0.0.1 - - [04/Jan/2025 16:19:44] \"POST /yusa-dong-search HTTP/1.1\" 200 -\n"
     ]
    },
    {
     "name": "stdout",
     "output_type": "stream",
     "text": [
      "광안동\n"
     ]
    },
    {
     "name": "stderr",
     "output_type": "stream",
     "text": [
      "127.0.0.1 - - [04/Jan/2025 16:20:09] \"POST /yusa-dong-search HTTP/1.1\" 200 -\n"
     ]
    },
    {
     "name": "stdout",
     "output_type": "stream",
     "text": [
      "광안동\n"
     ]
    },
    {
     "name": "stderr",
     "output_type": "stream",
     "text": [
      "127.0.0.1 - - [04/Jan/2025 16:21:02] \"POST /yusa-dong-search HTTP/1.1\" 200 -\n"
     ]
    },
    {
     "name": "stdout",
     "output_type": "stream",
     "text": [
      "광안동\n"
     ]
    },
    {
     "name": "stderr",
     "output_type": "stream",
     "text": [
      "127.0.0.1 - - [04/Jan/2025 16:21:25] \"POST /yusa-dong-search HTTP/1.1\" 200 -\n"
     ]
    },
    {
     "name": "stdout",
     "output_type": "stream",
     "text": [
      "광안동\n"
     ]
    },
    {
     "name": "stderr",
     "output_type": "stream",
     "text": [
      "127.0.0.1 - - [04/Jan/2025 16:22:11] \"POST /yusa-dong-search HTTP/1.1\" 200 -\n"
     ]
    },
    {
     "name": "stdout",
     "output_type": "stream",
     "text": [
      "광안동\n"
     ]
    },
    {
     "name": "stderr",
     "output_type": "stream",
     "text": [
      "127.0.0.1 - - [04/Jan/2025 16:22:57] \"POST /yusa-dong-search HTTP/1.1\" 200 -\n"
     ]
    },
    {
     "name": "stdout",
     "output_type": "stream",
     "text": [
      "광안동\n"
     ]
    },
    {
     "name": "stderr",
     "output_type": "stream",
     "text": [
      "127.0.0.1 - - [04/Jan/2025 16:24:44] \"POST /yusa-dong-search HTTP/1.1\" 200 -\n"
     ]
    },
    {
     "name": "stdout",
     "output_type": "stream",
     "text": [
      "광안동\n"
     ]
    },
    {
     "name": "stderr",
     "output_type": "stream",
     "text": [
      "127.0.0.1 - - [04/Jan/2025 16:25:09] \"POST /yusa-dong-search HTTP/1.1\" 200 -\n"
     ]
    },
    {
     "name": "stdout",
     "output_type": "stream",
     "text": [
      "광안동\n"
     ]
    },
    {
     "name": "stderr",
     "output_type": "stream",
     "text": [
      "127.0.0.1 - - [04/Jan/2025 16:25:42] \"POST /yusa-dong-search HTTP/1.1\" 200 -\n"
     ]
    },
    {
     "name": "stdout",
     "output_type": "stream",
     "text": [
      "광안동\n"
     ]
    },
    {
     "name": "stderr",
     "output_type": "stream",
     "text": [
      "127.0.0.1 - - [04/Jan/2025 16:26:12] \"POST /yusa-dong-search HTTP/1.1\" 200 -\n"
     ]
    },
    {
     "name": "stdout",
     "output_type": "stream",
     "text": [
      "광안동\n"
     ]
    },
    {
     "name": "stderr",
     "output_type": "stream",
     "text": [
      "127.0.0.1 - - [04/Jan/2025 16:26:59] \"POST /yusa-dong-search HTTP/1.1\" 200 -\n"
     ]
    },
    {
     "name": "stdout",
     "output_type": "stream",
     "text": [
      "광안동\n"
     ]
    },
    {
     "name": "stderr",
     "output_type": "stream",
     "text": [
      "127.0.0.1 - - [04/Jan/2025 16:29:55] \"POST /yusa-dong-search HTTP/1.1\" 200 -\n"
     ]
    },
    {
     "name": "stdout",
     "output_type": "stream",
     "text": [
      "광안동\n"
     ]
    },
    {
     "name": "stderr",
     "output_type": "stream",
     "text": [
      "127.0.0.1 - - [04/Jan/2025 16:31:05] \"POST /sanggueon-gongtong HTTP/1.1\" 200 -\n",
      "127.0.0.1 - - [04/Jan/2025 16:31:05] \"POST /sanggueon-only HTTP/1.1\" 200 -\n"
     ]
    },
    {
     "name": "stdout",
     "output_type": "stream",
     "text": [
      "[28, 25, 25, 25, 23]\n",
      "[79, 37, 33, 36, 41]\n",
      "['민트초코 라떼', '딸기 요거', '초코 브라우니', '블루베리 요거', '초코 케이크']\n",
      "{'status': 'success', 'gongtongMenus': ['민트초코 라떼', '딸기 요거', '초코 브라우니', '블루베리 요거', '초코 케이크'], 'sang1': '동명동', 'sang2': '광천동', 'sang1MenuCnt': [28, 25, 25, 25, 23], 'sang2MenuCnt': [79, 37, 33, 36, 41], 'menuInfo': ['[달콤함, 청량감, 부드러움, 크리미함, 초콜릿, 상쾌한 민트, 달콤한 초콜릿, 부드러운 크리미함, 신선한 조화, 특별한 풍미]', '[달콤함, 상큼함, 과일향, 건강함, 부드러움, 사랑스러운 과일향, 새콤달콤, 부드러운 질감, 건강한 단맛, 활기참]', '[진한 초콜릿, 달콤함, 풍미 깊음, 촉촉함, 부드러운 식감, 고급스러운 디저트, 클래식함, 만족감, 농후한 맛, 풍부함]', '[건강함, 새콤달콤, 과일향, 부드러움, 상쾌함, 과일의 자연미, 건강한 즐거움]', '[풍미 깊음, 진한 초콜릿, 달콤함, 부드러운 크림, 촉촉한 케이크, 클래식 디저트, 만족감, 고급스러움, 농후한 맛, 깔끔함]'], 'menuIngred': [\"[ '에스프레소', '우유', '민트 시럽', '초콜릿 시럽', '설탕']\", \"[ '딸기', '플레인 요거트', '우유', '꿀', '얼음 (옵션)', '민트 잎 (옵션)']\", \"[ '다크 초콜릿, 밀가루, 설탕, 계란, 버터, 바닐라 엑스트랙, 베이킹파우더, 소금']\", \"[ '블루베리', '플레인 요거트', '우유', '꿀', '얼음 (옵션)', '민트 잎 (옵션)']\", \"[ '밀가루, 설탕, 코코아 가루, 계란, 버터, 우유, 베이킹파우더, 생크림, 초콜릿, 바닐라 추출액']\"]}\n",
      "['토마토 주스', '고구마 케이크', '연유 라떼', '키위 주스', '콤부차']\n",
      "{'status': 'success', 'onlyMenus': ['토마토 주스', '고구마 케이크', '연유 라떼', '키위 주스', '콤부차'], 'sang1': '동명동', 'sang2': '광천동', 'sang1MenuCnt': [13, 8, 6, 14, 12], 'sang2MenuCnt': [36, 32, 32, 31, 30], 'menuInfo': ['[건강함, 담백함, 신선함, 상큼함, 깔끔함, 산뜻한 채소 향, 자연스러운 신선함, 건강감, 깔끔한 끝맛, 가벼운 감미]', '[달콤함, 포근함, 고소함, 부드러운 식감, 진한 고구마 풍미, 촉촉한 케이크, 담백한 단맛, 가벼운 디저트, 정성스러움, 따뜻한 매력]', '[달콤함, 부드러움, 고소함, 풍부함, 따뜻함, 크리미함, 부드러운 질감, 농축된 맛, 향긋함]', '[상큼함, 건강함, 새콤달콤, 신선함, 청량감, 상큼한 산미, 과일의 자연미, 활기참, 가벼운 단맛]', '[건강함, 상큼함, 발효, 청량감, 이국적, 톡쏘는 발효 감미, 건강한 신선함, 상쾌한 끝맛, 자연스러운 균형, 활력감]'], 'menuIngred': [\"[ '토마토', '설탕', '레몬', '얼음']\", \"[ '고구마, 밀가루, 설탕, 달걀, 버터, 우유, 베이킹 파우더, 소금, 휘핑크림, 고구마 시럽']\", \"[ '에스프레소', '연유', '우유']\", \"[ '키위', '설탕 (옵션)', '물', '얼음 (옵션)']\", \"[ '콤부차', '얼음', '레몬 슬라이스', '꿀']\"]}\n",
      "{'status': 'success', 'onlyMenus': ['토마토 주스', '고구마 케이크', '연유 라떼', '키위 주스', '콤부차'], 'sang1': '동명동', 'sang2': '광천동', 'sang1MenuCnt': [13, 8, 6, 14, 12], 'sang2MenuCnt': [36, 32, 32, 31, 30], 'menuInfo': ['[건강함, 담백함, 신선함, 상큼함, 깔끔함, 산뜻한 채소 향, 자연스러운 신선함, 건강감, 깔끔한 끝맛, 가벼운 감미]', '[달콤함, 포근함, 고소함, 부드러운 식감, 진한 고구마 풍미, 촉촉한 케이크, 담백한 단맛, 가벼운 디저트, 정성스러움, 따뜻한 매력]', '[달콤함, 부드러움, 고소함, 풍부함, 따뜻함, 크리미함, 부드러운 질감, 농축된 맛, 향긋함]', '[상큼함, 건강함, 새콤달콤, 신선함, 청량감, 상큼한 산미, 과일의 자연미, 활기참, 가벼운 단맛]', '[건강함, 상큼함, 발효, 청량감, 이국적, 톡쏘는 발효 감미, 건강한 신선함, 상쾌한 끝맛, 자연스러운 균형, 활력감]'], 'menuIngred': [\"[ '토마토', '설탕', '레몬', '얼음']\", \"[ '고구마, 밀가루, 설탕, 달걀, 버터, 우유, 베이킹 파우더, 소금, 휘핑크림, 고구마 시럽']\", \"[ '에스프레소', '연유', '우유']\", \"[ '키위', '설탕 (옵션)', '물', '얼음 (옵션)']\", \"[ '콤부차', '얼음', '레몬 슬라이스', '꿀']\"]}\n"
     ]
    },
    {
     "name": "stderr",
     "output_type": "stream",
     "text": [
      "127.0.0.1 - - [04/Jan/2025 16:34:22] \"POST /yusa-dong-search HTTP/1.1\" 200 -\n"
     ]
    },
    {
     "name": "stdout",
     "output_type": "stream",
     "text": [
      "광안동\n"
     ]
    },
    {
     "name": "stderr",
     "output_type": "stream",
     "text": [
      "127.0.0.1 - - [04/Jan/2025 16:44:12] \"POST /yusa-dong-search HTTP/1.1\" 200 -\n"
     ]
    },
    {
     "name": "stdout",
     "output_type": "stream",
     "text": [
      "광안동\n"
     ]
    },
    {
     "name": "stderr",
     "output_type": "stream",
     "text": [
      "127.0.0.1 - - [04/Jan/2025 16:46:00] \"POST /yusa-dong-search HTTP/1.1\" 200 -\n",
      "127.0.0.1 - - [04/Jan/2025 16:46:00] \"POST /sanggueon-gongtong HTTP/1.1\" 200 -\n"
     ]
    },
    {
     "name": "stdout",
     "output_type": "stream",
     "text": [
      "광안동\n",
      "[]\n",
      "[]\n",
      "['두 상권의 메뉴는 거의 유사하지 않습니다.']\n",
      "{'status': 'success', 'gongtongMenus': ['두 상권의 메뉴는 거의 유사하지 않습니다.'], 'sang1': '광안동', 'sang2': '', 'sang1MenuCnt': [], 'sang2MenuCnt': [], 'menuInfo': [], 'menuIngred': []}\n",
      "['두 상권의 거의 모든 메뉴가 유사합니다.']\n",
      "{'status': 'success', 'onlyMenus': ['두 상권의 거의 모든 메뉴가 유사합니다.'], 'sang1': '광안동', 'sang2': '', 'sang1MenuCnt': [0], 'sang2MenuCnt': [0], 'menuInfo': [], 'menuIngred': []}\n"
     ]
    },
    {
     "name": "stderr",
     "output_type": "stream",
     "text": [
      "127.0.0.1 - - [04/Jan/2025 16:46:00] \"POST /sanggueon-only HTTP/1.1\" 200 -\n",
      "127.0.0.1 - - [04/Jan/2025 16:46:00] \"POST /sanggueon-gongtong HTTP/1.1\" 200 -\n",
      "127.0.0.1 - - [04/Jan/2025 16:46:00] \"POST /sanggueon-only HTTP/1.1\" 200 -\n"
     ]
    },
    {
     "name": "stdout",
     "output_type": "stream",
     "text": [
      "{'status': 'success', 'onlyMenus': ['두 상권의 거의 모든 메뉴가 유사합니다.'], 'sang1': '광안동', 'sang2': '', 'sang1MenuCnt': [0], 'sang2MenuCnt': [0], 'menuInfo': [], 'menuIngred': []}\n",
      "[]\n",
      "[]\n",
      "['두 상권의 메뉴는 거의 유사하지 않습니다.']\n",
      "{'status': 'success', 'gongtongMenus': ['두 상권의 메뉴는 거의 유사하지 않습니다.'], 'sang1': '광안동', 'sang2': '', 'sang1MenuCnt': [], 'sang2MenuCnt': [], 'menuInfo': [], 'menuIngred': []}\n",
      "['두 상권의 거의 모든 메뉴가 유사합니다.']\n",
      "{'status': 'success', 'onlyMenus': ['두 상권의 거의 모든 메뉴가 유사합니다.'], 'sang1': '광안동', 'sang2': '', 'sang1MenuCnt': [0], 'sang2MenuCnt': [0], 'menuInfo': [], 'menuIngred': []}\n",
      "{'status': 'success', 'onlyMenus': ['두 상권의 거의 모든 메뉴가 유사합니다.'], 'sang1': '광안동', 'sang2': '', 'sang1MenuCnt': [0], 'sang2MenuCnt': [0], 'menuInfo': [], 'menuIngred': []}\n",
      "[]\n",
      "[]\n",
      "['두 상권의 메뉴는 거의 유사하지 않습니다.']\n",
      "{'status': 'success', 'gongtongMenus': ['두 상권의 메뉴는 거의 유사하지 않습니다.'], 'sang1': '광안동', 'sang2': '', 'sang1MenuCnt': [], 'sang2MenuCnt': [], 'menuInfo': [], 'menuIngred': []}\n"
     ]
    },
    {
     "name": "stderr",
     "output_type": "stream",
     "text": [
      "127.0.0.1 - - [04/Jan/2025 16:46:00] \"POST /sanggueon-gongtong HTTP/1.1\" 200 -\n",
      "127.0.0.1 - - [04/Jan/2025 16:46:00] \"POST /sanggueon-only HTTP/1.1\" 200 -\n",
      "127.0.0.1 - - [04/Jan/2025 16:46:00] \"POST /sanggueon-gongtong HTTP/1.1\" 200 -\n",
      "127.0.0.1 - - [04/Jan/2025 16:46:00] \"POST /sanggueon-only HTTP/1.1\" 200 -\n",
      "127.0.0.1 - - [04/Jan/2025 16:46:00] \"POST /sanggueon-gongtong HTTP/1.1\" 200 -\n",
      "127.0.0.1 - - [04/Jan/2025 16:46:00] \"POST /sanggueon-only HTTP/1.1\" 200 -\n"
     ]
    },
    {
     "name": "stdout",
     "output_type": "stream",
     "text": [
      "['두 상권의 거의 모든 메뉴가 유사합니다.']\n",
      "{'status': 'success', 'onlyMenus': ['두 상권의 거의 모든 메뉴가 유사합니다.'], 'sang1': '광안동', 'sang2': '', 'sang1MenuCnt': [0], 'sang2MenuCnt': [0], 'menuInfo': [], 'menuIngred': []}\n",
      "{'status': 'success', 'onlyMenus': ['두 상권의 거의 모든 메뉴가 유사합니다.'], 'sang1': '광안동', 'sang2': '', 'sang1MenuCnt': [0], 'sang2MenuCnt': [0], 'menuInfo': [], 'menuIngred': []}\n",
      "[]\n",
      "[]\n",
      "['두 상권의 메뉴는 거의 유사하지 않습니다.']\n",
      "{'status': 'success', 'gongtongMenus': ['두 상권의 메뉴는 거의 유사하지 않습니다.'], 'sang1': '광안동', 'sang2': '', 'sang1MenuCnt': [], 'sang2MenuCnt': [], 'menuInfo': [], 'menuIngred': []}\n",
      "['두 상권의 거의 모든 메뉴가 유사합니다.']\n",
      "{'status': 'success', 'onlyMenus': ['두 상권의 거의 모든 메뉴가 유사합니다.'], 'sang1': '광안동', 'sang2': '', 'sang1MenuCnt': [0], 'sang2MenuCnt': [0], 'menuInfo': [], 'menuIngred': []}\n",
      "{'status': 'success', 'onlyMenus': ['두 상권의 거의 모든 메뉴가 유사합니다.'], 'sang1': '광안동', 'sang2': '', 'sang1MenuCnt': [0], 'sang2MenuCnt': [0], 'menuInfo': [], 'menuIngred': []}\n",
      "[]\n",
      "[]\n",
      "['두 상권의 메뉴는 거의 유사하지 않습니다.']\n",
      "{'status': 'success', 'gongtongMenus': ['두 상권의 메뉴는 거의 유사하지 않습니다.'], 'sang1': '광안동', 'sang2': '', 'sang1MenuCnt': [], 'sang2MenuCnt': [], 'menuInfo': [], 'menuIngred': []}\n",
      "['두 상권의 거의 모든 메뉴가 유사합니다.']\n",
      "{'status': 'success', 'onlyMenus': ['두 상권의 거의 모든 메뉴가 유사합니다.'], 'sang1': '광안동', 'sang2': '', 'sang1MenuCnt': [0], 'sang2MenuCnt': [0], 'menuInfo': [], 'menuIngred': []}\n",
      "{'status': 'success', 'onlyMenus': ['두 상권의 거의 모든 메뉴가 유사합니다.'], 'sang1': '광안동', 'sang2': '', 'sang1MenuCnt': [0], 'sang2MenuCnt': [0], 'menuInfo': [], 'menuIngred': []}\n"
     ]
    },
    {
     "name": "stderr",
     "output_type": "stream",
     "text": [
      "127.0.0.1 - - [04/Jan/2025 16:46:00] \"POST /sanggueon-gongtong HTTP/1.1\" 200 -\n",
      "127.0.0.1 - - [04/Jan/2025 16:46:00] \"POST /sanggueon-only HTTP/1.1\" 200 -\n",
      "127.0.0.1 - - [04/Jan/2025 16:46:00] \"POST /sanggueon-gongtong HTTP/1.1\" 200 -\n",
      "127.0.0.1 - - [04/Jan/2025 16:46:00] \"POST /sanggueon-only HTTP/1.1\" 200 -\n"
     ]
    },
    {
     "name": "stdout",
     "output_type": "stream",
     "text": [
      "[]\n",
      "[]\n",
      "['두 상권의 메뉴는 거의 유사하지 않습니다.']\n",
      "{'status': 'success', 'gongtongMenus': ['두 상권의 메뉴는 거의 유사하지 않습니다.'], 'sang1': '광안동', 'sang2': '', 'sang1MenuCnt': [], 'sang2MenuCnt': [], 'menuInfo': [], 'menuIngred': []}\n",
      "['두 상권의 거의 모든 메뉴가 유사합니다.']\n",
      "{'status': 'success', 'onlyMenus': ['두 상권의 거의 모든 메뉴가 유사합니다.'], 'sang1': '광안동', 'sang2': '', 'sang1MenuCnt': [0], 'sang2MenuCnt': [0], 'menuInfo': [], 'menuIngred': []}\n",
      "{'status': 'success', 'onlyMenus': ['두 상권의 거의 모든 메뉴가 유사합니다.'], 'sang1': '광안동', 'sang2': '', 'sang1MenuCnt': [0], 'sang2MenuCnt': [0], 'menuInfo': [], 'menuIngred': []}\n",
      "[]\n",
      "[]\n",
      "['두 상권의 메뉴는 거의 유사하지 않습니다.']\n",
      "{'status': 'success', 'gongtongMenus': ['두 상권의 메뉴는 거의 유사하지 않습니다.'], 'sang1': '광안동', 'sang2': '', 'sang1MenuCnt': [], 'sang2MenuCnt': [], 'menuInfo': [], 'menuIngred': []}\n",
      "['두 상권의 거의 모든 메뉴가 유사합니다.']\n",
      "{'status': 'success', 'onlyMenus': ['두 상권의 거의 모든 메뉴가 유사합니다.'], 'sang1': '광안동', 'sang2': '', 'sang1MenuCnt': [0], 'sang2MenuCnt': [0], 'menuInfo': [], 'menuIngred': []}\n",
      "{'status': 'success', 'onlyMenus': ['두 상권의 거의 모든 메뉴가 유사합니다.'], 'sang1': '광안동', 'sang2': '', 'sang1MenuCnt': [0], 'sang2MenuCnt': [0], 'menuInfo': [], 'menuIngred': []}\n"
     ]
    },
    {
     "name": "stderr",
     "output_type": "stream",
     "text": [
      "127.0.0.1 - - [04/Jan/2025 16:46:00] \"POST /sanggueon-gongtong HTTP/1.1\" 200 -\n",
      "127.0.0.1 - - [04/Jan/2025 16:46:01] \"POST /sanggueon-only HTTP/1.1\" 200 -\n",
      "127.0.0.1 - - [04/Jan/2025 16:46:01] \"POST /sanggueon-gongtong HTTP/1.1\" 200 -\n",
      "127.0.0.1 - - [04/Jan/2025 16:46:01] \"POST /sanggueon-only HTTP/1.1\" 200 -\n"
     ]
    },
    {
     "name": "stdout",
     "output_type": "stream",
     "text": [
      "[]\n",
      "[]\n",
      "['두 상권의 메뉴는 거의 유사하지 않습니다.']\n",
      "{'status': 'success', 'gongtongMenus': ['두 상권의 메뉴는 거의 유사하지 않습니다.'], 'sang1': '광안동', 'sang2': '', 'sang1MenuCnt': [], 'sang2MenuCnt': [], 'menuInfo': [], 'menuIngred': []}\n",
      "['두 상권의 거의 모든 메뉴가 유사합니다.']\n",
      "{'status': 'success', 'onlyMenus': ['두 상권의 거의 모든 메뉴가 유사합니다.'], 'sang1': '광안동', 'sang2': '', 'sang1MenuCnt': [0], 'sang2MenuCnt': [0], 'menuInfo': [], 'menuIngred': []}\n",
      "{'status': 'success', 'onlyMenus': ['두 상권의 거의 모든 메뉴가 유사합니다.'], 'sang1': '광안동', 'sang2': '', 'sang1MenuCnt': [0], 'sang2MenuCnt': [0], 'menuInfo': [], 'menuIngred': []}\n",
      "[]\n",
      "[]\n",
      "['두 상권의 메뉴는 거의 유사하지 않습니다.']\n",
      "{'status': 'success', 'gongtongMenus': ['두 상권의 메뉴는 거의 유사하지 않습니다.'], 'sang1': '광안동', 'sang2': '', 'sang1MenuCnt': [], 'sang2MenuCnt': [], 'menuInfo': [], 'menuIngred': []}\n",
      "['두 상권의 거의 모든 메뉴가 유사합니다.']\n",
      "{'status': 'success', 'onlyMenus': ['두 상권의 거의 모든 메뉴가 유사합니다.'], 'sang1': '광안동', 'sang2': '', 'sang1MenuCnt': [0], 'sang2MenuCnt': [0], 'menuInfo': [], 'menuIngred': []}\n",
      "{'status': 'success', 'onlyMenus': ['두 상권의 거의 모든 메뉴가 유사합니다.'], 'sang1': '광안동', 'sang2': '', 'sang1MenuCnt': [0], 'sang2MenuCnt': [0], 'menuInfo': [], 'menuIngred': []}\n"
     ]
    },
    {
     "name": "stderr",
     "output_type": "stream",
     "text": [
      "127.0.0.1 - - [04/Jan/2025 16:46:19] \"POST /yusa-dong-search HTTP/1.1\" 200 -\n",
      "127.0.0.1 - - [04/Jan/2025 16:46:19] \"POST /sanggueon-gongtong HTTP/1.1\" 200 -\n",
      "127.0.0.1 - - [04/Jan/2025 16:46:19] \"POST /sanggueon-only HTTP/1.1\" 200 -\n"
     ]
    },
    {
     "name": "stdout",
     "output_type": "stream",
     "text": [
      "동명동\n",
      "[]\n",
      "[]\n",
      "['두 상권의 메뉴는 거의 유사하지 않습니다.']\n",
      "{'status': 'success', 'gongtongMenus': ['두 상권의 메뉴는 거의 유사하지 않습니다.'], 'sang1': '동명동', 'sang2': '', 'sang1MenuCnt': [], 'sang2MenuCnt': [], 'menuInfo': [], 'menuIngred': []}\n",
      "['두 상권의 거의 모든 메뉴가 유사합니다.']\n",
      "{'status': 'success', 'onlyMenus': ['두 상권의 거의 모든 메뉴가 유사합니다.'], 'sang1': '동명동', 'sang2': '', 'sang1MenuCnt': [0], 'sang2MenuCnt': [0], 'menuInfo': [], 'menuIngred': []}\n",
      "{'status': 'success', 'onlyMenus': ['두 상권의 거의 모든 메뉴가 유사합니다.'], 'sang1': '동명동', 'sang2': '', 'sang1MenuCnt': [0], 'sang2MenuCnt': [0], 'menuInfo': [], 'menuIngred': []}\n"
     ]
    },
    {
     "name": "stderr",
     "output_type": "stream",
     "text": [
      "127.0.0.1 - - [04/Jan/2025 16:46:20] \"POST /sanggueon-gongtong HTTP/1.1\" 200 -\n",
      "127.0.0.1 - - [04/Jan/2025 16:46:20] \"POST /sanggueon-only HTTP/1.1\" 200 -\n",
      "127.0.0.1 - - [04/Jan/2025 16:46:20] \"POST /sanggueon-gongtong HTTP/1.1\" 200 -\n",
      "127.0.0.1 - - [04/Jan/2025 16:46:20] \"POST /sanggueon-only HTTP/1.1\" 200 -\n"
     ]
    },
    {
     "name": "stdout",
     "output_type": "stream",
     "text": [
      "[]\n",
      "[]\n",
      "['두 상권의 메뉴는 거의 유사하지 않습니다.']\n",
      "{'status': 'success', 'gongtongMenus': ['두 상권의 메뉴는 거의 유사하지 않습니다.'], 'sang1': '동명동', 'sang2': '', 'sang1MenuCnt': [], 'sang2MenuCnt': [], 'menuInfo': [], 'menuIngred': []}\n",
      "['두 상권의 거의 모든 메뉴가 유사합니다.']\n",
      "{'status': 'success', 'onlyMenus': ['두 상권의 거의 모든 메뉴가 유사합니다.'], 'sang1': '동명동', 'sang2': '', 'sang1MenuCnt': [0], 'sang2MenuCnt': [0], 'menuInfo': [], 'menuIngred': []}\n",
      "{'status': 'success', 'onlyMenus': ['두 상권의 거의 모든 메뉴가 유사합니다.'], 'sang1': '동명동', 'sang2': '', 'sang1MenuCnt': [0], 'sang2MenuCnt': [0], 'menuInfo': [], 'menuIngred': []}\n",
      "[]\n",
      "[]\n",
      "['두 상권의 메뉴는 거의 유사하지 않습니다.']\n",
      "{'status': 'success', 'gongtongMenus': ['두 상권의 메뉴는 거의 유사하지 않습니다.'], 'sang1': '동명동', 'sang2': '', 'sang1MenuCnt': [], 'sang2MenuCnt': [], 'menuInfo': [], 'menuIngred': []}\n",
      "['두 상권의 거의 모든 메뉴가 유사합니다.']\n",
      "{'status': 'success', 'onlyMenus': ['두 상권의 거의 모든 메뉴가 유사합니다.'], 'sang1': '동명동', 'sang2': '', 'sang1MenuCnt': [0], 'sang2MenuCnt': [0], 'menuInfo': [], 'menuIngred': []}\n",
      "{'status': 'success', 'onlyMenus': ['두 상권의 거의 모든 메뉴가 유사합니다.'], 'sang1': '동명동', 'sang2': '', 'sang1MenuCnt': [0], 'sang2MenuCnt': [0], 'menuInfo': [], 'menuIngred': []}\n"
     ]
    },
    {
     "name": "stderr",
     "output_type": "stream",
     "text": [
      "127.0.0.1 - - [04/Jan/2025 16:46:20] \"POST /sanggueon-gongtong HTTP/1.1\" 200 -\n",
      "127.0.0.1 - - [04/Jan/2025 16:46:20] \"POST /sanggueon-only HTTP/1.1\" 200 -\n",
      "127.0.0.1 - - [04/Jan/2025 16:46:20] \"POST /sanggueon-gongtong HTTP/1.1\" 200 -\n",
      "127.0.0.1 - - [04/Jan/2025 16:46:20] \"POST /sanggueon-only HTTP/1.1\" 200 -\n",
      "127.0.0.1 - - [04/Jan/2025 16:46:20] \"POST /sanggueon-gongtong HTTP/1.1\" 200 -\n"
     ]
    },
    {
     "name": "stdout",
     "output_type": "stream",
     "text": [
      "[]\n",
      "[]\n",
      "['두 상권의 메뉴는 거의 유사하지 않습니다.']\n",
      "{'status': 'success', 'gongtongMenus': ['두 상권의 메뉴는 거의 유사하지 않습니다.'], 'sang1': '동명동', 'sang2': '', 'sang1MenuCnt': [], 'sang2MenuCnt': [], 'menuInfo': [], 'menuIngred': []}\n",
      "['두 상권의 거의 모든 메뉴가 유사합니다.']\n",
      "{'status': 'success', 'onlyMenus': ['두 상권의 거의 모든 메뉴가 유사합니다.'], 'sang1': '동명동', 'sang2': '', 'sang1MenuCnt': [0], 'sang2MenuCnt': [0], 'menuInfo': [], 'menuIngred': []}\n",
      "{'status': 'success', 'onlyMenus': ['두 상권의 거의 모든 메뉴가 유사합니다.'], 'sang1': '동명동', 'sang2': '', 'sang1MenuCnt': [0], 'sang2MenuCnt': [0], 'menuInfo': [], 'menuIngred': []}\n",
      "[]\n",
      "[]\n",
      "['두 상권의 메뉴는 거의 유사하지 않습니다.']\n",
      "{'status': 'success', 'gongtongMenus': ['두 상권의 메뉴는 거의 유사하지 않습니다.'], 'sang1': '동명동', 'sang2': '', 'sang1MenuCnt': [], 'sang2MenuCnt': [], 'menuInfo': [], 'menuIngred': []}\n",
      "['두 상권의 거의 모든 메뉴가 유사합니다.']\n",
      "{'status': 'success', 'onlyMenus': ['두 상권의 거의 모든 메뉴가 유사합니다.'], 'sang1': '동명동', 'sang2': '', 'sang1MenuCnt': [0], 'sang2MenuCnt': [0], 'menuInfo': [], 'menuIngred': []}\n",
      "{'status': 'success', 'onlyMenus': ['두 상권의 거의 모든 메뉴가 유사합니다.'], 'sang1': '동명동', 'sang2': '', 'sang1MenuCnt': [0], 'sang2MenuCnt': [0], 'menuInfo': [], 'menuIngred': []}\n",
      "[]\n",
      "[]\n",
      "['두 상권의 메뉴는 거의 유사하지 않습니다.']\n",
      "{'status': 'success', 'gongtongMenus': ['두 상권의 메뉴는 거의 유사하지 않습니다.'], 'sang1': '동명동', 'sang2': '', 'sang1MenuCnt': [], 'sang2MenuCnt': [], 'menuInfo': [], 'menuIngred': []}\n"
     ]
    },
    {
     "name": "stderr",
     "output_type": "stream",
     "text": [
      "127.0.0.1 - - [04/Jan/2025 16:46:20] \"POST /sanggueon-only HTTP/1.1\" 200 -\n",
      "127.0.0.1 - - [04/Jan/2025 16:46:20] \"POST /sanggueon-gongtong HTTP/1.1\" 200 -\n",
      "127.0.0.1 - - [04/Jan/2025 16:46:20] \"POST /sanggueon-only HTTP/1.1\" 200 -\n",
      "127.0.0.1 - - [04/Jan/2025 16:46:20] \"POST /sanggueon-gongtong HTTP/1.1\" 200 -\n"
     ]
    },
    {
     "name": "stdout",
     "output_type": "stream",
     "text": [
      "['두 상권의 거의 모든 메뉴가 유사합니다.']\n",
      "{'status': 'success', 'onlyMenus': ['두 상권의 거의 모든 메뉴가 유사합니다.'], 'sang1': '동명동', 'sang2': '', 'sang1MenuCnt': [0], 'sang2MenuCnt': [0], 'menuInfo': [], 'menuIngred': []}\n",
      "{'status': 'success', 'onlyMenus': ['두 상권의 거의 모든 메뉴가 유사합니다.'], 'sang1': '동명동', 'sang2': '', 'sang1MenuCnt': [0], 'sang2MenuCnt': [0], 'menuInfo': [], 'menuIngred': []}\n",
      "[]\n",
      "[]\n",
      "['두 상권의 메뉴는 거의 유사하지 않습니다.']\n",
      "{'status': 'success', 'gongtongMenus': ['두 상권의 메뉴는 거의 유사하지 않습니다.'], 'sang1': '동명동', 'sang2': '', 'sang1MenuCnt': [], 'sang2MenuCnt': [], 'menuInfo': [], 'menuIngred': []}\n",
      "['두 상권의 거의 모든 메뉴가 유사합니다.']\n",
      "{'status': 'success', 'onlyMenus': ['두 상권의 거의 모든 메뉴가 유사합니다.'], 'sang1': '동명동', 'sang2': '', 'sang1MenuCnt': [0], 'sang2MenuCnt': [0], 'menuInfo': [], 'menuIngred': []}\n",
      "{'status': 'success', 'onlyMenus': ['두 상권의 거의 모든 메뉴가 유사합니다.'], 'sang1': '동명동', 'sang2': '', 'sang1MenuCnt': [0], 'sang2MenuCnt': [0], 'menuInfo': [], 'menuIngred': []}\n",
      "[]\n",
      "[]\n",
      "['두 상권의 메뉴는 거의 유사하지 않습니다.']\n",
      "{'status': 'success', 'gongtongMenus': ['두 상권의 메뉴는 거의 유사하지 않습니다.'], 'sang1': '동명동', 'sang2': '', 'sang1MenuCnt': [], 'sang2MenuCnt': [], 'menuInfo': [], 'menuIngred': []}\n",
      "['두 상권의 거의 모든 메뉴가 유사합니다.']\n",
      "{'status': 'success', 'onlyMenus': ['두 상권의 거의 모든 메뉴가 유사합니다.'], 'sang1': '동명동', 'sang2': '', 'sang1MenuCnt': [0], 'sang2MenuCnt': [0], 'menuInfo': [], 'menuIngred': []}\n"
     ]
    },
    {
     "name": "stderr",
     "output_type": "stream",
     "text": [
      "127.0.0.1 - - [04/Jan/2025 16:46:20] \"POST /sanggueon-only HTTP/1.1\" 200 -\n",
      "127.0.0.1 - - [04/Jan/2025 16:46:20] \"POST /sanggueon-gongtong HTTP/1.1\" 200 -\n",
      "127.0.0.1 - - [04/Jan/2025 16:46:20] \"POST /sanggueon-only HTTP/1.1\" 200 -\n"
     ]
    },
    {
     "name": "stdout",
     "output_type": "stream",
     "text": [
      "{'status': 'success', 'onlyMenus': ['두 상권의 거의 모든 메뉴가 유사합니다.'], 'sang1': '동명동', 'sang2': '', 'sang1MenuCnt': [0], 'sang2MenuCnt': [0], 'menuInfo': [], 'menuIngred': []}\n",
      "[]\n",
      "[]\n",
      "['두 상권의 메뉴는 거의 유사하지 않습니다.']\n",
      "{'status': 'success', 'gongtongMenus': ['두 상권의 메뉴는 거의 유사하지 않습니다.'], 'sang1': '동명동', 'sang2': '', 'sang1MenuCnt': [], 'sang2MenuCnt': [], 'menuInfo': [], 'menuIngred': []}\n",
      "['두 상권의 거의 모든 메뉴가 유사합니다.']\n",
      "{'status': 'success', 'onlyMenus': ['두 상권의 거의 모든 메뉴가 유사합니다.'], 'sang1': '동명동', 'sang2': '', 'sang1MenuCnt': [0], 'sang2MenuCnt': [0], 'menuInfo': [], 'menuIngred': []}\n",
      "{'status': 'success', 'onlyMenus': ['두 상권의 거의 모든 메뉴가 유사합니다.'], 'sang1': '동명동', 'sang2': '', 'sang1MenuCnt': [0], 'sang2MenuCnt': [0], 'menuInfo': [], 'menuIngred': []}\n"
     ]
    },
    {
     "name": "stderr",
     "output_type": "stream",
     "text": [
      "127.0.0.1 - - [04/Jan/2025 16:47:32] \"POST /yusa-dong-search HTTP/1.1\" 200 -\n"
     ]
    },
    {
     "name": "stdout",
     "output_type": "stream",
     "text": [
      "광안동\n"
     ]
    },
    {
     "name": "stderr",
     "output_type": "stream",
     "text": [
      "127.0.0.1 - - [04/Jan/2025 16:47:48] \"POST /yusa-dong-search HTTP/1.1\" 200 -\n",
      "127.0.0.1 - - [04/Jan/2025 16:47:48] \"POST /sanggueon-gongtong HTTP/1.1\" 200 -\n",
      "127.0.0.1 - - [04/Jan/2025 16:47:48] \"POST /sanggueon-only HTTP/1.1\" 200 -\n"
     ]
    },
    {
     "name": "stdout",
     "output_type": "stream",
     "text": [
      "광안동\n",
      "[]\n",
      "[]\n",
      "['두 상권의 메뉴는 거의 유사하지 않습니다.']\n",
      "{'status': 'success', 'gongtongMenus': ['두 상권의 메뉴는 거의 유사하지 않습니다.'], 'sang1': '광안동', 'sang2': '', 'sang1MenuCnt': [], 'sang2MenuCnt': [], 'menuInfo': [], 'menuIngred': []}\n",
      "['두 상권의 거의 모든 메뉴가 유사합니다.']\n",
      "{'status': 'success', 'onlyMenus': ['두 상권의 거의 모든 메뉴가 유사합니다.'], 'sang1': '광안동', 'sang2': '', 'sang1MenuCnt': [0], 'sang2MenuCnt': [0], 'menuInfo': [], 'menuIngred': []}\n",
      "{'status': 'success', 'onlyMenus': ['두 상권의 거의 모든 메뉴가 유사합니다.'], 'sang1': '광안동', 'sang2': '', 'sang1MenuCnt': [0], 'sang2MenuCnt': [0], 'menuInfo': [], 'menuIngred': []}\n"
     ]
    },
    {
     "name": "stderr",
     "output_type": "stream",
     "text": [
      "127.0.0.1 - - [04/Jan/2025 16:47:48] \"POST /sanggueon-gongtong HTTP/1.1\" 200 -\n",
      "127.0.0.1 - - [04/Jan/2025 16:47:48] \"POST /sanggueon-only HTTP/1.1\" 200 -\n",
      "127.0.0.1 - - [04/Jan/2025 16:47:48] \"POST /sanggueon-gongtong HTTP/1.1\" 200 -\n",
      "127.0.0.1 - - [04/Jan/2025 16:47:48] \"POST /sanggueon-only HTTP/1.1\" 200 -\n",
      "127.0.0.1 - - [04/Jan/2025 16:47:48] \"POST /sanggueon-gongtong HTTP/1.1\" 200 -\n"
     ]
    },
    {
     "name": "stdout",
     "output_type": "stream",
     "text": [
      "[]\n",
      "[]\n",
      "['두 상권의 메뉴는 거의 유사하지 않습니다.']\n",
      "{'status': 'success', 'gongtongMenus': ['두 상권의 메뉴는 거의 유사하지 않습니다.'], 'sang1': '광안동', 'sang2': '', 'sang1MenuCnt': [], 'sang2MenuCnt': [], 'menuInfo': [], 'menuIngred': []}\n",
      "['두 상권의 거의 모든 메뉴가 유사합니다.']\n",
      "{'status': 'success', 'onlyMenus': ['두 상권의 거의 모든 메뉴가 유사합니다.'], 'sang1': '광안동', 'sang2': '', 'sang1MenuCnt': [0], 'sang2MenuCnt': [0], 'menuInfo': [], 'menuIngred': []}\n",
      "{'status': 'success', 'onlyMenus': ['두 상권의 거의 모든 메뉴가 유사합니다.'], 'sang1': '광안동', 'sang2': '', 'sang1MenuCnt': [0], 'sang2MenuCnt': [0], 'menuInfo': [], 'menuIngred': []}\n",
      "[]\n",
      "[]\n",
      "['두 상권의 메뉴는 거의 유사하지 않습니다.']\n",
      "{'status': 'success', 'gongtongMenus': ['두 상권의 메뉴는 거의 유사하지 않습니다.'], 'sang1': '광안동', 'sang2': '', 'sang1MenuCnt': [], 'sang2MenuCnt': [], 'menuInfo': [], 'menuIngred': []}\n",
      "['두 상권의 거의 모든 메뉴가 유사합니다.']\n",
      "{'status': 'success', 'onlyMenus': ['두 상권의 거의 모든 메뉴가 유사합니다.'], 'sang1': '광안동', 'sang2': '', 'sang1MenuCnt': [0], 'sang2MenuCnt': [0], 'menuInfo': [], 'menuIngred': []}\n",
      "{'status': 'success', 'onlyMenus': ['두 상권의 거의 모든 메뉴가 유사합니다.'], 'sang1': '광안동', 'sang2': '', 'sang1MenuCnt': [0], 'sang2MenuCnt': [0], 'menuInfo': [], 'menuIngred': []}\n",
      "[]\n",
      "[]\n",
      "['두 상권의 메뉴는 거의 유사하지 않습니다.']\n",
      "{'status': 'success', 'gongtongMenus': ['두 상권의 메뉴는 거의 유사하지 않습니다.'], 'sang1': '광안동', 'sang2': '', 'sang1MenuCnt': [], 'sang2MenuCnt': [], 'menuInfo': [], 'menuIngred': []}\n"
     ]
    },
    {
     "name": "stderr",
     "output_type": "stream",
     "text": [
      "127.0.0.1 - - [04/Jan/2025 16:47:48] \"POST /sanggueon-only HTTP/1.1\" 200 -\n",
      "127.0.0.1 - - [04/Jan/2025 16:47:49] \"POST /sanggueon-gongtong HTTP/1.1\" 200 -\n",
      "127.0.0.1 - - [04/Jan/2025 16:47:49] \"POST /sanggueon-only HTTP/1.1\" 200 -\n",
      "127.0.0.1 - - [04/Jan/2025 16:47:49] \"POST /sanggueon-gongtong HTTP/1.1\" 200 -\n",
      "127.0.0.1 - - [04/Jan/2025 16:47:49] \"POST /sanggueon-only HTTP/1.1\" 200 -\n"
     ]
    },
    {
     "name": "stdout",
     "output_type": "stream",
     "text": [
      "['두 상권의 거의 모든 메뉴가 유사합니다.']\n",
      "{'status': 'success', 'onlyMenus': ['두 상권의 거의 모든 메뉴가 유사합니다.'], 'sang1': '광안동', 'sang2': '', 'sang1MenuCnt': [0], 'sang2MenuCnt': [0], 'menuInfo': [], 'menuIngred': []}\n",
      "{'status': 'success', 'onlyMenus': ['두 상권의 거의 모든 메뉴가 유사합니다.'], 'sang1': '광안동', 'sang2': '', 'sang1MenuCnt': [0], 'sang2MenuCnt': [0], 'menuInfo': [], 'menuIngred': []}\n",
      "[]\n",
      "[]\n",
      "['두 상권의 메뉴는 거의 유사하지 않습니다.']\n",
      "{'status': 'success', 'gongtongMenus': ['두 상권의 메뉴는 거의 유사하지 않습니다.'], 'sang1': '광안동', 'sang2': '', 'sang1MenuCnt': [], 'sang2MenuCnt': [], 'menuInfo': [], 'menuIngred': []}\n",
      "['두 상권의 거의 모든 메뉴가 유사합니다.']\n",
      "{'status': 'success', 'onlyMenus': ['두 상권의 거의 모든 메뉴가 유사합니다.'], 'sang1': '광안동', 'sang2': '', 'sang1MenuCnt': [0], 'sang2MenuCnt': [0], 'menuInfo': [], 'menuIngred': []}\n",
      "{'status': 'success', 'onlyMenus': ['두 상권의 거의 모든 메뉴가 유사합니다.'], 'sang1': '광안동', 'sang2': '', 'sang1MenuCnt': [0], 'sang2MenuCnt': [0], 'menuInfo': [], 'menuIngred': []}\n",
      "[]\n",
      "[]\n",
      "['두 상권의 메뉴는 거의 유사하지 않습니다.']\n",
      "{'status': 'success', 'gongtongMenus': ['두 상권의 메뉴는 거의 유사하지 않습니다.'], 'sang1': '광안동', 'sang2': '', 'sang1MenuCnt': [], 'sang2MenuCnt': [], 'menuInfo': [], 'menuIngred': []}\n",
      "['두 상권의 거의 모든 메뉴가 유사합니다.']\n",
      "{'status': 'success', 'onlyMenus': ['두 상권의 거의 모든 메뉴가 유사합니다.'], 'sang1': '광안동', 'sang2': '', 'sang1MenuCnt': [0], 'sang2MenuCnt': [0], 'menuInfo': [], 'menuIngred': []}\n",
      "{'status': 'success', 'onlyMenus': ['두 상권의 거의 모든 메뉴가 유사합니다.'], 'sang1': '광안동', 'sang2': '', 'sang1MenuCnt': [0], 'sang2MenuCnt': [0], 'menuInfo': [], 'menuIngred': []}\n"
     ]
    },
    {
     "name": "stderr",
     "output_type": "stream",
     "text": [
      "127.0.0.1 - - [04/Jan/2025 16:47:49] \"POST /sanggueon-gongtong HTTP/1.1\" 200 -\n",
      "127.0.0.1 - - [04/Jan/2025 16:47:49] \"POST /sanggueon-only HTTP/1.1\" 200 -\n",
      "127.0.0.1 - - [04/Jan/2025 16:47:49] \"POST /sanggueon-gongtong HTTP/1.1\" 200 -\n",
      "127.0.0.1 - - [04/Jan/2025 16:47:49] \"POST /sanggueon-only HTTP/1.1\" 200 -\n",
      "127.0.0.1 - - [04/Jan/2025 16:47:49] \"POST /sanggueon-gongtong HTTP/1.1\" 200 -\n"
     ]
    },
    {
     "name": "stdout",
     "output_type": "stream",
     "text": [
      "[]\n",
      "[]\n",
      "['두 상권의 메뉴는 거의 유사하지 않습니다.']\n",
      "{'status': 'success', 'gongtongMenus': ['두 상권의 메뉴는 거의 유사하지 않습니다.'], 'sang1': '광안동', 'sang2': '', 'sang1MenuCnt': [], 'sang2MenuCnt': [], 'menuInfo': [], 'menuIngred': []}\n",
      "['두 상권의 거의 모든 메뉴가 유사합니다.']\n",
      "{'status': 'success', 'onlyMenus': ['두 상권의 거의 모든 메뉴가 유사합니다.'], 'sang1': '광안동', 'sang2': '', 'sang1MenuCnt': [0], 'sang2MenuCnt': [0], 'menuInfo': [], 'menuIngred': []}\n",
      "{'status': 'success', 'onlyMenus': ['두 상권의 거의 모든 메뉴가 유사합니다.'], 'sang1': '광안동', 'sang2': '', 'sang1MenuCnt': [0], 'sang2MenuCnt': [0], 'menuInfo': [], 'menuIngred': []}\n",
      "[]\n",
      "[]\n",
      "['두 상권의 메뉴는 거의 유사하지 않습니다.']\n",
      "{'status': 'success', 'gongtongMenus': ['두 상권의 메뉴는 거의 유사하지 않습니다.'], 'sang1': '광안동', 'sang2': '', 'sang1MenuCnt': [], 'sang2MenuCnt': [], 'menuInfo': [], 'menuIngred': []}\n",
      "['두 상권의 거의 모든 메뉴가 유사합니다.']\n",
      "{'status': 'success', 'onlyMenus': ['두 상권의 거의 모든 메뉴가 유사합니다.'], 'sang1': '광안동', 'sang2': '', 'sang1MenuCnt': [0], 'sang2MenuCnt': [0], 'menuInfo': [], 'menuIngred': []}\n",
      "{'status': 'success', 'onlyMenus': ['두 상권의 거의 모든 메뉴가 유사합니다.'], 'sang1': '광안동', 'sang2': '', 'sang1MenuCnt': [0], 'sang2MenuCnt': [0], 'menuInfo': [], 'menuIngred': []}\n",
      "[]\n",
      "[]\n",
      "['두 상권의 메뉴는 거의 유사하지 않습니다.']\n",
      "{'status': 'success', 'gongtongMenus': ['두 상권의 메뉴는 거의 유사하지 않습니다.'], 'sang1': '광안동', 'sang2': '', 'sang1MenuCnt': [], 'sang2MenuCnt': [], 'menuInfo': [], 'menuIngred': []}\n"
     ]
    },
    {
     "name": "stderr",
     "output_type": "stream",
     "text": [
      "127.0.0.1 - - [04/Jan/2025 16:47:49] \"POST /sanggueon-only HTTP/1.1\" 200 -\n"
     ]
    },
    {
     "name": "stdout",
     "output_type": "stream",
     "text": [
      "['두 상권의 거의 모든 메뉴가 유사합니다.']\n",
      "{'status': 'success', 'onlyMenus': ['두 상권의 거의 모든 메뉴가 유사합니다.'], 'sang1': '광안동', 'sang2': '', 'sang1MenuCnt': [0], 'sang2MenuCnt': [0], 'menuInfo': [], 'menuIngred': []}\n",
      "{'status': 'success', 'onlyMenus': ['두 상권의 거의 모든 메뉴가 유사합니다.'], 'sang1': '광안동', 'sang2': '', 'sang1MenuCnt': [0], 'sang2MenuCnt': [0], 'menuInfo': [], 'menuIngred': []}\n"
     ]
    }
   ],
   "source": [
    "app = Flask(__name__)\n",
    "CORS(app)  # 모든 도메인에서의 요청 허용\n",
    "\n",
    "# CORS(app, resources={r\"/api/*\": {\"origins\": \"http://localhost:8087\"}})\n",
    "# REST API key\n",
    "KAKAO_API_KEY = \"015412fbc48c3a4e31b1926b6adb667e\"\n",
    "\n",
    "\n",
    "# 스프링 부트로부터 사용자가 클릭한 좌표 정보를 전달받아 동을 찾은 후 분석하고 전송\n",
    "@app.route('/send-coordinates', methods=['POST'])\n",
    "def receive_coordinates():\n",
    "    # 클라이언트로부터 받은 데이터(현 위치 위도, 경도)\n",
    "    data = request.get_json()\n",
    "    latitude = data.get('latitude')\n",
    "    longitude = data.get('longitude')\n",
    "    \n",
    "    url = f\"https://dapi.kakao.com/v2/local/geo/coord2address.json?x={longitude}&y={latitude}\"\n",
    "    headers = {\"Authorization\" : f\"KakaoAK {KAKAO_API_KEY}\"}\n",
    "    \n",
    "    response = requests.get(url, headers=headers)\n",
    "    \n",
    "    \n",
    "    dong_number = get_dong_number(latitude, longitude)\n",
    "    if(dong_number == None):\n",
    "        return jsonify({\"status\" : \"error\", \"message\" : \"현재 지역의 법정동 번호를 찾을 수 없습니다.\"})\n",
    "    \n",
    "    # 유사 상권의 법정동 번호\n",
    "    similar_dongs = yusa_dong(clustered_dong, dong_number)\n",
    "    \n",
    "    # 스트링 부트로 전달\n",
    "    spring_response = similar_dong_send_to_spring(similar_dongs)\n",
    "    # 전송 결과 확인\n",
    "    if(spring_response.get(\"status\")==\"success\"):\n",
    "        return jsonify(spring_response)\n",
    "    else:\n",
    "        return jsonify({\n",
    "            \"status\" : \"error\",\n",
    "            \"yusadongs\" : \"\",\n",
    "            \"message\" : spring_response.get(\"error\")\n",
    "        })\n",
    "\n",
    "\n",
    "# 유사 상권 탐색 2. 스프링으로부터 동을 전달받아 유사한 동 분석\n",
    "@app.route(\"/yusa-dong-search\", methods=[\"POST\"])\n",
    "def receive_dong():\n",
    "    data = request.get_json()\n",
    "    input_data = data.get(\"dong\").strip()\n",
    "    dong = \"-1\"\n",
    "    region = \"-1\"\n",
    "    print(input_data)\n",
    "    \n",
    "    yusa_dong_list = []\n",
    "    \n",
    "    if(len(input_data.split(\" \"))>1):\n",
    "        dong = input_data.split(\" \")[-1]\n",
    "        region = input_data.split(\" \")[0]\n",
    "    else:\n",
    "        dong = input_data\n",
    "    \n",
    "    if(dong not in list(clustered_dong[\"동 이름\"])):\n",
    "        yusa_dong_list.append(\"None\")\n",
    "        return jsonify({\"status\":\"success\",\n",
    "                        \"dong\":\"None\",\n",
    "                        \"yusaDongNum\":\"None\"\n",
    "                        })\n",
    "        \n",
    "    else:\n",
    "        # 혹시 지역까지 입력해주면 더 확실하게 동을 찾아 줄 수 있음(동 이름이 겹치는 경우가 많음...)\n",
    "        if(clustered_dong[\"지역\"].str.contains(region).sum()>0):\n",
    "            region_data = clustered_dong[clustered_dong[\"지역\"].str.contains(region)]\n",
    "            dong_data = region_data[region_data[\"동 이름\"]==dong]\n",
    "        else:\n",
    "            dong_data = clustered_dong[clustered_dong[\"동 이름\"]==dong]\n",
    "    \n",
    "        dong_pk = int(dong_data[\"법정동 번호(PK)\"].values[0])\n",
    "        yusa_dong_number = yusa_dong(clustered_dong, dong_pk)\n",
    "        \n",
    "        payload ={\"status\":\"success\",\n",
    "                 \"dong\":dong,\n",
    "                 \"yusaDongNum\":yusa_dong_number}\n",
    "        \n",
    "        return jsonify(payload)\n",
    "        \n",
    "        \n",
    "    \n",
    "\n",
    "# 스프링 부트로부터 키워드 전달받아 분석\n",
    "@app.route(\"/analyze-keyword\", methods=[\"POST\"])\n",
    "def analyze_keyword():\n",
    "    # 요청 본문 데이터 확인 : 키워드\n",
    "    data = request.get_json()\n",
    "    keyword = data.get(\"keyword\", \"\")\n",
    "    recommanded = input_simil(menu_data, keyword)\n",
    "\n",
    "    spring_response = keyword_menu_send_to_spring(menu_data, keyword, recommanded)\n",
    "\n",
    "    if(spring_response.get(\"status\")==\"success\"):\n",
    "        return jsonify(spring_response)\n",
    "    else:\n",
    "        return jsonify({\"status\":\"error\",\n",
    "                       \"message\":spring_response.get(\"error\")})\n",
    "\n",
    "# 스프링 부트로부터 메뉴 전달받아 분석\n",
    "@app.route(\"/analyze-menu\", methods=[\"POST\"])\n",
    "def analyze_menu():\n",
    "    # 요청 데이터 확인 : 메뉴\n",
    "    data = request.get_json()\n",
    "    menu_name = data.get(\"menu\",\"\")\n",
    "    \n",
    "    similar_menu_name=\"None\"\n",
    "    similar_menus = []\n",
    "    # 사용자 추가 메뉴의 경우 메뉴 데이터에 있을 수도 있고 없을 수도 있음\n",
    "    # 따라서 메뉴 데이터에 없는 경우를 대비해야 함\n",
    "    if(menu_name in list(menu_data[\"menu\"])):\n",
    "        similar_menus = ingred_sim(menu_data, menu_name)\n",
    "    else:\n",
    "        similar_menu_name = find_similar_menu(menu_data, menu_name)\n",
    "        if(similar_menu_name == \"None\"):\n",
    "            print(\"None\")\n",
    "            # 유사한 메뉴 데이터가 없을 경우 키워드 추천 알고리즘으로 추천\n",
    "            similar_menus=input_simil(menu_data, menu_name)\n",
    "        else:\n",
    "            # 유사한 메뉴 데이터가 있는 경우 그 메뉴에 대한 유사 메뉴 추천\n",
    "            print(similar_menu_name)\n",
    "            \n",
    "            similar_menus = ingred_sim(menu_data, similar_menu_name)\n",
    "    \n",
    "    spring_response = similar_menu_recommanded(menu_data, similar_menus, menu_name)\n",
    "    spring_response[\"menu\"]=menu_name\n",
    "    spring_response[\"changeMenu\"]=similar_menu_name\n",
    "\n",
    "    if(spring_response.get(\"status\")==\"success\"):\n",
    "        return jsonify(spring_response)\n",
    "    else:\n",
    "        return jsonify({\"status\":\"error\",\n",
    "                       \"message\":spring_response.get(\"error\")})\n",
    "\n",
    "@app.route(\"/sanggueon-gongtong\", methods=[\"POST\"])\n",
    "def sanggueon_gongtong():\n",
    "    data = request.get_json()\n",
    "    sang1 = data.get(\"sang1\", \"\")\n",
    "    sang2 = data.get(\"sang2\", \"\")\n",
    "    gongtong_menus, sang1_cnt, sang2_cnt = yusasang_gongtong(cafe_menu_data, sang1, sang2)\n",
    "    print(gongtong_menus)\n",
    "    spring_response = search_sanggueon_gongtong(menu_data, gongtong_menus,sang1, sang2, sang1_cnt, sang2_cnt)\n",
    "    if(spring_response.get(\"status\")==\"success\"):\n",
    "        return jsonify(spring_response)\n",
    "    else:\n",
    "        return jsonify({\"status\":\"error\",\n",
    "                       \"message\":spring_response.get(\"error\")})\n",
    "\n",
    "@app.route(\"/sanggueon-only\", methods=[\"POST\"])\n",
    "def sanggueon_only():\n",
    "    data=request.get_json()\n",
    "    sang1=data.get(\"sang1\",\"\")\n",
    "    sang2=data.get(\"sang2\",\"\")\n",
    "    only_menus, sang1_cnt, sang2_cnt = yusasang_only(cafe_menu_data, sang1, sang2)\n",
    "    print(only_menus)\n",
    "    spring_response = search_sanggueon_only(menu_data, only_menus, sang1, sang2, sang1_cnt, sang2_cnt)\n",
    "    print(spring_response)\n",
    "    if(spring_response.get(\"status\")==\"success\"):\n",
    "        return jsonify(spring_response)\n",
    "    else:\n",
    "        return jsonify({\"status\":\"error\",\"message\":spring_response.get(\"error\")})\n",
    "\n",
    "\n",
    "if __name__ == '__main__':\n",
    "    app.run(host='localhost', port=5001)"
   ]
  },
  {
   "cell_type": "code",
   "execution_count": 376,
   "id": "c521dabb",
   "metadata": {},
   "outputs": [],
   "source": [
    "# !pip install python-Levenshtein\n",
    "# !pip install mysql-connector-python"
   ]
  },
  {
   "cell_type": "code",
   "execution_count": 352,
   "id": "62a92f51",
   "metadata": {},
   "outputs": [],
   "source": [
    "# Levenshtein 거리 기반 유사도 계산\n",
    "def levenshtein_similarity(str1, str2):\n",
    "    # Levenshtein 거리 계산\n",
    "    distance = Levenshtein.distance(str1, str2)\n",
    "    # 유사도를 0~1 사이 값으로 변환 (1 - 정규화된 거리)\n",
    "    max_len = max(len(str1), len(str2))\n",
    "    return 1 - (distance / max_len)\n",
    "\n",
    "# 입력 메뉴와 가장 유사한 메뉴 찾기\n",
    "def find_similar_menu(data, input_menu, threshold=0.5):\n",
    "    # 메뉴 리스트 가져오기\n",
    "    menu_list = data[\"menu\"].tolist()\n",
    "    \n",
    "    # 각 메뉴에 대해 Levenshtein 유사도 계산\n",
    "    similarities = [levenshtein_similarity(input_menu, menu) for menu in menu_list]\n",
    "    \n",
    "    # 유사도가 가장 높은 메뉴 찾기\n",
    "    max_similarity = max(similarities)\n",
    "    print(max_similarity)\n",
    "    most_similar_index = np.argmax(similarities)\n",
    "    \n",
    "    # 임계값 비교\n",
    "    if max_similarity < threshold:\n",
    "        return \"None\"\n",
    "    else:\n",
    "        return menu_list[most_similar_index]"
   ]
  },
  {
   "cell_type": "code",
   "execution_count": 216,
   "id": "3e742127",
   "metadata": {},
   "outputs": [],
   "source": [
    "# 유사 상권 탐색\n",
    "def yusa_dong(clustered_dong, dong_pk):\n",
    "    target_dong_index = clustered_dong[clustered_dong[\"법정동 번호(PK)\"]==dong_pk].index[0]\n",
    "\n",
    "    same_cluster_dong = clustered_dong[clustered_dong[\"군집\"]==clustered_dong.iloc[target_dong_index,-1]]\n",
    "    same_cluster_dong.reset_index(drop=True, inplace=True)\n",
    "    target_dong_index = same_cluster_dong[same_cluster_dong[\"법정동 번호(PK)\"]==dong_pk].index[0]\n",
    "    \n",
    "    simil_data = same_cluster_dong.iloc[:,3:-1]\n",
    "    simil_data_scaled = normalizer.fit_transform(simil_data)\n",
    "\n",
    "    train_tensor = torch.tensor(simil_data_scaled, dtype=torch.float64)\n",
    "    euclidean_distances = torch.cdist(train_tensor[target_dong_index].unsqueeze(0), train_tensor).squeeze()\n",
    "    top_idx = np.argsort(euclidean_distances)[1:10]\n",
    "\n",
    "    return [int(same_cluster_dong[\"동 이름\"].iloc[int(idx)]) for idx in top_idx]"
   ]
  },
  {
   "cell_type": "code",
   "execution_count": 71,
   "id": "a397a071-16ad-4407-af0f-543596349d49",
   "metadata": {},
   "outputs": [],
   "source": [
    "def data_tokenizing(data):\n",
    "    data[\"ingred\"] = data[\"ingred\"].replace('\\'', '', regex=True)\n",
    "    kiwi = Kiwi()\n",
    "    for i in range(len(data[\"info\"])):\n",
    "        data.iloc[i, 1] = kiwi_tokenizer(data[\"info\"][i], tokenizer=kiwi)\n",
    "    return data"
   ]
  },
  {
   "cell_type": "code",
   "execution_count": 222,
   "id": "bb87bdcf-e94e-4a19-bd3f-3272149c6555",
   "metadata": {},
   "outputs": [],
   "source": [
    "def ingred_sim(data, menu_name, num=10):\n",
    "    # info_simil 함수로 유사한 메뉴 추출\n",
    "    info_sim = info_simil(data, menu_name, 50)\n",
    "    \n",
    "    # 유사한 메뉴가 없는 경우 처리\n",
    "    if info_sim.empty or len(info_sim[\"menu\"]) == 0:\n",
    "        return [\"유사한 메뉴가 존재하지 않습니다...\"]\n",
    "\n",
    "    # TF-IDF 변환\n",
    "    menu_type = [menu.split(\" \")[-1]for menu in info_sim[\"menu\"]]\n",
    "    \n",
    "    tfidfv = TfidfVectorizer().fit_transform(info_sim[\"ingred\"]+menu_type)\n",
    "\n",
    "    # 코사인 유사도 계산\n",
    "    ingred_simil = cosine_similarity(tfidfv[0], tfidfv)[0]\n",
    "\n",
    "    # 자기 자신 제외하고 유사도 순으로 정렬\n",
    "    ingred_simil_index = np.argsort(ingred_simil)[::-1][1:num + 1]\n",
    "\n",
    "    # 유사도가 낮은 경우 처리\n",
    "    if len(ingred_simil_index) == 0 or ingred_simil[ingred_simil_index[0]] < 0.2:\n",
    "        return [\"유사한 메뉴가 존재하지 않습니다...\"]\n",
    "\n",
    "    # 결과 반환\n",
    "    return list(info_sim.iloc[ingred_simil_index][\"menu\"])"
   ]
  },
  {
   "cell_type": "code",
   "execution_count": 138,
   "id": "92e31b74-4ddf-4912-b112-3a99d685cb12",
   "metadata": {},
   "outputs": [],
   "source": [
    "def info_simil(data, menu_name, num=10):\n",
    "    # 메뉴 이름이 유효한지 확인\n",
    "    if menu_name not in data[\"menu\"].values:\n",
    "        print(\"메뉴 이름이 잘못되었습니다.\")\n",
    "        return pd.DataFrame()  # 빈 데이터프레임 반환\n",
    "\n",
    "    # 선택된 메뉴의 인덱스 가져오기\n",
    "    pick_idx = data[data[\"menu\"] == menu_name].index[0]\n",
    "\n",
    "    # TF-IDF 변환\n",
    "    tfidfv = TfidfVectorizer().fit_transform(data[\"tokenized_info\"])\n",
    "\n",
    "    # 코사인 유사도 계산\n",
    "    cosine_simil = cosine_similarity(tfidfv[pick_idx], tfidfv)[0]\n",
    "\n",
    "    # 유사도를 기준으로 정렬 (내림차순)\n",
    "    simil_index = np.argsort(cosine_simil)[::-1]\n",
    "\n",
    "    # 자기 자신 제외하고 상위 num개 선택\n",
    "    simil_index = simil_index[1:num + 1]\n",
    "\n",
    "    # 유사도가 일정 수준 이하인 경우 처리\n",
    "    if len(simil_index) == 0 or cosine_simil[simil_index[0]] < 0.2:\n",
    "        print(\"유사한 메뉴가 존재하지 않습니다.\")\n",
    "        return pd.DataFrame()  # 빈 데이터프레임 반환\n",
    "\n",
    "    # 결과 반환\n",
    "    return data.iloc[simil_index]"
   ]
  },
  {
   "cell_type": "code",
   "execution_count": 139,
   "id": "d7bbadc8-fba3-403c-ba96-4414dc6bb752",
   "metadata": {},
   "outputs": [],
   "source": [
    "def input_simil(data, input_data, num=10):\n",
    "    input_token = kiwi_tokenizer(input_data)\n",
    "    text_vector = np.array(data[\"menu\"] + \" \" + data[\"tokenized_info\"])\n",
    "    t_vector = np.insert(text_vector, 0, input_token)\n",
    "\n",
    "    tfidfv = TfidfVectorizer().fit_transform(t_vector)\n",
    "    cosine_simil = cosine_similarity(tfidfv[0], tfidfv)[0]\n",
    "\n",
    "    simil_index = np.flip(np.argsort(cosine_simil[1:]))  # 자기 자신은 제외\n",
    "\n",
    "    # 유사도 제한\n",
    "    threshold = 0.15\n",
    "    if cosine_simil[simil_index[0] + 1] < threshold:\n",
    "        return [\"유사한 메뉴가 존재하지 않습니다...\"]\n",
    "    else:\n",
    "        top_matches = data.iloc[simil_index[:num], 0]\n",
    "        return list(top_matches)"
   ]
  },
  {
   "cell_type": "code",
   "execution_count": 75,
   "id": "2eec58c0-a17a-45db-a417-3773363782be",
   "metadata": {},
   "outputs": [],
   "source": [
    "def kiwi_tokenizer(sentence, tokenizer=Kiwi(typos=\"basic\")):\n",
    "    sentence = sentence.replace(\" \", \"\")\n",
    "    stopwords = Stopwords()\n",
    "    get_tags = [\"XR\", \"NNG\", \"VA\"]\n",
    "    sentence = tokenizer.space(sentence)\n",
    "\n",
    "    kiwi_result = tokenizer.tokenize(\n",
    "        sentence, normalize_coda=True, stopwords=stopwords)\n",
    "    token_list = []\n",
    "    for token in range(len(kiwi_result)):\n",
    "        if (kiwi_result[token].tag in get_tags):\n",
    "            token_list.append(kiwi_result[token].form)\n",
    "    token_str = \" \".join(token_list)\n",
    "    return token_str"
   ]
  },
  {
   "cell_type": "code",
   "execution_count": 367,
   "id": "b3737049-5e64-448c-a1e7-649c00569b14",
   "metadata": {},
   "outputs": [],
   "source": [
    "# 키워드 추천 분석 결과 전달\n",
    "def keyword_menu_send_to_spring(menu_data, keyword, recommanded):\n",
    "    spring_url = \"http://localhost:8087/api/receive-keyword-menu\"\n",
    "    \n",
    "    try:\n",
    "        menu_info = [f'[{menu_data[menu_data[\"menu\"]==menu][\"info\"].values[0]}]' for menu in recommanded]\n",
    "        menu_ingred = [f'[{menu_data[menu_data[\"menu\"]==menu][\"ingred\"].values[0]}]' for menu in recommanded]\n",
    "    except:\n",
    "        menu_info = []\n",
    "        menu_ingred = []\n",
    "    \n",
    "    payload = {\n",
    "        \"status\" : \"success\",\n",
    "        \"keyword\": keyword,\n",
    "        \"recommanded\": recommanded,\n",
    "        \"menuInfo\": menu_info,\n",
    "        \"menuIngred\":menu_ingred\n",
    "    }\n",
    "    # json 형식으로 전송\n",
    "    headers = {\"Content-Type\": \"application/json\"}\n",
    "    print(payload)\n",
    "    try:\n",
    "        response = requests.post(spring_url, json=payload, headers=headers)\n",
    "        response.raise_for_status()\n",
    "        return payload\n",
    "    except Exception as e:\n",
    "        # 예외처리\n",
    "        print(f\"스프링 부트 전송 실패: {str(e)}\")\n",
    "        return {\"status\": \"error\", \"error\": str(e)}"
   ]
  },
  {
   "cell_type": "code",
   "execution_count": 310,
   "id": "5fac4053",
   "metadata": {},
   "outputs": [],
   "source": [
    "# 분석한 유사 상권 정보 전달\n",
    "def similar_dong_send_to_spring(similar_dongs):\n",
    "    spring_url = \"http://localhost:8087/api/receive-similar-dongs\"\n",
    "    # 스프링에 dong이라는 이름으로 dong_name 데이터 전송\n",
    "    payload = {\"similarDongs\": similar_dongs,\n",
    "               \"status\": \"success\"\n",
    "              }\n",
    "    # json 형식으로 전송\n",
    "    headers = {\"Content-Type\": \"application/json\"}\n",
    "    \n",
    "    try:\n",
    "        response = requests.post(spring_url, json=payload, headers=headers)\n",
    "        response.raise_for_status()  # HTTP 오류 있는지 확인 => 예외 발생\n",
    "        return payload\n",
    "    except Exception as e:\n",
    "        # 예외처리\n",
    "        print(f\"스프링 전송 실패: {str(e)}\")\n",
    "        return {\"status\": \"error\", \"error\": str(e)}"
   ]
  },
  {
   "cell_type": "code",
   "execution_count": 364,
   "id": "757024c2-6d06-427d-87b3-65dc9c38c8b4",
   "metadata": {},
   "outputs": [],
   "source": [
    "# 유사 메뉴 분석 결과 스프링으로 전송\n",
    "def similar_menu_recommanded(menu_data, similar_menus, menu_name):\n",
    "    spring_url=\"http://localhost:8087/api/receive-similar-menus\"\n",
    "    \n",
    "    try:\n",
    "        menu_info = [f'[{menu_data[menu_data[\"menu\"]==menu][\"info\"].values[0]}]' for menu in similar_menus]\n",
    "        menu_ingred = [f'[{menu_data[menu_data[\"menu\"]==menu][\"ingred\"].values[0]}]' for menu in similar_menus]\n",
    "    except:\n",
    "        menu_info = []\n",
    "        menu_ingred=[]\n",
    "    \n",
    "    payload={\"status\":\"success\",\n",
    "            \"similarMenus\":similar_menus,\n",
    "            \"menu\": menu_name,\n",
    "             \"menuInfo\": menu_info,\n",
    "             \"menuIngred\":menu_ingred\n",
    "            }\n",
    "        \n",
    "    headers={\"Content-Type\" : \"application/json\"}\n",
    "    print(payload)\n",
    "    \n",
    "    try:\n",
    "        response = requests.post(spring_url, json=payload, headers=headers)\n",
    "        response.raise_for_status()\n",
    "        return payload\n",
    "    except Exception as e:\n",
    "        print(f\"스프링 전송 실패: {str(e)}\")\n",
    "        return {\"status\" : \"error\", \"error\":str(e)}"
   ]
  },
  {
   "cell_type": "code",
   "execution_count": 366,
   "id": "90f70a14",
   "metadata": {},
   "outputs": [],
   "source": [
    "# 상권 공통 메뉴 분석 결과 스프링으로 전송\n",
    "def search_sanggueon_gongtong(menu_data, gongtong_menus, sang1, sang2, sang1_ratio, sang2_ratio):\n",
    "    spring_url=\"http://localhost:8087/api/receive-sanggueon-gongtong\"\n",
    "    \n",
    "    try:\n",
    "        menu_info = [f'[{menu_data[menu_data[\"menu\"]==menu][\"info\"].values[0]}]' for menu in gongtong_menus if menu in list(menu_data[\"menu\"])]\n",
    "        menu_ingred = [f'[{menu_data[menu_data[\"menu\"]==menu][\"ingred\"].values[0]}]' for menu in gongtong_menus if menu in list(menu_data[\"menu\"])]\n",
    "    except:\n",
    "        menu_info = []\n",
    "        menu_ingred = []\n",
    "    \n",
    "    payload={\"status\":\"success\",\n",
    "            \"gongtongMenus\" : gongtong_menus,\n",
    "             \"sang1\" : sang1,\n",
    "             \"sang2\":sang2,\n",
    "             \"sang1MenuCnt\":sang1_ratio,\n",
    "             \"sang2MenuCnt\":sang2_ratio,\n",
    "             \"menuInfo\":menu_info,\n",
    "             \"menuIngred\":menu_ingred\n",
    "            }\n",
    "        \n",
    "    headers={\"Content-Type\" : \"application/json\"}\n",
    "    print(payload)\n",
    "    \n",
    "    try:\n",
    "        response = requests.post(spring_url, json=payload, headers=headers)\n",
    "        response.raise_for_status()\n",
    "        return payload\n",
    "    except Exception as e:\n",
    "        print(f\"스프링 전송 실패: {str(e)}\")\n",
    "        return {\"status\" : \"error\", \"error\":str(e)}"
   ]
  },
  {
   "cell_type": "code",
   "execution_count": 365,
   "id": "1bbb025b",
   "metadata": {},
   "outputs": [],
   "source": [
    "# 상권2만 언급이 많은 메뉴 전송\n",
    "def search_sanggueon_only(menu_data, only_menus, sang1, sang2, sang1_ratio, sang2_ratio):\n",
    "    spring_url=\"http://localhost:8087/api/recieve-sanggueon-only\"\n",
    "    \n",
    "    try:\n",
    "        menu_info = [f'[{menu_data[menu_data[\"menu\"]==menu][\"info\"].values[0]}]' for menu in only_menus if menu in list(menu_data[\"menu\"])]\n",
    "        menu_ingred = [f'[{menu_data[menu_data[\"menu\"]==menu][\"ingred\"].values[0]}]' for menu in only_menus if menu in list(menu_data[\"menu\"])]\n",
    "    except:\n",
    "        menu_info = []\n",
    "        menu_ingred = []\n",
    "    \n",
    "    payload={\"status\":\"success\",\n",
    "             \"onlyMenus\":only_menus,\n",
    "             \"sang1\":sang1,\n",
    "             \"sang2\":sang2,\n",
    "             \"sang1MenuCnt\":sang1_ratio,\n",
    "             \"sang2MenuCnt\":sang2_ratio,\n",
    "             \"menuInfo\":menu_info,\n",
    "             \"menuIngred\":menu_ingred\n",
    "            }\n",
    "    headers={\"Content-Type\":\"application/json\"}\n",
    "    print(payload)\n",
    "    \n",
    "    try:\n",
    "        response=requests.post(spring_url,json=payload,headers=headers)\n",
    "        response.raise_for_status()\n",
    "        return payload\n",
    "    except Exception as e:\n",
    "        print(f\"스프링 전송 실패: {str(e)}\")\n",
    "        return {\"status\":\"error\", \"error\":str(e)}"
   ]
  },
  {
   "cell_type": "code",
   "execution_count": 80,
   "id": "1b29fb04-3741-4a47-9cc3-a2ecc64cc38e",
   "metadata": {},
   "outputs": [],
   "source": [
    "# 좌표를 통해 법정동 번호 조회\n",
    "def get_dong_number(latitude, longitude, dong_data=clustered_dong):\n",
    "    url = f\"https://dapi.kakao.com/v2/local/geo/coord2address.json?x={longitude}&y={latitude}\"\n",
    "    headers = {\"Authorization\": f\"KakaoAK {KAKAO_API_KEY}\"}\n",
    "\n",
    "    response = requests.get(url, headers=headers)\n",
    "\n",
    "    # 200번 : 통신 성공\n",
    "    if response.status_code == 200:\n",
    "        address_info = response.json()\n",
    "        # 카카오 api에 해당 좌표 정보가 있는지 확인\n",
    "        if address_info['documents']:\n",
    "            addr = address_info['documents'][0]['address']['address_name']\n",
    "            region = addr.split(\" \")[0]\n",
    "            gu = addr.split(\" \")[1]\n",
    "            dong = addr.split(\" \")[2]\n",
    "\n",
    "            region_dong = dong_data[dong_data[\"지역\"].str.contains(region)]\n",
    "            dong_number = list(\n",
    "                region_dong[region_dong[\"동 이름\"] == dong].head(1)[\"법정동 번호(PK)\"])[0]\n",
    "            return dong_number\n",
    "    return None"
   ]
  },
  {
   "cell_type": "code",
   "execution_count": 211,
   "id": "143c6a2a",
   "metadata": {},
   "outputs": [],
   "source": [
    "# 두 상권 중 다른 상권에만 유독 더 많이 파는 메뉴\n",
    "def yusasang_only(data, sang1, sang2):\n",
    "    sang1data = data[data[\"dong\"]==sang1]\n",
    "    sang2data = data[data[\"dong\"]==sang2]\n",
    "    \n",
    "    sang1_count = Counter(sang1data['menu_keyword'])\n",
    "    sang2_count = Counter(sang2data['menu_keyword'])\n",
    "\n",
    "    sang1_menu = list(sang1_count.keys())\n",
    "    sang1_cnt = sang1_count.values()\n",
    "    sang1_cnt_list = list(sang1_cnt)\n",
    "    sang1_rat = []\n",
    "    sang1_sum = 0\n",
    "\n",
    "    sang2_menu = list(sang2_count.keys())\n",
    "    sang2_cnt = sang2_count.values()\n",
    "    sang2_cnt_list = list(sang2_cnt)\n",
    "    sang2_rat = []\n",
    "    sang2_sum = 0\n",
    "\n",
    "    for i in range(len(sang1_cnt)):\n",
    "        sang1_sum+=sang1_cnt_list[i]\n",
    "    for i in range(len(sang2_cnt)):\n",
    "        sang2_sum+=sang2_cnt_list[i]\n",
    "\n",
    "    sang1_rat = np.array([r/sang1_sum for r in sang1_cnt_list])\n",
    "    sang2_rat = np.array([r/sang2_sum for r in sang2_cnt_list])\n",
    "\n",
    "    sang1_most_rat = np.flip(np.argsort(sang1_rat)[:])\n",
    "    sang2_most_rat = np.flip(np.argsort(sang2_rat)[:])\n",
    "\n",
    "    sang1_most = [sang1_menu[menu_i] for menu_i in sang1_most_rat]\n",
    "    sang2_most = [sang2_menu[menu_i] for menu_i in sang2_most_rat]\n",
    "\n",
    "    only_sang2 = []\n",
    "    sang1_ratio = []\n",
    "    sang2_ratio = []\n",
    "    popularity = len(sang1_most)//5\n",
    "    \n",
    "    for i in range(len(sang2_most)):\n",
    "        if(sang2_most[i] not in sang1_most[:popularity]):\n",
    "            only_sang2.append(sang2_most[i])\n",
    "            try:\n",
    "                sang1_ratio.append(sang1_cnt_list[sang1_menu.index(sang2_most[i])])\n",
    "            except:\n",
    "                sang1_ratio.append(0)\n",
    "            sang2_ratio.append(sang2_cnt_list[sang2_most_rat[i]])\n",
    "        if(len(only_sang2) == 5):\n",
    "            break\n",
    "    if(len(only_sang2) < 3):\n",
    "        only_sang2.append(\"두 상권의 거의 모든 메뉴가 유사합니다.\")\n",
    "        sang1_ratio.append(0)\n",
    "        sang2_ratio.append(0)\n",
    "\n",
    "    return [only_sang2, sang1_ratio, sang2_ratio]"
   ]
  },
  {
   "cell_type": "code",
   "execution_count": 178,
   "id": "b3fc050f",
   "metadata": {},
   "outputs": [],
   "source": [
    "#두 상권 모두 많이 파는 메뉴\n",
    "def yusasang_gongtong(data, sang1, sang2):\n",
    "    sang1data = data[data[\"dong\"]==sang1]\n",
    "    sang2data = data[data[\"dong\"]==sang2]\n",
    "    \n",
    "    sang1_count = Counter(sang1data['menu_keyword'])\n",
    "    sang2_count = Counter(sang2data['menu_keyword'])\n",
    "\n",
    "    sang1_menu = list(sang1_count.keys())\n",
    "    sang1_cnt = sang1_count.values()\n",
    "    sang1_cnt_list = list(sang1_cnt)\n",
    "    sang1_rat = []\n",
    "    sang1_sum = 0\n",
    "\n",
    "    sang2_menu = list(sang2_count.keys())\n",
    "    sang2_cnt = sang2_count.values()\n",
    "    sang2_cnt_list = list(sang2_cnt)\n",
    "    sang2_rat = []\n",
    "    sang2_sum = 0\n",
    "\n",
    "    for i in range(len(sang1_cnt)):\n",
    "        sang1_sum+=sang1_cnt_list[i]\n",
    "    for i in range(len(sang2_cnt)):\n",
    "        sang2_sum+=sang2_cnt_list[i]\n",
    "\n",
    "    sang1_rat = np.array([r/sang1_sum for r in sang1_cnt_list])\n",
    "    sang2_rat = np.array([r/sang2_sum for r in sang2_cnt_list])\n",
    "\n",
    "    sang1_most_rat = np.flip(np.argsort(sang1_rat)[:])\n",
    "    sang2_most_rat = np.flip(np.argsort(sang2_rat)[:])\n",
    "\n",
    "    sang1_most = [sang1_menu[menu_i] for menu_i in sang1_most_rat]\n",
    "    sang2_most = [sang2_menu[menu_i] for menu_i in sang2_most_rat]\n",
    "    \n",
    "    sang1_ratio = []\n",
    "    sang2_ratio = []\n",
    "    popularity = len(sang2_most) // 10\n",
    "    \n",
    "    gongtong_sang = []\n",
    "    for i in range(popularity, len(sang1_most)):\n",
    "        if(sang1_most[i] in sang2_most[:popularity*2]):\n",
    "            gongtong_sang.append(sang1_most[i])\n",
    "            sang1_ratio.append(sang1_cnt_list[sang1_most_rat[i]])\n",
    "            sang2_ratio.append(sang2_cnt_list[sang2_menu.index(sang1_most[i])])\n",
    "        if(len(gongtong_sang)==5):\n",
    "            break\n",
    "    if(len(gongtong_sang) < 3):\n",
    "        gongtong_sang.append(\"두 상권의 메뉴는 거의 유사하지 않습니다.\")\n",
    "    print(sang1_ratio)\n",
    "    print(sang2_ratio)\n",
    "    return [gongtong_sang, sang1_ratio, sang2_ratio]"
   ]
  },
  {
   "cell_type": "code",
   "execution_count": 90,
   "id": "3e00f4ec",
   "metadata": {},
   "outputs": [],
   "source": [
    "# 현재 상권에서 주로 파는 메뉴\n",
    "def sang_menu(data, sang, no_menus=[]):\n",
    "    sangdata = data[data[\"dong\"]==sang]\n",
    "    \n",
    "    sang_count = Counter(sangdata['menu_keyword'])\n",
    "    sang_most = sang_count.most_common(len(sang_count))\n",
    "    \n",
    "    sang_best_menu = []\n",
    "    for i in range(5, len(sang_most)):\n",
    "        if(sang_most[i][0] in no_menus):\n",
    "            continue\n",
    "        sang_best_menu.append(sang_most[i][0])\n",
    "        if(len(sang_best_menu)==5):\n",
    "            break\n",
    "    if(len(sang_best_menu)<3):\n",
    "        sang_best_menu.append(\"해당 상권은 분석할 수 없습니다. 사유 : 상권 내 카페 수 부족\")\n",
    "    return sang_best_menu"
   ]
  },
  {
   "cell_type": "code",
   "execution_count": 187,
   "id": "c2367f2c",
   "metadata": {},
   "outputs": [
    {
     "data": {
      "text/plain": [
       "['햄 치즈 치아바타',\n",
       " '치킨 샌드위치',\n",
       " '샐러드 샌드위치',\n",
       " '반미 샌드위치',\n",
       " '미트볼 샌드위치',\n",
       " '치즈 치아바타',\n",
       " '햄치즈 바게트',\n",
       " '함박 샌드위치',\n",
       " '갈릭 베이글',\n",
       " '치즈 샌드위치']"
      ]
     },
     "execution_count": 187,
     "metadata": {},
     "output_type": "execute_result"
    }
   ],
   "source": [
    "recommanded2 = ingred_sim(menu_data, \"닭가슴살 샌드위치\")\n",
    "recommanded2"
   ]
  },
  {
   "cell_type": "code",
   "execution_count": 228,
   "id": "3d31a7eb",
   "metadata": {},
   "outputs": [],
   "source": [
    "menu_data[\"tokenized_name\"] = [menufor menu in menu_data[\"menu\"]]"
   ]
  },
  {
   "cell_type": "code",
   "execution_count": 227,
   "id": "89838db2",
   "metadata": {},
   "outputs": [],
   "source": [
    "def kiwi_tokenizer_menu(sentence, tokenizer=Kiwi(typos=\"basic\")):\n",
    "    sentence = sentence.replace(\" \", \"\")\n",
    "    stopwords = Stopwords()\n",
    "    sentence = tokenizer.space(sentence)\n",
    "\n",
    "    kiwi_result = tokenizer.tokenize(\n",
    "        sentence, normalize_coda=True, stopwords=stopwords)\n",
    "    token_list = []\n",
    "    for token in range(len(kiwi_result)):\n",
    "        token_list.append(kiwi_result[token].form)\n",
    "    token_str = \" \".join(token_list)\n",
    "    return token_str"
   ]
  },
  {
   "cell_type": "code",
   "execution_count": 323,
   "id": "d157fa40",
   "metadata": {},
   "outputs": [],
   "source": [
    "menu_data[\"tokenized_name\"]=[\" \".join([m for m in menu if m!=\" \"]) for menu in menu_data[\"menu\"]]"
   ]
  },
  {
   "cell_type": "code",
   "execution_count": 100,
   "id": "fdc990d2",
   "metadata": {},
   "outputs": [
    {
     "name": "stdout",
     "output_type": "stream",
     "text": [
      "안녕\n",
      "하\n",
      "세요\n",
      "!\n",
      "파이썬\n",
      "을\n",
      "배우\n",
      "고\n",
      "있\n",
      "습니다\n",
      ".\n"
     ]
    }
   ],
   "source": []
  },
  {
   "cell_type": "code",
   "execution_count": null,
   "id": "decf2c71",
   "metadata": {},
   "outputs": [],
   "source": []
  }
 ],
 "metadata": {
  "kernelspec": {
   "display_name": "Python 3 (ipykernel)",
   "language": "python",
   "name": "python3"
  },
  "language_info": {
   "codemirror_mode": {
    "name": "ipython",
    "version": 3
   },
   "file_extension": ".py",
   "mimetype": "text/x-python",
   "name": "python",
   "nbconvert_exporter": "python",
   "pygments_lexer": "ipython3",
   "version": "3.11.9"
  }
 },
 "nbformat": 4,
 "nbformat_minor": 5
}
