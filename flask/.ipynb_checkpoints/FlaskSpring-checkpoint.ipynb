{
 "cells": [
  {
   "cell_type": "code",
<<<<<<< HEAD
   "execution_count": 70,
=======
   "execution_count": 1,
>>>>>>> ee07227 (pull)
   "id": "973a1f9e",
   "metadata": {},
   "outputs": [],
   "source": [
    "import requests\n",
    "from flask import Flask, request, jsonify\n",
    "from flask_cors import CORS\n",
    "import pandas as pd\n",
    "import numpy as np\n",
    "import sklearn\n",
    "from sklearn.preprocessing import Normalizer\n",
    "import torch\n",
    "import mglearn\n",
    "from collections import Counter\n",
    "from kiwipiepy import Kiwi, TypoTransformer, TypoDefinition\n",
    "import re\n",
    "import pandas as pd\n",
    "import json\n",
    "import numpy as np\n",
    "from kiwipiepy.utils import Stopwords\n",
    "from sklearn.feature_extraction.text import TfidfVectorizer\n",
    "from sklearn.metrics.pairwise import cosine_similarity"
   ]
  },
  {
   "cell_type": "code",
<<<<<<< HEAD
   "execution_count": 102,
=======
   "execution_count": 3,
>>>>>>> ee07227 (pull)
   "id": "692a81a2",
   "metadata": {},
   "outputs": [],
   "source": [
    "normalizer = Normalizer()\n",
    "clustered_dong = pd.read_json(\"./data/군집상권데이터.json\")\n",
    "menu_data = pd.read_json(\"./data/메뉴_추상설명_재료_토큰화.json\")\n",
<<<<<<< HEAD
    "cafe_menu_data = pd.read_json(\"./data/메뉴 데이터.json\")"
=======
    "# cafe_menu_data = pd.read_json(\"./data/카페메뉴.json\")"
>>>>>>> ee07227 (pull)
   ]
  },
  {
   "cell_type": "code",
<<<<<<< HEAD
   "execution_count": 123,
=======
   "execution_count": 5,
   "id": "c88690e3-2d98-4f82-b645-520f8d34b2e1",
   "metadata": {},
   "outputs": [
    {
     "data": {
      "text/html": [
       "<div>\n",
       "<style scoped>\n",
       "    .dataframe tbody tr th:only-of-type {\n",
       "        vertical-align: middle;\n",
       "    }\n",
       "\n",
       "    .dataframe tbody tr th {\n",
       "        vertical-align: top;\n",
       "    }\n",
       "\n",
       "    .dataframe thead th {\n",
       "        text-align: right;\n",
       "    }\n",
       "</style>\n",
       "<table border=\"1\" class=\"dataframe\">\n",
       "  <thead>\n",
       "    <tr style=\"text-align: right;\">\n",
       "      <th></th>\n",
       "      <th>menu</th>\n",
       "      <th>info</th>\n",
       "      <th>ingred</th>\n",
       "      <th>tokenized_info</th>\n",
       "    </tr>\n",
       "  </thead>\n",
       "  <tbody>\n",
       "    <tr>\n",
       "      <th>0</th>\n",
       "      <td>바닐라 라떼</td>\n",
       "      <td>따뜻 고소 편안 달콤 향긋 은은 포근 조화 균형감</td>\n",
       "      <td>우유, 생크림, 설탕, 소금, 바닐라 추출물, 얼음</td>\n",
       "      <td>따뜻 고소 편안 달콤 향긋 은은 포근 조화 균형감</td>\n",
       "    </tr>\n",
       "    <tr>\n",
       "      <th>1</th>\n",
       "      <td>바질 에이드</td>\n",
       "      <td>신선 허브 향 상쾌 청량감 깨끗 독특 조화</td>\n",
       "      <td>오렌지 주스, 라임 주스, 레몬 주스, 설탕, 물, 식용 색소, 젤라틴, 얼음</td>\n",
       "      <td>신선 허브 향 상쾌 청량감 깨끗 독특 조화</td>\n",
       "    </tr>\n",
       "    <tr>\n",
       "      <th>2</th>\n",
       "      <td>멜론 소다</td>\n",
       "      <td>시원하 달콤 과일 향 활기차 어리 시절 달콤쌉싸름 경쾌 기포</td>\n",
       "      <td>크림치즈, 설탕, 계란, 사워크림, 바닐라 추출물, 레몬즙, 밀가루, 버터, 소금...</td>\n",
       "      <td>시원하 달콤 과일 향 활기차 어리 시절 달콤쌉싸름 경쾌 기포</td>\n",
       "    </tr>\n",
       "    <tr>\n",
       "      <th>3</th>\n",
       "      <td>크림 라떼</td>\n",
       "      <td>고급 풍미 따뜻 풍성 밀도 감 감 단맛 마무리</td>\n",
       "      <td>아몬드 가루, 슈가파우더, 흰자, 설탕, 바닐라 추출물, 크림치즈, 쿠키 크럼블,...</td>\n",
       "      <td>고급 풍미 따뜻 풍성 밀도 감 감 단맛 마무리</td>\n",
       "    </tr>\n",
       "    <tr>\n",
       "      <th>4</th>\n",
       "      <td>유자 소다</td>\n",
       "      <td>상큼 청량감 과일 향 개운 여름 활력 감귤 향 맑 상쾌하 탄산 새콤하</td>\n",
       "      <td>아몬드 가루, 슈가파우더, 흰자, 설탕, 바닐라 추출물, 체리 잼, 생크림, 버터...</td>\n",
       "      <td>상큼 청량감 과일 향 개운 여름 활력 감귤 향 맑 상쾌하 탄산 새콤하</td>\n",
       "    </tr>\n",
       "    <tr>\n",
       "      <th>...</th>\n",
       "      <td>...</td>\n",
       "      <td>...</td>\n",
       "      <td>...</td>\n",
       "      <td>...</td>\n",
       "    </tr>\n",
       "    <tr>\n",
       "      <th>1313</th>\n",
       "      <td>카라멜 머핀</td>\n",
       "      <td>달콤 고소 촉촉 질감 진하 캐러멜 풍미 클래식 디저트 고급 만족감 따뜻 풍미 깊 사랑</td>\n",
       "      <td>박력분, 설탕, 베이킹파우더, 소금, 계란, 우유, 버터, 아몬드 슬라이스, 아몬...</td>\n",
       "      <td>달콤 고소 촉촉 질감 진하 캐러멜 풍미 클래식 디저트 고급 만족감 따뜻 풍미 깊 사랑</td>\n",
       "    </tr>\n",
       "    <tr>\n",
       "      <th>1314</th>\n",
       "      <td>아몬드 머핀</td>\n",
       "      <td>고소하 달콤 질감 촉촉 아몬드 풍미 건강 디저트 클래식 감성 만족감 화사 심플</td>\n",
       "      <td>콜드 브루 커피, 우유, 꿀, 얼음, 바닐라 시럽, 초콜릿 시럽, 생크림</td>\n",
       "      <td>고소하 달콤 질감 촉촉 아몬드 풍미 건강 디저트 클래식 감성 만족감 화사 심플</td>\n",
       "    </tr>\n",
       "    <tr>\n",
       "      <th>1315</th>\n",
       "      <td>콜드 브루 딜라이트</td>\n",
       "      <td>진하 커피 풍미 크리미함 달콤 밸런스 고급 음료 클래식 감성 만족감 깔끔 농후 사랑</td>\n",
       "      <td>고구마, 우유, 꿀, 얼음, 바닐라 아이스크림</td>\n",
       "      <td>진하 커피 풍미 크리미함 달콤 밸런스 고급 음료 클래식 감성 만족감 깔끔 농후 사랑</td>\n",
       "    </tr>\n",
       "    <tr>\n",
       "      <th>1316</th>\n",
       "      <td>아몬드 크럼블</td>\n",
       "      <td>고소하 바삭한크럼블토핑 달콤 촉촉 중심 건강 디저트 고급 만족감 화사 풍미 깊</td>\n",
       "      <td>아몬드, 버터, 밀가루, 설탕, 소금, 계란, 베이킹파우더</td>\n",
       "      <td>고소하 바삭한크럼블토핑 달콤 촉촉 중심 건강 디저트 고급 만족감 화사 풍미 깊</td>\n",
       "    </tr>\n",
       "    <tr>\n",
       "      <th>1317</th>\n",
       "      <td>파인애플 탕후루</td>\n",
       "      <td>상큼 달콤 설탕 코팅 신선 파인애플 풍미 화려하 디저트 열대 감성 고급 만족감 생동...</td>\n",
       "      <td>파인애플, 설탕, 물, 식용색소</td>\n",
       "      <td>상큼 달콤 설탕 코팅 신선 파인애플 풍미 화려하 디저트 열대 감성 고급 만족감 생동...</td>\n",
       "    </tr>\n",
       "  </tbody>\n",
       "</table>\n",
       "<p>1318 rows × 4 columns</p>\n",
       "</div>"
      ],
      "text/plain": [
       "            menu                                               info  \\\n",
       "0         바닐라 라떼                        따뜻 고소 편안 달콤 향긋 은은 포근 조화 균형감   \n",
       "1         바질 에이드                            신선 허브 향 상쾌 청량감 깨끗 독특 조화   \n",
       "2          멜론 소다                  시원하 달콤 과일 향 활기차 어리 시절 달콤쌉싸름 경쾌 기포   \n",
       "3          크림 라떼                          고급 풍미 따뜻 풍성 밀도 감 감 단맛 마무리   \n",
       "4          유자 소다             상큼 청량감 과일 향 개운 여름 활력 감귤 향 맑 상쾌하 탄산 새콤하   \n",
       "...          ...                                                ...   \n",
       "1313      카라멜 머핀    달콤 고소 촉촉 질감 진하 캐러멜 풍미 클래식 디저트 고급 만족감 따뜻 풍미 깊 사랑   \n",
       "1314      아몬드 머핀        고소하 달콤 질감 촉촉 아몬드 풍미 건강 디저트 클래식 감성 만족감 화사 심플   \n",
       "1315  콜드 브루 딜라이트     진하 커피 풍미 크리미함 달콤 밸런스 고급 음료 클래식 감성 만족감 깔끔 농후 사랑   \n",
       "1316     아몬드 크럼블        고소하 바삭한크럼블토핑 달콤 촉촉 중심 건강 디저트 고급 만족감 화사 풍미 깊   \n",
       "1317    파인애플 탕후루  상큼 달콤 설탕 코팅 신선 파인애플 풍미 화려하 디저트 열대 감성 고급 만족감 생동...   \n",
       "\n",
       "                                                 ingred  \\\n",
       "0                          우유, 생크림, 설탕, 소금, 바닐라 추출물, 얼음   \n",
       "1           오렌지 주스, 라임 주스, 레몬 주스, 설탕, 물, 식용 색소, 젤라틴, 얼음   \n",
       "2      크림치즈, 설탕, 계란, 사워크림, 바닐라 추출물, 레몬즙, 밀가루, 버터, 소금...   \n",
       "3      아몬드 가루, 슈가파우더, 흰자, 설탕, 바닐라 추출물, 크림치즈, 쿠키 크럼블,...   \n",
       "4      아몬드 가루, 슈가파우더, 흰자, 설탕, 바닐라 추출물, 체리 잼, 생크림, 버터...   \n",
       "...                                                 ...   \n",
       "1313   박력분, 설탕, 베이킹파우더, 소금, 계란, 우유, 버터, 아몬드 슬라이스, 아몬...   \n",
       "1314           콜드 브루 커피, 우유, 꿀, 얼음, 바닐라 시럽, 초콜릿 시럽, 생크림   \n",
       "1315                          고구마, 우유, 꿀, 얼음, 바닐라 아이스크림   \n",
       "1316                   아몬드, 버터, 밀가루, 설탕, 소금, 계란, 베이킹파우더   \n",
       "1317                                  파인애플, 설탕, 물, 식용색소   \n",
       "\n",
       "                                         tokenized_info  \n",
       "0                           따뜻 고소 편안 달콤 향긋 은은 포근 조화 균형감  \n",
       "1                               신선 허브 향 상쾌 청량감 깨끗 독특 조화  \n",
       "2                     시원하 달콤 과일 향 활기차 어리 시절 달콤쌉싸름 경쾌 기포  \n",
       "3                             고급 풍미 따뜻 풍성 밀도 감 감 단맛 마무리  \n",
       "4                상큼 청량감 과일 향 개운 여름 활력 감귤 향 맑 상쾌하 탄산 새콤하  \n",
       "...                                                 ...  \n",
       "1313    달콤 고소 촉촉 질감 진하 캐러멜 풍미 클래식 디저트 고급 만족감 따뜻 풍미 깊 사랑  \n",
       "1314        고소하 달콤 질감 촉촉 아몬드 풍미 건강 디저트 클래식 감성 만족감 화사 심플  \n",
       "1315     진하 커피 풍미 크리미함 달콤 밸런스 고급 음료 클래식 감성 만족감 깔끔 농후 사랑  \n",
       "1316        고소하 바삭한크럼블토핑 달콤 촉촉 중심 건강 디저트 고급 만족감 화사 풍미 깊  \n",
       "1317  상큼 달콤 설탕 코팅 신선 파인애플 풍미 화려하 디저트 열대 감성 고급 만족감 생동...  \n",
       "\n",
       "[1318 rows x 4 columns]"
      ]
     },
     "execution_count": 5,
     "metadata": {},
     "output_type": "execute_result"
    }
   ],
   "source": [
    "menu_data"
   ]
  },
  {
   "cell_type": "code",
   "execution_count": 42,
>>>>>>> ee07227 (pull)
   "id": "87e8a038-0a4f-4b7f-b069-cab41b2b8087",
   "metadata": {},
   "outputs": [
    {
     "name": "stdout",
     "output_type": "stream",
     "text": [
      " * Serving Flask app '__main__'\n",
      " * Debug mode: off\n"
     ]
    },
    {
     "name": "stderr",
     "output_type": "stream",
     "text": [
      "WARNING: This is a development server. Do not use it in a production deployment. Use a production WSGI server instead.\n",
<<<<<<< HEAD
      " * Running on http://localhost:5001\n",
      "Press CTRL+C to quit\n",
      "127.0.0.1 - - [02/Jan/2025 18:08:28] \"POST /sanggueon-gongtong HTTP/1.1\" 200 -\n"
=======
      " * Running on all addresses (0.0.0.0)\n",
      " * Running on http://127.0.0.1:5001\n",
      " * Running on http://192.168.219.108:5001\n",
      "Press CTRL+C to quit\n",
      "192.168.219.108 - - [02/Jan/2025 16:58:56] \"POST /analyze-keyword HTTP/1.1\" 200 -\n"
>>>>>>> ee07227 (pull)
     ]
    },
    {
     "name": "stdout",
     "output_type": "stream",
     "text": [
<<<<<<< HEAD
      "!!!\n",
      "동명동\n",
      "['민트초코 라떼', '딸기 요거', '초코 브라우니', '블루베리 요거', '초코 케이크']\n",
      "{'status': 'success', 'gongtongMenus': ['민트초코 라떼', '딸기 요거', '초코 브라우니', '블루베리 요거', '초코 케이크'], 'sang1': '동명동', 'sang2': '광천동'}\n"
=======
      "{'status': 'success', 'keyword': '촉촉', 'recommanded': ['유사한 메뉴가 존재하지 않습니다...']}\n"
>>>>>>> ee07227 (pull)
     ]
    }
   ],
   "source": [
    "app = Flask(__name__)\n",
    "CORS(app)  # 모든 도메인에서의 요청 허용\n",
    "\n",
    "# CORS(app, resources={r\"/api/*\": {\"origins\": \"http://localhost:8087\"}})\n",
    "# REST API key\n",
    "KAKAO_API_KEY = \"015412fbc48c3a4e31b1926b6adb667e\"\n",
    "\n",
    "# 1. 유사 상권 탐색\n",
    "# 스프링 부트로부터 사용자가 클릭한 좌표 정보를 전달받아 동을 찾은 후 분석하고 전송\n",
    "@app.route('/send-coordinates', methods=['POST'])\n",
    "def receive_coordinates():\n",
    "    # 클라이언트로부터 받은 데이터(현 위치 위도, 경도)\n",
    "    data = request.get_json()\n",
    "    latitude = data.get('latitude')\n",
    "    longitude = data.get('longitude')\n",
    "    \n",
    "    url = f\"https://dapi.kakao.com/v2/local/geo/coord2address.json?x={longitude}&y={latitude}\"\n",
    "    headers = {\"Authorization\" : f\"KakaoAK {KAKAO_API_KEY}\"}\n",
    "    \n",
    "    response = requests.get(url, headers=headers)\n",
    "    \n",
    "    \n",
    "    dong_number = get_dong_number(latitude, longitude)\n",
    "    if(dong_number == None):\n",
    "        return jsonify({\"status\" : \"error\", \"message\" : \"현재 지역의 법정동 번호를 찾을 수 없습니다.\"})\n",
    "    \n",
    "    # 유사 상권의 법정동 번호\n",
    "    similar_dongs = yusa_dong(clustered_dong, dong_number)\n",
    "    \n",
    "    # 스트링 부트로 전달\n",
    "    spring_response = similar_dong_send_to_spring(similar_dongs)\n",
    "    # 전송 결과 확인\n",
    "    if(spring_response.get(\"status\")==\"success\"):\n",
    "        return jsonify({\"status\":\"success\",\n",
    "                        \"yusadongs\":similar_dongs,\n",
    "                        \"message\": \"flask successed\"\n",
    "                       })\n",
    "    else:\n",
    "        return jsonify({\n",
    "            \"status\" : \"error\",\n",
    "            \"yusadongs\" : \"\",\n",
    "            \"message\" : spring_response.get(\"error\")\n",
    "        })\n",
    "\n",
    "\n",
    "\n",
    "# 스프링 부트로부터 키워드 전달받아 분석\n",
    "@app.route(\"/analyze-keyword\", methods=[\"POST\"])\n",
    "def analyze_keyword():\n",
    "    # 요청 본문 데이터 확인 : 키워드\n",
    "    data = request.get_json()\n",
    "    keyword = data.get(\"keyword\", \"\")\n",
    "    recommanded = input_simil(menu_data, keyword)\n",
    "\n",
    "    spring_response = keyword_menu_send_to_spring(keyword, recommanded)\n",
    "    if (spring_response.get(\"status\") == \"success\"):\n",
    "        return jsonify({\"status\": \"success\",\n",
    "                        \"keyword\": keyword,\n",
    "                        \"recommanded\": recommanded\n",
    "                        })\n",
    "    else:\n",
    "        return jsonify({\n",
    "            \"status\": \"error\",\n",
    "            \"keyword\": keyword,\n",
    "            \"message\": spring_response.get(\"error\")\n",
    "        })\n",
    "\n",
    "# 스프링 부트로부터 메뉴 전달받아 분석\n",
    "@app.route(\"/analyze-menu\", methods=[\"POST\"])\n",
    "def analyze_menu():\n",
    "    # 요청 데이터 확인 : 메뉴\n",
    "    data = request.get_json()\n",
    "    menu_name = data.get(\"menu\",\"\")\n",
    "    print(menu_name)\n",
    "    similar_menus = ingred_sim(menu_data, menu_name)\n",
    "    \n",
    "    spring_response = similar_menu_recommanded(similar_menus, menu_name)\n",
<<<<<<< HEAD
    "#     print(spring_response[\"similarMenus\"])\n",
=======
    "    print(spring_response[\"similarMenus\"])\n",
>>>>>>> ee07227 (pull)
    "    if(spring_response.get(\"status\")==\"success\"):\n",
    "        return jsonify({\"status\":\"success\",\n",
    "                        \"menu\":menu_name,\n",
    "                       \"similarMenus\":similar_menus})\n",
    "    else:\n",
    "        return jsonify({\"status\":\"error\",\n",
    "                       \"message\":spring_response.get(\"error\")})\n",
    "\n",
<<<<<<< HEAD
    "@app.route(\"/sanggueon-gongtong\", methods=[\"POST\"])\n",
    "def sanggueon_gongtong():\n",
    "    print(\"!!!\")\n",
    "    data = request.get_json()\n",
    "    sang1 = data.get(\"sang1\", \"\")\n",
    "    sang2 = data.get(\"sang2\", \"\")\n",
    "    print(sang1)\n",
    "    gongtong_menus = yusasang_gongtong(cafe_menu_data, sang1, sang2)\n",
    "    print(gongtong_menus)\n",
    "    spring_response = search_sanggueon_gongtong(gongtong_menus,sang1, sang2)\n",
    "    if(spring_response.get(\"status\")==\"success\"):\n",
    "        return jsonify({\"status\":\"success\",\n",
    "                       \"gongtongMenus\":gongtong_menus})\n",
    "    else:\n",
    "        return jsonify({\"status\":\"error\",\n",
    "                       \"message\":spring_response.get(\"error\")})\n",
    "    \n",
    "\n",
    "\n",
    "if __name__ == '__main__':\n",
    "    app.run(host='localhost', port=5001)"
=======
    "@app.route(\"/sanggueon-gongtong\")\n",
    "def sanggueon_gongtong():\n",
    "    data = request.get_json\n",
    "    sang1 = data.get(\"sang1\", \"\")\n",
    "    sang2 = data.get(\"sang2\", \"\")\n",
    "    yusasang_gongtong()\n",
    "\n",
    "\n",
    "if __name__ == '__main__':\n",
    "    app.run(host='0.0.0.0', port=5001)"
>>>>>>> ee07227 (pull)
   ]
  },
  {
   "cell_type": "code",
<<<<<<< HEAD
   "execution_count": 71,
=======
   "execution_count": 7,
>>>>>>> ee07227 (pull)
   "id": "a397a071-16ad-4407-af0f-543596349d49",
   "metadata": {},
   "outputs": [],
   "source": [
    "def data_tokenizing(data):\n",
    "    data[\"ingred\"] = data[\"ingred\"].replace('\\'', '', regex=True)\n",
    "    kiwi = Kiwi()\n",
    "    for i in range(len(data[\"info\"])):\n",
    "        data.iloc[i, 1] = kiwi_tokenizer(data[\"info\"][i], tokenizer=kiwi)\n",
    "    return data"
   ]
  },
  {
   "cell_type": "code",
<<<<<<< HEAD
   "execution_count": 84,
=======
   "execution_count": 9,
>>>>>>> ee07227 (pull)
   "id": "bb87bdcf-e94e-4a19-bd3f-3272149c6555",
   "metadata": {},
   "outputs": [],
   "source": [
    "def ingred_sim(data, menu_name, num=10):\n",
    "    info_sim = info_simil(data, menu_name, 50)\n",
    "    if (len(info_sim[\"menu\"]) == 0):\n",
    "        return [\"유사한 메뉴가 존재하지 않습니다...\"]\n",
    "\n",
    "    tfidfv = TfidfVectorizer().fit_transform(info_sim[\"tokenized_info\"])\n",
    "\n",
    "    ingred_simil = cosine_similarity(tfidfv[0], tfidfv)[0]\n",
    "    ingred_simil_index = np.flip(np.argpartition(ingred_simil, kth=-1)[:-1])\n",
    "\n",
    "    if (ingred_simil[ingred_simil_index[0]] < 0.2):\n",
    "        return [\"유사한 메뉴가 존재하지 않습니다...\"]\n",
    "    else:\n",
    "        return list(info_sim.iloc[ingred_simil_index[:num], 0])"
   ]
  },
  {
   "cell_type": "code",
<<<<<<< HEAD
   "execution_count": 85,
=======
   "execution_count": 11,
>>>>>>> ee07227 (pull)
   "id": "92e31b74-4ddf-4912-b112-3a99d685cb12",
   "metadata": {},
   "outputs": [],
   "source": [
    "# 메뉴의 설명이 유사한 메뉴 추천\n",
    "def info_simil(data, menu_name, num=10):\n",
    "    pick = menu_name\n",
    "    if(menu_name not in list(data[\"menu\"])):\n",
    "        print(\"메뉴 이름이 잘못됨\")\n",
    "    pick_idx = data[data[\"menu\"] == pick].index\n",
    "\n",
    "    tfidfv = TfidfVectorizer().fit_transform(data[\"tokenized_info\"])\n",
    "\n",
    "    # 단어의 출현 순서에 영향을 받지 않기 위해 코사인 유사도 사용\n",
    "    cosine_simil = cosine_similarity(tfidfv[pick_idx], tfidfv)[0]\n",
    "\n",
    "    # 자기 자신은 제외(가장 값이 큰 요소)하고 값이 높은 순으로 정렬\n",
    "    simil_index = np.flip(np.argpartition(cosine_simil, kth=-1))\n",
    "\n",
    "    if (cosine_simil[simil_index[1]] < 0.2):\n",
    "        return data[data[\"menu\"] == \"-1\"]\n",
    "    else:\n",
    "        return data.iloc[simil_index[:num]]"
   ]
  },
  {
   "cell_type": "code",
<<<<<<< HEAD
   "execution_count": 116,
=======
   "execution_count": 41,
>>>>>>> ee07227 (pull)
   "id": "d7bbadc8-fba3-403c-ba96-4414dc6bb752",
   "metadata": {},
   "outputs": [],
   "source": [
    "def input_simil(data, input_data, num=10):\n",
    "\n",
    "    input_token = kiwi_tokenizer(input_data)\n",
    "    text_vector = np.array(data[\"menu\"]+\" \"+data[\"tokenized_info\"])\n",
    "    t_vector = np.insert(text_vector, 0, input_token)\n",
    "\n",
    "    tfidfv = TfidfVectorizer().fit_transform(t_vector)\n",
    "\n",
    "    # 일반 연산을 한 경우 내적 값이 매우 작은 경우 오류가 발생하여 사이킷 런의 모듈 사용\n",
    "    cosine_simil = cosine_similarity(tfidfv[0], tfidfv)[0]\n",
    "\n",
    "    # 자기 자신은 제외(가장 값이 큰 요소)하고 값이 높은 순으로 정렬\n",
    "    simil_index = np.flip(np.argpartition(cosine_simil, kth=-1)[:-1])\n",
    "    simil_index -= 1\n",
    "    print(cosine_simil[simil_index[0] + 1])\n",
    "\n",
    "    if (cosine_simil[simil_index[0]+1] < 0.2):\n",
    "        return [\"유사한 메뉴가 존재하지 않습니다...\"]\n",
    "    else:\n",
    "        return list(data.iloc[simil_index[:num], 0])"
   ]
  },
  {
   "cell_type": "code",
<<<<<<< HEAD
   "execution_count": 75,
=======
   "execution_count": 43,
   "id": "09c77bbf-c6eb-4f1e-ba8a-9389b87fca4d",
   "metadata": {},
   "outputs": [
    {
     "data": {
      "text/plain": [
       "['유사한 메뉴가 존재하지 않습니다...']"
      ]
     },
     "execution_count": 43,
     "metadata": {},
     "output_type": "execute_result"
    }
   ],
   "source": [
    "recommanded = input_simil(menu_data, \"촉촉\")\n",
    "recommanded"
   ]
  },
  {
   "cell_type": "code",
   "execution_count": 39,
   "id": "3209bbe7-8b4a-40a1-a1ee-6b2ff132340f",
   "metadata": {},
   "outputs": [
    {
     "name": "stdout",
     "output_type": "stream",
     "text": [
      "안녕\n",
      "하\n",
      "세요\n",
      "!\n",
      "파이썬\n",
      "을\n",
      "배우\n",
      "고\n",
      "있\n",
      "습니다\n",
      ".\n"
     ]
    }
   ],
   "source": [
    "from kiwipiepy import Kiwi\n",
    "\n",
    "# Kiwi 객체 생성\n",
    "kiwi = Kiwi()\n",
    "\n",
    "# 텍스트 입력\n",
    "input_text = \"안녕하세요! 파이썬을 배우고 있습니다.\"\n",
    "\n",
    "# 토큰화\n",
    "tokenized = kiwi.tokenize(input_text)\n",
    "\n",
    "# 결과 출력\n",
    "for word in tokenized:\n",
    "    print(word.form)"
   ]
  },
  {
   "cell_type": "code",
   "execution_count": 13,
>>>>>>> ee07227 (pull)
   "id": "2eec58c0-a17a-45db-a417-3773363782be",
   "metadata": {},
   "outputs": [],
   "source": [
    "def kiwi_tokenizer(sentence, tokenizer=Kiwi(typos=\"basic\")):\n",
    "    sentence = sentence.replace(\" \", \"\")\n",
    "    stopwords = Stopwords()\n",
    "    get_tags = [\"XR\", \"NNG\", \"VA\"]\n",
    "    sentence = tokenizer.space(sentence)\n",
    "\n",
    "    kiwi_result = tokenizer.tokenize(\n",
    "        sentence, normalize_coda=True, stopwords=stopwords)\n",
    "    token_list = []\n",
    "    for token in range(len(kiwi_result)):\n",
    "        if (kiwi_result[token].tag in get_tags):\n",
    "            token_list.append(kiwi_result[token].form)\n",
    "    token_str = \" \".join(token_list)\n",
    "    return token_str"
   ]
  },
  {
   "cell_type": "code",
<<<<<<< HEAD
   "execution_count": 76,
=======
   "execution_count": 19,
>>>>>>> ee07227 (pull)
   "id": "0dd39a16-f5e3-4bf9-8949-c2f4c7962185",
   "metadata": {},
   "outputs": [],
   "source": [
    "def yusa_dong(clustered_dong, dong_pk):\n",
    "    target_dong_index = clustered_dong[clustered_dong[\"법정동 번호(PK)\"]==dong_pk].index[0]\n",
    "\n",
    "    same_cluster_dong = clustered_dong[clustered_dong[\"군집\"]==clustered_dong.iloc[target_dong_index,-1]]\n",
    "    same_cluster_dong.reset_index(drop=True, inplace=True)\n",
    "    target_dong_index = same_cluster_dong[same_cluster_dong[\"법정동 번호(PK)\"]==dong_pk].index[0]\n",
    "    \n",
    "    simil_data = same_cluster_dong.iloc[:,3:-1]\n",
    "    simil_data_scaled = normalizer.fit_transform(simil_data)\n",
    "\n",
    "    train_tensor = torch.tensor(simil_data_scaled, dtype=torch.float64)\n",
    "    euclidean_distances = torch.cdist(train_tensor[target_dong_index].unsqueeze(0), train_tensor).squeeze()\n",
    "    top_idx = np.argsort(euclidean_distances)[1:10]\n",
    "\n",
    "    return [int(same_cluster_dong[\"법정동 번호(PK)\"].iloc[int(idx)]) for idx in top_idx]"
   ]
  },
  {
   "cell_type": "code",
<<<<<<< HEAD
   "execution_count": 77,
=======
   "execution_count": 21,
>>>>>>> ee07227 (pull)
   "id": "b3737049-5e64-448c-a1e7-649c00569b14",
   "metadata": {},
   "outputs": [],
   "source": [
    "# 키워드 추천 분석 결과 전달\n",
    "def keyword_menu_send_to_spring(keyword, recommanded):\n",
    "    spring_url = \"http://localhost:8087/api/receive-keyword-menu\"\n",
    "    payload = {\n",
    "        \"status\" : \"success\",\n",
    "        \"keyword\": keyword,\n",
    "        \"recommanded\": recommanded\n",
    "    }\n",
    "    # json 형식으로 전송\n",
    "    headers = {\"Content-Type\": \"application/json\"}\n",
    "    print(payload)\n",
    "    try:\n",
    "        response = requests.post(spring_url, json=payload, headers=headers)\n",
    "        response.raise_for_status()\n",
    "        return {\"status\": \"success\", \"message\": \"스프링으로 전송 완료\"}\n",
    "    except Exception as e:\n",
    "        # 예외처리\n",
    "        print(f\"스프링 부트 전송 실패: {str(e)}\")\n",
    "        return {\"status\": \"error\", \"error\": str(e)}"
   ]
  },
  {
   "cell_type": "code",
<<<<<<< HEAD
   "execution_count": 78,
=======
   "execution_count": 23,
>>>>>>> ee07227 (pull)
   "id": "5fac4053",
   "metadata": {},
   "outputs": [],
   "source": [
    "# 분석한 유사 상권 정보 전달\n",
    "def similar_dong_send_to_spring(similar_dongs):\n",
    "    spring_url = \"http://localhost:8087/api/receive-similar-dongs\"\n",
    "    # 스프링에 dong이라는 이름으로 dong_name 데이터 전송\n",
    "    payload = {\"similarDongs\": similar_dongs,\n",
    "               \"status\": \"success\"\n",
    "              }\n",
    "    # json 형식으로 전송\n",
    "    headers = {\"Content-Type\": \"application/json\"}\n",
    "    \n",
    "    try:\n",
    "        response = requests.post(spring_url, json=payload, headers=headers)\n",
    "        response.raise_for_status()  # HTTP 오류 있는지 확인 => 예외 발생\n",
    "        return {\"status\": \"success\", \"message\": \"스프링으로 전송 완료\"}\n",
    "    except Exception as e:\n",
    "        # 예외처리\n",
    "        print(f\"스프링 전송 실패: {str(e)}\")\n",
    "        return {\"status\": \"error\", \"error\": str(e)}"
   ]
  },
  {
   "cell_type": "code",
<<<<<<< HEAD
   "execution_count": 79,
=======
   "execution_count": 25,
>>>>>>> ee07227 (pull)
   "id": "757024c2-6d06-427d-87b3-65dc9c38c8b4",
   "metadata": {},
   "outputs": [],
   "source": [
    "# 유사 메뉴 분석 결과 스프링으로 전송\n",
    "def similar_menu_recommanded(similar_menus, menu_name):\n",
    "    spring_url=\"http://localhost:8087/api/receive-similar-menus\"\n",
    "    \n",
    "    payload={\"status\":\"success\",\n",
    "            \"similarMenus\":similar_menus,\n",
    "            \"menu\": menu_name\n",
    "            }\n",
    "        \n",
    "    headers={\"Content-Type\" : \"application/json\"}\n",
    "    print(payload)\n",
    "    \n",
    "    try:\n",
    "        response = requests.post(spring_url, json=payload, headers=headers)\n",
    "        response.raise_for_status()\n",
    "        return {\"status\":\"success\",\"message\":\"스프링으로 전송 완료\"}\n",
    "    except Exception as e:\n",
    "        print(f\"스프링 전송 실패: {str(e)}\")\n",
    "        return {\"status\" : \"error\", \"error\":str(e)}"
   ]
  },
  {
   "cell_type": "code",
<<<<<<< HEAD
   "execution_count": 122,
   "id": "90f70a14",
   "metadata": {},
   "outputs": [],
   "source": [
    "# 상권 공통 메뉴 분석 결과 스프링으로 전송\n",
    "def search_sanggueon_gongtong(gongtong_menus, sang1, sang2):\n",
    "    spring_url=\"http://localhost:8087/api/receive-sanggueon-gongtong\"\n",
    "    \n",
    "    payload={\"status\":\"success\",\n",
    "            \"gongtongMenus\" : gongtong_menus,\n",
    "             \"sang1\" : sang1,\n",
    "             \"sang2\":sang2\n",
    "            }\n",
    "        \n",
    "    headers={\"Content-Type\" : \"application/json\"}\n",
    "    print(payload)\n",
    "    \n",
    "    try:\n",
    "        response = requests.post(spring_url, json=payload, headers=headers)\n",
    "        response.raise_for_status()\n",
    "        return {\"status\":\"success\",\"message\":\"스프링으로 전송 완료\"}\n",
    "    except Exception as e:\n",
    "        print(f\"스프링 전송 실패: {str(e)}\")\n",
    "        return {\"status\" : \"error\", \"error\":str(e)}"
   ]
  },
  {
   "cell_type": "code",
   "execution_count": 80,
=======
   "execution_count": 27,
>>>>>>> ee07227 (pull)
   "id": "1b29fb04-3741-4a47-9cc3-a2ecc64cc38e",
   "metadata": {},
   "outputs": [],
   "source": [
    "# 좌표를 통해 법정동 번호 조회\n",
    "def get_dong_number(latitude, longitude, dong_data=clustered_dong):\n",
    "    url = f\"https://dapi.kakao.com/v2/local/geo/coord2address.json?x={longitude}&y={latitude}\"\n",
    "    headers = {\"Authorization\": f\"KakaoAK {KAKAO_API_KEY}\"}\n",
    "\n",
    "    response = requests.get(url, headers=headers)\n",
    "\n",
    "    # 200번 : 통신 성공\n",
    "    if response.status_code == 200:\n",
    "        address_info = response.json()\n",
    "        # 카카오 api에 해당 좌표 정보가 있는지 확인\n",
    "        if address_info['documents']:\n",
    "            addr = address_info['documents'][0]['address']['address_name']\n",
    "            region = addr.split(\" \")[0]\n",
    "            gu = addr.split(\" \")[1]\n",
    "            dong = addr.split(\" \")[2]\n",
    "\n",
    "            region_dong = dong_data[dong_data[\"지역\"].str.contains(region)]\n",
    "            dong_number = list(\n",
    "                region_dong[region_dong[\"동 이름\"] == dong].head(1)[\"법정동 번호(PK)\"])[0]\n",
    "            return dong_number\n",
    "    return None"
   ]
  },
  {
   "cell_type": "code",
<<<<<<< HEAD
   "execution_count": 88,
=======
   "execution_count": 29,
>>>>>>> ee07227 (pull)
   "id": "143c6a2a",
   "metadata": {},
   "outputs": [],
   "source": [
    "# 두 상권 중 다른 상권에만 유독 더 많이 파는 메뉴\n",
    "def yusasang_only(data, sang1, sang2):\n",
    "    sang1data = data[data[\"dong\"]==sang1]\n",
    "    sang2data = data[data[\"dong\"]==sang2]\n",
    "    \n",
    "    sang1_count = Counter(sang1data['menu_keyword'])\n",
    "    sang2_count = Counter(sang2data['menu_keyword'])\n",
    "\n",
    "    sang1_menu = list(sang1_count.keys())\n",
    "    sang1_cnt = sang1_count.values()\n",
    "    sang1_cnt_list = list(sang1_cnt)\n",
    "    sang1_rat = []\n",
    "    sang1_sum = 0\n",
    "\n",
    "    sang2_menu = list(sang2_count.keys())\n",
    "    sang2_cnt = sang2_count.values()\n",
    "    sang2_cnt_list = list(sang2_cnt)\n",
    "    sang2_rat = []\n",
    "    sang2_sum = 0\n",
    "\n",
    "    for i in range(len(sang1_cnt)):\n",
    "        sang1_sum+=sang1_cnt_list[i]\n",
    "    for i in range(len(sang2_cnt)):\n",
    "        sang2_sum+=sang2_cnt_list[i]\n",
    "\n",
    "    sang1_rat = np.array([r/sang1_sum for r in sang1_cnt_list])\n",
    "    sang2_rat = np.array([r/sang2_sum for r in sang2_cnt_list])\n",
    "\n",
    "    sang1_most_rat = np.flip(np.argpartition(sang1_rat, kth=-1)[:])\n",
    "    sang2_most_rat = np.flip(np.argpartition(sang2_rat, kth=-1)[:])\n",
    "\n",
    "    sang1_most = [sang1_menu[menu_i] for menu_i in sang1_most_rat]\n",
    "    sang2_most = [sang2_menu[menu_i] for menu_i in sang2_most_rat]\n",
    "\n",
    "    only_sang2 = []\n",
    "    popularity = len(sang1_most)//5\n",
    "    \n",
    "    for i in range(len(sang2_most)):\n",
    "        if(sang2_most[i] not in sang1_most[:popularity]):\n",
    "            only_sang2.append(sang2_most[i])\n",
    "        if(len(only_sang2) == 5):\n",
    "            break\n",
    "    if(len(only_sang2) < 3):\n",
    "        only_sang2.append(\"두 상권의 거의 모든 메뉴가 유사합니다.\")\n",
    "\n",
    "    return only_sang2"
   ]
  },
  {
   "cell_type": "code",
<<<<<<< HEAD
   "execution_count": 89,
=======
   "execution_count": 31,
>>>>>>> ee07227 (pull)
   "id": "b3fc050f",
   "metadata": {},
   "outputs": [],
   "source": [
    "#두 상권 모두 많이 파는 메뉴\n",
    "def yusasang_gongtong(data, sang1, sang2):\n",
    "    sang1data = data[data[\"dong\"]==sang1]\n",
    "    sang2data = data[data[\"dong\"]==sang2]\n",
    "    \n",
    "    sang1_count = Counter(sang1data['menu_keyword'])\n",
    "    sang2_count = Counter(sang2data['menu_keyword'])\n",
    "\n",
    "    sang1_menu = list(sang1_count.keys())\n",
    "    sang1_cnt = sang1_count.values()\n",
    "    sang1_cnt_list = list(sang1_cnt)\n",
    "    sang1_rat = []\n",
    "    sang1_sum = 0\n",
    "\n",
    "    sang2_menu = list(sang2_count.keys())\n",
    "    sang2_cnt = sang2_count.values()\n",
    "    sang2_cnt_list = list(sang2_cnt)\n",
    "    sang2_rat = []\n",
    "    sang2_sum = 0\n",
    "\n",
    "    for i in range(len(sang1_cnt)):\n",
    "        sang1_sum+=sang1_cnt_list[i]\n",
    "    for i in range(len(sang2_cnt)):\n",
    "        sang2_sum+=sang2_cnt_list[i]\n",
    "\n",
    "    sang1_rat = np.array([r/sang1_sum for r in sang1_cnt_list])\n",
    "    sang2_rat = np.array([r/sang2_sum for r in sang2_cnt_list])\n",
    "\n",
    "    sang1_most_rat = np.flip(np.argpartition(sang1_rat, kth=-1)[:])\n",
    "    sang2_most_rat = np.flip(np.argpartition(sang2_rat, kth=-1)[:])\n",
    "\n",
    "    sang1_most = [sang1_menu[menu_i] for menu_i in sang1_most_rat]\n",
    "    sang2_most = [sang2_menu[menu_i] for menu_i in sang2_most_rat]\n",
    "    \n",
    "    popularity = len(sang2_most) // 10\n",
    "    \n",
    "    gongtong_sang = []\n",
    "    for i in range(popularity, len(sang1_most)):\n",
    "        if(sang1_most[i] in sang2_most[:popularity]):\n",
    "            gongtong_sang.append(sang1_most[i])\n",
    "        if(len(gongtong_sang)==5):\n",
    "            break\n",
    "    if(len(gongtong_sang) < 3):\n",
    "        gongtong_sang.append(\"두 상권의 메뉴는 거의 유사하지 않습니다.\")\n",
    "    return gongtong_sang"
   ]
  },
  {
   "cell_type": "code",
<<<<<<< HEAD
   "execution_count": 90,
=======
   "execution_count": 33,
>>>>>>> ee07227 (pull)
   "id": "3e00f4ec",
   "metadata": {},
   "outputs": [],
   "source": [
    "# 현재 상권에서 주로 파는 메뉴\n",
    "def sang_menu(data, sang, no_menus=[]):\n",
    "    sangdata = data[data[\"dong\"]==sang]\n",
    "    \n",
    "    sang_count = Counter(sangdata['menu_keyword'])\n",
    "    sang_most = sang_count.most_common(len(sang_count))\n",
    "    \n",
    "    sang_best_menu = []\n",
    "    for i in range(5, len(sang_most)):\n",
    "        if(sang_most[i][0] in no_menus):\n",
    "            continue\n",
    "        sang_best_menu.append(sang_most[i][0])\n",
    "        if(len(sang_best_menu)==5):\n",
    "            break\n",
    "    if(len(sang_best_menu)<3):\n",
    "        sang_best_menu.append(\"해당 상권은 분석할 수 없습니다. 사유 : 상권 내 카페 수 부족\")\n",
    "    return sang_best_menu"
   ]
  },
  {
   "cell_type": "code",
<<<<<<< HEAD
   "execution_count": 115,
   "id": "c2367f2c",
   "metadata": {},
   "outputs": [
    {
     "data": {
      "text/plain": [
       "['밤 마들렌',\n",
       " '팥 젤라또',\n",
       " '밤 쿠키',\n",
       " '쑥 케이크',\n",
       " '팥 크루아상',\n",
       " '쌀 케이크',\n",
       " '떡 케이크',\n",
       " '카스테라 크루아상',\n",
       " '밤 휘낭시에',\n",
       " '팥 케이크']"
      ]
     },
     "execution_count": 115,
     "metadata": {},
     "output_type": "execute_result"
    }
   ],
   "source": [
    "recommanded2 = input_simil(menu_data, \"촉촉\")\n",
    "recommanded2"
   ]
  },
  {
   "cell_type": "code",
   "execution_count": 98,
   "id": "89838db2",
   "metadata": {},
   "outputs": [],
   "source": [
    "import sys"
   ]
  },
  {
   "cell_type": "code",
   "execution_count": 99,
   "id": "d157fa40",
   "metadata": {},
   "outputs": [
    {
     "data": {
      "text/plain": [
       "'3.11.9 | packaged by Anaconda, Inc. | (main, Apr 19 2024, 16:40:41) [MSC v.1916 64 bit (AMD64)]'"
      ]
     },
     "execution_count": 99,
     "metadata": {},
     "output_type": "execute_result"
    }
   ],
   "source": [
    "sys.version"
   ]
  },
  {
   "cell_type": "code",
   "execution_count": 100,
   "id": "fdc990d2",
   "metadata": {},
   "outputs": [
    {
     "name": "stdout",
     "output_type": "stream",
     "text": [
      "안녕\n",
      "하\n",
      "세요\n",
      "!\n",
      "파이썬\n",
      "을\n",
      "배우\n",
      "고\n",
      "있\n",
      "습니다\n",
      ".\n"
     ]
    }
   ],
   "source": [
    "from kiwipiepy import Kiwi\n",
    "\n",
    "# Kiwi 객체 생성\n",
    "kiwi = Kiwi()\n",
    "\n",
    "# 텍스트 입력\n",
    "input_text = \"안녕하세요! 파이썬을 배우고 있습니다.\"\n",
    "\n",
    "# 토큰화\n",
    "tokenized = kiwi.tokenize(input_text)\n",
    "\n",
    "# 결과 출력\n",
    "for word in tokenized:\n",
    "    print(word.form)"
   ]
  },
  {
   "cell_type": "code",
   "execution_count": null,
   "id": "decf2c71",
=======
   "execution_count": null,
   "id": "c2367f2c",
>>>>>>> ee07227 (pull)
   "metadata": {},
   "outputs": [],
   "source": []
  }
 ],
 "metadata": {
  "kernelspec": {
   "display_name": "Python 3 (ipykernel)",
   "language": "python",
   "name": "python3"
  },
  "language_info": {
   "codemirror_mode": {
    "name": "ipython",
    "version": 3
   },
   "file_extension": ".py",
   "mimetype": "text/x-python",
   "name": "python",
   "nbconvert_exporter": "python",
   "pygments_lexer": "ipython3",
   "version": "3.11.9"
  }
 },
 "nbformat": 4,
 "nbformat_minor": 5
}
